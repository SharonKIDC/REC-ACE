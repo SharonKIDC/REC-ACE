{
 "cells": [
  {
   "cell_type": "markdown",
   "id": "8d4f9352",
   "metadata": {
    "pycharm": {
     "name": "#%% md\n"
    }
   },
   "source": [
    "# Imports"
   ]
  },
  {
   "cell_type": "code",
   "execution_count": 1,
   "id": "b69b5430",
   "metadata": {
    "pycharm": {
     "name": "#%%\n"
    }
   },
   "outputs": [
    {
     "name": "stderr",
     "output_type": "stream",
     "text": [
      "c:\\Users\\SharonK\\.virtualenvs\\DS38-Dev\\lib\\site-packages\\requests\\__init__.py:102: RequestsDependencyWarning: urllib3 (1.26.7) or chardet (5.1.0)/charset_normalizer (2.0.7) doesn't match a supported version!\n",
      "  warnings.warn(\"urllib3 ({}) or chardet ({})/charset_normalizer ({}) doesn't match a supported \"\n"
     ]
    }
   ],
   "source": [
    "import os\n",
    "import random\n",
    "from datetime import datetime\n",
    "\n",
    "from tqdm.notebook import tqdm\n",
    "from matplotlib import pyplot as plt\n",
    "import numpy as np\n",
    "import torch\n",
    "from transformers import T5Tokenizer\n",
    "\n",
    "from evaluation import Evaluator\n",
    "from visualization import plot_graphs\n",
    "from data_utils.dataset import prepare_data\n",
    "from data_utils.utils import read_json\n",
    "from models.rec_ace import RecACEWrapModel, detokenize_and_clean"
   ]
  },
  {
   "cell_type": "markdown",
   "id": "34a4d00b",
   "metadata": {
    "pycharm": {
     "name": "#%% md\n"
    }
   },
   "source": [
    "## Seeds"
   ]
  },
  {
   "cell_type": "code",
   "execution_count": 2,
   "id": "f532e285",
   "metadata": {
    "pycharm": {
     "name": "#%%\n"
    }
   },
   "outputs": [
    {
     "data": {
      "text/plain": [
       "<torch._C.Generator at 0x227e968ebf0>"
      ]
     },
     "execution_count": 2,
     "metadata": {},
     "output_type": "execute_result"
    }
   ],
   "source": [
    "SEED = 42\n",
    "\n",
    "# Set the random seed for Python\n",
    "random.seed(SEED)\n",
    "\n",
    "# Set the random seed for numpy\n",
    "np.random.seed(SEED)\n",
    "\n",
    "torch.manual_seed(SEED)"
   ]
  },
  {
   "cell_type": "markdown",
   "id": "7422b232",
   "metadata": {
    "pycharm": {
     "name": "#%% md\n"
    }
   },
   "source": [
    "# Data Paths"
   ]
  },
  {
   "cell_type": "code",
   "execution_count": 3,
   "id": "38e9663e",
   "metadata": {
    "pycharm": {
     "name": "#%%\n"
    }
   },
   "outputs": [],
   "source": [
    "datasets_dict = {\n",
    "    # Default\n",
    "    'Default Train Clean': 'data/default/train_clean.json',\n",
    "    'Default Train Other': 'data/default/train_other.json',\n",
    "    'Default Dev Clean': 'data/default/dev_clean.json',\n",
    "    'Default Dev Other': 'data/default/dev_other.json',\n",
    "    # Video\n",
    "    'Video Train Clean': 'data/video/train_clean.json',\n",
    "    'Video Train Other': 'data/video/train_other.json',\n",
    "    'Video Dev Clean': 'data/video/dev_clean.json',\n",
    "    'Video Dev Other': 'data/video/dev_other.json'\n",
    "}"
   ]
  },
  {
   "cell_type": "markdown",
   "id": "8068e355",
   "metadata": {
    "pycharm": {
     "name": "#%% md\n"
    }
   },
   "source": [
    "# Load essentials"
   ]
  },
  {
   "cell_type": "code",
   "execution_count": 4,
   "id": "d991cad0",
   "metadata": {
    "pycharm": {
     "name": "#%%\n"
    }
   },
   "outputs": [
    {
     "data": {
      "text/plain": [
       "'cuda'"
      ]
     },
     "execution_count": 4,
     "metadata": {},
     "output_type": "execute_result"
    }
   ],
   "source": [
    "DEVICE = 'cuda' if torch.cuda.is_available() else 'cpu'\n",
    "DEVICE"
   ]
  },
  {
   "cell_type": "code",
   "execution_count": 5,
   "id": "c2d034af",
   "metadata": {
    "pycharm": {
     "name": "#%%\n"
    }
   },
   "outputs": [],
   "source": [
    "debug = False\n",
    "\n",
    "# Base architecture\n",
    "t5_type = 't5-small'\n",
    "\n",
    "# How to quantize the confidence vectors [only required for rec_ac]\n",
    "bin_size=10\n",
    "\n",
    "results_dir = './results'"
   ]
  },
  {
   "cell_type": "markdown",
   "id": "04623fc8",
   "metadata": {
    "pycharm": {
     "name": "#%% md\n"
    }
   },
   "source": [
    "### Tokenizer"
   ]
  },
  {
   "cell_type": "code",
   "execution_count": 6,
   "id": "315802c1",
   "metadata": {
    "pycharm": {
     "name": "#%%\n"
    }
   },
   "outputs": [],
   "source": [
    "tokenizer = T5Tokenizer.from_pretrained(\"t5-small\")"
   ]
  },
  {
   "cell_type": "markdown",
   "id": "bd108a00",
   "metadata": {
    "pycharm": {
     "name": "#%% md\n"
    }
   },
   "source": [
    "## Read Data"
   ]
  },
  {
   "cell_type": "code",
   "execution_count": 7,
   "id": "cfa01feb",
   "metadata": {
    "pycharm": {
     "name": "#%%\n"
    }
   },
   "outputs": [],
   "source": [
    "# Clean data\n",
    "train_set = read_json(json_path=datasets_dict['Default Train Clean'])\n",
    "dev_set = read_json(json_path=datasets_dict['Default Dev Clean'])\n",
    "\n",
    "# Other data\n",
    "train_set_other = read_json(json_path=datasets_dict['Default Train Other'])\n",
    "dev_set_other = read_json(json_path=datasets_dict['Default Dev Other'])"
   ]
  },
  {
   "cell_type": "markdown",
   "id": "0c2cf505",
   "metadata": {
    "pycharm": {
     "name": "#%% md\n"
    }
   },
   "source": [
    "## Prepare as DataLoader"
   ]
  },
  {
   "cell_type": "code",
   "execution_count": 8,
   "id": "3cf812b2",
   "metadata": {
    "pycharm": {
     "name": "#%%\n"
    }
   },
   "outputs": [
    {
     "name": "stdout",
     "output_type": "stream",
     "text": [
      "- Converting the input sentences into tokens\n",
      "- Converting the GT sentences into tokens\n",
      "- Converting the input sentences into tokens\n",
      "- Converting the GT sentences into tokens\n",
      "- Converting the input sentences into tokens\n",
      "- Converting the GT sentences into tokens\n",
      "- Converting the input sentences into tokens\n",
      "- Converting the GT sentences into tokens\n"
     ]
    }
   ],
   "source": [
    "batch_size = 64\n",
    "\n",
    "# Clean data\n",
    "train_loader = prepare_data(data=train_set, tokenizer=tokenizer, batch_size=batch_size, shuffle=True, debug=debug)\n",
    "dev_loader = prepare_data(data=dev_set, tokenizer=tokenizer, batch_size=batch_size, shuffle=False)\n",
    "\n",
    "# Other data\n",
    "train_loader_other = prepare_data(data=train_set_other, tokenizer=tokenizer, batch_size=batch_size, shuffle=True, debug=debug)\n",
    "dev_loader_other = prepare_data(data=dev_set_other, tokenizer=tokenizer, batch_size=batch_size, shuffle=False)"
   ]
  },
  {
   "cell_type": "markdown",
   "id": "980b7dfd",
   "metadata": {},
   "source": [
    "# Evaluating metrics for the ASR (for train and dev sets)\n",
    "This is useful for the convergence plots"
   ]
  },
  {
   "cell_type": "code",
   "execution_count": 10,
   "id": "fbfa10b1",
   "metadata": {},
   "outputs": [
    {
     "name": "stdout",
     "output_type": "stream",
     "text": [
      "Running ASR evaluation on Clean datasets\n",
      "Train Metrics:\n",
      "+----+-------+-------+--------+--------+\n",
      "|    |   wer |    em |   bleu |   gleu |\n",
      "|----+-------+-------+--------+--------|\n",
      "|  1 | 0.126 | 0.104 |  0.772 |  0.785 |\n",
      "+----+-------+-------+--------+--------+\n",
      "\n",
      "Dev Metrics:\n",
      "+----+-------+-------+--------+--------+\n",
      "|    |   wer |    em |   bleu |   gleu |\n",
      "|----+-------+-------+--------+--------|\n",
      "|  1 | 0.132 | 0.307 |  0.754 |  0.795 |\n",
      "+----+-------+-------+--------+--------+\n",
      "\n",
      "\n",
      "Running ASR evaluation on Other datasets\n",
      "Train Metrics:\n",
      "+----+-------+-------+--------+--------+\n",
      "|    |   wer |    em |   bleu |   gleu |\n",
      "|----+-------+-------+--------+--------|\n",
      "|  1 | 0.229 | 0.056 |  0.644 |  0.668 |\n",
      "+----+-------+-------+--------+--------+\n",
      "\n",
      "Dev Metrics:\n",
      "+----+-------+-------+--------+--------+\n",
      "|    |   wer |    em |   bleu |   gleu |\n",
      "|----+-------+-------+--------+--------|\n",
      "|  1 | 0.293 | 0.132 |  0.557 |  0.614 |\n",
      "+----+-------+-------+--------+--------+\n",
      "\n",
      "\n"
     ]
    }
   ],
   "source": [
    "asr_evaluators = {}\n",
    "\n",
    "for data_type in ['Clean', 'Other']:\n",
    "\n",
    "    # Print data type header\n",
    "    print(f'Running ASR evaluation on {data_type} datasets')\n",
    "\n",
    "    types = ['train', 'dev']\n",
    "    asr_evaluator = Evaluator(metrics=['wer', 'em', 'bleu', 'gleu'], set_types=types)\n",
    "\n",
    "    data_loaders = [train_loader, dev_loader] if data_type == 'Clean' else [train_loader_other, dev_loader_other]\n",
    "    for set_type, loader in zip(types, data_loaders):\n",
    "        for batch in loader:\n",
    "            reference = detokenize_and_clean(tokenizer, batch['sentences'])\n",
    "            predicted = detokenize_and_clean(tokenizer, batch['labels'])\n",
    "            asr_evaluator.calculate_metrics(set_type=set_type, reference=reference, predicted=predicted)\n",
    "\n",
    "    asr_evaluator.end_epoch_routine(print_metrics=False)\n",
    "\n",
    "    # Print final metrics\n",
    "    asr_evaluator.print_final_metrics()\n",
    "\n",
    "    # Save results to disk\n",
    "    dir_path = os.path.join(results_dir, 'ASR', data_type)\n",
    "    os.makedirs(dir_path, exist_ok=True)\n",
    "    asr_evaluator.store_df(dir_path)\n",
    "\n",
    "    # Save evaluator for later use\n",
    "    asr_evaluators[data_type] = asr_evaluator\n",
    "\n",
    "    print()"
   ]
  },
  {
   "cell_type": "markdown",
   "id": "372bc6e6",
   "metadata": {
    "pycharm": {
     "name": "#%% md\n"
    }
   },
   "source": [
    "# Training"
   ]
  },
  {
   "cell_type": "code",
   "execution_count": 22,
   "id": "928826cf",
   "metadata": {
    "pycharm": {
     "name": "#%%\n"
    }
   },
   "outputs": [],
   "source": [
    "def training(model, n_epochs, train_data, dev_data, optimizer, exp_name, save_model=True):\n",
    "    \"\"\" Training loop for the model\n",
    "\n",
    "        Args:\n",
    "            model (nn.Module): Model to train\n",
    "            n_epochs (int): Number of epochs to train\n",
    "            train_data (DataLoader): DataLoader with train data\n",
    "            dev_data (DataLoader): DataLoader with dev data\n",
    "            optimizer (torch.optim): Optimizer for the model\n",
    "            exp_name (str): Name of the experiment\n",
    "            save_model (bool): Whether to save the model after training\n",
    "\n",
    "        Returns:\n",
    "            dict: Dictionary with train and dev losses and accuracies\n",
    "    \"\"\"\n",
    "\n",
    "    assert exp_name, \"Must supply experiment name\"\n",
    "    assert model.model_type in ['original', 'rec_ace'], f\"{model.model_type} is not a valid training scheme\"\n",
    "\n",
    "    print(f\"Experiment name: {exp_name}\")\n",
    "    print(f\"Training model of type: {model.model_type}\")\n",
    "    print(f\"Confidence vectors are {'NOT IN USED' if model.model_type == 'original' else 'IN USED'}\")\n",
    "\n",
    "    if save_model:\n",
    "        timestamp = datetime.now().strftime(\"%Y-%m-%d_%H-%M-%S\")\n",
    "        output_dir = os.path.join(results_dir, f'{exp_name}/{timestamp}')\n",
    "        os.makedirs(output_dir, exist_ok=True)\n",
    "        print(f\"Saving model to: {output_dir}\")\n",
    "\n",
    "    # Initialize metrics evaluator\n",
    "    evaluator = Evaluator(metrics=['wer', 'em'], set_types=['train', 'dev'])\n",
    "    train_epoch_losses, dev_epoch_losses = [], []\n",
    "\n",
    "    # Training loop\n",
    "    pbar = tqdm(range(n_epochs), position=0, leave=False)\n",
    "    for epoch in pbar:\n",
    "        pbar.set_description(f\"Epoch: {epoch+1}/{n_epochs}\")\n",
    "\n",
    "        train_losses, dev_losses = [], []\n",
    "\n",
    "        ### TRAIN\n",
    "        model.train()\n",
    "\n",
    "        # Iterating over batches in train data\n",
    "        pbar_train = tqdm(train_data, desc=\"Train\", leave=False)\n",
    "        for batch in pbar_train:\n",
    "\n",
    "            optimizer.zero_grad()\n",
    "\n",
    "            X = batch['sentences'].to(DEVICE)\n",
    "            S = batch['scores'].to(DEVICE)\n",
    "            y = batch['labels'].to(DEVICE)\n",
    "\n",
    "            preds = model(input_ids=X, labels=y, scores_ids=S)\n",
    "\n",
    "            loss = preds.loss\n",
    "            logits = preds.logits\n",
    "\n",
    "            reference = detokenize_and_clean(tokenizer, y)\n",
    "            predicted = detokenize_and_clean(tokenizer, logits.argmax(dim=-1))\n",
    "\n",
    "            train_losses.append(loss.item())\n",
    "            evaluator.calculate_metrics(set_type='train', reference=reference, predicted=predicted)\n",
    "\n",
    "            loss.backward()\n",
    "            optimizer.step()\n",
    "\n",
    "        ### Evaluate DEV set\n",
    "        model.eval()\n",
    "\n",
    "        # No need for gradients when evaluating\n",
    "        with torch.no_grad():\n",
    "            pbar_dev = tqdm(dev_data, desc=\"Dev\", leave=False)\n",
    "            for batch in pbar_dev:\n",
    "\n",
    "                X = batch['sentences'].to(DEVICE)\n",
    "                S = batch['scores'].to(DEVICE)\n",
    "                y = batch['labels'].to(DEVICE)\n",
    "\n",
    "                dev_preds = model(input_ids=X, labels=y, scores_ids=S)\n",
    "\n",
    "                dev_loss = dev_preds.loss\n",
    "                dev_logits = dev_preds.logits\n",
    "\n",
    "                def_reference = detokenize_and_clean(tokenizer, y)\n",
    "                def_predicted = detokenize_and_clean(tokenizer, dev_logits.argmax(dim=-1))\n",
    "                \n",
    "                dev_losses.append(dev_loss.item())\n",
    "                evaluator.calculate_metrics(set_type='dev', reference=def_reference, predicted=def_predicted)\n",
    "\n",
    "        # End of epoch\n",
    "        print(f\"\\tDone Epoch: {epoch+1}/{n_epochs}\")\n",
    "        train_epoch_losses.append(np.mean(train_losses))\n",
    "        dev_epoch_losses.append(np.mean(dev_losses))\n",
    "        print(f\"\\t\\tLoss\\t|\\tTrain AVG: {train_epoch_losses[-1]:.04}, Dev AVG: {dev_epoch_losses[-1]:.04}\")      \n",
    "        evaluator.end_epoch_routine(print_metrics=True, indent=2)\n",
    "\n",
    "        if save_model:\n",
    "            model.save_to_disk(output_dir + f\"/epoch_{epoch+1}.pt\")\n",
    "\n",
    "        if os.path.exists(output_dir + '/.stop'):\n",
    "            print(\"Stopping training\")\n",
    "            break\n",
    "    \n",
    "    losses = {'train': train_epoch_losses, 'dev': dev_epoch_losses}\n",
    "\n",
    "    if save_model:\n",
    "        evaluator.store_df(output_dir, losses=losses)\n",
    "\n",
    "    print()\n",
    "    print(\"Training finished!\")\n",
    "    print()\n",
    "\n",
    "    return model, evaluator.get_merged_df(losses)"
   ]
  },
  {
   "cell_type": "markdown",
   "id": "00167b02",
   "metadata": {},
   "source": [
    "# Experiments\n",
    "Training the following models:\n",
    "1. Rec-ACE: T5 with confidence training on 'Clean' dataset\n",
    "1. Original: T5 training on 'Clean' dataset\n",
    "1. Rec-ACE(trained on other): T5 with confidence training on 'Other' dataset\n",
    "1. Original(trained on other): T5 training on 'Other' dataset\n",
    "1. P-Rec-ACE: T5 with confidence training on Prompt-Engineered 'Clean' dataset\n",
    "1. P-Original: T5 training on Prompt-Engineered 'Clean' dataset"
   ]
  },
  {
   "cell_type": "markdown",
   "id": "654dbf69",
   "metadata": {},
   "source": [
    "## Model Debug"
   ]
  },
  {
   "cell_type": "markdown",
   "id": "3d12d8b2",
   "metadata": {},
   "source": [
    "#### Training"
   ]
  },
  {
   "cell_type": "code",
   "execution_count": 12,
   "id": "f153ec74",
   "metadata": {},
   "outputs": [],
   "source": [
    "if debug:\n",
    "    model_debug = RecACEWrapModel(t5_type=t5_type, model_type='rec_ace', bin_size=bin_size, use_pretrained=True)\n",
    "    model_debug.to(DEVICE)\n",
    "\n",
    "    optimizer = torch.optim.Adam(model_debug.parameters(), lr=1e-4)\n",
    "\n",
    "    model_debug, debub_metrics_df = training(\n",
    "        model=model_debug,\n",
    "        n_epochs=3,\n",
    "        train_data=train_loader,\n",
    "        dev_data=dev_loader,\n",
    "        optimizer=optimizer,\n",
    "        exp_name=f\"DebugRecAce_Clean\",\n",
    "        save_model=True)"
   ]
  },
  {
   "cell_type": "markdown",
   "id": "b6660a48",
   "metadata": {},
   "source": [
    "#### Analysis"
   ]
  },
  {
   "cell_type": "code",
   "execution_count": 13,
   "id": "511c5ba6",
   "metadata": {},
   "outputs": [],
   "source": [
    "if debug:\n",
    "    plot_graphs(debub_metrics_df, gt_df=asr_evaluators['Clean'].metrics_df, fig_size=(20,8))"
   ]
  },
  {
   "cell_type": "markdown",
   "id": "4f3b6043",
   "metadata": {},
   "source": [
    "## Model REC-ACE"
   ]
  },
  {
   "cell_type": "markdown",
   "id": "6a0e9ed5",
   "metadata": {},
   "source": [
    "#### Training"
   ]
  },
  {
   "cell_type": "code",
   "execution_count": 14,
   "id": "8f26ce77",
   "metadata": {
    "collapsed": false,
    "pycharm": {
     "name": "#%%\n"
    }
   },
   "outputs": [
    {
     "name": "stdout",
     "output_type": "stream",
     "text": [
      "Experiment name: rec_ace_Clean\n",
      "Training model of type: rec_ace\n",
      "Confidence vectors are IN USED\n",
      "Saving model to: ./results\\rec_ace_Clean/2023-08-23_01-46-03\n"
     ]
    },
    {
     "data": {
      "application/vnd.jupyter.widget-view+json": {
       "model_id": "3850b4b952624392ba10ec60b0cb93e9",
       "version_major": 2,
       "version_minor": 0
      },
      "text/plain": [
       "  0%|          | 0/50 [00:00<?, ?it/s]"
      ]
     },
     "metadata": {},
     "output_type": "display_data"
    },
    {
     "data": {
      "application/vnd.jupyter.widget-view+json": {
       "model_id": "a0116c8cbf3748f2b5914582bb98a2f7",
       "version_major": 2,
       "version_minor": 0
      },
      "text/plain": [
       "Train:   0%|          | 0/1624 [00:00<?, ?it/s]"
      ]
     },
     "metadata": {},
     "output_type": "display_data"
    },
    {
     "data": {
      "application/vnd.jupyter.widget-view+json": {
       "model_id": "be030da26c294ca891cf3c4988b8fc23",
       "version_major": 2,
       "version_minor": 0
      },
      "text/plain": [
       "Dev:   0%|          | 0/43 [00:00<?, ?it/s]"
      ]
     },
     "metadata": {},
     "output_type": "display_data"
    },
    {
     "name": "stdout",
     "output_type": "stream",
     "text": [
      "\tDone Epoch: 1/50\n",
      "\t\tLoss\t|\tTrain AVG: 0.3542, Dev AVG: 0.2313\n",
      "\t\tMetrics\t|\tTrain: wer=0.1482, em=0.08711 ; Dev: wer=0.2218, em=0.2028\n"
     ]
    },
    {
     "data": {
      "application/vnd.jupyter.widget-view+json": {
       "model_id": "54ef866a8ea74cd5963e1c21889778dc",
       "version_major": 2,
       "version_minor": 0
      },
      "text/plain": [
       "Train:   0%|          | 0/1624 [00:00<?, ?it/s]"
      ]
     },
     "metadata": {},
     "output_type": "display_data"
    },
    {
     "data": {
      "application/vnd.jupyter.widget-view+json": {
       "model_id": "1c92f07569cf4864a541fd923148c4cc",
       "version_major": 2,
       "version_minor": 0
      },
      "text/plain": [
       "Dev:   0%|          | 0/43 [00:00<?, ?it/s]"
      ]
     },
     "metadata": {},
     "output_type": "display_data"
    },
    {
     "name": "stdout",
     "output_type": "stream",
     "text": [
      "\tDone Epoch: 2/50\n",
      "\t\tLoss\t|\tTrain AVG: 0.2783, Dev AVG: 0.3547\n",
      "\t\tMetrics\t|\tTrain: wer=0.1249, em=0.1102 ; Dev: wer=0.4012, em=0.1014\n"
     ]
    },
    {
     "data": {
      "application/vnd.jupyter.widget-view+json": {
       "model_id": "a9c22f0c25094dfb823cd14d5f5ecc31",
       "version_major": 2,
       "version_minor": 0
      },
      "text/plain": [
       "Train:   0%|          | 0/1624 [00:00<?, ?it/s]"
      ]
     },
     "metadata": {},
     "output_type": "display_data"
    },
    {
     "data": {
      "application/vnd.jupyter.widget-view+json": {
       "model_id": "100539761ebb45a5adf9830ab75e17a9",
       "version_major": 2,
       "version_minor": 0
      },
      "text/plain": [
       "Dev:   0%|          | 0/43 [00:00<?, ?it/s]"
      ]
     },
     "metadata": {},
     "output_type": "display_data"
    },
    {
     "name": "stdout",
     "output_type": "stream",
     "text": [
      "\tDone Epoch: 3/50\n",
      "\t\tLoss\t|\tTrain AVG: 0.2563, Dev AVG: 0.6683\n",
      "\t\tMetrics\t|\tTrain: wer=0.1188, em=0.1179 ; Dev: wer=0.3274, em=0.2406\n"
     ]
    },
    {
     "data": {
      "application/vnd.jupyter.widget-view+json": {
       "model_id": "41849e588ad1405f92405fc9324dc9f5",
       "version_major": 2,
       "version_minor": 0
      },
      "text/plain": [
       "Train:   0%|          | 0/1624 [00:00<?, ?it/s]"
      ]
     },
     "metadata": {},
     "output_type": "display_data"
    },
    {
     "data": {
      "application/vnd.jupyter.widget-view+json": {
       "model_id": "112abf2f21e14854b55f349b896c582f",
       "version_major": 2,
       "version_minor": 0
      },
      "text/plain": [
       "Dev:   0%|          | 0/43 [00:00<?, ?it/s]"
      ]
     },
     "metadata": {},
     "output_type": "display_data"
    },
    {
     "name": "stdout",
     "output_type": "stream",
     "text": [
      "\tDone Epoch: 4/50\n",
      "\t\tLoss\t|\tTrain AVG: 0.2401, Dev AVG: 0.9221\n",
      "\t\tMetrics\t|\tTrain: wer=0.1144, em=0.1235 ; Dev: wer=0.556, em=0.1094\n"
     ]
    },
    {
     "data": {
      "application/vnd.jupyter.widget-view+json": {
       "model_id": "e48e44332bd4499fa6d57efd129e4995",
       "version_major": 2,
       "version_minor": 0
      },
      "text/plain": [
       "Train:   0%|          | 0/1624 [00:00<?, ?it/s]"
      ]
     },
     "metadata": {},
     "output_type": "display_data"
    },
    {
     "data": {
      "application/vnd.jupyter.widget-view+json": {
       "model_id": "3dd56344896c4336a634e2cf1c96b56b",
       "version_major": 2,
       "version_minor": 0
      },
      "text/plain": [
       "Dev:   0%|          | 0/43 [00:00<?, ?it/s]"
      ]
     },
     "metadata": {},
     "output_type": "display_data"
    },
    {
     "name": "stdout",
     "output_type": "stream",
     "text": [
      "\tDone Epoch: 5/50\n",
      "\t\tLoss\t|\tTrain AVG: 0.2282, Dev AVG: 0.2339\n",
      "\t\tMetrics\t|\tTrain: wer=0.111, em=0.1292 ; Dev: wer=0.2866, em=0.2261\n"
     ]
    },
    {
     "data": {
      "application/vnd.jupyter.widget-view+json": {
       "model_id": "ced8a8604f064ecb835e2672d831e9d1",
       "version_major": 2,
       "version_minor": 0
      },
      "text/plain": [
       "Train:   0%|          | 0/1624 [00:00<?, ?it/s]"
      ]
     },
     "metadata": {},
     "output_type": "display_data"
    },
    {
     "data": {
      "application/vnd.jupyter.widget-view+json": {
       "model_id": "b415a834877d47c8b0ffbe1ef34333f9",
       "version_major": 2,
       "version_minor": 0
      },
      "text/plain": [
       "Dev:   0%|          | 0/43 [00:00<?, ?it/s]"
      ]
     },
     "metadata": {},
     "output_type": "display_data"
    },
    {
     "name": "stdout",
     "output_type": "stream",
     "text": [
      "\tDone Epoch: 6/50\n",
      "\t\tLoss\t|\tTrain AVG: 0.2184, Dev AVG: 0.1436\n",
      "\t\tMetrics\t|\tTrain: wer=0.1084, em=0.1339 ; Dev: wer=0.1647, em=0.3085\n"
     ]
    },
    {
     "data": {
      "application/vnd.jupyter.widget-view+json": {
       "model_id": "8ff11f652d1d4d2c8e444fdb3659c235",
       "version_major": 2,
       "version_minor": 0
      },
      "text/plain": [
       "Train:   0%|          | 0/1624 [00:00<?, ?it/s]"
      ]
     },
     "metadata": {},
     "output_type": "display_data"
    },
    {
     "data": {
      "application/vnd.jupyter.widget-view+json": {
       "model_id": "8818147b8fce4a42a0192277d5be3fc7",
       "version_major": 2,
       "version_minor": 0
      },
      "text/plain": [
       "Dev:   0%|          | 0/43 [00:00<?, ?it/s]"
      ]
     },
     "metadata": {},
     "output_type": "display_data"
    },
    {
     "name": "stdout",
     "output_type": "stream",
     "text": [
      "\tDone Epoch: 7/50\n",
      "\t\tLoss\t|\tTrain AVG: 0.2107, Dev AVG: 0.3227\n",
      "\t\tMetrics\t|\tTrain: wer=0.1059, em=0.1375 ; Dev: wer=0.4391, em=0.1177\n"
     ]
    },
    {
     "data": {
      "application/vnd.jupyter.widget-view+json": {
       "model_id": "cd43122418c14c86b3147340c4fb5c9e",
       "version_major": 2,
       "version_minor": 0
      },
      "text/plain": [
       "Train:   0%|          | 0/1624 [00:00<?, ?it/s]"
      ]
     },
     "metadata": {},
     "output_type": "display_data"
    },
    {
     "data": {
      "application/vnd.jupyter.widget-view+json": {
       "model_id": "3526998e3a994f53aaf80668202da993",
       "version_major": 2,
       "version_minor": 0
      },
      "text/plain": [
       "Dev:   0%|          | 0/43 [00:00<?, ?it/s]"
      ]
     },
     "metadata": {},
     "output_type": "display_data"
    },
    {
     "name": "stdout",
     "output_type": "stream",
     "text": [
      "\tDone Epoch: 8/50\n",
      "\t\tLoss\t|\tTrain AVG: 0.2039, Dev AVG: 0.1278\n",
      "\t\tMetrics\t|\tTrain: wer=0.1041, em=0.1407 ; Dev: wer=0.1764, em=0.3075\n"
     ]
    },
    {
     "data": {
      "application/vnd.jupyter.widget-view+json": {
       "model_id": "9dbeda7a30794e97b56d19f06609f759",
       "version_major": 2,
       "version_minor": 0
      },
      "text/plain": [
       "Train:   0%|          | 0/1624 [00:00<?, ?it/s]"
      ]
     },
     "metadata": {},
     "output_type": "display_data"
    },
    {
     "data": {
      "application/vnd.jupyter.widget-view+json": {
       "model_id": "cbdb645e7cc04adfb44f83ec656ce95a",
       "version_major": 2,
       "version_minor": 0
      },
      "text/plain": [
       "Dev:   0%|          | 0/43 [00:00<?, ?it/s]"
      ]
     },
     "metadata": {},
     "output_type": "display_data"
    },
    {
     "name": "stdout",
     "output_type": "stream",
     "text": [
      "\tDone Epoch: 9/50\n",
      "\t\tLoss\t|\tTrain AVG: 0.1982, Dev AVG: 0.2229\n",
      "\t\tMetrics\t|\tTrain: wer=0.1026, em=0.144 ; Dev: wer=0.3162, em=0.2078\n"
     ]
    },
    {
     "data": {
      "application/vnd.jupyter.widget-view+json": {
       "model_id": "e051ca6525204a40ace2381c2c52ee32",
       "version_major": 2,
       "version_minor": 0
      },
      "text/plain": [
       "Train:   0%|          | 0/1624 [00:00<?, ?it/s]"
      ]
     },
     "metadata": {},
     "output_type": "display_data"
    },
    {
     "data": {
      "application/vnd.jupyter.widget-view+json": {
       "model_id": "82317d930ac14d2ca80c0e91f21940e5",
       "version_major": 2,
       "version_minor": 0
      },
      "text/plain": [
       "Dev:   0%|          | 0/43 [00:00<?, ?it/s]"
      ]
     },
     "metadata": {},
     "output_type": "display_data"
    },
    {
     "name": "stdout",
     "output_type": "stream",
     "text": [
      "\tDone Epoch: 10/50\n",
      "\t\tLoss\t|\tTrain AVG: 0.1928, Dev AVG: 0.1003\n",
      "\t\tMetrics\t|\tTrain: wer=0.1007, em=0.1468 ; Dev: wer=0.1194, em=0.3507\n"
     ]
    },
    {
     "data": {
      "application/vnd.jupyter.widget-view+json": {
       "model_id": "a5b18c90a80c4635afc43cc743d950af",
       "version_major": 2,
       "version_minor": 0
      },
      "text/plain": [
       "Train:   0%|          | 0/1624 [00:00<?, ?it/s]"
      ]
     },
     "metadata": {},
     "output_type": "display_data"
    },
    {
     "data": {
      "application/vnd.jupyter.widget-view+json": {
       "model_id": "f2814c9ffa0a41af88d3f5438f70983d",
       "version_major": 2,
       "version_minor": 0
      },
      "text/plain": [
       "Dev:   0%|          | 0/43 [00:00<?, ?it/s]"
      ]
     },
     "metadata": {},
     "output_type": "display_data"
    },
    {
     "name": "stdout",
     "output_type": "stream",
     "text": [
      "\tDone Epoch: 11/50\n",
      "\t\tLoss\t|\tTrain AVG: 0.1879, Dev AVG: 0.1818\n",
      "\t\tMetrics\t|\tTrain: wer=0.09938, em=0.1496 ; Dev: wer=0.2128, em=0.2566\n"
     ]
    },
    {
     "data": {
      "application/vnd.jupyter.widget-view+json": {
       "model_id": "e4ed1933910545859a196c1867075550",
       "version_major": 2,
       "version_minor": 0
      },
      "text/plain": [
       "Train:   0%|          | 0/1624 [00:00<?, ?it/s]"
      ]
     },
     "metadata": {},
     "output_type": "display_data"
    },
    {
     "data": {
      "application/vnd.jupyter.widget-view+json": {
       "model_id": "af72a3d5b526444da64879fd1def3108",
       "version_major": 2,
       "version_minor": 0
      },
      "text/plain": [
       "Dev:   0%|          | 0/43 [00:00<?, ?it/s]"
      ]
     },
     "metadata": {},
     "output_type": "display_data"
    },
    {
     "name": "stdout",
     "output_type": "stream",
     "text": [
      "\tDone Epoch: 12/50\n",
      "\t\tLoss\t|\tTrain AVG: 0.1836, Dev AVG: 0.1776\n",
      "\t\tMetrics\t|\tTrain: wer=0.09818, em=0.1521 ; Dev: wer=0.2375, em=0.2409\n"
     ]
    },
    {
     "data": {
      "application/vnd.jupyter.widget-view+json": {
       "model_id": "47240114ce8848c9ba4775454a51f66e",
       "version_major": 2,
       "version_minor": 0
      },
      "text/plain": [
       "Train:   0%|          | 0/1624 [00:00<?, ?it/s]"
      ]
     },
     "metadata": {},
     "output_type": "display_data"
    },
    {
     "data": {
      "application/vnd.jupyter.widget-view+json": {
       "model_id": "48838c2f8d43435ab9afcf1cc41d40b8",
       "version_major": 2,
       "version_minor": 0
      },
      "text/plain": [
       "Dev:   0%|          | 0/43 [00:00<?, ?it/s]"
      ]
     },
     "metadata": {},
     "output_type": "display_data"
    },
    {
     "name": "stdout",
     "output_type": "stream",
     "text": [
      "\tDone Epoch: 13/50\n",
      "\t\tLoss\t|\tTrain AVG: 0.1796, Dev AVG: 0.1214\n",
      "\t\tMetrics\t|\tTrain: wer=0.09692, em=0.1548 ; Dev: wer=0.1592, em=0.3165\n"
     ]
    },
    {
     "data": {
      "application/vnd.jupyter.widget-view+json": {
       "model_id": "bd9fa3e158074ffca6a8c0ace83f1989",
       "version_major": 2,
       "version_minor": 0
      },
      "text/plain": [
       "Train:   0%|          | 0/1624 [00:00<?, ?it/s]"
      ]
     },
     "metadata": {},
     "output_type": "display_data"
    },
    {
     "data": {
      "application/vnd.jupyter.widget-view+json": {
       "model_id": "1281cd0a2e274f63b454978a34092258",
       "version_major": 2,
       "version_minor": 0
      },
      "text/plain": [
       "Dev:   0%|          | 0/43 [00:00<?, ?it/s]"
      ]
     },
     "metadata": {},
     "output_type": "display_data"
    },
    {
     "name": "stdout",
     "output_type": "stream",
     "text": [
      "\tDone Epoch: 14/50\n",
      "\t\tLoss\t|\tTrain AVG: 0.176, Dev AVG: 0.1324\n",
      "\t\tMetrics\t|\tTrain: wer=0.0958, em=0.1567 ; Dev: wer=0.1608, em=0.3096\n"
     ]
    },
    {
     "data": {
      "application/vnd.jupyter.widget-view+json": {
       "model_id": "0a06e5e6c658495abda5067a215de6c7",
       "version_major": 2,
       "version_minor": 0
      },
      "text/plain": [
       "Train:   0%|          | 0/1624 [00:00<?, ?it/s]"
      ]
     },
     "metadata": {},
     "output_type": "display_data"
    },
    {
     "data": {
      "application/vnd.jupyter.widget-view+json": {
       "model_id": "d01fa5b3bf45421d8151470c9e706b9a",
       "version_major": 2,
       "version_minor": 0
      },
      "text/plain": [
       "Dev:   0%|          | 0/43 [00:00<?, ?it/s]"
      ]
     },
     "metadata": {},
     "output_type": "display_data"
    },
    {
     "name": "stdout",
     "output_type": "stream",
     "text": [
      "\tDone Epoch: 15/50\n",
      "\t\tLoss\t|\tTrain AVG: 0.1726, Dev AVG: 0.2527\n",
      "\t\tMetrics\t|\tTrain: wer=0.0947, em=0.1576 ; Dev: wer=0.3544, em=0.1581\n"
     ]
    },
    {
     "data": {
      "application/vnd.jupyter.widget-view+json": {
       "model_id": "9ed07b3b95a940e695165e1a1329868c",
       "version_major": 2,
       "version_minor": 0
      },
      "text/plain": [
       "Train:   0%|          | 0/1624 [00:00<?, ?it/s]"
      ]
     },
     "metadata": {},
     "output_type": "display_data"
    },
    {
     "data": {
      "application/vnd.jupyter.widget-view+json": {
       "model_id": "c5842af5d8334c1790f9fc3f86786751",
       "version_major": 2,
       "version_minor": 0
      },
      "text/plain": [
       "Dev:   0%|          | 0/43 [00:00<?, ?it/s]"
      ]
     },
     "metadata": {},
     "output_type": "display_data"
    },
    {
     "name": "stdout",
     "output_type": "stream",
     "text": [
      "\tDone Epoch: 16/50\n",
      "\t\tLoss\t|\tTrain AVG: 0.1692, Dev AVG: 0.1788\n",
      "\t\tMetrics\t|\tTrain: wer=0.0938, em=0.161 ; Dev: wer=0.2324, em=0.2485\n"
     ]
    },
    {
     "data": {
      "application/vnd.jupyter.widget-view+json": {
       "model_id": "497fc3423299428f862ed5120c271d7f",
       "version_major": 2,
       "version_minor": 0
      },
      "text/plain": [
       "Train:   0%|          | 0/1624 [00:00<?, ?it/s]"
      ]
     },
     "metadata": {},
     "output_type": "display_data"
    },
    {
     "data": {
      "application/vnd.jupyter.widget-view+json": {
       "model_id": "5c3734608ed742648057c45c5b399809",
       "version_major": 2,
       "version_minor": 0
      },
      "text/plain": [
       "Dev:   0%|          | 0/43 [00:00<?, ?it/s]"
      ]
     },
     "metadata": {},
     "output_type": "display_data"
    },
    {
     "name": "stdout",
     "output_type": "stream",
     "text": [
      "\tDone Epoch: 17/50\n",
      "\t\tLoss\t|\tTrain AVG: 0.1661, Dev AVG: 0.1712\n",
      "\t\tMetrics\t|\tTrain: wer=0.0927, em=0.1632 ; Dev: wer=0.2362, em=0.2485\n"
     ]
    },
    {
     "data": {
      "application/vnd.jupyter.widget-view+json": {
       "model_id": "7f4b23a55f644c2d899cc3b1518acf7c",
       "version_major": 2,
       "version_minor": 0
      },
      "text/plain": [
       "Train:   0%|          | 0/1624 [00:00<?, ?it/s]"
      ]
     },
     "metadata": {},
     "output_type": "display_data"
    },
    {
     "data": {
      "application/vnd.jupyter.widget-view+json": {
       "model_id": "317308155c59403397a095516ce1fb84",
       "version_major": 2,
       "version_minor": 0
      },
      "text/plain": [
       "Dev:   0%|          | 0/43 [00:00<?, ?it/s]"
      ]
     },
     "metadata": {},
     "output_type": "display_data"
    },
    {
     "name": "stdout",
     "output_type": "stream",
     "text": [
      "\tDone Epoch: 18/50\n",
      "\t\tLoss\t|\tTrain AVG: 0.1633, Dev AVG: 0.1394\n",
      "\t\tMetrics\t|\tTrain: wer=0.09189, em=0.166 ; Dev: wer=0.1941, em=0.286\n"
     ]
    },
    {
     "data": {
      "application/vnd.jupyter.widget-view+json": {
       "model_id": "d5b3dbc027694f5e8d42d65e3acbf49e",
       "version_major": 2,
       "version_minor": 0
      },
      "text/plain": [
       "Train:   0%|          | 0/1624 [00:00<?, ?it/s]"
      ]
     },
     "metadata": {},
     "output_type": "display_data"
    },
    {
     "data": {
      "application/vnd.jupyter.widget-view+json": {
       "model_id": "3da1d0d8a7ea481095f0cf20c2b3764c",
       "version_major": 2,
       "version_minor": 0
      },
      "text/plain": [
       "Dev:   0%|          | 0/43 [00:00<?, ?it/s]"
      ]
     },
     "metadata": {},
     "output_type": "display_data"
    },
    {
     "name": "stdout",
     "output_type": "stream",
     "text": [
      "\tDone Epoch: 19/50\n",
      "\t\tLoss\t|\tTrain AVG: 0.1607, Dev AVG: 0.1248\n",
      "\t\tMetrics\t|\tTrain: wer=0.09099, em=0.1674 ; Dev: wer=0.171, em=0.2947\n"
     ]
    },
    {
     "data": {
      "application/vnd.jupyter.widget-view+json": {
       "model_id": "28fda2ab2eee47a7b28b756e8a922ad7",
       "version_major": 2,
       "version_minor": 0
      },
      "text/plain": [
       "Train:   0%|          | 0/1624 [00:00<?, ?it/s]"
      ]
     },
     "metadata": {},
     "output_type": "display_data"
    },
    {
     "data": {
      "application/vnd.jupyter.widget-view+json": {
       "model_id": "b863ff522a274bb590f8daedbce398ba",
       "version_major": 2,
       "version_minor": 0
      },
      "text/plain": [
       "Dev:   0%|          | 0/43 [00:00<?, ?it/s]"
      ]
     },
     "metadata": {},
     "output_type": "display_data"
    },
    {
     "name": "stdout",
     "output_type": "stream",
     "text": [
      "\tDone Epoch: 20/50\n",
      "\t\tLoss\t|\tTrain AVG: 0.158, Dev AVG: 0.1258\n",
      "\t\tMetrics\t|\tTrain: wer=0.09007, em=0.1696 ; Dev: wer=0.1718, em=0.2987\n"
     ]
    },
    {
     "data": {
      "application/vnd.jupyter.widget-view+json": {
       "model_id": "4ccab178ff6a40369bc58593dc8e9f31",
       "version_major": 2,
       "version_minor": 0
      },
      "text/plain": [
       "Train:   0%|          | 0/1624 [00:00<?, ?it/s]"
      ]
     },
     "metadata": {},
     "output_type": "display_data"
    },
    {
     "data": {
      "application/vnd.jupyter.widget-view+json": {
       "model_id": "538032b26713477d97d7b7201734e50e",
       "version_major": 2,
       "version_minor": 0
      },
      "text/plain": [
       "Dev:   0%|          | 0/43 [00:00<?, ?it/s]"
      ]
     },
     "metadata": {},
     "output_type": "display_data"
    },
    {
     "name": "stdout",
     "output_type": "stream",
     "text": [
      "\tDone Epoch: 21/50\n",
      "\t\tLoss\t|\tTrain AVG: 0.1554, Dev AVG: 0.09066\n",
      "\t\tMetrics\t|\tTrain: wer=0.08928, em=0.1707 ; Dev: wer=0.1075, em=0.3736\n"
     ]
    },
    {
     "data": {
      "application/vnd.jupyter.widget-view+json": {
       "model_id": "6efb98f0b64546b8a70a8912fe35c4a9",
       "version_major": 2,
       "version_minor": 0
      },
      "text/plain": [
       "Train:   0%|          | 0/1624 [00:00<?, ?it/s]"
      ]
     },
     "metadata": {},
     "output_type": "display_data"
    },
    {
     "data": {
      "application/vnd.jupyter.widget-view+json": {
       "model_id": "f75214859b074e23b5ff158964faee05",
       "version_major": 2,
       "version_minor": 0
      },
      "text/plain": [
       "Dev:   0%|          | 0/43 [00:00<?, ?it/s]"
      ]
     },
     "metadata": {},
     "output_type": "display_data"
    },
    {
     "name": "stdout",
     "output_type": "stream",
     "text": [
      "\tDone Epoch: 22/50\n",
      "\t\tLoss\t|\tTrain AVG: 0.153, Dev AVG: 0.1386\n",
      "\t\tMetrics\t|\tTrain: wer=0.08863, em=0.1731 ; Dev: wer=0.2041, em=0.2754\n"
     ]
    },
    {
     "data": {
      "application/vnd.jupyter.widget-view+json": {
       "model_id": "13dac17252884263b915983138aa20fc",
       "version_major": 2,
       "version_minor": 0
      },
      "text/plain": [
       "Train:   0%|          | 0/1624 [00:00<?, ?it/s]"
      ]
     },
     "metadata": {},
     "output_type": "display_data"
    },
    {
     "data": {
      "application/vnd.jupyter.widget-view+json": {
       "model_id": "24b0dd1c76ac46b1b87fabe86d34f109",
       "version_major": 2,
       "version_minor": 0
      },
      "text/plain": [
       "Dev:   0%|          | 0/43 [00:00<?, ?it/s]"
      ]
     },
     "metadata": {},
     "output_type": "display_data"
    },
    {
     "name": "stdout",
     "output_type": "stream",
     "text": [
      "\tDone Epoch: 23/50\n",
      "\t\tLoss\t|\tTrain AVG: 0.1506, Dev AVG: 0.1928\n",
      "\t\tMetrics\t|\tTrain: wer=0.08777, em=0.1749 ; Dev: wer=0.2658, em=0.2188\n"
     ]
    },
    {
     "data": {
      "application/vnd.jupyter.widget-view+json": {
       "model_id": "89c1f5e167974d108e84a272bde18c55",
       "version_major": 2,
       "version_minor": 0
      },
      "text/plain": [
       "Train:   0%|          | 0/1624 [00:00<?, ?it/s]"
      ]
     },
     "metadata": {},
     "output_type": "display_data"
    },
    {
     "data": {
      "application/vnd.jupyter.widget-view+json": {
       "model_id": "975e03fafe674d3fb0c03a7914787489",
       "version_major": 2,
       "version_minor": 0
      },
      "text/plain": [
       "Dev:   0%|          | 0/43 [00:00<?, ?it/s]"
      ]
     },
     "metadata": {},
     "output_type": "display_data"
    },
    {
     "name": "stdout",
     "output_type": "stream",
     "text": [
      "\tDone Epoch: 24/50\n",
      "\t\tLoss\t|\tTrain AVG: 0.1485, Dev AVG: 0.3695\n",
      "\t\tMetrics\t|\tTrain: wer=0.08701, em=0.177 ; Dev: wer=0.4544, em=0.09411\n"
     ]
    },
    {
     "data": {
      "application/vnd.jupyter.widget-view+json": {
       "model_id": "62fd8a1dfdda4bb9b7d6587352c1a9a5",
       "version_major": 2,
       "version_minor": 0
      },
      "text/plain": [
       "Train:   0%|          | 0/1624 [00:00<?, ?it/s]"
      ]
     },
     "metadata": {},
     "output_type": "display_data"
    },
    {
     "data": {
      "application/vnd.jupyter.widget-view+json": {
       "model_id": "444fbbc5c6714fd2a8c562b9861f8f5f",
       "version_major": 2,
       "version_minor": 0
      },
      "text/plain": [
       "Dev:   0%|          | 0/43 [00:00<?, ?it/s]"
      ]
     },
     "metadata": {},
     "output_type": "display_data"
    },
    {
     "name": "stdout",
     "output_type": "stream",
     "text": [
      "\tDone Epoch: 25/50\n",
      "\t\tLoss\t|\tTrain AVG: 0.1463, Dev AVG: 0.1791\n",
      "\t\tMetrics\t|\tTrain: wer=0.08642, em=0.1788 ; Dev: wer=0.2701, em=0.2249\n"
     ]
    },
    {
     "data": {
      "application/vnd.jupyter.widget-view+json": {
       "model_id": "8c6c4de6d414460280f67ea4056d9391",
       "version_major": 2,
       "version_minor": 0
      },
      "text/plain": [
       "Train:   0%|          | 0/1624 [00:00<?, ?it/s]"
      ]
     },
     "metadata": {},
     "output_type": "display_data"
    },
    {
     "data": {
      "application/vnd.jupyter.widget-view+json": {
       "model_id": "8fba7ce488a54ea68fe101761c8d6be3",
       "version_major": 2,
       "version_minor": 0
      },
      "text/plain": [
       "Dev:   0%|          | 0/43 [00:00<?, ?it/s]"
      ]
     },
     "metadata": {},
     "output_type": "display_data"
    },
    {
     "name": "stdout",
     "output_type": "stream",
     "text": [
      "\tDone Epoch: 26/50\n",
      "\t\tLoss\t|\tTrain AVG: 0.1441, Dev AVG: 0.2025\n",
      "\t\tMetrics\t|\tTrain: wer=0.08556, em=0.1812 ; Dev: wer=0.2915, em=0.2028\n"
     ]
    },
    {
     "data": {
      "application/vnd.jupyter.widget-view+json": {
       "model_id": "10fc494b2b10486bb540f35e83d2ca49",
       "version_major": 2,
       "version_minor": 0
      },
      "text/plain": [
       "Train:   0%|          | 0/1624 [00:00<?, ?it/s]"
      ]
     },
     "metadata": {},
     "output_type": "display_data"
    },
    {
     "data": {
      "application/vnd.jupyter.widget-view+json": {
       "model_id": "9344a91c5aa84282b233db3b572d2ee7",
       "version_major": 2,
       "version_minor": 0
      },
      "text/plain": [
       "Dev:   0%|          | 0/43 [00:00<?, ?it/s]"
      ]
     },
     "metadata": {},
     "output_type": "display_data"
    },
    {
     "name": "stdout",
     "output_type": "stream",
     "text": [
      "\tDone Epoch: 27/50\n",
      "\t\tLoss\t|\tTrain AVG: 0.1421, Dev AVG: 0.1056\n",
      "\t\tMetrics\t|\tTrain: wer=0.08506, em=0.1837 ; Dev: wer=0.1455, em=0.3303\n"
     ]
    },
    {
     "data": {
      "application/vnd.jupyter.widget-view+json": {
       "model_id": "d2ab274b310f4f18af65f015beb47c44",
       "version_major": 2,
       "version_minor": 0
      },
      "text/plain": [
       "Train:   0%|          | 0/1624 [00:00<?, ?it/s]"
      ]
     },
     "metadata": {},
     "output_type": "display_data"
    },
    {
     "data": {
      "application/vnd.jupyter.widget-view+json": {
       "model_id": "230dd92d584441a891de20967cf778a8",
       "version_major": 2,
       "version_minor": 0
      },
      "text/plain": [
       "Dev:   0%|          | 0/43 [00:00<?, ?it/s]"
      ]
     },
     "metadata": {},
     "output_type": "display_data"
    },
    {
     "name": "stdout",
     "output_type": "stream",
     "text": [
      "\tDone Epoch: 28/50\n",
      "\t\tLoss\t|\tTrain AVG: 0.1403, Dev AVG: 0.1418\n",
      "\t\tMetrics\t|\tTrain: wer=0.08447, em=0.1845 ; Dev: wer=0.2102, em=0.2602\n"
     ]
    },
    {
     "data": {
      "application/vnd.jupyter.widget-view+json": {
       "model_id": "e935e407ed0a474088911630b7b51295",
       "version_major": 2,
       "version_minor": 0
      },
      "text/plain": [
       "Train:   0%|          | 0/1624 [00:00<?, ?it/s]"
      ]
     },
     "metadata": {},
     "output_type": "display_data"
    },
    {
     "data": {
      "application/vnd.jupyter.widget-view+json": {
       "model_id": "0d79f2b1c687407592318f2aa9db7884",
       "version_major": 2,
       "version_minor": 0
      },
      "text/plain": [
       "Dev:   0%|          | 0/43 [00:00<?, ?it/s]"
      ]
     },
     "metadata": {},
     "output_type": "display_data"
    },
    {
     "name": "stdout",
     "output_type": "stream",
     "text": [
      "\tDone Epoch: 29/50\n",
      "\t\tLoss\t|\tTrain AVG: 0.1382, Dev AVG: 0.2369\n",
      "\t\tMetrics\t|\tTrain: wer=0.08364, em=0.1852 ; Dev: wer=0.335, em=0.1697\n"
     ]
    },
    {
     "data": {
      "application/vnd.jupyter.widget-view+json": {
       "model_id": "6279b33519f84547bd42073a24adac97",
       "version_major": 2,
       "version_minor": 0
      },
      "text/plain": [
       "Train:   0%|          | 0/1624 [00:00<?, ?it/s]"
      ]
     },
     "metadata": {},
     "output_type": "display_data"
    },
    {
     "data": {
      "application/vnd.jupyter.widget-view+json": {
       "model_id": "138de7d45d234c94b1bf25fb358c060e",
       "version_major": 2,
       "version_minor": 0
      },
      "text/plain": [
       "Dev:   0%|          | 0/43 [00:00<?, ?it/s]"
      ]
     },
     "metadata": {},
     "output_type": "display_data"
    },
    {
     "name": "stdout",
     "output_type": "stream",
     "text": [
      "\tDone Epoch: 30/50\n",
      "\t\tLoss\t|\tTrain AVG: 0.1366, Dev AVG: 0.1013\n",
      "\t\tMetrics\t|\tTrain: wer=0.08312, em=0.1874 ; Dev: wer=0.1372, em=0.3434\n"
     ]
    },
    {
     "data": {
      "application/vnd.jupyter.widget-view+json": {
       "model_id": "d4005a79cb3d408a9b770ab86b5f3b1d",
       "version_major": 2,
       "version_minor": 0
      },
      "text/plain": [
       "Train:   0%|          | 0/1624 [00:00<?, ?it/s]"
      ]
     },
     "metadata": {},
     "output_type": "display_data"
    },
    {
     "data": {
      "application/vnd.jupyter.widget-view+json": {
       "model_id": "3ce0fcf10c3046cf9883fac6b591f2f6",
       "version_major": 2,
       "version_minor": 0
      },
      "text/plain": [
       "Dev:   0%|          | 0/43 [00:00<?, ?it/s]"
      ]
     },
     "metadata": {},
     "output_type": "display_data"
    },
    {
     "name": "stdout",
     "output_type": "stream",
     "text": [
      "\tDone Epoch: 31/50\n",
      "\t\tLoss\t|\tTrain AVG: 0.1347, Dev AVG: 0.1248\n",
      "\t\tMetrics\t|\tTrain: wer=0.0824, em=0.1896 ; Dev: wer=0.187, em=0.29\n"
     ]
    },
    {
     "data": {
      "application/vnd.jupyter.widget-view+json": {
       "model_id": "21d6f626ba6d4b9385edb34a804ab3c9",
       "version_major": 2,
       "version_minor": 0
      },
      "text/plain": [
       "Train:   0%|          | 0/1624 [00:00<?, ?it/s]"
      ]
     },
     "metadata": {},
     "output_type": "display_data"
    },
    {
     "data": {
      "application/vnd.jupyter.widget-view+json": {
       "model_id": "9c518921425e43df90f1061b9818a828",
       "version_major": 2,
       "version_minor": 0
      },
      "text/plain": [
       "Dev:   0%|          | 0/43 [00:00<?, ?it/s]"
      ]
     },
     "metadata": {},
     "output_type": "display_data"
    },
    {
     "name": "stdout",
     "output_type": "stream",
     "text": [
      "\tDone Epoch: 32/50\n",
      "\t\tLoss\t|\tTrain AVG: 0.1331, Dev AVG: 0.133\n",
      "\t\tMetrics\t|\tTrain: wer=0.08201, em=0.1913 ; Dev: wer=0.2008, em=0.2743\n"
     ]
    },
    {
     "data": {
      "application/vnd.jupyter.widget-view+json": {
       "model_id": "e07b1188889643d9820546e10834b3f9",
       "version_major": 2,
       "version_minor": 0
      },
      "text/plain": [
       "Train:   0%|          | 0/1624 [00:00<?, ?it/s]"
      ]
     },
     "metadata": {},
     "output_type": "display_data"
    },
    {
     "data": {
      "application/vnd.jupyter.widget-view+json": {
       "model_id": "3c7150e2fc094a509413466d799db893",
       "version_major": 2,
       "version_minor": 0
      },
      "text/plain": [
       "Dev:   0%|          | 0/43 [00:00<?, ?it/s]"
      ]
     },
     "metadata": {},
     "output_type": "display_data"
    },
    {
     "name": "stdout",
     "output_type": "stream",
     "text": [
      "\tDone Epoch: 33/50\n",
      "\t\tLoss\t|\tTrain AVG: 0.1312, Dev AVG: 0.1541\n",
      "\t\tMetrics\t|\tTrain: wer=0.08124, em=0.1925 ; Dev: wer=0.2467, em=0.2489\n"
     ]
    },
    {
     "data": {
      "application/vnd.jupyter.widget-view+json": {
       "model_id": "50a241d988da477f8cd8d2e9fc16adad",
       "version_major": 2,
       "version_minor": 0
      },
      "text/plain": [
       "Train:   0%|          | 0/1624 [00:00<?, ?it/s]"
      ]
     },
     "metadata": {},
     "output_type": "display_data"
    },
    {
     "data": {
      "application/vnd.jupyter.widget-view+json": {
       "model_id": "5c35c7bd10224762bc1aa12973df0c6c",
       "version_major": 2,
       "version_minor": 0
      },
      "text/plain": [
       "Dev:   0%|          | 0/43 [00:00<?, ?it/s]"
      ]
     },
     "metadata": {},
     "output_type": "display_data"
    },
    {
     "name": "stdout",
     "output_type": "stream",
     "text": [
      "\tDone Epoch: 34/50\n",
      "\t\tLoss\t|\tTrain AVG: 0.1296, Dev AVG: 0.1711\n",
      "\t\tMetrics\t|\tTrain: wer=0.08067, em=0.1936 ; Dev: wer=0.264, em=0.2278\n"
     ]
    },
    {
     "data": {
      "application/vnd.jupyter.widget-view+json": {
       "model_id": "6165f1c29d094c6492d59a1067954053",
       "version_major": 2,
       "version_minor": 0
      },
      "text/plain": [
       "Train:   0%|          | 0/1624 [00:00<?, ?it/s]"
      ]
     },
     "metadata": {},
     "output_type": "display_data"
    },
    {
     "data": {
      "application/vnd.jupyter.widget-view+json": {
       "model_id": "486d405d80c049a4a8d5600cc5d42521",
       "version_major": 2,
       "version_minor": 0
      },
      "text/plain": [
       "Dev:   0%|          | 0/43 [00:00<?, ?it/s]"
      ]
     },
     "metadata": {},
     "output_type": "display_data"
    },
    {
     "name": "stdout",
     "output_type": "stream",
     "text": [
      "\tDone Epoch: 35/50\n",
      "\t\tLoss\t|\tTrain AVG: 0.1279, Dev AVG: 0.1217\n",
      "\t\tMetrics\t|\tTrain: wer=0.07998, em=0.1962 ; Dev: wer=0.1846, em=0.2936\n"
     ]
    },
    {
     "data": {
      "application/vnd.jupyter.widget-view+json": {
       "model_id": "8912d79db2b84b54a24a378e884f3ef0",
       "version_major": 2,
       "version_minor": 0
      },
      "text/plain": [
       "Train:   0%|          | 0/1624 [00:00<?, ?it/s]"
      ]
     },
     "metadata": {},
     "output_type": "display_data"
    },
    {
     "data": {
      "application/vnd.jupyter.widget-view+json": {
       "model_id": "8dc5ee552c2b405bb56dbc59d50efef0",
       "version_major": 2,
       "version_minor": 0
      },
      "text/plain": [
       "Dev:   0%|          | 0/43 [00:00<?, ?it/s]"
      ]
     },
     "metadata": {},
     "output_type": "display_data"
    },
    {
     "name": "stdout",
     "output_type": "stream",
     "text": [
      "\tDone Epoch: 36/50\n",
      "\t\tLoss\t|\tTrain AVG: 0.1264, Dev AVG: 0.142\n",
      "\t\tMetrics\t|\tTrain: wer=0.07952, em=0.1978 ; Dev: wer=0.22, em=0.2638\n"
     ]
    },
    {
     "data": {
      "application/vnd.jupyter.widget-view+json": {
       "model_id": "d83946886ed347c1b1576ca82ce608da",
       "version_major": 2,
       "version_minor": 0
      },
      "text/plain": [
       "Train:   0%|          | 0/1624 [00:00<?, ?it/s]"
      ]
     },
     "metadata": {},
     "output_type": "display_data"
    },
    {
     "data": {
      "application/vnd.jupyter.widget-view+json": {
       "model_id": "1e07812d304f46e5b0157173841a4464",
       "version_major": 2,
       "version_minor": 0
      },
      "text/plain": [
       "Dev:   0%|          | 0/43 [00:00<?, ?it/s]"
      ]
     },
     "metadata": {},
     "output_type": "display_data"
    },
    {
     "name": "stdout",
     "output_type": "stream",
     "text": [
      "\tDone Epoch: 37/50\n",
      "\t\tLoss\t|\tTrain AVG: 0.1249, Dev AVG: 0.1587\n",
      "\t\tMetrics\t|\tTrain: wer=0.07909, em=0.1991 ; Dev: wer=0.2335, em=0.2522\n"
     ]
    },
    {
     "data": {
      "application/vnd.jupyter.widget-view+json": {
       "model_id": "12e1ff9021a84a88a841fc78bc4645bd",
       "version_major": 2,
       "version_minor": 0
      },
      "text/plain": [
       "Train:   0%|          | 0/1624 [00:00<?, ?it/s]"
      ]
     },
     "metadata": {},
     "output_type": "display_data"
    },
    {
     "data": {
      "application/vnd.jupyter.widget-view+json": {
       "model_id": "91b72dfb2cbe424c9f0672920c852d28",
       "version_major": 2,
       "version_minor": 0
      },
      "text/plain": [
       "Dev:   0%|          | 0/43 [00:00<?, ?it/s]"
      ]
     },
     "metadata": {},
     "output_type": "display_data"
    },
    {
     "name": "stdout",
     "output_type": "stream",
     "text": [
      "\tDone Epoch: 38/50\n",
      "\t\tLoss\t|\tTrain AVG: 0.1235, Dev AVG: 0.1706\n",
      "\t\tMetrics\t|\tTrain: wer=0.07869, em=0.2002 ; Dev: wer=0.2589, em=0.2355\n"
     ]
    },
    {
     "data": {
      "application/vnd.jupyter.widget-view+json": {
       "model_id": "c90b65c504fc4200910c06eb31125175",
       "version_major": 2,
       "version_minor": 0
      },
      "text/plain": [
       "Train:   0%|          | 0/1624 [00:00<?, ?it/s]"
      ]
     },
     "metadata": {},
     "output_type": "display_data"
    },
    {
     "data": {
      "application/vnd.jupyter.widget-view+json": {
       "model_id": "309f3b41d32c47aaaa10bea4d72cee21",
       "version_major": 2,
       "version_minor": 0
      },
      "text/plain": [
       "Dev:   0%|          | 0/43 [00:00<?, ?it/s]"
      ]
     },
     "metadata": {},
     "output_type": "display_data"
    },
    {
     "name": "stdout",
     "output_type": "stream",
     "text": [
      "\tDone Epoch: 39/50\n",
      "\t\tLoss\t|\tTrain AVG: 0.122, Dev AVG: 0.1036\n",
      "\t\tMetrics\t|\tTrain: wer=0.07809, em=0.2031 ; Dev: wer=0.1481, em=0.3299\n"
     ]
    },
    {
     "data": {
      "application/vnd.jupyter.widget-view+json": {
       "model_id": "2b8f6bfa271f401d9afdb8e2139a20af",
       "version_major": 2,
       "version_minor": 0
      },
      "text/plain": [
       "Train:   0%|          | 0/1624 [00:00<?, ?it/s]"
      ]
     },
     "metadata": {},
     "output_type": "display_data"
    },
    {
     "data": {
      "application/vnd.jupyter.widget-view+json": {
       "model_id": "ec0aaf21021e4cc8a8215cb942d468de",
       "version_major": 2,
       "version_minor": 0
      },
      "text/plain": [
       "Dev:   0%|          | 0/43 [00:00<?, ?it/s]"
      ]
     },
     "metadata": {},
     "output_type": "display_data"
    },
    {
     "name": "stdout",
     "output_type": "stream",
     "text": [
      "\tDone Epoch: 40/50\n",
      "\t\tLoss\t|\tTrain AVG: 0.1205, Dev AVG: 0.129\n",
      "\t\tMetrics\t|\tTrain: wer=0.07747, em=0.2042 ; Dev: wer=0.1904, em=0.2834\n"
     ]
    },
    {
     "data": {
      "application/vnd.jupyter.widget-view+json": {
       "model_id": "6827921f85ce42b0bea012b7ab87ca82",
       "version_major": 2,
       "version_minor": 0
      },
      "text/plain": [
       "Train:   0%|          | 0/1624 [00:00<?, ?it/s]"
      ]
     },
     "metadata": {},
     "output_type": "display_data"
    },
    {
     "data": {
      "application/vnd.jupyter.widget-view+json": {
       "model_id": "6cab75e1591445b98e01ffc94d491275",
       "version_major": 2,
       "version_minor": 0
      },
      "text/plain": [
       "Dev:   0%|          | 0/43 [00:00<?, ?it/s]"
      ]
     },
     "metadata": {},
     "output_type": "display_data"
    },
    {
     "name": "stdout",
     "output_type": "stream",
     "text": [
      "\tDone Epoch: 41/50\n",
      "\t\tLoss\t|\tTrain AVG: 0.1192, Dev AVG: 0.1197\n",
      "\t\tMetrics\t|\tTrain: wer=0.07701, em=0.2063 ; Dev: wer=0.1749, em=0.2951\n"
     ]
    },
    {
     "data": {
      "application/vnd.jupyter.widget-view+json": {
       "model_id": "98f81f94b8b0412cb2d83bdacdc4b861",
       "version_major": 2,
       "version_minor": 0
      },
      "text/plain": [
       "Train:   0%|          | 0/1624 [00:00<?, ?it/s]"
      ]
     },
     "metadata": {},
     "output_type": "display_data"
    },
    {
     "data": {
      "application/vnd.jupyter.widget-view+json": {
       "model_id": "41ee7ee754f84bf6ac843e70716c496b",
       "version_major": 2,
       "version_minor": 0
      },
      "text/plain": [
       "Dev:   0%|          | 0/43 [00:00<?, ?it/s]"
      ]
     },
     "metadata": {},
     "output_type": "display_data"
    },
    {
     "name": "stdout",
     "output_type": "stream",
     "text": [
      "\tDone Epoch: 42/50\n",
      "\t\tLoss\t|\tTrain AVG: 0.1176, Dev AVG: 0.1178\n",
      "\t\tMetrics\t|\tTrain: wer=0.07647, em=0.2082 ; Dev: wer=0.1783, em=0.3012\n"
     ]
    },
    {
     "data": {
      "application/vnd.jupyter.widget-view+json": {
       "model_id": "84a4b6fe517f48a2ac5052f0998d618d",
       "version_major": 2,
       "version_minor": 0
      },
      "text/plain": [
       "Train:   0%|          | 0/1624 [00:00<?, ?it/s]"
      ]
     },
     "metadata": {},
     "output_type": "display_data"
    },
    {
     "data": {
      "application/vnd.jupyter.widget-view+json": {
       "model_id": "867f276473d84edcbbcad46c8281cb5f",
       "version_major": 2,
       "version_minor": 0
      },
      "text/plain": [
       "Dev:   0%|          | 0/43 [00:00<?, ?it/s]"
      ]
     },
     "metadata": {},
     "output_type": "display_data"
    },
    {
     "name": "stdout",
     "output_type": "stream",
     "text": [
      "\tDone Epoch: 43/50\n",
      "\t\tLoss\t|\tTrain AVG: 0.1165, Dev AVG: 0.1215\n",
      "\t\tMetrics\t|\tTrain: wer=0.07586, em=0.2102 ; Dev: wer=0.1835, em=0.2896\n"
     ]
    },
    {
     "data": {
      "application/vnd.jupyter.widget-view+json": {
       "model_id": "08e3bd3277e8449095913583d7ba3c20",
       "version_major": 2,
       "version_minor": 0
      },
      "text/plain": [
       "Train:   0%|          | 0/1624 [00:00<?, ?it/s]"
      ]
     },
     "metadata": {},
     "output_type": "display_data"
    },
    {
     "data": {
      "application/vnd.jupyter.widget-view+json": {
       "model_id": "bca6d07e9fd24a3b92c2e880e933a7ec",
       "version_major": 2,
       "version_minor": 0
      },
      "text/plain": [
       "Dev:   0%|          | 0/43 [00:00<?, ?it/s]"
      ]
     },
     "metadata": {},
     "output_type": "display_data"
    },
    {
     "name": "stdout",
     "output_type": "stream",
     "text": [
      "\tDone Epoch: 44/50\n",
      "\t\tLoss\t|\tTrain AVG: 0.1152, Dev AVG: 0.1211\n",
      "\t\tMetrics\t|\tTrain: wer=0.07542, em=0.2103 ; Dev: wer=0.1828, em=0.2925\n"
     ]
    },
    {
     "data": {
      "application/vnd.jupyter.widget-view+json": {
       "model_id": "59e673a8231445f3b5ef941a1aeb566f",
       "version_major": 2,
       "version_minor": 0
      },
      "text/plain": [
       "Train:   0%|          | 0/1624 [00:00<?, ?it/s]"
      ]
     },
     "metadata": {},
     "output_type": "display_data"
    },
    {
     "data": {
      "application/vnd.jupyter.widget-view+json": {
       "model_id": "c72ba12c78774011bb05574fe8d298f6",
       "version_major": 2,
       "version_minor": 0
      },
      "text/plain": [
       "Dev:   0%|          | 0/43 [00:00<?, ?it/s]"
      ]
     },
     "metadata": {},
     "output_type": "display_data"
    },
    {
     "name": "stdout",
     "output_type": "stream",
     "text": [
      "\tDone Epoch: 45/50\n",
      "\t\tLoss\t|\tTrain AVG: 0.114, Dev AVG: 0.1464\n",
      "\t\tMetrics\t|\tTrain: wer=0.075, em=0.2141 ; Dev: wer=0.2152, em=0.27\n"
     ]
    },
    {
     "data": {
      "application/vnd.jupyter.widget-view+json": {
       "model_id": "4c264102c4254d48bb9d26561db55e34",
       "version_major": 2,
       "version_minor": 0
      },
      "text/plain": [
       "Train:   0%|          | 0/1624 [00:00<?, ?it/s]"
      ]
     },
     "metadata": {},
     "output_type": "display_data"
    },
    {
     "data": {
      "application/vnd.jupyter.widget-view+json": {
       "model_id": "2398190328324d2887dd75c2f532c807",
       "version_major": 2,
       "version_minor": 0
      },
      "text/plain": [
       "Dev:   0%|          | 0/43 [00:00<?, ?it/s]"
      ]
     },
     "metadata": {},
     "output_type": "display_data"
    },
    {
     "name": "stdout",
     "output_type": "stream",
     "text": [
      "\tDone Epoch: 46/50\n",
      "\t\tLoss\t|\tTrain AVG: 0.1126, Dev AVG: 0.1534\n",
      "\t\tMetrics\t|\tTrain: wer=0.0744, em=0.2143 ; Dev: wer=0.2265, em=0.2464\n"
     ]
    },
    {
     "data": {
      "application/vnd.jupyter.widget-view+json": {
       "model_id": "bd94b5919b8b43c089fe98e0c1d116df",
       "version_major": 2,
       "version_minor": 0
      },
      "text/plain": [
       "Train:   0%|          | 0/1624 [00:00<?, ?it/s]"
      ]
     },
     "metadata": {},
     "output_type": "display_data"
    },
    {
     "data": {
      "application/vnd.jupyter.widget-view+json": {
       "model_id": "352afcee9dcc45c9b92b1d25c8424b1b",
       "version_major": 2,
       "version_minor": 0
      },
      "text/plain": [
       "Dev:   0%|          | 0/43 [00:00<?, ?it/s]"
      ]
     },
     "metadata": {},
     "output_type": "display_data"
    },
    {
     "name": "stdout",
     "output_type": "stream",
     "text": [
      "\tDone Epoch: 47/50\n",
      "\t\tLoss\t|\tTrain AVG: 0.1114, Dev AVG: 0.1188\n",
      "\t\tMetrics\t|\tTrain: wer=0.07397, em=0.2167 ; Dev: wer=0.1696, em=0.2983\n"
     ]
    },
    {
     "data": {
      "application/vnd.jupyter.widget-view+json": {
       "model_id": "4f801c365de3447fa4282afa38756839",
       "version_major": 2,
       "version_minor": 0
      },
      "text/plain": [
       "Train:   0%|          | 0/1624 [00:00<?, ?it/s]"
      ]
     },
     "metadata": {},
     "output_type": "display_data"
    },
    {
     "data": {
      "application/vnd.jupyter.widget-view+json": {
       "model_id": "40c16da69f6345f597139bd1eb41bd51",
       "version_major": 2,
       "version_minor": 0
      },
      "text/plain": [
       "Dev:   0%|          | 0/43 [00:00<?, ?it/s]"
      ]
     },
     "metadata": {},
     "output_type": "display_data"
    },
    {
     "name": "stdout",
     "output_type": "stream",
     "text": [
      "\tDone Epoch: 48/50\n",
      "\t\tLoss\t|\tTrain AVG: 0.1102, Dev AVG: 0.09688\n",
      "\t\tMetrics\t|\tTrain: wer=0.07362, em=0.2164 ; Dev: wer=0.1231, em=0.3528\n"
     ]
    },
    {
     "data": {
      "application/vnd.jupyter.widget-view+json": {
       "model_id": "193390f10de44ec2a66e99f1b848c29e",
       "version_major": 2,
       "version_minor": 0
      },
      "text/plain": [
       "Train:   0%|          | 0/1624 [00:00<?, ?it/s]"
      ]
     },
     "metadata": {},
     "output_type": "display_data"
    },
    {
     "data": {
      "application/vnd.jupyter.widget-view+json": {
       "model_id": "6332ef86dc9048878340da550fb21804",
       "version_major": 2,
       "version_minor": 0
      },
      "text/plain": [
       "Dev:   0%|          | 0/43 [00:00<?, ?it/s]"
      ]
     },
     "metadata": {},
     "output_type": "display_data"
    },
    {
     "name": "stdout",
     "output_type": "stream",
     "text": [
      "\tDone Epoch: 49/50\n",
      "\t\tLoss\t|\tTrain AVG: 0.1091, Dev AVG: 0.1169\n",
      "\t\tMetrics\t|\tTrain: wer=0.07309, em=0.2179 ; Dev: wer=0.1675, em=0.2932\n"
     ]
    },
    {
     "data": {
      "application/vnd.jupyter.widget-view+json": {
       "model_id": "a4f25fdb348b4156a8e55a3bf8d5567f",
       "version_major": 2,
       "version_minor": 0
      },
      "text/plain": [
       "Train:   0%|          | 0/1624 [00:00<?, ?it/s]"
      ]
     },
     "metadata": {},
     "output_type": "display_data"
    },
    {
     "data": {
      "application/vnd.jupyter.widget-view+json": {
       "model_id": "0de65c9b1b4a4d688987bc4d98acf028",
       "version_major": 2,
       "version_minor": 0
      },
      "text/plain": [
       "Dev:   0%|          | 0/43 [00:00<?, ?it/s]"
      ]
     },
     "metadata": {},
     "output_type": "display_data"
    },
    {
     "name": "stdout",
     "output_type": "stream",
     "text": [
      "\tDone Epoch: 50/50\n",
      "\t\tLoss\t|\tTrain AVG: 0.1077, Dev AVG: 0.1069\n",
      "\t\tMetrics\t|\tTrain: wer=0.07265, em=0.2191 ; Dev: wer=0.14, em=0.3267\n",
      "\n",
      "Training finished!\n",
      "\n"
     ]
    }
   ],
   "source": [
    "assert debug==False, \"You are in debug mode, please change to False\"\n",
    "\n",
    "rec_ace_model = RecACEWrapModel(t5_type=t5_type, model_type='rec_ace', bin_size=bin_size, use_pretrained=True).to(DEVICE)\n",
    "rec_ace_optimizer = torch.optim.Adam(rec_ace_model.parameters(), lr=1e-4)\n",
    "\n",
    "rec_ace_model, rec_ace_metrics_df = training(\n",
    "    model=rec_ace_model,\n",
    "    n_epochs=50,\n",
    "    train_data=train_loader,\n",
    "    dev_data=dev_loader,\n",
    "    optimizer=rec_ace_optimizer,\n",
    "    exp_name=f\"rec_ace_Clean\",\n",
    "    save_model=True)"
   ]
  },
  {
   "cell_type": "markdown",
   "id": "2f2b58ad",
   "metadata": {},
   "source": [
    "#### Anaylsis"
   ]
  },
  {
   "cell_type": "code",
   "execution_count": 15,
   "id": "7ab1f60c",
   "metadata": {},
   "outputs": [
    {
     "data": {
      "image/png": "[encoded data removed]",
      "text/plain": [
       "<Figure size 1440x576 with 3 Axes>"
      ]
     },
     "metadata": {
      "needs_background": "light"
     },
     "output_type": "display_data"
    }
   ],
   "source": [
    "plot_graphs(rec_ace_metrics_df, gt_df=asr_evaluators['Clean'].metrics_df, fig_size=(20,8))"
   ]
  },
  {
   "cell_type": "markdown",
   "id": "0e21e0d8",
   "metadata": {},
   "source": [
    "## Model Original T5"
   ]
  },
  {
   "cell_type": "markdown",
   "id": "e124cbcb",
   "metadata": {},
   "source": [
    "#### Training"
   ]
  },
  {
   "cell_type": "code",
   "execution_count": 16,
   "id": "9257e736",
   "metadata": {},
   "outputs": [
    {
     "name": "stdout",
     "output_type": "stream",
     "text": [
      "Experiment name: original_f5_Clean\n",
      "Training model of type: original\n",
      "Confidence vectors are NOT IN USED\n",
      "Saving model to: ./results\\original_f5_Clean/2023-08-23_13-31-43\n"
     ]
    },
    {
     "data": {
      "application/vnd.jupyter.widget-view+json": {
       "model_id": "d4129281f0934c518040dd45ade6381f",
       "version_major": 2,
       "version_minor": 0
      },
      "text/plain": [
       "  0%|          | 0/50 [00:00<?, ?it/s]"
      ]
     },
     "metadata": {},
     "output_type": "display_data"
    },
    {
     "data": {
      "application/vnd.jupyter.widget-view+json": {
       "model_id": "5b7810ec21cc43c2905a46ed8d7612a3",
       "version_major": 2,
       "version_minor": 0
      },
      "text/plain": [
       "Train:   0%|          | 0/1624 [00:00<?, ?it/s]"
      ]
     },
     "metadata": {},
     "output_type": "display_data"
    },
    {
     "data": {
      "application/vnd.jupyter.widget-view+json": {
       "model_id": "65a7e2f45ece44ab936531b83f21769e",
       "version_major": 2,
       "version_minor": 0
      },
      "text/plain": [
       "Dev:   0%|          | 0/43 [00:00<?, ?it/s]"
      ]
     },
     "metadata": {},
     "output_type": "display_data"
    },
    {
     "name": "stdout",
     "output_type": "stream",
     "text": [
      "\tDone Epoch: 1/50\n",
      "\t\tLoss\t|\tTrain AVG: 0.3514, Dev AVG: 0.2299\n",
      "\t\tMetrics\t|\tTrain: wer=0.1468, em=0.08647 ; Dev: wer=0.216, em=0.197\n"
     ]
    },
    {
     "data": {
      "application/vnd.jupyter.widget-view+json": {
       "model_id": "2d548788a1944145b70531324a78f062",
       "version_major": 2,
       "version_minor": 0
      },
      "text/plain": [
       "Train:   0%|          | 0/1624 [00:00<?, ?it/s]"
      ]
     },
     "metadata": {},
     "output_type": "display_data"
    },
    {
     "data": {
      "application/vnd.jupyter.widget-view+json": {
       "model_id": "601e39867f63458ca9900a3b30318d6b",
       "version_major": 2,
       "version_minor": 0
      },
      "text/plain": [
       "Dev:   0%|          | 0/43 [00:00<?, ?it/s]"
      ]
     },
     "metadata": {},
     "output_type": "display_data"
    },
    {
     "name": "stdout",
     "output_type": "stream",
     "text": [
      "\tDone Epoch: 2/50\n",
      "\t\tLoss\t|\tTrain AVG: 0.278, Dev AVG: 0.1922\n",
      "\t\tMetrics\t|\tTrain: wer=0.1248, em=0.111 ; Dev: wer=0.2138, em=0.2355\n"
     ]
    },
    {
     "data": {
      "application/vnd.jupyter.widget-view+json": {
       "model_id": "972c92e535f24316a78d5b8179b101b2",
       "version_major": 2,
       "version_minor": 0
      },
      "text/plain": [
       "Train:   0%|          | 0/1624 [00:00<?, ?it/s]"
      ]
     },
     "metadata": {},
     "output_type": "display_data"
    },
    {
     "data": {
      "application/vnd.jupyter.widget-view+json": {
       "model_id": "348dfc7d3c7b4900a2b26791e7dcbbda",
       "version_major": 2,
       "version_minor": 0
      },
      "text/plain": [
       "Dev:   0%|          | 0/43 [00:00<?, ?it/s]"
      ]
     },
     "metadata": {},
     "output_type": "display_data"
    },
    {
     "name": "stdout",
     "output_type": "stream",
     "text": [
      "\tDone Epoch: 3/50\n",
      "\t\tLoss\t|\tTrain AVG: 0.257, Dev AVG: 0.1705\n",
      "\t\tMetrics\t|\tTrain: wer=0.1186, em=0.1174 ; Dev: wer=0.1631, em=0.2806\n"
     ]
    },
    {
     "data": {
      "application/vnd.jupyter.widget-view+json": {
       "model_id": "c54673ae5339439b8035f72250013c8c",
       "version_major": 2,
       "version_minor": 0
      },
      "text/plain": [
       "Train:   0%|          | 0/1624 [00:00<?, ?it/s]"
      ]
     },
     "metadata": {},
     "output_type": "display_data"
    },
    {
     "data": {
      "application/vnd.jupyter.widget-view+json": {
       "model_id": "8ed12e8c71284d17867d5f84bc787fb5",
       "version_major": 2,
       "version_minor": 0
      },
      "text/plain": [
       "Dev:   0%|          | 0/43 [00:00<?, ?it/s]"
      ]
     },
     "metadata": {},
     "output_type": "display_data"
    },
    {
     "name": "stdout",
     "output_type": "stream",
     "text": [
      "\tDone Epoch: 4/50\n",
      "\t\tLoss\t|\tTrain AVG: 0.2428, Dev AVG: 0.1825\n",
      "\t\tMetrics\t|\tTrain: wer=0.1147, em=0.1227 ; Dev: wer=0.2073, em=0.2478\n"
     ]
    },
    {
     "data": {
      "application/vnd.jupyter.widget-view+json": {
       "model_id": "968bb3e056144623ae41bfe26a6afce4",
       "version_major": 2,
       "version_minor": 0
      },
      "text/plain": [
       "Train:   0%|          | 0/1624 [00:00<?, ?it/s]"
      ]
     },
     "metadata": {},
     "output_type": "display_data"
    },
    {
     "data": {
      "application/vnd.jupyter.widget-view+json": {
       "model_id": "18983411c01942598e4c005ccdced1d0",
       "version_major": 2,
       "version_minor": 0
      },
      "text/plain": [
       "Dev:   0%|          | 0/43 [00:00<?, ?it/s]"
      ]
     },
     "metadata": {},
     "output_type": "display_data"
    },
    {
     "name": "stdout",
     "output_type": "stream",
     "text": [
      "\tDone Epoch: 5/50\n",
      "\t\tLoss\t|\tTrain AVG: 0.232, Dev AVG: 0.3221\n",
      "\t\tMetrics\t|\tTrain: wer=0.1118, em=0.1272 ; Dev: wer=0.4199, em=0.1145\n"
     ]
    },
    {
     "data": {
      "application/vnd.jupyter.widget-view+json": {
       "model_id": "7aade2afff4d43b8a3989e8d346c9272",
       "version_major": 2,
       "version_minor": 0
      },
      "text/plain": [
       "Train:   0%|          | 0/1624 [00:00<?, ?it/s]"
      ]
     },
     "metadata": {},
     "output_type": "display_data"
    },
    {
     "data": {
      "application/vnd.jupyter.widget-view+json": {
       "model_id": "d266fe2f641e43e5bc968d9e19aca044",
       "version_major": 2,
       "version_minor": 0
      },
      "text/plain": [
       "Dev:   0%|          | 0/43 [00:00<?, ?it/s]"
      ]
     },
     "metadata": {},
     "output_type": "display_data"
    },
    {
     "name": "stdout",
     "output_type": "stream",
     "text": [
      "\tDone Epoch: 6/50\n",
      "\t\tLoss\t|\tTrain AVG: 0.223, Dev AVG: 0.207\n",
      "\t\tMetrics\t|\tTrain: wer=0.1091, em=0.131 ; Dev: wer=0.2661, em=0.2086\n"
     ]
    },
    {
     "data": {
      "application/vnd.jupyter.widget-view+json": {
       "model_id": "9a056e65c3af44e5a030b87879b53b27",
       "version_major": 2,
       "version_minor": 0
      },
      "text/plain": [
       "Train:   0%|          | 0/1624 [00:00<?, ?it/s]"
      ]
     },
     "metadata": {},
     "output_type": "display_data"
    },
    {
     "data": {
      "application/vnd.jupyter.widget-view+json": {
       "model_id": "163510b452d94cdf8f0a22f507fcfd42",
       "version_major": 2,
       "version_minor": 0
      },
      "text/plain": [
       "Dev:   0%|          | 0/43 [00:00<?, ?it/s]"
      ]
     },
     "metadata": {},
     "output_type": "display_data"
    },
    {
     "name": "stdout",
     "output_type": "stream",
     "text": [
      "\tDone Epoch: 7/50\n",
      "\t\tLoss\t|\tTrain AVG: 0.2155, Dev AVG: 0.1896\n",
      "\t\tMetrics\t|\tTrain: wer=0.1069, em=0.1355 ; Dev: wer=0.2319, em=0.2293\n"
     ]
    },
    {
     "data": {
      "application/vnd.jupyter.widget-view+json": {
       "model_id": "e940d5d3acb14839acc2afcec66c5254",
       "version_major": 2,
       "version_minor": 0
      },
      "text/plain": [
       "Train:   0%|          | 0/1624 [00:00<?, ?it/s]"
      ]
     },
     "metadata": {},
     "output_type": "display_data"
    },
    {
     "data": {
      "application/vnd.jupyter.widget-view+json": {
       "model_id": "ba048d00a9c0416990c906e4f453e30d",
       "version_major": 2,
       "version_minor": 0
      },
      "text/plain": [
       "Dev:   0%|          | 0/43 [00:00<?, ?it/s]"
      ]
     },
     "metadata": {},
     "output_type": "display_data"
    },
    {
     "name": "stdout",
     "output_type": "stream",
     "text": [
      "\tDone Epoch: 8/50\n",
      "\t\tLoss\t|\tTrain AVG: 0.2092, Dev AVG: 0.3311\n",
      "\t\tMetrics\t|\tTrain: wer=0.1052, em=0.1379 ; Dev: wer=0.4274, em=0.1068\n"
     ]
    },
    {
     "data": {
      "application/vnd.jupyter.widget-view+json": {
       "model_id": "f814ca11d935430fb68b4a5be0b9e87b",
       "version_major": 2,
       "version_minor": 0
      },
      "text/plain": [
       "Train:   0%|          | 0/1624 [00:00<?, ?it/s]"
      ]
     },
     "metadata": {},
     "output_type": "display_data"
    },
    {
     "data": {
      "application/vnd.jupyter.widget-view+json": {
       "model_id": "1019052769434a058f01afbb3ddb18fd",
       "version_major": 2,
       "version_minor": 0
      },
      "text/plain": [
       "Dev:   0%|          | 0/43 [00:00<?, ?it/s]"
      ]
     },
     "metadata": {},
     "output_type": "display_data"
    },
    {
     "name": "stdout",
     "output_type": "stream",
     "text": [
      "\tDone Epoch: 9/50\n",
      "\t\tLoss\t|\tTrain AVG: 0.2034, Dev AVG: 0.1519\n",
      "\t\tMetrics\t|\tTrain: wer=0.1036, em=0.1399 ; Dev: wer=0.1783, em=0.2755\n"
     ]
    },
    {
     "data": {
      "application/vnd.jupyter.widget-view+json": {
       "model_id": "4238381af1a144198add5ca90c1963ee",
       "version_major": 2,
       "version_minor": 0
      },
      "text/plain": [
       "Train:   0%|          | 0/1624 [00:00<?, ?it/s]"
      ]
     },
     "metadata": {},
     "output_type": "display_data"
    },
    {
     "data": {
      "application/vnd.jupyter.widget-view+json": {
       "model_id": "272feb0738f24697a5fedb3e8f32be25",
       "version_major": 2,
       "version_minor": 0
      },
      "text/plain": [
       "Dev:   0%|          | 0/43 [00:00<?, ?it/s]"
      ]
     },
     "metadata": {},
     "output_type": "display_data"
    },
    {
     "name": "stdout",
     "output_type": "stream",
     "text": [
      "\tDone Epoch: 10/50\n",
      "\t\tLoss\t|\tTrain AVG: 0.1983, Dev AVG: 0.3682\n",
      "\t\tMetrics\t|\tTrain: wer=0.1021, em=0.1437 ; Dev: wer=0.4427, em=0.08721\n"
     ]
    },
    {
     "data": {
      "application/vnd.jupyter.widget-view+json": {
       "model_id": "cb77b9b540514f2383b17aac3f588a2c",
       "version_major": 2,
       "version_minor": 0
      },
      "text/plain": [
       "Train:   0%|          | 0/1624 [00:00<?, ?it/s]"
      ]
     },
     "metadata": {},
     "output_type": "display_data"
    },
    {
     "data": {
      "application/vnd.jupyter.widget-view+json": {
       "model_id": "d8c64ea4aec54c2e8bd0dc6d2438cbcb",
       "version_major": 2,
       "version_minor": 0
      },
      "text/plain": [
       "Dev:   0%|          | 0/43 [00:00<?, ?it/s]"
      ]
     },
     "metadata": {},
     "output_type": "display_data"
    },
    {
     "name": "stdout",
     "output_type": "stream",
     "text": [
      "\tDone Epoch: 11/50\n",
      "\t\tLoss\t|\tTrain AVG: 0.1935, Dev AVG: 0.4464\n",
      "\t\tMetrics\t|\tTrain: wer=0.1009, em=0.1455 ; Dev: wer=0.4745, em=0.07013\n"
     ]
    },
    {
     "data": {
      "application/vnd.jupyter.widget-view+json": {
       "model_id": "9504697b5b5c49b58a06229fae6f2511",
       "version_major": 2,
       "version_minor": 0
      },
      "text/plain": [
       "Train:   0%|          | 0/1624 [00:00<?, ?it/s]"
      ]
     },
     "metadata": {},
     "output_type": "display_data"
    },
    {
     "data": {
      "application/vnd.jupyter.widget-view+json": {
       "model_id": "4610ba4a2f6b49319dd8a667b847ae2e",
       "version_major": 2,
       "version_minor": 0
      },
      "text/plain": [
       "Dev:   0%|          | 0/43 [00:00<?, ?it/s]"
      ]
     },
     "metadata": {},
     "output_type": "display_data"
    },
    {
     "name": "stdout",
     "output_type": "stream",
     "text": [
      "\tDone Epoch: 12/50\n",
      "\t\tLoss\t|\tTrain AVG: 0.1893, Dev AVG: 0.3846\n",
      "\t\tMetrics\t|\tTrain: wer=0.09962, em=0.1467 ; Dev: wer=0.4495, em=0.08721\n"
     ]
    },
    {
     "data": {
      "application/vnd.jupyter.widget-view+json": {
       "model_id": "9be3b094b3524e22a73ecc588f0b39c1",
       "version_major": 2,
       "version_minor": 0
      },
      "text/plain": [
       "Train:   0%|          | 0/1624 [00:00<?, ?it/s]"
      ]
     },
     "metadata": {},
     "output_type": "display_data"
    },
    {
     "data": {
      "application/vnd.jupyter.widget-view+json": {
       "model_id": "35160c3c39d74d45884d5af8edd025e5",
       "version_major": 2,
       "version_minor": 0
      },
      "text/plain": [
       "Dev:   0%|          | 0/43 [00:00<?, ?it/s]"
      ]
     },
     "metadata": {},
     "output_type": "display_data"
    },
    {
     "name": "stdout",
     "output_type": "stream",
     "text": [
      "\tDone Epoch: 13/50\n",
      "\t\tLoss\t|\tTrain AVG: 0.1853, Dev AVG: 0.5713\n",
      "\t\tMetrics\t|\tTrain: wer=0.09814, em=0.1502 ; Dev: wer=0.5738, em=0.04397\n"
     ]
    },
    {
     "data": {
      "application/vnd.jupyter.widget-view+json": {
       "model_id": "17723ca430fc4ec0af4668d9d367cbfc",
       "version_major": 2,
       "version_minor": 0
      },
      "text/plain": [
       "Train:   0%|          | 0/1624 [00:00<?, ?it/s]"
      ]
     },
     "metadata": {},
     "output_type": "display_data"
    },
    {
     "data": {
      "application/vnd.jupyter.widget-view+json": {
       "model_id": "7cbf53a686364c95bf903614a1f0c535",
       "version_major": 2,
       "version_minor": 0
      },
      "text/plain": [
       "Dev:   0%|          | 0/43 [00:00<?, ?it/s]"
      ]
     },
     "metadata": {},
     "output_type": "display_data"
    },
    {
     "name": "stdout",
     "output_type": "stream",
     "text": [
      "\tDone Epoch: 14/50\n",
      "\t\tLoss\t|\tTrain AVG: 0.1818, Dev AVG: 0.5574\n",
      "\t\tMetrics\t|\tTrain: wer=0.09745, em=0.1514 ; Dev: wer=0.5656, em=0.03815\n"
     ]
    },
    {
     "data": {
      "application/vnd.jupyter.widget-view+json": {
       "model_id": "066ba848cdd447f7a9dab41e2c692357",
       "version_major": 2,
       "version_minor": 0
      },
      "text/plain": [
       "Train:   0%|          | 0/1624 [00:00<?, ?it/s]"
      ]
     },
     "metadata": {},
     "output_type": "display_data"
    },
    {
     "data": {
      "application/vnd.jupyter.widget-view+json": {
       "model_id": "8b3268f136cb42da9cc4e1297b22b4d6",
       "version_major": 2,
       "version_minor": 0
      },
      "text/plain": [
       "Dev:   0%|          | 0/43 [00:00<?, ?it/s]"
      ]
     },
     "metadata": {},
     "output_type": "display_data"
    },
    {
     "name": "stdout",
     "output_type": "stream",
     "text": [
      "\tDone Epoch: 15/50\n",
      "\t\tLoss\t|\tTrain AVG: 0.1782, Dev AVG: 0.2976\n",
      "\t\tMetrics\t|\tTrain: wer=0.09646, em=0.1537 ; Dev: wer=0.3941, em=0.1185\n"
     ]
    },
    {
     "data": {
      "application/vnd.jupyter.widget-view+json": {
       "model_id": "43d35b52fc6842a3857473ab31adc76d",
       "version_major": 2,
       "version_minor": 0
      },
      "text/plain": [
       "Train:   0%|          | 0/1624 [00:00<?, ?it/s]"
      ]
     },
     "metadata": {},
     "output_type": "display_data"
    },
    {
     "data": {
      "application/vnd.jupyter.widget-view+json": {
       "model_id": "31dff2d6eaf0430381c687154ce3ba2a",
       "version_major": 2,
       "version_minor": 0
      },
      "text/plain": [
       "Dev:   0%|          | 0/43 [00:00<?, ?it/s]"
      ]
     },
     "metadata": {},
     "output_type": "display_data"
    },
    {
     "name": "stdout",
     "output_type": "stream",
     "text": [
      "\tDone Epoch: 16/50\n",
      "\t\tLoss\t|\tTrain AVG: 0.1749, Dev AVG: 0.4671\n",
      "\t\tMetrics\t|\tTrain: wer=0.09533, em=0.1562 ; Dev: wer=0.5164, em=0.05741\n"
     ]
    },
    {
     "data": {
      "application/vnd.jupyter.widget-view+json": {
       "model_id": "77f2a5ac249041e8b43b04a2b1d9f3fb",
       "version_major": 2,
       "version_minor": 0
      },
      "text/plain": [
       "Train:   0%|          | 0/1624 [00:00<?, ?it/s]"
      ]
     },
     "metadata": {},
     "output_type": "display_data"
    },
    {
     "data": {
      "application/vnd.jupyter.widget-view+json": {
       "model_id": "d02eb5fd27de45608f5dafa6bb605c62",
       "version_major": 2,
       "version_minor": 0
      },
      "text/plain": [
       "Dev:   0%|          | 0/43 [00:00<?, ?it/s]"
      ]
     },
     "metadata": {},
     "output_type": "display_data"
    },
    {
     "name": "stdout",
     "output_type": "stream",
     "text": [
      "\tDone Epoch: 17/50\n",
      "\t\tLoss\t|\tTrain AVG: 0.1718, Dev AVG: 0.2955\n",
      "\t\tMetrics\t|\tTrain: wer=0.09426, em=0.1582 ; Dev: wer=0.3738, em=0.1286\n"
     ]
    },
    {
     "data": {
      "application/vnd.jupyter.widget-view+json": {
       "model_id": "444cca1c37a8480990840f70eed3a51f",
       "version_major": 2,
       "version_minor": 0
      },
      "text/plain": [
       "Train:   0%|          | 0/1624 [00:00<?, ?it/s]"
      ]
     },
     "metadata": {},
     "output_type": "display_data"
    },
    {
     "data": {
      "application/vnd.jupyter.widget-view+json": {
       "model_id": "27c929dbcd4148d6a3aede5efc1d65f1",
       "version_major": 2,
       "version_minor": 0
      },
      "text/plain": [
       "Dev:   0%|          | 0/43 [00:00<?, ?it/s]"
      ]
     },
     "metadata": {},
     "output_type": "display_data"
    },
    {
     "name": "stdout",
     "output_type": "stream",
     "text": [
      "\tDone Epoch: 18/50\n",
      "\t\tLoss\t|\tTrain AVG: 0.169, Dev AVG: 0.3325\n",
      "\t\tMetrics\t|\tTrain: wer=0.09351, em=0.1595 ; Dev: wer=0.409, em=0.109\n"
     ]
    },
    {
     "data": {
      "application/vnd.jupyter.widget-view+json": {
       "model_id": "5277ea6b14a0449589adda470167e3a0",
       "version_major": 2,
       "version_minor": 0
      },
      "text/plain": [
       "Train:   0%|          | 0/1624 [00:00<?, ?it/s]"
      ]
     },
     "metadata": {},
     "output_type": "display_data"
    },
    {
     "data": {
      "application/vnd.jupyter.widget-view+json": {
       "model_id": "8826fab8fe9a4187a0f03924a08c2e45",
       "version_major": 2,
       "version_minor": 0
      },
      "text/plain": [
       "Dev:   0%|          | 0/43 [00:00<?, ?it/s]"
      ]
     },
     "metadata": {},
     "output_type": "display_data"
    },
    {
     "name": "stdout",
     "output_type": "stream",
     "text": [
      "\tDone Epoch: 19/50\n",
      "\t\tLoss\t|\tTrain AVG: 0.1663, Dev AVG: 0.2575\n",
      "\t\tMetrics\t|\tTrain: wer=0.09279, em=0.1619 ; Dev: wer=0.3417, em=0.1552\n"
     ]
    },
    {
     "data": {
      "application/vnd.jupyter.widget-view+json": {
       "model_id": "719d39aa354e477182e54607e643978c",
       "version_major": 2,
       "version_minor": 0
      },
      "text/plain": [
       "Train:   0%|          | 0/1624 [00:00<?, ?it/s]"
      ]
     },
     "metadata": {},
     "output_type": "display_data"
    },
    {
     "data": {
      "application/vnd.jupyter.widget-view+json": {
       "model_id": "4ad5a267444e477cac4488db9beb7802",
       "version_major": 2,
       "version_minor": 0
      },
      "text/plain": [
       "Dev:   0%|          | 0/43 [00:00<?, ?it/s]"
      ]
     },
     "metadata": {},
     "output_type": "display_data"
    },
    {
     "name": "stdout",
     "output_type": "stream",
     "text": [
      "\tDone Epoch: 20/50\n",
      "\t\tLoss\t|\tTrain AVG: 0.1638, Dev AVG: 0.2717\n",
      "\t\tMetrics\t|\tTrain: wer=0.09198, em=0.1631 ; Dev: wer=0.3492, em=0.1519\n"
     ]
    },
    {
     "data": {
      "application/vnd.jupyter.widget-view+json": {
       "model_id": "decdbce62aa442e98c2c58b74ca99741",
       "version_major": 2,
       "version_minor": 0
      },
      "text/plain": [
       "Train:   0%|          | 0/1624 [00:00<?, ?it/s]"
      ]
     },
     "metadata": {},
     "output_type": "display_data"
    },
    {
     "data": {
      "application/vnd.jupyter.widget-view+json": {
       "model_id": "909e8c4936fd40188b90bd6d3916d4c0",
       "version_major": 2,
       "version_minor": 0
      },
      "text/plain": [
       "Dev:   0%|          | 0/43 [00:00<?, ?it/s]"
      ]
     },
     "metadata": {},
     "output_type": "display_data"
    },
    {
     "name": "stdout",
     "output_type": "stream",
     "text": [
      "\tDone Epoch: 21/50\n",
      "\t\tLoss\t|\tTrain AVG: 0.1611, Dev AVG: 0.3042\n",
      "\t\tMetrics\t|\tTrain: wer=0.09117, em=0.1644 ; Dev: wer=0.388, em=0.1185\n"
     ]
    },
    {
     "data": {
      "application/vnd.jupyter.widget-view+json": {
       "model_id": "de46bb9026f64279ba8ddb81677b1b9e",
       "version_major": 2,
       "version_minor": 0
      },
      "text/plain": [
       "Train:   0%|          | 0/1624 [00:00<?, ?it/s]"
      ]
     },
     "metadata": {},
     "output_type": "display_data"
    },
    {
     "data": {
      "application/vnd.jupyter.widget-view+json": {
       "model_id": "caabaf4a145d441cbd53aff696f7f8d9",
       "version_major": 2,
       "version_minor": 0
      },
      "text/plain": [
       "Dev:   0%|          | 0/43 [00:00<?, ?it/s]"
      ]
     },
     "metadata": {},
     "output_type": "display_data"
    },
    {
     "name": "stdout",
     "output_type": "stream",
     "text": [
      "\tDone Epoch: 22/50\n",
      "\t\tLoss\t|\tTrain AVG: 0.1586, Dev AVG: 0.1804\n",
      "\t\tMetrics\t|\tTrain: wer=0.09047, em=0.1664 ; Dev: wer=0.2327, em=0.2278\n"
     ]
    },
    {
     "data": {
      "application/vnd.jupyter.widget-view+json": {
       "model_id": "fd9c4fe640c449beae853d219ce7ed5c",
       "version_major": 2,
       "version_minor": 0
      },
      "text/plain": [
       "Train:   0%|          | 0/1624 [00:00<?, ?it/s]"
      ]
     },
     "metadata": {},
     "output_type": "display_data"
    },
    {
     "data": {
      "application/vnd.jupyter.widget-view+json": {
       "model_id": "9fd24ef2c3c344cdbac69538691c225e",
       "version_major": 2,
       "version_minor": 0
      },
      "text/plain": [
       "Dev:   0%|          | 0/43 [00:00<?, ?it/s]"
      ]
     },
     "metadata": {},
     "output_type": "display_data"
    },
    {
     "name": "stdout",
     "output_type": "stream",
     "text": [
      "\tDone Epoch: 23/50\n",
      "\t\tLoss\t|\tTrain AVG: 0.1563, Dev AVG: 0.2118\n",
      "\t\tMetrics\t|\tTrain: wer=0.08963, em=0.1679 ; Dev: wer=0.2791, em=0.1977\n"
     ]
    },
    {
     "data": {
      "application/vnd.jupyter.widget-view+json": {
       "model_id": "2c3a151236db4f198b79ab07a9c83aaa",
       "version_major": 2,
       "version_minor": 0
      },
      "text/plain": [
       "Train:   0%|          | 0/1624 [00:00<?, ?it/s]"
      ]
     },
     "metadata": {},
     "output_type": "display_data"
    },
    {
     "data": {
      "application/vnd.jupyter.widget-view+json": {
       "model_id": "49f77f49de3d4ae68d45fe3c37955d88",
       "version_major": 2,
       "version_minor": 0
      },
      "text/plain": [
       "Dev:   0%|          | 0/43 [00:00<?, ?it/s]"
      ]
     },
     "metadata": {},
     "output_type": "display_data"
    },
    {
     "name": "stdout",
     "output_type": "stream",
     "text": [
      "\tDone Epoch: 24/50\n",
      "\t\tLoss\t|\tTrain AVG: 0.1541, Dev AVG: 0.3312\n",
      "\t\tMetrics\t|\tTrain: wer=0.08895, em=0.1697 ; Dev: wer=0.4171, em=0.1097\n"
     ]
    },
    {
     "data": {
      "application/vnd.jupyter.widget-view+json": {
       "model_id": "00ba87a4d1ac49b3b33c78fdc24facab",
       "version_major": 2,
       "version_minor": 0
      },
      "text/plain": [
       "Train:   0%|          | 0/1624 [00:00<?, ?it/s]"
      ]
     },
     "metadata": {},
     "output_type": "display_data"
    },
    {
     "data": {
      "application/vnd.jupyter.widget-view+json": {
       "model_id": "c0b642c233d54b40b05634b1697e84a9",
       "version_major": 2,
       "version_minor": 0
      },
      "text/plain": [
       "Dev:   0%|          | 0/43 [00:00<?, ?it/s]"
      ]
     },
     "metadata": {},
     "output_type": "display_data"
    },
    {
     "name": "stdout",
     "output_type": "stream",
     "text": [
      "\tDone Epoch: 25/50\n",
      "\t\tLoss\t|\tTrain AVG: 0.1519, Dev AVG: 0.3435\n",
      "\t\tMetrics\t|\tTrain: wer=0.08825, em=0.1718 ; Dev: wer=0.4147, em=0.1163\n"
     ]
    },
    {
     "data": {
      "application/vnd.jupyter.widget-view+json": {
       "model_id": "af3070ed773247e88fc3c66815979659",
       "version_major": 2,
       "version_minor": 0
      },
      "text/plain": [
       "Train:   0%|          | 0/1624 [00:00<?, ?it/s]"
      ]
     },
     "metadata": {},
     "output_type": "display_data"
    },
    {
     "data": {
      "application/vnd.jupyter.widget-view+json": {
       "model_id": "686ffb2c73504eca94f9755836bfc9c4",
       "version_major": 2,
       "version_minor": 0
      },
      "text/plain": [
       "Dev:   0%|          | 0/43 [00:00<?, ?it/s]"
      ]
     },
     "metadata": {},
     "output_type": "display_data"
    },
    {
     "name": "stdout",
     "output_type": "stream",
     "text": [
      "\tDone Epoch: 26/50\n",
      "\t\tLoss\t|\tTrain AVG: 0.1498, Dev AVG: 0.2359\n",
      "\t\tMetrics\t|\tTrain: wer=0.08772, em=0.1728 ; Dev: wer=0.3223, em=0.169\n"
     ]
    },
    {
     "data": {
      "application/vnd.jupyter.widget-view+json": {
       "model_id": "ae968109d4244683aaed6b9ae3e40d81",
       "version_major": 2,
       "version_minor": 0
      },
      "text/plain": [
       "Train:   0%|          | 0/1624 [00:00<?, ?it/s]"
      ]
     },
     "metadata": {},
     "output_type": "display_data"
    },
    {
     "data": {
      "application/vnd.jupyter.widget-view+json": {
       "model_id": "68971abe3b1c4f87802d0ad2dcecd3cc",
       "version_major": 2,
       "version_minor": 0
      },
      "text/plain": [
       "Dev:   0%|          | 0/43 [00:00<?, ?it/s]"
      ]
     },
     "metadata": {},
     "output_type": "display_data"
    },
    {
     "name": "stdout",
     "output_type": "stream",
     "text": [
      "\tDone Epoch: 27/50\n",
      "\t\tLoss\t|\tTrain AVG: 0.1479, Dev AVG: 0.3351\n",
      "\t\tMetrics\t|\tTrain: wer=0.08708, em=0.1742 ; Dev: wer=0.4212, em=0.1101\n"
     ]
    },
    {
     "data": {
      "application/vnd.jupyter.widget-view+json": {
       "model_id": "aeea0cf96d6349f6871647ce496c5772",
       "version_major": 2,
       "version_minor": 0
      },
      "text/plain": [
       "Train:   0%|          | 0/1624 [00:00<?, ?it/s]"
      ]
     },
     "metadata": {},
     "output_type": "display_data"
    },
    {
     "data": {
      "application/vnd.jupyter.widget-view+json": {
       "model_id": "df3e5b8a8c824e62ab95f6d13396b8e2",
       "version_major": 2,
       "version_minor": 0
      },
      "text/plain": [
       "Dev:   0%|          | 0/43 [00:00<?, ?it/s]"
      ]
     },
     "metadata": {},
     "output_type": "display_data"
    },
    {
     "name": "stdout",
     "output_type": "stream",
     "text": [
      "\tDone Epoch: 28/50\n",
      "\t\tLoss\t|\tTrain AVG: 0.1458, Dev AVG: 0.3403\n",
      "\t\tMetrics\t|\tTrain: wer=0.08627, em=0.1765 ; Dev: wer=0.413, em=0.1163\n"
     ]
    },
    {
     "data": {
      "application/vnd.jupyter.widget-view+json": {
       "model_id": "669781ca7d054139af4cad324328ebb4",
       "version_major": 2,
       "version_minor": 0
      },
      "text/plain": [
       "Train:   0%|          | 0/1624 [00:00<?, ?it/s]"
      ]
     },
     "metadata": {},
     "output_type": "display_data"
    },
    {
     "data": {
      "application/vnd.jupyter.widget-view+json": {
       "model_id": "a84a9c81924f45ea9cc2122df9598c65",
       "version_major": 2,
       "version_minor": 0
      },
      "text/plain": [
       "Dev:   0%|          | 0/43 [00:00<?, ?it/s]"
      ]
     },
     "metadata": {},
     "output_type": "display_data"
    },
    {
     "name": "stdout",
     "output_type": "stream",
     "text": [
      "\tDone Epoch: 29/50\n",
      "\t\tLoss\t|\tTrain AVG: 0.1438, Dev AVG: 0.3293\n",
      "\t\tMetrics\t|\tTrain: wer=0.08576, em=0.1767 ; Dev: wer=0.4126, em=0.1101\n"
     ]
    },
    {
     "data": {
      "application/vnd.jupyter.widget-view+json": {
       "model_id": "75dc922d52354c178afdf70c2ab21e78",
       "version_major": 2,
       "version_minor": 0
      },
      "text/plain": [
       "Train:   0%|          | 0/1624 [00:00<?, ?it/s]"
      ]
     },
     "metadata": {},
     "output_type": "display_data"
    },
    {
     "data": {
      "application/vnd.jupyter.widget-view+json": {
       "model_id": "c98b0410655446d5bdea152348320b60",
       "version_major": 2,
       "version_minor": 0
      },
      "text/plain": [
       "Dev:   0%|          | 0/43 [00:00<?, ?it/s]"
      ]
     },
     "metadata": {},
     "output_type": "display_data"
    },
    {
     "name": "stdout",
     "output_type": "stream",
     "text": [
      "\tDone Epoch: 30/50\n",
      "\t\tLoss\t|\tTrain AVG: 0.1421, Dev AVG: 0.1576\n",
      "\t\tMetrics\t|\tTrain: wer=0.08507, em=0.1794 ; Dev: wer=0.2101, em=0.2533\n"
     ]
    },
    {
     "data": {
      "application/vnd.jupyter.widget-view+json": {
       "model_id": "065704fef20348b3bc17379160d58464",
       "version_major": 2,
       "version_minor": 0
      },
      "text/plain": [
       "Train:   0%|          | 0/1624 [00:00<?, ?it/s]"
      ]
     },
     "metadata": {},
     "output_type": "display_data"
    },
    {
     "data": {
      "application/vnd.jupyter.widget-view+json": {
       "model_id": "b83fe370472e42b19c435bed3abed55a",
       "version_major": 2,
       "version_minor": 0
      },
      "text/plain": [
       "Dev:   0%|          | 0/43 [00:00<?, ?it/s]"
      ]
     },
     "metadata": {},
     "output_type": "display_data"
    },
    {
     "name": "stdout",
     "output_type": "stream",
     "text": [
      "\tDone Epoch: 31/50\n",
      "\t\tLoss\t|\tTrain AVG: 0.1403, Dev AVG: 0.2652\n",
      "\t\tMetrics\t|\tTrain: wer=0.08464, em=0.1807 ; Dev: wer=0.349, em=0.1486\n"
     ]
    },
    {
     "data": {
      "application/vnd.jupyter.widget-view+json": {
       "model_id": "027c827cfae14c6dbea3f552fb5c42ed",
       "version_major": 2,
       "version_minor": 0
      },
      "text/plain": [
       "Train:   0%|          | 0/1624 [00:00<?, ?it/s]"
      ]
     },
     "metadata": {},
     "output_type": "display_data"
    },
    {
     "data": {
      "application/vnd.jupyter.widget-view+json": {
       "model_id": "6aafb8ee671a4992ae99de3841ec9a19",
       "version_major": 2,
       "version_minor": 0
      },
      "text/plain": [
       "Dev:   0%|          | 0/43 [00:00<?, ?it/s]"
      ]
     },
     "metadata": {},
     "output_type": "display_data"
    },
    {
     "name": "stdout",
     "output_type": "stream",
     "text": [
      "\tDone Epoch: 32/50\n",
      "\t\tLoss\t|\tTrain AVG: 0.1385, Dev AVG: 0.1974\n",
      "\t\tMetrics\t|\tTrain: wer=0.08414, em=0.1818 ; Dev: wer=0.2651, em=0.2118\n"
     ]
    },
    {
     "data": {
      "application/vnd.jupyter.widget-view+json": {
       "model_id": "2d8b6d88d9254f12b7a89b51c7ef44ad",
       "version_major": 2,
       "version_minor": 0
      },
      "text/plain": [
       "Train:   0%|          | 0/1624 [00:00<?, ?it/s]"
      ]
     },
     "metadata": {},
     "output_type": "display_data"
    },
    {
     "data": {
      "application/vnd.jupyter.widget-view+json": {
       "model_id": "c8913404e2fa4b7d91d56f4211ffec11",
       "version_major": 2,
       "version_minor": 0
      },
      "text/plain": [
       "Dev:   0%|          | 0/43 [00:00<?, ?it/s]"
      ]
     },
     "metadata": {},
     "output_type": "display_data"
    },
    {
     "name": "stdout",
     "output_type": "stream",
     "text": [
      "\tDone Epoch: 33/50\n",
      "\t\tLoss\t|\tTrain AVG: 0.1368, Dev AVG: 0.1972\n",
      "\t\tMetrics\t|\tTrain: wer=0.08346, em=0.1841 ; Dev: wer=0.2806, em=0.2009\n"
     ]
    },
    {
     "data": {
      "application/vnd.jupyter.widget-view+json": {
       "model_id": "6c43530912d44024a35446944774d8f0",
       "version_major": 2,
       "version_minor": 0
      },
      "text/plain": [
       "Train:   0%|          | 0/1624 [00:00<?, ?it/s]"
      ]
     },
     "metadata": {},
     "output_type": "display_data"
    },
    {
     "data": {
      "application/vnd.jupyter.widget-view+json": {
       "model_id": "07f8865934db434b935b621b0ce951d9",
       "version_major": 2,
       "version_minor": 0
      },
      "text/plain": [
       "Dev:   0%|          | 0/43 [00:00<?, ?it/s]"
      ]
     },
     "metadata": {},
     "output_type": "display_data"
    },
    {
     "name": "stdout",
     "output_type": "stream",
     "text": [
      "\tDone Epoch: 34/50\n",
      "\t\tLoss\t|\tTrain AVG: 0.1351, Dev AVG: 0.2311\n",
      "\t\tMetrics\t|\tTrain: wer=0.08286, em=0.1854 ; Dev: wer=0.3177, em=0.1766\n"
     ]
    },
    {
     "data": {
      "application/vnd.jupyter.widget-view+json": {
       "model_id": "c81738c2ec864f89b114412b8cfafb42",
       "version_major": 2,
       "version_minor": 0
      },
      "text/plain": [
       "Train:   0%|          | 0/1624 [00:00<?, ?it/s]"
      ]
     },
     "metadata": {},
     "output_type": "display_data"
    },
    {
     "data": {
      "application/vnd.jupyter.widget-view+json": {
       "model_id": "a1f28d4149ce4d0e901309999a3ae809",
       "version_major": 2,
       "version_minor": 0
      },
      "text/plain": [
       "Dev:   0%|          | 0/43 [00:00<?, ?it/s]"
      ]
     },
     "metadata": {},
     "output_type": "display_data"
    },
    {
     "name": "stdout",
     "output_type": "stream",
     "text": [
      "\tDone Epoch: 35/50\n",
      "\t\tLoss\t|\tTrain AVG: 0.1336, Dev AVG: 0.2294\n",
      "\t\tMetrics\t|\tTrain: wer=0.08255, em=0.1861 ; Dev: wer=0.3207, em=0.1708\n"
     ]
    },
    {
     "data": {
      "application/vnd.jupyter.widget-view+json": {
       "model_id": "96343dd8a0174c7f95fa4b9177bf007b",
       "version_major": 2,
       "version_minor": 0
      },
      "text/plain": [
       "Train:   0%|          | 0/1624 [00:00<?, ?it/s]"
      ]
     },
     "metadata": {},
     "output_type": "display_data"
    },
    {
     "data": {
      "application/vnd.jupyter.widget-view+json": {
       "model_id": "4f85867968aa47628fbeedbaf6d9e4cc",
       "version_major": 2,
       "version_minor": 0
      },
      "text/plain": [
       "Dev:   0%|          | 0/43 [00:00<?, ?it/s]"
      ]
     },
     "metadata": {},
     "output_type": "display_data"
    },
    {
     "name": "stdout",
     "output_type": "stream",
     "text": [
      "\tDone Epoch: 36/50\n",
      "\t\tLoss\t|\tTrain AVG: 0.1318, Dev AVG: 0.117\n",
      "\t\tMetrics\t|\tTrain: wer=0.08174, em=0.1891 ; Dev: wer=0.1522, em=0.3103\n"
     ]
    },
    {
     "data": {
      "application/vnd.jupyter.widget-view+json": {
       "model_id": "a263bd66cac5497985d5bce628c951a5",
       "version_major": 2,
       "version_minor": 0
      },
      "text/plain": [
       "Train:   0%|          | 0/1624 [00:00<?, ?it/s]"
      ]
     },
     "metadata": {},
     "output_type": "display_data"
    },
    {
     "data": {
      "application/vnd.jupyter.widget-view+json": {
       "model_id": "4f5eb20673bd486ca2a9f5feac9a3795",
       "version_major": 2,
       "version_minor": 0
      },
      "text/plain": [
       "Dev:   0%|          | 0/43 [00:00<?, ?it/s]"
      ]
     },
     "metadata": {},
     "output_type": "display_data"
    },
    {
     "name": "stdout",
     "output_type": "stream",
     "text": [
      "\tDone Epoch: 37/50\n",
      "\t\tLoss\t|\tTrain AVG: 0.1305, Dev AVG: 0.1538\n",
      "\t\tMetrics\t|\tTrain: wer=0.08138, em=0.1891 ; Dev: wer=0.2239, em=0.2471\n"
     ]
    },
    {
     "data": {
      "application/vnd.jupyter.widget-view+json": {
       "model_id": "ee4745595f9548508ccb961e65f86b41",
       "version_major": 2,
       "version_minor": 0
      },
      "text/plain": [
       "Train:   0%|          | 0/1624 [00:00<?, ?it/s]"
      ]
     },
     "metadata": {},
     "output_type": "display_data"
    },
    {
     "data": {
      "application/vnd.jupyter.widget-view+json": {
       "model_id": "f9f5ccf5a0d4450c83e1671e916a1ed8",
       "version_major": 2,
       "version_minor": 0
      },
      "text/plain": [
       "Dev:   0%|          | 0/43 [00:00<?, ?it/s]"
      ]
     },
     "metadata": {},
     "output_type": "display_data"
    },
    {
     "name": "stdout",
     "output_type": "stream",
     "text": [
      "\tDone Epoch: 38/50\n",
      "\t\tLoss\t|\tTrain AVG: 0.129, Dev AVG: 0.2163\n",
      "\t\tMetrics\t|\tTrain: wer=0.08087, em=0.1911 ; Dev: wer=0.3075, em=0.1882\n"
     ]
    },
    {
     "data": {
      "application/vnd.jupyter.widget-view+json": {
       "model_id": "6dce080540374d41bcfab7f74879ad23",
       "version_major": 2,
       "version_minor": 0
      },
      "text/plain": [
       "Train:   0%|          | 0/1624 [00:00<?, ?it/s]"
      ]
     },
     "metadata": {},
     "output_type": "display_data"
    },
    {
     "data": {
      "application/vnd.jupyter.widget-view+json": {
       "model_id": "3e2ddba0cef5477ab19f1d4e0cac3620",
       "version_major": 2,
       "version_minor": 0
      },
      "text/plain": [
       "Dev:   0%|          | 0/43 [00:00<?, ?it/s]"
      ]
     },
     "metadata": {},
     "output_type": "display_data"
    },
    {
     "name": "stdout",
     "output_type": "stream",
     "text": [
      "\tDone Epoch: 39/50\n",
      "\t\tLoss\t|\tTrain AVG: 0.1274, Dev AVG: 0.2141\n",
      "\t\tMetrics\t|\tTrain: wer=0.08029, em=0.1927 ; Dev: wer=0.2943, em=0.1933\n"
     ]
    },
    {
     "data": {
      "application/vnd.jupyter.widget-view+json": {
       "model_id": "13bde5fbf48d458b8b3b46e40b97b11b",
       "version_major": 2,
       "version_minor": 0
      },
      "text/plain": [
       "Train:   0%|          | 0/1624 [00:00<?, ?it/s]"
      ]
     },
     "metadata": {},
     "output_type": "display_data"
    },
    {
     "data": {
      "application/vnd.jupyter.widget-view+json": {
       "model_id": "588abf1e6bd04fb595a2d138909b8546",
       "version_major": 2,
       "version_minor": 0
      },
      "text/plain": [
       "Dev:   0%|          | 0/43 [00:00<?, ?it/s]"
      ]
     },
     "metadata": {},
     "output_type": "display_data"
    },
    {
     "name": "stdout",
     "output_type": "stream",
     "text": [
      "\tDone Epoch: 40/50\n",
      "\t\tLoss\t|\tTrain AVG: 0.126, Dev AVG: 0.2575\n",
      "\t\tMetrics\t|\tTrain: wer=0.07964, em=0.1943 ; Dev: wer=0.3509, em=0.1635\n"
     ]
    },
    {
     "data": {
      "application/vnd.jupyter.widget-view+json": {
       "model_id": "caf1449d31774a70864a78028e7b4683",
       "version_major": 2,
       "version_minor": 0
      },
      "text/plain": [
       "Train:   0%|          | 0/1624 [00:00<?, ?it/s]"
      ]
     },
     "metadata": {},
     "output_type": "display_data"
    },
    {
     "data": {
      "application/vnd.jupyter.widget-view+json": {
       "model_id": "f2578a5aa67b42a6b058586ab508e479",
       "version_major": 2,
       "version_minor": 0
      },
      "text/plain": [
       "Dev:   0%|          | 0/43 [00:00<?, ?it/s]"
      ]
     },
     "metadata": {},
     "output_type": "display_data"
    },
    {
     "name": "stdout",
     "output_type": "stream",
     "text": [
      "\tDone Epoch: 41/50\n",
      "\t\tLoss\t|\tTrain AVG: 0.1246, Dev AVG: 0.2096\n",
      "\t\tMetrics\t|\tTrain: wer=0.07927, em=0.1957 ; Dev: wer=0.2958, em=0.1919\n"
     ]
    },
    {
     "data": {
      "application/vnd.jupyter.widget-view+json": {
       "model_id": "90e4f967db684b5fa6d8f463f84ee794",
       "version_major": 2,
       "version_minor": 0
      },
      "text/plain": [
       "Train:   0%|          | 0/1624 [00:00<?, ?it/s]"
      ]
     },
     "metadata": {},
     "output_type": "display_data"
    },
    {
     "data": {
      "application/vnd.jupyter.widget-view+json": {
       "model_id": "6e66e18eba0c4a59904cc2865083af07",
       "version_major": 2,
       "version_minor": 0
      },
      "text/plain": [
       "Dev:   0%|          | 0/43 [00:00<?, ?it/s]"
      ]
     },
     "metadata": {},
     "output_type": "display_data"
    },
    {
     "name": "stdout",
     "output_type": "stream",
     "text": [
      "\tDone Epoch: 42/50\n",
      "\t\tLoss\t|\tTrain AVG: 0.1232, Dev AVG: 0.2353\n",
      "\t\tMetrics\t|\tTrain: wer=0.07874, em=0.1976 ; Dev: wer=0.3203, em=0.1817\n"
     ]
    },
    {
     "data": {
      "application/vnd.jupyter.widget-view+json": {
       "model_id": "426edbf12b7445f4946b38ddc0998592",
       "version_major": 2,
       "version_minor": 0
      },
      "text/plain": [
       "Train:   0%|          | 0/1624 [00:00<?, ?it/s]"
      ]
     },
     "metadata": {},
     "output_type": "display_data"
    },
    {
     "data": {
      "application/vnd.jupyter.widget-view+json": {
       "model_id": "74c12df16eb44240906a0a041cb955a6",
       "version_major": 2,
       "version_minor": 0
      },
      "text/plain": [
       "Dev:   0%|          | 0/43 [00:00<?, ?it/s]"
      ]
     },
     "metadata": {},
     "output_type": "display_data"
    },
    {
     "name": "stdout",
     "output_type": "stream",
     "text": [
      "\tDone Epoch: 43/50\n",
      "\t\tLoss\t|\tTrain AVG: 0.1218, Dev AVG: 0.1245\n",
      "\t\tMetrics\t|\tTrain: wer=0.07818, em=0.1983 ; Dev: wer=0.1666, em=0.2987\n"
     ]
    },
    {
     "data": {
      "application/vnd.jupyter.widget-view+json": {
       "model_id": "2beb19034e5a4ed9b8fb06c8c9b15d44",
       "version_major": 2,
       "version_minor": 0
      },
      "text/plain": [
       "Train:   0%|          | 0/1624 [00:00<?, ?it/s]"
      ]
     },
     "metadata": {},
     "output_type": "display_data"
    },
    {
     "data": {
      "application/vnd.jupyter.widget-view+json": {
       "model_id": "669224d44528420ebf7fb751868138cb",
       "version_major": 2,
       "version_minor": 0
      },
      "text/plain": [
       "Dev:   0%|          | 0/43 [00:00<?, ?it/s]"
      ]
     },
     "metadata": {},
     "output_type": "display_data"
    },
    {
     "name": "stdout",
     "output_type": "stream",
     "text": [
      "\tDone Epoch: 44/50\n",
      "\t\tLoss\t|\tTrain AVG: 0.1205, Dev AVG: 0.1926\n",
      "\t\tMetrics\t|\tTrain: wer=0.0776, em=0.2003 ; Dev: wer=0.2692, em=0.2028\n"
     ]
    },
    {
     "data": {
      "application/vnd.jupyter.widget-view+json": {
       "model_id": "e11bc89d455548a78b1f8d379f94656d",
       "version_major": 2,
       "version_minor": 0
      },
      "text/plain": [
       "Train:   0%|          | 0/1624 [00:00<?, ?it/s]"
      ]
     },
     "metadata": {},
     "output_type": "display_data"
    },
    {
     "data": {
      "application/vnd.jupyter.widget-view+json": {
       "model_id": "4e3db599b0614fc3aa67ac2210fd3932",
       "version_major": 2,
       "version_minor": 0
      },
      "text/plain": [
       "Dev:   0%|          | 0/43 [00:00<?, ?it/s]"
      ]
     },
     "metadata": {},
     "output_type": "display_data"
    },
    {
     "name": "stdout",
     "output_type": "stream",
     "text": [
      "\tDone Epoch: 45/50\n",
      "\t\tLoss\t|\tTrain AVG: 0.1192, Dev AVG: 0.2214\n",
      "\t\tMetrics\t|\tTrain: wer=0.07734, em=0.2011 ; Dev: wer=0.3155, em=0.177\n"
     ]
    },
    {
     "data": {
      "application/vnd.jupyter.widget-view+json": {
       "model_id": "ac184ac2717b479cbc20dea6b8074234",
       "version_major": 2,
       "version_minor": 0
      },
      "text/plain": [
       "Train:   0%|          | 0/1624 [00:00<?, ?it/s]"
      ]
     },
     "metadata": {},
     "output_type": "display_data"
    },
    {
     "data": {
      "application/vnd.jupyter.widget-view+json": {
       "model_id": "d944594e807344d097c0aca373269c0d",
       "version_major": 2,
       "version_minor": 0
      },
      "text/plain": [
       "Dev:   0%|          | 0/43 [00:00<?, ?it/s]"
      ]
     },
     "metadata": {},
     "output_type": "display_data"
    },
    {
     "name": "stdout",
     "output_type": "stream",
     "text": [
      "\tDone Epoch: 46/50\n",
      "\t\tLoss\t|\tTrain AVG: 0.1179, Dev AVG: 0.1867\n",
      "\t\tMetrics\t|\tTrain: wer=0.07677, em=0.2045 ; Dev: wer=0.2637, em=0.214\n"
     ]
    },
    {
     "data": {
      "application/vnd.jupyter.widget-view+json": {
       "model_id": "0f691c7dd5e54993b8827e6dce475bac",
       "version_major": 2,
       "version_minor": 0
      },
      "text/plain": [
       "Train:   0%|          | 0/1624 [00:00<?, ?it/s]"
      ]
     },
     "metadata": {},
     "output_type": "display_data"
    },
    {
     "data": {
      "application/vnd.jupyter.widget-view+json": {
       "model_id": "7af9103ba3fd4bd5b1837ed7039a2e83",
       "version_major": 2,
       "version_minor": 0
      },
      "text/plain": [
       "Dev:   0%|          | 0/43 [00:00<?, ?it/s]"
      ]
     },
     "metadata": {},
     "output_type": "display_data"
    },
    {
     "name": "stdout",
     "output_type": "stream",
     "text": [
      "\tDone Epoch: 47/50\n",
      "\t\tLoss\t|\tTrain AVG: 0.1167, Dev AVG: 0.2882\n",
      "\t\tMetrics\t|\tTrain: wer=0.07627, em=0.2046 ; Dev: wer=0.3671, em=0.1432\n"
     ]
    },
    {
     "data": {
      "application/vnd.jupyter.widget-view+json": {
       "model_id": "cc0de12ea7284cc386c12e348452302a",
       "version_major": 2,
       "version_minor": 0
      },
      "text/plain": [
       "Train:   0%|          | 0/1624 [00:00<?, ?it/s]"
      ]
     },
     "metadata": {},
     "output_type": "display_data"
    },
    {
     "data": {
      "application/vnd.jupyter.widget-view+json": {
       "model_id": "e8e0fdbcc46149b5a388d31f5daab7d5",
       "version_major": 2,
       "version_minor": 0
      },
      "text/plain": [
       "Dev:   0%|          | 0/43 [00:00<?, ?it/s]"
      ]
     },
     "metadata": {},
     "output_type": "display_data"
    },
    {
     "name": "stdout",
     "output_type": "stream",
     "text": [
      "\tDone Epoch: 48/50\n",
      "\t\tLoss\t|\tTrain AVG: 0.1154, Dev AVG: 0.1843\n",
      "\t\tMetrics\t|\tTrain: wer=0.0759, em=0.2065 ; Dev: wer=0.2606, em=0.2217\n"
     ]
    },
    {
     "data": {
      "application/vnd.jupyter.widget-view+json": {
       "model_id": "fae54eeb32cc4c3b83c6e12420f9daa2",
       "version_major": 2,
       "version_minor": 0
      },
      "text/plain": [
       "Train:   0%|          | 0/1624 [00:00<?, ?it/s]"
      ]
     },
     "metadata": {},
     "output_type": "display_data"
    },
    {
     "data": {
      "application/vnd.jupyter.widget-view+json": {
       "model_id": "086d11c7918f441f960588920be6e4eb",
       "version_major": 2,
       "version_minor": 0
      },
      "text/plain": [
       "Dev:   0%|          | 0/43 [00:00<?, ?it/s]"
      ]
     },
     "metadata": {},
     "output_type": "display_data"
    },
    {
     "name": "stdout",
     "output_type": "stream",
     "text": [
      "\tDone Epoch: 49/50\n",
      "\t\tLoss\t|\tTrain AVG: 0.1144, Dev AVG: 0.2207\n",
      "\t\tMetrics\t|\tTrain: wer=0.07552, em=0.2074 ; Dev: wer=0.286, em=0.1882\n"
     ]
    },
    {
     "data": {
      "application/vnd.jupyter.widget-view+json": {
       "model_id": "bb8cb64ad3f443f7bd36ff89bc6f8ab2",
       "version_major": 2,
       "version_minor": 0
      },
      "text/plain": [
       "Train:   0%|          | 0/1624 [00:00<?, ?it/s]"
      ]
     },
     "metadata": {},
     "output_type": "display_data"
    },
    {
     "data": {
      "application/vnd.jupyter.widget-view+json": {
       "model_id": "238a2c17627847ea870054d663696ff1",
       "version_major": 2,
       "version_minor": 0
      },
      "text/plain": [
       "Dev:   0%|          | 0/43 [00:00<?, ?it/s]"
      ]
     },
     "metadata": {},
     "output_type": "display_data"
    },
    {
     "name": "stdout",
     "output_type": "stream",
     "text": [
      "\tDone Epoch: 50/50\n",
      "\t\tLoss\t|\tTrain AVG: 0.1131, Dev AVG: 0.2259\n",
      "\t\tMetrics\t|\tTrain: wer=0.07501, em=0.2092 ; Dev: wer=0.3204, em=0.1817\n",
      "\n",
      "Training finished!\n",
      "\n"
     ]
    }
   ],
   "source": [
    "assert debug==False, \"You are in debug mode, please change to False\"\n",
    "\n",
    "orig_model = RecACEWrapModel(t5_type=t5_type, model_type='original', bin_size=bin_size, use_pretrained=True).to(DEVICE)\n",
    "orig_optimizer = torch.optim.Adam(orig_model.parameters(), lr=1e-4)\n",
    "\n",
    "orig_model, orig_metrics_df = training(\n",
    "    model=orig_model,\n",
    "    n_epochs=50,\n",
    "    train_data=train_loader,\n",
    "    dev_data=dev_loader,\n",
    "    optimizer=orig_optimizer,\n",
    "    exp_name=f\"original_f5_Clean\",\n",
    "    save_model=True)"
   ]
  },
  {
   "cell_type": "markdown",
   "id": "62f5c7fc",
   "metadata": {},
   "source": [
    "#### Analysis"
   ]
  },
  {
   "cell_type": "code",
   "execution_count": 17,
   "id": "3ffd882c",
   "metadata": {},
   "outputs": [
    {
     "data": {
      "image/png": "[encoded data removed]",
      "text/plain": [
       "<Figure size 1440x576 with 3 Axes>"
      ]
     },
     "metadata": {
      "needs_background": "light"
     },
     "output_type": "display_data"
    }
   ],
   "source": [
    "plot_graphs(orig_metrics_df, gt_df=asr_evaluators['Clean'].metrics_df, fig_size=(20,8))"
   ]
  },
  {
   "cell_type": "markdown",
   "id": "f23cae45",
   "metadata": {},
   "source": [
    "## Model REC-ACE (on Other data)"
   ]
  },
  {
   "cell_type": "markdown",
   "id": "20528d33",
   "metadata": {},
   "source": [
    "#### Training"
   ]
  },
  {
   "cell_type": "code",
   "execution_count": 18,
   "id": "1926010a",
   "metadata": {},
   "outputs": [
    {
     "name": "stdout",
     "output_type": "stream",
     "text": [
      "Experiment name: rec_ace_Other\n",
      "Training model of type: rec_ace\n",
      "Confidence vectors are IN USED\n",
      "Saving model to: ./results\\rec_ace_Other/2023-08-24_01-05-43\n"
     ]
    },
    {
     "data": {
      "application/vnd.jupyter.widget-view+json": {
       "model_id": "83f666a30a20409aad7d81fbf8009819",
       "version_major": 2,
       "version_minor": 0
      },
      "text/plain": [
       "  0%|          | 0/50 [00:00<?, ?it/s]"
      ]
     },
     "metadata": {},
     "output_type": "display_data"
    },
    {
     "data": {
      "application/vnd.jupyter.widget-view+json": {
       "model_id": "6e4e4e609a4643d6bbf53d3004dfb504",
       "version_major": 2,
       "version_minor": 0
      },
      "text/plain": [
       "Train:   0%|          | 0/2290 [00:00<?, ?it/s]"
      ]
     },
     "metadata": {},
     "output_type": "display_data"
    },
    {
     "data": {
      "application/vnd.jupyter.widget-view+json": {
       "model_id": "d8f96fb137af42ba90462367d0fdede2",
       "version_major": 2,
       "version_minor": 0
      },
      "text/plain": [
       "Dev:   0%|          | 0/44 [00:00<?, ?it/s]"
      ]
     },
     "metadata": {},
     "output_type": "display_data"
    },
    {
     "name": "stdout",
     "output_type": "stream",
     "text": [
      "\tDone Epoch: 1/50\n",
      "\t\tLoss\t|\tTrain AVG: 0.4981, Dev AVG: 0.3047\n",
      "\t\tMetrics\t|\tTrain: wer=0.2371, em=0.04645 ; Dev: wer=0.2599, em=0.1399\n"
     ]
    },
    {
     "data": {
      "application/vnd.jupyter.widget-view+json": {
       "model_id": "411efa0d1c3d47a69292fc5a273b795d",
       "version_major": 2,
       "version_minor": 0
      },
      "text/plain": [
       "Train:   0%|          | 0/2290 [00:00<?, ?it/s]"
      ]
     },
     "metadata": {},
     "output_type": "display_data"
    },
    {
     "data": {
      "application/vnd.jupyter.widget-view+json": {
       "model_id": "1ecce212fb2442bfb0c82fc1a3f7ed89",
       "version_major": 2,
       "version_minor": 0
      },
      "text/plain": [
       "Dev:   0%|          | 0/44 [00:00<?, ?it/s]"
      ]
     },
     "metadata": {},
     "output_type": "display_data"
    },
    {
     "name": "stdout",
     "output_type": "stream",
     "text": [
      "\tDone Epoch: 2/50\n",
      "\t\tLoss\t|\tTrain AVG: 0.4196, Dev AVG: 0.2812\n",
      "\t\tMetrics\t|\tTrain: wer=0.2132, em=0.05786 ; Dev: wer=0.248, em=0.1449\n"
     ]
    },
    {
     "data": {
      "application/vnd.jupyter.widget-view+json": {
       "model_id": "9def503e56bc4bd0932c7519dc397985",
       "version_major": 2,
       "version_minor": 0
      },
      "text/plain": [
       "Train:   0%|          | 0/2290 [00:00<?, ?it/s]"
      ]
     },
     "metadata": {},
     "output_type": "display_data"
    },
    {
     "data": {
      "application/vnd.jupyter.widget-view+json": {
       "model_id": "c86cad6bf143485da28447d6f5edff2d",
       "version_major": 2,
       "version_minor": 0
      },
      "text/plain": [
       "Dev:   0%|          | 0/44 [00:00<?, ?it/s]"
      ]
     },
     "metadata": {},
     "output_type": "display_data"
    },
    {
     "name": "stdout",
     "output_type": "stream",
     "text": [
      "\tDone Epoch: 3/50\n",
      "\t\tLoss\t|\tTrain AVG: 0.3928, Dev AVG: 0.2701\n",
      "\t\tMetrics\t|\tTrain: wer=0.2055, em=0.061 ; Dev: wer=0.2419, em=0.1484\n"
     ]
    },
    {
     "data": {
      "application/vnd.jupyter.widget-view+json": {
       "model_id": "41c5cd98f706464f9efe14654eb51b69",
       "version_major": 2,
       "version_minor": 0
      },
      "text/plain": [
       "Train:   0%|          | 0/2290 [00:00<?, ?it/s]"
      ]
     },
     "metadata": {},
     "output_type": "display_data"
    },
    {
     "data": {
      "application/vnd.jupyter.widget-view+json": {
       "model_id": "9fac3fde3a78441fa769903be4f4a36f",
       "version_major": 2,
       "version_minor": 0
      },
      "text/plain": [
       "Dev:   0%|          | 0/44 [00:00<?, ?it/s]"
      ]
     },
     "metadata": {},
     "output_type": "display_data"
    },
    {
     "name": "stdout",
     "output_type": "stream",
     "text": [
      "\tDone Epoch: 4/50\n",
      "\t\tLoss\t|\tTrain AVG: 0.3753, Dev AVG: 0.2633\n",
      "\t\tMetrics\t|\tTrain: wer=0.2003, em=0.06358 ; Dev: wer=0.2385, em=0.1524\n"
     ]
    },
    {
     "data": {
      "application/vnd.jupyter.widget-view+json": {
       "model_id": "9e0bc145776a46c3af9d0166289d8be0",
       "version_major": 2,
       "version_minor": 0
      },
      "text/plain": [
       "Train:   0%|          | 0/2290 [00:00<?, ?it/s]"
      ]
     },
     "metadata": {},
     "output_type": "display_data"
    },
    {
     "data": {
      "application/vnd.jupyter.widget-view+json": {
       "model_id": "cda8b808b16c411b8f52bf51eef4d2c7",
       "version_major": 2,
       "version_minor": 0
      },
      "text/plain": [
       "Dev:   0%|          | 0/44 [00:00<?, ?it/s]"
      ]
     },
     "metadata": {},
     "output_type": "display_data"
    },
    {
     "name": "stdout",
     "output_type": "stream",
     "text": [
      "\tDone Epoch: 5/50\n",
      "\t\tLoss\t|\tTrain AVG: 0.3623, Dev AVG: 0.2558\n",
      "\t\tMetrics\t|\tTrain: wer=0.1966, em=0.06543 ; Dev: wer=0.2344, em=0.1545\n"
     ]
    },
    {
     "data": {
      "application/vnd.jupyter.widget-view+json": {
       "model_id": "05c1ff3d1d724a73bd596355c4e25458",
       "version_major": 2,
       "version_minor": 0
      },
      "text/plain": [
       "Train:   0%|          | 0/2290 [00:00<?, ?it/s]"
      ]
     },
     "metadata": {},
     "output_type": "display_data"
    },
    {
     "data": {
      "application/vnd.jupyter.widget-view+json": {
       "model_id": "d4ae0d275b58428ab7f39837262632f2",
       "version_major": 2,
       "version_minor": 0
      },
      "text/plain": [
       "Dev:   0%|          | 0/44 [00:00<?, ?it/s]"
      ]
     },
     "metadata": {},
     "output_type": "display_data"
    },
    {
     "name": "stdout",
     "output_type": "stream",
     "text": [
      "\tDone Epoch: 6/50\n",
      "\t\tLoss\t|\tTrain AVG: 0.3517, Dev AVG: 0.2523\n",
      "\t\tMetrics\t|\tTrain: wer=0.1936, em=0.06727 ; Dev: wer=0.2323, em=0.1553\n"
     ]
    },
    {
     "data": {
      "application/vnd.jupyter.widget-view+json": {
       "model_id": "4f9021b74bed496285319579b7a9de72",
       "version_major": 2,
       "version_minor": 0
      },
      "text/plain": [
       "Train:   0%|          | 0/2290 [00:00<?, ?it/s]"
      ]
     },
     "metadata": {},
     "output_type": "display_data"
    },
    {
     "data": {
      "application/vnd.jupyter.widget-view+json": {
       "model_id": "219704914d934f01b142ca43e1e531f6",
       "version_major": 2,
       "version_minor": 0
      },
      "text/plain": [
       "Dev:   0%|          | 0/44 [00:00<?, ?it/s]"
      ]
     },
     "metadata": {},
     "output_type": "display_data"
    },
    {
     "name": "stdout",
     "output_type": "stream",
     "text": [
      "\tDone Epoch: 7/50\n",
      "\t\tLoss\t|\tTrain AVG: 0.3426, Dev AVG: 0.2483\n",
      "\t\tMetrics\t|\tTrain: wer=0.1909, em=0.06873 ; Dev: wer=0.2309, em=0.1567\n"
     ]
    },
    {
     "data": {
      "application/vnd.jupyter.widget-view+json": {
       "model_id": "2f3b1db51b9b440791c254ab1d698871",
       "version_major": 2,
       "version_minor": 0
      },
      "text/plain": [
       "Train:   0%|          | 0/2290 [00:00<?, ?it/s]"
      ]
     },
     "metadata": {},
     "output_type": "display_data"
    },
    {
     "data": {
      "application/vnd.jupyter.widget-view+json": {
       "model_id": "d1acdf6ba23a44b180265c815d644994",
       "version_major": 2,
       "version_minor": 0
      },
      "text/plain": [
       "Dev:   0%|          | 0/44 [00:00<?, ?it/s]"
      ]
     },
     "metadata": {},
     "output_type": "display_data"
    },
    {
     "name": "stdout",
     "output_type": "stream",
     "text": [
      "\tDone Epoch: 8/50\n",
      "\t\tLoss\t|\tTrain AVG: 0.3349, Dev AVG: 0.2453\n",
      "\t\tMetrics\t|\tTrain: wer=0.1886, em=0.07068 ; Dev: wer=0.2294, em=0.1563\n"
     ]
    },
    {
     "data": {
      "application/vnd.jupyter.widget-view+json": {
       "model_id": "29599e4f75db486ab0453cefee5ffc26",
       "version_major": 2,
       "version_minor": 0
      },
      "text/plain": [
       "Train:   0%|          | 0/2290 [00:00<?, ?it/s]"
      ]
     },
     "metadata": {},
     "output_type": "display_data"
    },
    {
     "data": {
      "application/vnd.jupyter.widget-view+json": {
       "model_id": "7f4b7b5e580449439b860a19136849e5",
       "version_major": 2,
       "version_minor": 0
      },
      "text/plain": [
       "Dev:   0%|          | 0/44 [00:00<?, ?it/s]"
      ]
     },
     "metadata": {},
     "output_type": "display_data"
    },
    {
     "name": "stdout",
     "output_type": "stream",
     "text": [
      "\tDone Epoch: 9/50\n",
      "\t\tLoss\t|\tTrain AVG: 0.328, Dev AVG: 0.2431\n",
      "\t\tMetrics\t|\tTrain: wer=0.1865, em=0.07156 ; Dev: wer=0.2278, em=0.1588\n"
     ]
    },
    {
     "data": {
      "application/vnd.jupyter.widget-view+json": {
       "model_id": "4b960de9aee94bdc9b08c9b20921917c",
       "version_major": 2,
       "version_minor": 0
      },
      "text/plain": [
       "Train:   0%|          | 0/2290 [00:00<?, ?it/s]"
      ]
     },
     "metadata": {},
     "output_type": "display_data"
    },
    {
     "data": {
      "application/vnd.jupyter.widget-view+json": {
       "model_id": "278b30bab41c47fd8d4b6ec8de165fcd",
       "version_major": 2,
       "version_minor": 0
      },
      "text/plain": [
       "Dev:   0%|          | 0/44 [00:00<?, ?it/s]"
      ]
     },
     "metadata": {},
     "output_type": "display_data"
    },
    {
     "name": "stdout",
     "output_type": "stream",
     "text": [
      "\tDone Epoch: 10/50\n",
      "\t\tLoss\t|\tTrain AVG: 0.322, Dev AVG: 0.2393\n",
      "\t\tMetrics\t|\tTrain: wer=0.1848, em=0.07248 ; Dev: wer=0.2269, em=0.1599\n"
     ]
    },
    {
     "data": {
      "application/vnd.jupyter.widget-view+json": {
       "model_id": "773073827e17477b9917fe1d08847949",
       "version_major": 2,
       "version_minor": 0
      },
      "text/plain": [
       "Train:   0%|          | 0/2290 [00:00<?, ?it/s]"
      ]
     },
     "metadata": {},
     "output_type": "display_data"
    },
    {
     "data": {
      "application/vnd.jupyter.widget-view+json": {
       "model_id": "7f49870cd4b84e478dbbb625dbac1d8b",
       "version_major": 2,
       "version_minor": 0
      },
      "text/plain": [
       "Dev:   0%|          | 0/44 [00:00<?, ?it/s]"
      ]
     },
     "metadata": {},
     "output_type": "display_data"
    },
    {
     "name": "stdout",
     "output_type": "stream",
     "text": [
      "\tDone Epoch: 11/50\n",
      "\t\tLoss\t|\tTrain AVG: 0.3163, Dev AVG: 0.2379\n",
      "\t\tMetrics\t|\tTrain: wer=0.183, em=0.074 ; Dev: wer=0.2264, em=0.1606\n"
     ]
    },
    {
     "data": {
      "application/vnd.jupyter.widget-view+json": {
       "model_id": "9bb48be657634c4fac55ef040a89bf7c",
       "version_major": 2,
       "version_minor": 0
      },
      "text/plain": [
       "Train:   0%|          | 0/2290 [00:00<?, ?it/s]"
      ]
     },
     "metadata": {},
     "output_type": "display_data"
    },
    {
     "data": {
      "application/vnd.jupyter.widget-view+json": {
       "model_id": "38c34d0a9b3043c89f7010d85638f6f4",
       "version_major": 2,
       "version_minor": 0
      },
      "text/plain": [
       "Dev:   0%|          | 0/44 [00:00<?, ?it/s]"
      ]
     },
     "metadata": {},
     "output_type": "display_data"
    },
    {
     "name": "stdout",
     "output_type": "stream",
     "text": [
      "\tDone Epoch: 12/50\n",
      "\t\tLoss\t|\tTrain AVG: 0.3114, Dev AVG: 0.2353\n",
      "\t\tMetrics\t|\tTrain: wer=0.1816, em=0.07463 ; Dev: wer=0.2252, em=0.1609\n"
     ]
    },
    {
     "data": {
      "application/vnd.jupyter.widget-view+json": {
       "model_id": "f29c99da56f74e86a3e4612442ea794b",
       "version_major": 2,
       "version_minor": 0
      },
      "text/plain": [
       "Train:   0%|          | 0/2290 [00:00<?, ?it/s]"
      ]
     },
     "metadata": {},
     "output_type": "display_data"
    },
    {
     "data": {
      "application/vnd.jupyter.widget-view+json": {
       "model_id": "17d25c16f8b14ab9a225fc42fff9d5cd",
       "version_major": 2,
       "version_minor": 0
      },
      "text/plain": [
       "Dev:   0%|          | 0/44 [00:00<?, ?it/s]"
      ]
     },
     "metadata": {},
     "output_type": "display_data"
    },
    {
     "name": "stdout",
     "output_type": "stream",
     "text": [
      "\tDone Epoch: 13/50\n",
      "\t\tLoss\t|\tTrain AVG: 0.3067, Dev AVG: 0.2346\n",
      "\t\tMetrics\t|\tTrain: wer=0.1801, em=0.07547 ; Dev: wer=0.2246, em=0.1627\n"
     ]
    },
    {
     "data": {
      "application/vnd.jupyter.widget-view+json": {
       "model_id": "393ee595a5904cfa91a0111488d492b7",
       "version_major": 2,
       "version_minor": 0
      },
      "text/plain": [
       "Train:   0%|          | 0/2290 [00:00<?, ?it/s]"
      ]
     },
     "metadata": {},
     "output_type": "display_data"
    },
    {
     "data": {
      "application/vnd.jupyter.widget-view+json": {
       "model_id": "7ace975237ca4b62b422398b6e0b6a0a",
       "version_major": 2,
       "version_minor": 0
      },
      "text/plain": [
       "Dev:   0%|          | 0/44 [00:00<?, ?it/s]"
      ]
     },
     "metadata": {},
     "output_type": "display_data"
    },
    {
     "name": "stdout",
     "output_type": "stream",
     "text": [
      "\tDone Epoch: 14/50\n",
      "\t\tLoss\t|\tTrain AVG: 0.3022, Dev AVG: 0.2345\n",
      "\t\tMetrics\t|\tTrain: wer=0.1788, em=0.07638 ; Dev: wer=0.2238, em=0.1648\n"
     ]
    },
    {
     "data": {
      "application/vnd.jupyter.widget-view+json": {
       "model_id": "d5e88b3f706a45c8ba735e91dfced74f",
       "version_major": 2,
       "version_minor": 0
      },
      "text/plain": [
       "Train:   0%|          | 0/2290 [00:00<?, ?it/s]"
      ]
     },
     "metadata": {},
     "output_type": "display_data"
    },
    {
     "data": {
      "application/vnd.jupyter.widget-view+json": {
       "model_id": "4337f70423b2402296ea8c4e22bc149e",
       "version_major": 2,
       "version_minor": 0
      },
      "text/plain": [
       "Dev:   0%|          | 0/44 [00:00<?, ?it/s]"
      ]
     },
     "metadata": {},
     "output_type": "display_data"
    },
    {
     "name": "stdout",
     "output_type": "stream",
     "text": [
      "\tDone Epoch: 15/50\n",
      "\t\tLoss\t|\tTrain AVG: 0.2982, Dev AVG: 0.2312\n",
      "\t\tMetrics\t|\tTrain: wer=0.1774, em=0.07735 ; Dev: wer=0.223, em=0.1631\n"
     ]
    },
    {
     "data": {
      "application/vnd.jupyter.widget-view+json": {
       "model_id": "0402685b5c014732b8cb47d5b5c99b3b",
       "version_major": 2,
       "version_minor": 0
      },
      "text/plain": [
       "Train:   0%|          | 0/2290 [00:00<?, ?it/s]"
      ]
     },
     "metadata": {},
     "output_type": "display_data"
    },
    {
     "data": {
      "application/vnd.jupyter.widget-view+json": {
       "model_id": "c3c23be7bb0e4e03a7fad89b6f410f6e",
       "version_major": 2,
       "version_minor": 0
      },
      "text/plain": [
       "Dev:   0%|          | 0/44 [00:00<?, ?it/s]"
      ]
     },
     "metadata": {},
     "output_type": "display_data"
    },
    {
     "name": "stdout",
     "output_type": "stream",
     "text": [
      "\tDone Epoch: 16/50\n",
      "\t\tLoss\t|\tTrain AVG: 0.2943, Dev AVG: 0.2317\n",
      "\t\tMetrics\t|\tTrain: wer=0.1763, em=0.07815 ; Dev: wer=0.2228, em=0.1641\n"
     ]
    },
    {
     "data": {
      "application/vnd.jupyter.widget-view+json": {
       "model_id": "d4ecd985e2574e6e814f3652b620c01d",
       "version_major": 2,
       "version_minor": 0
      },
      "text/plain": [
       "Train:   0%|          | 0/2290 [00:00<?, ?it/s]"
      ]
     },
     "metadata": {},
     "output_type": "display_data"
    },
    {
     "data": {
      "application/vnd.jupyter.widget-view+json": {
       "model_id": "d8fd841fac0e41609d8655128f597c97",
       "version_major": 2,
       "version_minor": 0
      },
      "text/plain": [
       "Dev:   0%|          | 0/44 [00:00<?, ?it/s]"
      ]
     },
     "metadata": {},
     "output_type": "display_data"
    },
    {
     "name": "stdout",
     "output_type": "stream",
     "text": [
      "\tDone Epoch: 17/50\n",
      "\t\tLoss\t|\tTrain AVG: 0.2906, Dev AVG: 0.2297\n",
      "\t\tMetrics\t|\tTrain: wer=0.175, em=0.07921 ; Dev: wer=0.2211, em=0.167\n"
     ]
    },
    {
     "data": {
      "application/vnd.jupyter.widget-view+json": {
       "model_id": "ceb6e5cc155045a9a4c5733c83e8abdb",
       "version_major": 2,
       "version_minor": 0
      },
      "text/plain": [
       "Train:   0%|          | 0/2290 [00:00<?, ?it/s]"
      ]
     },
     "metadata": {},
     "output_type": "display_data"
    },
    {
     "data": {
      "application/vnd.jupyter.widget-view+json": {
       "model_id": "4dc50247e58c4723b02a380b9dddc5f1",
       "version_major": 2,
       "version_minor": 0
      },
      "text/plain": [
       "Dev:   0%|          | 0/44 [00:00<?, ?it/s]"
      ]
     },
     "metadata": {},
     "output_type": "display_data"
    },
    {
     "name": "stdout",
     "output_type": "stream",
     "text": [
      "\tDone Epoch: 18/50\n",
      "\t\tLoss\t|\tTrain AVG: 0.2871, Dev AVG: 0.2301\n",
      "\t\tMetrics\t|\tTrain: wer=0.174, em=0.08006 ; Dev: wer=0.2216, em=0.1648\n"
     ]
    },
    {
     "data": {
      "application/vnd.jupyter.widget-view+json": {
       "model_id": "e13a87addb6b49d09810498bd03c6193",
       "version_major": 2,
       "version_minor": 0
      },
      "text/plain": [
       "Train:   0%|          | 0/2290 [00:00<?, ?it/s]"
      ]
     },
     "metadata": {},
     "output_type": "display_data"
    },
    {
     "data": {
      "application/vnd.jupyter.widget-view+json": {
       "model_id": "b96f136a2a5246ae81b53b7efe7606ab",
       "version_major": 2,
       "version_minor": 0
      },
      "text/plain": [
       "Dev:   0%|          | 0/44 [00:00<?, ?it/s]"
      ]
     },
     "metadata": {},
     "output_type": "display_data"
    },
    {
     "name": "stdout",
     "output_type": "stream",
     "text": [
      "\tDone Epoch: 19/50\n",
      "\t\tLoss\t|\tTrain AVG: 0.2839, Dev AVG: 0.2288\n",
      "\t\tMetrics\t|\tTrain: wer=0.1729, em=0.08066 ; Dev: wer=0.2204, em=0.167\n"
     ]
    },
    {
     "data": {
      "application/vnd.jupyter.widget-view+json": {
       "model_id": "48e16580b68c4fcba75ea90116d7dc55",
       "version_major": 2,
       "version_minor": 0
      },
      "text/plain": [
       "Train:   0%|          | 0/2290 [00:00<?, ?it/s]"
      ]
     },
     "metadata": {},
     "output_type": "display_data"
    },
    {
     "data": {
      "application/vnd.jupyter.widget-view+json": {
       "model_id": "073d06ae7dd34d239b302d38239c8632",
       "version_major": 2,
       "version_minor": 0
      },
      "text/plain": [
       "Dev:   0%|          | 0/44 [00:00<?, ?it/s]"
      ]
     },
     "metadata": {},
     "output_type": "display_data"
    },
    {
     "name": "stdout",
     "output_type": "stream",
     "text": [
      "\tDone Epoch: 20/50\n",
      "\t\tLoss\t|\tTrain AVG: 0.2807, Dev AVG: 0.2283\n",
      "\t\tMetrics\t|\tTrain: wer=0.172, em=0.08148 ; Dev: wer=0.2197, em=0.1674\n"
     ]
    },
    {
     "data": {
      "application/vnd.jupyter.widget-view+json": {
       "model_id": "0acac34f4de94f96b2d65610074f2450",
       "version_major": 2,
       "version_minor": 0
      },
      "text/plain": [
       "Train:   0%|          | 0/2290 [00:00<?, ?it/s]"
      ]
     },
     "metadata": {},
     "output_type": "display_data"
    },
    {
     "data": {
      "application/vnd.jupyter.widget-view+json": {
       "model_id": "6a747b02260041b78d0ed880cc1806fa",
       "version_major": 2,
       "version_minor": 0
      },
      "text/plain": [
       "Dev:   0%|          | 0/44 [00:00<?, ?it/s]"
      ]
     },
     "metadata": {},
     "output_type": "display_data"
    },
    {
     "name": "stdout",
     "output_type": "stream",
     "text": [
      "\tDone Epoch: 21/50\n",
      "\t\tLoss\t|\tTrain AVG: 0.2777, Dev AVG: 0.2275\n",
      "\t\tMetrics\t|\tTrain: wer=0.171, em=0.08178 ; Dev: wer=0.2198, em=0.167\n"
     ]
    },
    {
     "data": {
      "application/vnd.jupyter.widget-view+json": {
       "model_id": "2e2f8044cc104e8fa2900da0153e26d4",
       "version_major": 2,
       "version_minor": 0
      },
      "text/plain": [
       "Train:   0%|          | 0/2290 [00:00<?, ?it/s]"
      ]
     },
     "metadata": {},
     "output_type": "display_data"
    },
    {
     "data": {
      "application/vnd.jupyter.widget-view+json": {
       "model_id": "737e3226fbb14cafaad901c001d2bbc4",
       "version_major": 2,
       "version_minor": 0
      },
      "text/plain": [
       "Dev:   0%|          | 0/44 [00:00<?, ?it/s]"
      ]
     },
     "metadata": {},
     "output_type": "display_data"
    },
    {
     "name": "stdout",
     "output_type": "stream",
     "text": [
      "\tDone Epoch: 22/50\n",
      "\t\tLoss\t|\tTrain AVG: 0.2746, Dev AVG: 0.2276\n",
      "\t\tMetrics\t|\tTrain: wer=0.17, em=0.08263 ; Dev: wer=0.2196, em=0.1684\n"
     ]
    },
    {
     "data": {
      "application/vnd.jupyter.widget-view+json": {
       "model_id": "7c2ec43c7c0146a694938d895af24109",
       "version_major": 2,
       "version_minor": 0
      },
      "text/plain": [
       "Train:   0%|          | 0/2290 [00:00<?, ?it/s]"
      ]
     },
     "metadata": {},
     "output_type": "display_data"
    },
    {
     "data": {
      "application/vnd.jupyter.widget-view+json": {
       "model_id": "92725d9d6a11481e9fdacffd6315b27c",
       "version_major": 2,
       "version_minor": 0
      },
      "text/plain": [
       "Dev:   0%|          | 0/44 [00:00<?, ?it/s]"
      ]
     },
     "metadata": {},
     "output_type": "display_data"
    },
    {
     "name": "stdout",
     "output_type": "stream",
     "text": [
      "\tDone Epoch: 23/50\n",
      "\t\tLoss\t|\tTrain AVG: 0.2719, Dev AVG: 0.2259\n",
      "\t\tMetrics\t|\tTrain: wer=0.1692, em=0.08351 ; Dev: wer=0.2187, em=0.1695\n"
     ]
    },
    {
     "data": {
      "application/vnd.jupyter.widget-view+json": {
       "model_id": "9ba0f7fd025e43a0864c12d20fe6d209",
       "version_major": 2,
       "version_minor": 0
      },
      "text/plain": [
       "Train:   0%|          | 0/2290 [00:00<?, ?it/s]"
      ]
     },
     "metadata": {},
     "output_type": "display_data"
    },
    {
     "data": {
      "application/vnd.jupyter.widget-view+json": {
       "model_id": "cfcd3c667165427bb23bf81e187c494c",
       "version_major": 2,
       "version_minor": 0
      },
      "text/plain": [
       "Dev:   0%|          | 0/44 [00:00<?, ?it/s]"
      ]
     },
     "metadata": {},
     "output_type": "display_data"
    },
    {
     "name": "stdout",
     "output_type": "stream",
     "text": [
      "\tDone Epoch: 24/50\n",
      "\t\tLoss\t|\tTrain AVG: 0.2692, Dev AVG: 0.2249\n",
      "\t\tMetrics\t|\tTrain: wer=0.1682, em=0.08397 ; Dev: wer=0.2184, em=0.1703\n"
     ]
    },
    {
     "data": {
      "application/vnd.jupyter.widget-view+json": {
       "model_id": "92cd2300e9694d338522ccd2d93bb344",
       "version_major": 2,
       "version_minor": 0
      },
      "text/plain": [
       "Train:   0%|          | 0/2290 [00:00<?, ?it/s]"
      ]
     },
     "metadata": {},
     "output_type": "display_data"
    },
    {
     "data": {
      "application/vnd.jupyter.widget-view+json": {
       "model_id": "2071af523c56478d8378d73d9122fea2",
       "version_major": 2,
       "version_minor": 0
      },
      "text/plain": [
       "Dev:   0%|          | 0/44 [00:00<?, ?it/s]"
      ]
     },
     "metadata": {},
     "output_type": "display_data"
    },
    {
     "name": "stdout",
     "output_type": "stream",
     "text": [
      "\tDone Epoch: 25/50\n",
      "\t\tLoss\t|\tTrain AVG: 0.2666, Dev AVG: 0.2254\n",
      "\t\tMetrics\t|\tTrain: wer=0.1673, em=0.08512 ; Dev: wer=0.2179, em=0.1699\n"
     ]
    },
    {
     "data": {
      "application/vnd.jupyter.widget-view+json": {
       "model_id": "446d036650bd46ac8610cd6a99cf1082",
       "version_major": 2,
       "version_minor": 0
      },
      "text/plain": [
       "Train:   0%|          | 0/2290 [00:00<?, ?it/s]"
      ]
     },
     "metadata": {},
     "output_type": "display_data"
    },
    {
     "data": {
      "application/vnd.jupyter.widget-view+json": {
       "model_id": "00b73feffc8548268e57d827c5b3dbff",
       "version_major": 2,
       "version_minor": 0
      },
      "text/plain": [
       "Dev:   0%|          | 0/44 [00:00<?, ?it/s]"
      ]
     },
     "metadata": {},
     "output_type": "display_data"
    },
    {
     "name": "stdout",
     "output_type": "stream",
     "text": [
      "\tDone Epoch: 26/50\n",
      "\t\tLoss\t|\tTrain AVG: 0.2642, Dev AVG: 0.2248\n",
      "\t\tMetrics\t|\tTrain: wer=0.1665, em=0.08535 ; Dev: wer=0.2182, em=0.1713\n"
     ]
    },
    {
     "data": {
      "application/vnd.jupyter.widget-view+json": {
       "model_id": "fc65a7fee3fb458e90fda4ef467bcd22",
       "version_major": 2,
       "version_minor": 0
      },
      "text/plain": [
       "Train:   0%|          | 0/2290 [00:00<?, ?it/s]"
      ]
     },
     "metadata": {},
     "output_type": "display_data"
    },
    {
     "data": {
      "application/vnd.jupyter.widget-view+json": {
       "model_id": "170741fc406b4c54b0963c4ec542c451",
       "version_major": 2,
       "version_minor": 0
      },
      "text/plain": [
       "Dev:   0%|          | 0/44 [00:00<?, ?it/s]"
      ]
     },
     "metadata": {},
     "output_type": "display_data"
    },
    {
     "name": "stdout",
     "output_type": "stream",
     "text": [
      "\tDone Epoch: 27/50\n",
      "\t\tLoss\t|\tTrain AVG: 0.2619, Dev AVG: 0.2244\n",
      "\t\tMetrics\t|\tTrain: wer=0.1658, em=0.08629 ; Dev: wer=0.219, em=0.1699\n"
     ]
    },
    {
     "data": {
      "application/vnd.jupyter.widget-view+json": {
       "model_id": "4cd2de2941544704b4bcd456c506c0cd",
       "version_major": 2,
       "version_minor": 0
      },
      "text/plain": [
       "Train:   0%|          | 0/2290 [00:00<?, ?it/s]"
      ]
     },
     "metadata": {},
     "output_type": "display_data"
    },
    {
     "data": {
      "application/vnd.jupyter.widget-view+json": {
       "model_id": "cc11080088d043a19b882b8c11fc8896",
       "version_major": 2,
       "version_minor": 0
      },
      "text/plain": [
       "Dev:   0%|          | 0/44 [00:00<?, ?it/s]"
      ]
     },
     "metadata": {},
     "output_type": "display_data"
    },
    {
     "name": "stdout",
     "output_type": "stream",
     "text": [
      "\tDone Epoch: 28/50\n",
      "\t\tLoss\t|\tTrain AVG: 0.2592, Dev AVG: 0.2242\n",
      "\t\tMetrics\t|\tTrain: wer=0.1647, em=0.08665 ; Dev: wer=0.2176, em=0.1735\n"
     ]
    },
    {
     "data": {
      "application/vnd.jupyter.widget-view+json": {
       "model_id": "8f6693ce636c4501a6b6ea92c9605460",
       "version_major": 2,
       "version_minor": 0
      },
      "text/plain": [
       "Train:   0%|          | 0/2290 [00:00<?, ?it/s]"
      ]
     },
     "metadata": {},
     "output_type": "display_data"
    },
    {
     "data": {
      "application/vnd.jupyter.widget-view+json": {
       "model_id": "1b30927bde0d4c6d959576e621d9facf",
       "version_major": 2,
       "version_minor": 0
      },
      "text/plain": [
       "Dev:   0%|          | 0/44 [00:00<?, ?it/s]"
      ]
     },
     "metadata": {},
     "output_type": "display_data"
    },
    {
     "name": "stdout",
     "output_type": "stream",
     "text": [
      "\tDone Epoch: 29/50\n",
      "\t\tLoss\t|\tTrain AVG: 0.257, Dev AVG: 0.2241\n",
      "\t\tMetrics\t|\tTrain: wer=0.1642, em=0.08729 ; Dev: wer=0.2178, em=0.1716\n"
     ]
    },
    {
     "data": {
      "application/vnd.jupyter.widget-view+json": {
       "model_id": "a49e2632037d4b0eb8ddeed2e716de90",
       "version_major": 2,
       "version_minor": 0
      },
      "text/plain": [
       "Train:   0%|          | 0/2290 [00:00<?, ?it/s]"
      ]
     },
     "metadata": {},
     "output_type": "display_data"
    },
    {
     "data": {
      "application/vnd.jupyter.widget-view+json": {
       "model_id": "e0c273fcc7bd40c088d4c894963f4ffa",
       "version_major": 2,
       "version_minor": 0
      },
      "text/plain": [
       "Dev:   0%|          | 0/44 [00:00<?, ?it/s]"
      ]
     },
     "metadata": {},
     "output_type": "display_data"
    },
    {
     "name": "stdout",
     "output_type": "stream",
     "text": [
      "\tDone Epoch: 30/50\n",
      "\t\tLoss\t|\tTrain AVG: 0.2549, Dev AVG: 0.224\n",
      "\t\tMetrics\t|\tTrain: wer=0.1634, em=0.08745 ; Dev: wer=0.218, em=0.1709\n"
     ]
    },
    {
     "data": {
      "application/vnd.jupyter.widget-view+json": {
       "model_id": "ce1e26ec2024477880681e14111ea6fe",
       "version_major": 2,
       "version_minor": 0
      },
      "text/plain": [
       "Train:   0%|          | 0/2290 [00:00<?, ?it/s]"
      ]
     },
     "metadata": {},
     "output_type": "display_data"
    },
    {
     "data": {
      "application/vnd.jupyter.widget-view+json": {
       "model_id": "b3cbc9e7cbf04c73986d5cde8b3d3fa6",
       "version_major": 2,
       "version_minor": 0
      },
      "text/plain": [
       "Dev:   0%|          | 0/44 [00:00<?, ?it/s]"
      ]
     },
     "metadata": {},
     "output_type": "display_data"
    },
    {
     "name": "stdout",
     "output_type": "stream",
     "text": [
      "\tDone Epoch: 31/50\n",
      "\t\tLoss\t|\tTrain AVG: 0.2528, Dev AVG: 0.2234\n",
      "\t\tMetrics\t|\tTrain: wer=0.1627, em=0.08878 ; Dev: wer=0.2176, em=0.1731\n"
     ]
    },
    {
     "data": {
      "application/vnd.jupyter.widget-view+json": {
       "model_id": "bf898ced0b2f4e499c63d87b9acdc778",
       "version_major": 2,
       "version_minor": 0
      },
      "text/plain": [
       "Train:   0%|          | 0/2290 [00:00<?, ?it/s]"
      ]
     },
     "metadata": {},
     "output_type": "display_data"
    },
    {
     "data": {
      "application/vnd.jupyter.widget-view+json": {
       "model_id": "fc7aaf7621474fb5941de0a1a9c1cc37",
       "version_major": 2,
       "version_minor": 0
      },
      "text/plain": [
       "Dev:   0%|          | 0/44 [00:00<?, ?it/s]"
      ]
     },
     "metadata": {},
     "output_type": "display_data"
    },
    {
     "name": "stdout",
     "output_type": "stream",
     "text": [
      "\tDone Epoch: 32/50\n",
      "\t\tLoss\t|\tTrain AVG: 0.2506, Dev AVG: 0.2241\n",
      "\t\tMetrics\t|\tTrain: wer=0.1621, em=0.08972 ; Dev: wer=0.2175, em=0.1734\n"
     ]
    },
    {
     "data": {
      "application/vnd.jupyter.widget-view+json": {
       "model_id": "adcbfe921bb244379200802c42cfe277",
       "version_major": 2,
       "version_minor": 0
      },
      "text/plain": [
       "Train:   0%|          | 0/2290 [00:00<?, ?it/s]"
      ]
     },
     "metadata": {},
     "output_type": "display_data"
    },
    {
     "data": {
      "application/vnd.jupyter.widget-view+json": {
       "model_id": "0e77b2bd8ba849a89325f4bce50d60a0",
       "version_major": 2,
       "version_minor": 0
      },
      "text/plain": [
       "Dev:   0%|          | 0/44 [00:00<?, ?it/s]"
      ]
     },
     "metadata": {},
     "output_type": "display_data"
    },
    {
     "name": "stdout",
     "output_type": "stream",
     "text": [
      "\tDone Epoch: 33/50\n",
      "\t\tLoss\t|\tTrain AVG: 0.2485, Dev AVG: 0.224\n",
      "\t\tMetrics\t|\tTrain: wer=0.1612, em=0.09088 ; Dev: wer=0.2173, em=0.1734\n"
     ]
    },
    {
     "data": {
      "application/vnd.jupyter.widget-view+json": {
       "model_id": "f02b9fb266a64666bfcf22cc16dfdf1e",
       "version_major": 2,
       "version_minor": 0
      },
      "text/plain": [
       "Train:   0%|          | 0/2290 [00:00<?, ?it/s]"
      ]
     },
     "metadata": {},
     "output_type": "display_data"
    },
    {
     "data": {
      "application/vnd.jupyter.widget-view+json": {
       "model_id": "01e8893afc994d69815989b047d03b72",
       "version_major": 2,
       "version_minor": 0
      },
      "text/plain": [
       "Dev:   0%|          | 0/44 [00:00<?, ?it/s]"
      ]
     },
     "metadata": {},
     "output_type": "display_data"
    },
    {
     "name": "stdout",
     "output_type": "stream",
     "text": [
      "\tDone Epoch: 34/50\n",
      "\t\tLoss\t|\tTrain AVG: 0.2468, Dev AVG: 0.2227\n",
      "\t\tMetrics\t|\tTrain: wer=0.1605, em=0.09044 ; Dev: wer=0.2174, em=0.172\n"
     ]
    },
    {
     "data": {
      "application/vnd.jupyter.widget-view+json": {
       "model_id": "7e53f6c73be846bf8f1289bd7dfb24a5",
       "version_major": 2,
       "version_minor": 0
      },
      "text/plain": [
       "Train:   0%|          | 0/2290 [00:00<?, ?it/s]"
      ]
     },
     "metadata": {},
     "output_type": "display_data"
    },
    {
     "data": {
      "application/vnd.jupyter.widget-view+json": {
       "model_id": "c9cfeef3cf084b84b3cc9fda627e7bf1",
       "version_major": 2,
       "version_minor": 0
      },
      "text/plain": [
       "Dev:   0%|          | 0/44 [00:00<?, ?it/s]"
      ]
     },
     "metadata": {},
     "output_type": "display_data"
    },
    {
     "name": "stdout",
     "output_type": "stream",
     "text": [
      "\tDone Epoch: 35/50\n",
      "\t\tLoss\t|\tTrain AVG: 0.2448, Dev AVG: 0.2223\n",
      "\t\tMetrics\t|\tTrain: wer=0.1599, em=0.09074 ; Dev: wer=0.217, em=0.1745\n"
     ]
    },
    {
     "data": {
      "application/vnd.jupyter.widget-view+json": {
       "model_id": "0f60bba2dced4a779d2b3f866fb4a276",
       "version_major": 2,
       "version_minor": 0
      },
      "text/plain": [
       "Train:   0%|          | 0/2290 [00:00<?, ?it/s]"
      ]
     },
     "metadata": {},
     "output_type": "display_data"
    },
    {
     "data": {
      "application/vnd.jupyter.widget-view+json": {
       "model_id": "84e2a85f0064407d817da7ac2d531d95",
       "version_major": 2,
       "version_minor": 0
      },
      "text/plain": [
       "Dev:   0%|          | 0/44 [00:00<?, ?it/s]"
      ]
     },
     "metadata": {},
     "output_type": "display_data"
    },
    {
     "name": "stdout",
     "output_type": "stream",
     "text": [
      "\tDone Epoch: 36/50\n",
      "\t\tLoss\t|\tTrain AVG: 0.2427, Dev AVG: 0.2238\n",
      "\t\tMetrics\t|\tTrain: wer=0.1591, em=0.09263 ; Dev: wer=0.2157, em=0.1755\n"
     ]
    },
    {
     "data": {
      "application/vnd.jupyter.widget-view+json": {
       "model_id": "afee135a377b40f2a4e3807665fe6c3f",
       "version_major": 2,
       "version_minor": 0
      },
      "text/plain": [
       "Train:   0%|          | 0/2290 [00:00<?, ?it/s]"
      ]
     },
     "metadata": {},
     "output_type": "display_data"
    },
    {
     "data": {
      "application/vnd.jupyter.widget-view+json": {
       "model_id": "f457807e3d754f11a0894ad3983ecf56",
       "version_major": 2,
       "version_minor": 0
      },
      "text/plain": [
       "Dev:   0%|          | 0/44 [00:00<?, ?it/s]"
      ]
     },
     "metadata": {},
     "output_type": "display_data"
    },
    {
     "name": "stdout",
     "output_type": "stream",
     "text": [
      "\tDone Epoch: 37/50\n",
      "\t\tLoss\t|\tTrain AVG: 0.2408, Dev AVG: 0.2226\n",
      "\t\tMetrics\t|\tTrain: wer=0.1585, em=0.09266 ; Dev: wer=0.2154, em=0.1723\n"
     ]
    },
    {
     "data": {
      "application/vnd.jupyter.widget-view+json": {
       "model_id": "d5f3ffb182b243b7be1b15798d026f54",
       "version_major": 2,
       "version_minor": 0
      },
      "text/plain": [
       "Train:   0%|          | 0/2290 [00:00<?, ?it/s]"
      ]
     },
     "metadata": {},
     "output_type": "display_data"
    },
    {
     "data": {
      "application/vnd.jupyter.widget-view+json": {
       "model_id": "75e6926355fb40339b4a2ad2a63116a4",
       "version_major": 2,
       "version_minor": 0
      },
      "text/plain": [
       "Dev:   0%|          | 0/44 [00:00<?, ?it/s]"
      ]
     },
     "metadata": {},
     "output_type": "display_data"
    },
    {
     "name": "stdout",
     "output_type": "stream",
     "text": [
      "\tDone Epoch: 38/50\n",
      "\t\tLoss\t|\tTrain AVG: 0.2392, Dev AVG: 0.2225\n",
      "\t\tMetrics\t|\tTrain: wer=0.1579, em=0.09325 ; Dev: wer=0.2153, em=0.1734\n"
     ]
    },
    {
     "data": {
      "application/vnd.jupyter.widget-view+json": {
       "model_id": "76221857072a41588b64744e4d260225",
       "version_major": 2,
       "version_minor": 0
      },
      "text/plain": [
       "Train:   0%|          | 0/2290 [00:00<?, ?it/s]"
      ]
     },
     "metadata": {},
     "output_type": "display_data"
    },
    {
     "data": {
      "application/vnd.jupyter.widget-view+json": {
       "model_id": "f414ed2341ce458295f7110e4b8669a3",
       "version_major": 2,
       "version_minor": 0
      },
      "text/plain": [
       "Dev:   0%|          | 0/44 [00:00<?, ?it/s]"
      ]
     },
     "metadata": {},
     "output_type": "display_data"
    },
    {
     "name": "stdout",
     "output_type": "stream",
     "text": [
      "\tDone Epoch: 39/50\n",
      "\t\tLoss\t|\tTrain AVG: 0.2375, Dev AVG: 0.2231\n",
      "\t\tMetrics\t|\tTrain: wer=0.1573, em=0.09421 ; Dev: wer=0.2158, em=0.1752\n"
     ]
    },
    {
     "data": {
      "application/vnd.jupyter.widget-view+json": {
       "model_id": "b6580138855d4a0192aa62e8c0912791",
       "version_major": 2,
       "version_minor": 0
      },
      "text/plain": [
       "Train:   0%|          | 0/2290 [00:00<?, ?it/s]"
      ]
     },
     "metadata": {},
     "output_type": "display_data"
    },
    {
     "data": {
      "application/vnd.jupyter.widget-view+json": {
       "model_id": "b9d4c774597c4f6cac76c9d9bcd6ce93",
       "version_major": 2,
       "version_minor": 0
      },
      "text/plain": [
       "Dev:   0%|          | 0/44 [00:00<?, ?it/s]"
      ]
     },
     "metadata": {},
     "output_type": "display_data"
    },
    {
     "name": "stdout",
     "output_type": "stream",
     "text": [
      "\tDone Epoch: 40/50\n",
      "\t\tLoss\t|\tTrain AVG: 0.2357, Dev AVG: 0.2216\n",
      "\t\tMetrics\t|\tTrain: wer=0.1566, em=0.09476 ; Dev: wer=0.2163, em=0.172\n"
     ]
    },
    {
     "data": {
      "application/vnd.jupyter.widget-view+json": {
       "model_id": "e1d8f2d1d94f4fac94bc7fc262d20720",
       "version_major": 2,
       "version_minor": 0
      },
      "text/plain": [
       "Train:   0%|          | 0/2290 [00:00<?, ?it/s]"
      ]
     },
     "metadata": {},
     "output_type": "display_data"
    },
    {
     "data": {
      "application/vnd.jupyter.widget-view+json": {
       "model_id": "9167c284908b44bb878b93f914b80eb7",
       "version_major": 2,
       "version_minor": 0
      },
      "text/plain": [
       "Dev:   0%|          | 0/44 [00:00<?, ?it/s]"
      ]
     },
     "metadata": {},
     "output_type": "display_data"
    },
    {
     "name": "stdout",
     "output_type": "stream",
     "text": [
      "\tDone Epoch: 41/50\n",
      "\t\tLoss\t|\tTrain AVG: 0.2339, Dev AVG: 0.222\n",
      "\t\tMetrics\t|\tTrain: wer=0.156, em=0.09459 ; Dev: wer=0.2149, em=0.1738\n"
     ]
    },
    {
     "data": {
      "application/vnd.jupyter.widget-view+json": {
       "model_id": "61485c630f3843d3ad629c4165ae1f65",
       "version_major": 2,
       "version_minor": 0
      },
      "text/plain": [
       "Train:   0%|          | 0/2290 [00:00<?, ?it/s]"
      ]
     },
     "metadata": {},
     "output_type": "display_data"
    },
    {
     "data": {
      "application/vnd.jupyter.widget-view+json": {
       "model_id": "6806a47fa3cd4e22b576ebc7e54553fc",
       "version_major": 2,
       "version_minor": 0
      },
      "text/plain": [
       "Dev:   0%|          | 0/44 [00:00<?, ?it/s]"
      ]
     },
     "metadata": {},
     "output_type": "display_data"
    },
    {
     "name": "stdout",
     "output_type": "stream",
     "text": [
      "\tDone Epoch: 42/50\n",
      "\t\tLoss\t|\tTrain AVG: 0.2325, Dev AVG: 0.2216\n",
      "\t\tMetrics\t|\tTrain: wer=0.1556, em=0.09583 ; Dev: wer=0.2148, em=0.1731\n"
     ]
    },
    {
     "data": {
      "application/vnd.jupyter.widget-view+json": {
       "model_id": "722fa9d36a254a6ca4e49a42f3d79db5",
       "version_major": 2,
       "version_minor": 0
      },
      "text/plain": [
       "Train:   0%|          | 0/2290 [00:00<?, ?it/s]"
      ]
     },
     "metadata": {},
     "output_type": "display_data"
    },
    {
     "data": {
      "application/vnd.jupyter.widget-view+json": {
       "model_id": "60ee347daf26423181f502e0d3cdb61d",
       "version_major": 2,
       "version_minor": 0
      },
      "text/plain": [
       "Dev:   0%|          | 0/44 [00:00<?, ?it/s]"
      ]
     },
     "metadata": {},
     "output_type": "display_data"
    },
    {
     "name": "stdout",
     "output_type": "stream",
     "text": [
      "\tDone Epoch: 43/50\n",
      "\t\tLoss\t|\tTrain AVG: 0.2308, Dev AVG: 0.2211\n",
      "\t\tMetrics\t|\tTrain: wer=0.1548, em=0.09653 ; Dev: wer=0.2152, em=0.1738\n"
     ]
    },
    {
     "data": {
      "application/vnd.jupyter.widget-view+json": {
       "model_id": "8f9195e01d914e2c95b017926609a063",
       "version_major": 2,
       "version_minor": 0
      },
      "text/plain": [
       "Train:   0%|          | 0/2290 [00:00<?, ?it/s]"
      ]
     },
     "metadata": {},
     "output_type": "display_data"
    },
    {
     "data": {
      "application/vnd.jupyter.widget-view+json": {
       "model_id": "fa9c1057362549dfbd7d8dfd7f6db01c",
       "version_major": 2,
       "version_minor": 0
      },
      "text/plain": [
       "Dev:   0%|          | 0/44 [00:00<?, ?it/s]"
      ]
     },
     "metadata": {},
     "output_type": "display_data"
    },
    {
     "name": "stdout",
     "output_type": "stream",
     "text": [
      "\tDone Epoch: 44/50\n",
      "\t\tLoss\t|\tTrain AVG: 0.2292, Dev AVG: 0.2223\n",
      "\t\tMetrics\t|\tTrain: wer=0.1542, em=0.09621 ; Dev: wer=0.2147, em=0.1777\n"
     ]
    },
    {
     "data": {
      "application/vnd.jupyter.widget-view+json": {
       "model_id": "05dc600b941d4a66b2af7612023b4825",
       "version_major": 2,
       "version_minor": 0
      },
      "text/plain": [
       "Train:   0%|          | 0/2290 [00:00<?, ?it/s]"
      ]
     },
     "metadata": {},
     "output_type": "display_data"
    },
    {
     "data": {
      "application/vnd.jupyter.widget-view+json": {
       "model_id": "86fde03d8edb4148aa6d1161cd9e75a1",
       "version_major": 2,
       "version_minor": 0
      },
      "text/plain": [
       "Dev:   0%|          | 0/44 [00:00<?, ?it/s]"
      ]
     },
     "metadata": {},
     "output_type": "display_data"
    },
    {
     "name": "stdout",
     "output_type": "stream",
     "text": [
      "\tDone Epoch: 45/50\n",
      "\t\tLoss\t|\tTrain AVG: 0.2276, Dev AVG: 0.2215\n",
      "\t\tMetrics\t|\tTrain: wer=0.1536, em=0.09763 ; Dev: wer=0.2148, em=0.1752\n"
     ]
    },
    {
     "data": {
      "application/vnd.jupyter.widget-view+json": {
       "model_id": "ba097ca983584dc2a3e6a42d7f328e6a",
       "version_major": 2,
       "version_minor": 0
      },
      "text/plain": [
       "Train:   0%|          | 0/2290 [00:00<?, ?it/s]"
      ]
     },
     "metadata": {},
     "output_type": "display_data"
    },
    {
     "data": {
      "application/vnd.jupyter.widget-view+json": {
       "model_id": "133b493d598349528861e46feca8a082",
       "version_major": 2,
       "version_minor": 0
      },
      "text/plain": [
       "Dev:   0%|          | 0/44 [00:00<?, ?it/s]"
      ]
     },
     "metadata": {},
     "output_type": "display_data"
    },
    {
     "name": "stdout",
     "output_type": "stream",
     "text": [
      "\tDone Epoch: 46/50\n",
      "\t\tLoss\t|\tTrain AVG: 0.2261, Dev AVG: 0.2207\n",
      "\t\tMetrics\t|\tTrain: wer=0.1531, em=0.09831 ; Dev: wer=0.2149, em=0.1766\n"
     ]
    },
    {
     "data": {
      "application/vnd.jupyter.widget-view+json": {
       "model_id": "6c46c3570b4245b790e8a79321aa9941",
       "version_major": 2,
       "version_minor": 0
      },
      "text/plain": [
       "Train:   0%|          | 0/2290 [00:00<?, ?it/s]"
      ]
     },
     "metadata": {},
     "output_type": "display_data"
    },
    {
     "data": {
      "application/vnd.jupyter.widget-view+json": {
       "model_id": "39c6aca9439847bb8573cd3d8757bd95",
       "version_major": 2,
       "version_minor": 0
      },
      "text/plain": [
       "Dev:   0%|          | 0/44 [00:00<?, ?it/s]"
      ]
     },
     "metadata": {},
     "output_type": "display_data"
    },
    {
     "name": "stdout",
     "output_type": "stream",
     "text": [
      "\tDone Epoch: 47/50\n",
      "\t\tLoss\t|\tTrain AVG: 0.2245, Dev AVG: 0.2218\n",
      "\t\tMetrics\t|\tTrain: wer=0.1525, em=0.09862 ; Dev: wer=0.2149, em=0.1759\n"
     ]
    },
    {
     "data": {
      "application/vnd.jupyter.widget-view+json": {
       "model_id": "5a64453eb925423fad01f2333fcda2af",
       "version_major": 2,
       "version_minor": 0
      },
      "text/plain": [
       "Train:   0%|          | 0/2290 [00:00<?, ?it/s]"
      ]
     },
     "metadata": {},
     "output_type": "display_data"
    },
    {
     "data": {
      "application/vnd.jupyter.widget-view+json": {
       "model_id": "7bb811529f3f4fc9886cb79605c835a5",
       "version_major": 2,
       "version_minor": 0
      },
      "text/plain": [
       "Dev:   0%|          | 0/44 [00:00<?, ?it/s]"
      ]
     },
     "metadata": {},
     "output_type": "display_data"
    },
    {
     "name": "stdout",
     "output_type": "stream",
     "text": [
      "\tDone Epoch: 48/50\n",
      "\t\tLoss\t|\tTrain AVG: 0.223, Dev AVG: 0.2217\n",
      "\t\tMetrics\t|\tTrain: wer=0.1521, em=0.09883 ; Dev: wer=0.2143, em=0.1777\n"
     ]
    },
    {
     "data": {
      "application/vnd.jupyter.widget-view+json": {
       "model_id": "77a2cca519d946c5adca0fee39b4179c",
       "version_major": 2,
       "version_minor": 0
      },
      "text/plain": [
       "Train:   0%|          | 0/2290 [00:00<?, ?it/s]"
      ]
     },
     "metadata": {},
     "output_type": "display_data"
    },
    {
     "data": {
      "application/vnd.jupyter.widget-view+json": {
       "model_id": "8fe67907e38140ddbdcfff6d83d249a4",
       "version_major": 2,
       "version_minor": 0
      },
      "text/plain": [
       "Dev:   0%|          | 0/44 [00:00<?, ?it/s]"
      ]
     },
     "metadata": {},
     "output_type": "display_data"
    },
    {
     "name": "stdout",
     "output_type": "stream",
     "text": [
      "\tDone Epoch: 49/50\n",
      "\t\tLoss\t|\tTrain AVG: 0.2216, Dev AVG: 0.2216\n",
      "\t\tMetrics\t|\tTrain: wer=0.1513, em=0.09937 ; Dev: wer=0.214, em=0.1787\n"
     ]
    },
    {
     "data": {
      "application/vnd.jupyter.widget-view+json": {
       "model_id": "c36c34d80d3a449aae4d0a4081296794",
       "version_major": 2,
       "version_minor": 0
      },
      "text/plain": [
       "Train:   0%|          | 0/2290 [00:00<?, ?it/s]"
      ]
     },
     "metadata": {},
     "output_type": "display_data"
    },
    {
     "data": {
      "application/vnd.jupyter.widget-view+json": {
       "model_id": "765a3b18ebe140f0b370946529c4f435",
       "version_major": 2,
       "version_minor": 0
      },
      "text/plain": [
       "Dev:   0%|          | 0/44 [00:00<?, ?it/s]"
      ]
     },
     "metadata": {},
     "output_type": "display_data"
    },
    {
     "name": "stdout",
     "output_type": "stream",
     "text": [
      "\tDone Epoch: 50/50\n",
      "\t\tLoss\t|\tTrain AVG: 0.2202, Dev AVG: 0.2224\n",
      "\t\tMetrics\t|\tTrain: wer=0.1509, em=0.09987 ; Dev: wer=0.2152, em=0.1745\n",
      "\n",
      "Training finished!\n",
      "\n"
     ]
    }
   ],
   "source": [
    "assert debug==False, \"You are in debug mode, please change to False\"\n",
    "\n",
    "rec_ace_other_model = RecACEWrapModel(t5_type=t5_type, model_type='rec_ace', bin_size=bin_size, use_pretrained=True).to(DEVICE)\n",
    "rec_ace_other_optimizer = torch.optim.Adam(rec_ace_other_model.parameters(), lr=1e-4)\n",
    "\n",
    "rec_ace_other_model, rec_ace_other_metrics_df = training(\n",
    "    model=rec_ace_other_model,\n",
    "    n_epochs=50,\n",
    "    train_data=train_loader_other,\n",
    "    dev_data=dev_loader_other,\n",
    "    optimizer=rec_ace_other_optimizer,\n",
    "    exp_name=f\"rec_ace_Other\",\n",
    "    save_model=True)"
   ]
  },
  {
   "cell_type": "markdown",
   "id": "0e4fa434",
   "metadata": {},
   "source": [
    "#### Analysis"
   ]
  },
  {
   "cell_type": "code",
   "execution_count": 19,
   "id": "aae4a594",
   "metadata": {},
   "outputs": [
    {
     "data": {
      "image/png": "[encoded data removed]",
      "text/plain": [
       "<Figure size 1440x576 with 3 Axes>"
      ]
     },
     "metadata": {
      "needs_background": "light"
     },
     "output_type": "display_data"
    }
   ],
   "source": [
    "plot_graphs(rec_ace_other_metrics_df, gt_df=asr_evaluators['Other'].metrics_df, fig_size=(20,8))"
   ]
  },
  {
   "cell_type": "markdown",
   "id": "e58748c5",
   "metadata": {},
   "source": [
    "## Model Original T5 (on Other data)"
   ]
  },
  {
   "cell_type": "markdown",
   "id": "c125fe23",
   "metadata": {},
   "source": [
    "#### Training"
   ]
  },
  {
   "cell_type": "code",
   "execution_count": 20,
   "id": "d78b563a",
   "metadata": {},
   "outputs": [
    {
     "name": "stdout",
     "output_type": "stream",
     "text": [
      "Experiment name: original_f5_Other\n",
      "Training model of type: original\n",
      "Confidence vectors are NOT IN USED\n",
      "Saving model to: ./results\\original_f5_Other/2023-08-24_17-27-55\n"
     ]
    },
    {
     "data": {
      "application/vnd.jupyter.widget-view+json": {
       "model_id": "02e9cb57ac3147f4bd4e7ea538db22a9",
       "version_major": 2,
       "version_minor": 0
      },
      "text/plain": [
       "  0%|          | 0/50 [00:00<?, ?it/s]"
      ]
     },
     "metadata": {},
     "output_type": "display_data"
    },
    {
     "data": {
      "application/vnd.jupyter.widget-view+json": {
       "model_id": "0d3a35587a944df68a51b1c976aa9bd5",
       "version_major": 2,
       "version_minor": 0
      },
      "text/plain": [
       "Train:   0%|          | 0/2290 [00:00<?, ?it/s]"
      ]
     },
     "metadata": {},
     "output_type": "display_data"
    },
    {
     "data": {
      "application/vnd.jupyter.widget-view+json": {
       "model_id": "06c16a4ef58e48f98e439025f3756188",
       "version_major": 2,
       "version_minor": 0
      },
      "text/plain": [
       "Dev:   0%|          | 0/44 [00:00<?, ?it/s]"
      ]
     },
     "metadata": {},
     "output_type": "display_data"
    },
    {
     "name": "stdout",
     "output_type": "stream",
     "text": [
      "\tDone Epoch: 1/50\n",
      "\t\tLoss\t|\tTrain AVG: 0.5048, Dev AVG: 0.3126\n",
      "\t\tMetrics\t|\tTrain: wer=0.2392, em=0.04577 ; Dev: wer=0.2666, em=0.122\n"
     ]
    },
    {
     "data": {
      "application/vnd.jupyter.widget-view+json": {
       "model_id": "71c2dbebf11e4b5fb703d8aa61d913be",
       "version_major": 2,
       "version_minor": 0
      },
      "text/plain": [
       "Train:   0%|          | 0/2290 [00:00<?, ?it/s]"
      ]
     },
     "metadata": {},
     "output_type": "display_data"
    },
    {
     "data": {
      "application/vnd.jupyter.widget-view+json": {
       "model_id": "385374d98414460b8a826c4b849407e7",
       "version_major": 2,
       "version_minor": 0
      },
      "text/plain": [
       "Dev:   0%|          | 0/44 [00:00<?, ?it/s]"
      ]
     },
     "metadata": {},
     "output_type": "display_data"
    },
    {
     "name": "stdout",
     "output_type": "stream",
     "text": [
      "\tDone Epoch: 2/50\n",
      "\t\tLoss\t|\tTrain AVG: 0.4253, Dev AVG: 0.2994\n",
      "\t\tMetrics\t|\tTrain: wer=0.2146, em=0.05713 ; Dev: wer=0.255, em=0.1456\n"
     ]
    },
    {
     "data": {
      "application/vnd.jupyter.widget-view+json": {
       "model_id": "ac8b2d8b1f01423da469e1f7f2222d60",
       "version_major": 2,
       "version_minor": 0
      },
      "text/plain": [
       "Train:   0%|          | 0/2290 [00:00<?, ?it/s]"
      ]
     },
     "metadata": {},
     "output_type": "display_data"
    },
    {
     "data": {
      "application/vnd.jupyter.widget-view+json": {
       "model_id": "f9df0c7ac10e4199a4ef0e5bbf469994",
       "version_major": 2,
       "version_minor": 0
      },
      "text/plain": [
       "Dev:   0%|          | 0/44 [00:00<?, ?it/s]"
      ]
     },
     "metadata": {},
     "output_type": "display_data"
    },
    {
     "name": "stdout",
     "output_type": "stream",
     "text": [
      "\tDone Epoch: 3/50\n",
      "\t\tLoss\t|\tTrain AVG: 0.4002, Dev AVG: 0.275\n",
      "\t\tMetrics\t|\tTrain: wer=0.2072, em=0.0596 ; Dev: wer=0.2446, em=0.1492\n"
     ]
    },
    {
     "data": {
      "application/vnd.jupyter.widget-view+json": {
       "model_id": "c118a89d9b5e4d6898708f44ea017a9a",
       "version_major": 2,
       "version_minor": 0
      },
      "text/plain": [
       "Train:   0%|          | 0/2290 [00:00<?, ?it/s]"
      ]
     },
     "metadata": {},
     "output_type": "display_data"
    },
    {
     "data": {
      "application/vnd.jupyter.widget-view+json": {
       "model_id": "3a2beeb02cf5490685112ba4656ba3c2",
       "version_major": 2,
       "version_minor": 0
      },
      "text/plain": [
       "Dev:   0%|          | 0/44 [00:00<?, ?it/s]"
      ]
     },
     "metadata": {},
     "output_type": "display_data"
    },
    {
     "name": "stdout",
     "output_type": "stream",
     "text": [
      "\tDone Epoch: 4/50\n",
      "\t\tLoss\t|\tTrain AVG: 0.3834, Dev AVG: 0.2788\n",
      "\t\tMetrics\t|\tTrain: wer=0.2023, em=0.06203 ; Dev: wer=0.2517, em=0.1482\n"
     ]
    },
    {
     "data": {
      "application/vnd.jupyter.widget-view+json": {
       "model_id": "ca92416ddcd646d0bfb1ed249de5612b",
       "version_major": 2,
       "version_minor": 0
      },
      "text/plain": [
       "Train:   0%|          | 0/2290 [00:00<?, ?it/s]"
      ]
     },
     "metadata": {},
     "output_type": "display_data"
    },
    {
     "data": {
      "application/vnd.jupyter.widget-view+json": {
       "model_id": "ad72b8e054a141559147e15aabe8c21f",
       "version_major": 2,
       "version_minor": 0
      },
      "text/plain": [
       "Dev:   0%|          | 0/44 [00:00<?, ?it/s]"
      ]
     },
     "metadata": {},
     "output_type": "display_data"
    },
    {
     "name": "stdout",
     "output_type": "stream",
     "text": [
      "\tDone Epoch: 5/50\n",
      "\t\tLoss\t|\tTrain AVG: 0.37, Dev AVG: 0.2707\n",
      "\t\tMetrics\t|\tTrain: wer=0.1987, em=0.0639 ; Dev: wer=0.247, em=0.1521\n"
     ]
    },
    {
     "data": {
      "application/vnd.jupyter.widget-view+json": {
       "model_id": "6236404f9c7f433eb6afbc7f7ff865af",
       "version_major": 2,
       "version_minor": 0
      },
      "text/plain": [
       "Train:   0%|          | 0/2290 [00:00<?, ?it/s]"
      ]
     },
     "metadata": {},
     "output_type": "display_data"
    },
    {
     "data": {
      "application/vnd.jupyter.widget-view+json": {
       "model_id": "f717a7a96c384edaab0c97a2ff83b6e9",
       "version_major": 2,
       "version_minor": 0
      },
      "text/plain": [
       "Dev:   0%|          | 0/44 [00:00<?, ?it/s]"
      ]
     },
     "metadata": {},
     "output_type": "display_data"
    },
    {
     "name": "stdout",
     "output_type": "stream",
     "text": [
      "\tDone Epoch: 6/50\n",
      "\t\tLoss\t|\tTrain AVG: 0.3595, Dev AVG: 0.2688\n",
      "\t\tMetrics\t|\tTrain: wer=0.1956, em=0.06584 ; Dev: wer=0.2472, em=0.1535\n"
     ]
    },
    {
     "data": {
      "application/vnd.jupyter.widget-view+json": {
       "model_id": "cd9ee24e018c467a8e66bea8039d137b",
       "version_major": 2,
       "version_minor": 0
      },
      "text/plain": [
       "Train:   0%|          | 0/2290 [00:00<?, ?it/s]"
      ]
     },
     "metadata": {},
     "output_type": "display_data"
    },
    {
     "data": {
      "application/vnd.jupyter.widget-view+json": {
       "model_id": "529dcf55cfd844e5992ef1bb11b8c4f5",
       "version_major": 2,
       "version_minor": 0
      },
      "text/plain": [
       "Dev:   0%|          | 0/44 [00:00<?, ?it/s]"
      ]
     },
     "metadata": {},
     "output_type": "display_data"
    },
    {
     "name": "stdout",
     "output_type": "stream",
     "text": [
      "\tDone Epoch: 7/50\n",
      "\t\tLoss\t|\tTrain AVG: 0.3503, Dev AVG: 0.2552\n",
      "\t\tMetrics\t|\tTrain: wer=0.1931, em=0.06692 ; Dev: wer=0.2366, em=0.1509\n"
     ]
    },
    {
     "data": {
      "application/vnd.jupyter.widget-view+json": {
       "model_id": "acf62d85064247229ff9764bd0ce4223",
       "version_major": 2,
       "version_minor": 0
      },
      "text/plain": [
       "Train:   0%|          | 0/2290 [00:00<?, ?it/s]"
      ]
     },
     "metadata": {},
     "output_type": "display_data"
    },
    {
     "data": {
      "application/vnd.jupyter.widget-view+json": {
       "model_id": "8120648c382945268e2deccaa8354ea6",
       "version_major": 2,
       "version_minor": 0
      },
      "text/plain": [
       "Dev:   0%|          | 0/44 [00:00<?, ?it/s]"
      ]
     },
     "metadata": {},
     "output_type": "display_data"
    },
    {
     "name": "stdout",
     "output_type": "stream",
     "text": [
      "\tDone Epoch: 8/50\n",
      "\t\tLoss\t|\tTrain AVG: 0.3427, Dev AVG: 0.2651\n",
      "\t\tMetrics\t|\tTrain: wer=0.1908, em=0.06787 ; Dev: wer=0.2469, em=0.156\n"
     ]
    },
    {
     "data": {
      "application/vnd.jupyter.widget-view+json": {
       "model_id": "25264a022cf74037a7b4fb59273d7ad0",
       "version_major": 2,
       "version_minor": 0
      },
      "text/plain": [
       "Train:   0%|          | 0/2290 [00:00<?, ?it/s]"
      ]
     },
     "metadata": {},
     "output_type": "display_data"
    },
    {
     "data": {
      "application/vnd.jupyter.widget-view+json": {
       "model_id": "67831c2060c14531ab51b75c728fc74f",
       "version_major": 2,
       "version_minor": 0
      },
      "text/plain": [
       "Dev:   0%|          | 0/44 [00:00<?, ?it/s]"
      ]
     },
     "metadata": {},
     "output_type": "display_data"
    },
    {
     "name": "stdout",
     "output_type": "stream",
     "text": [
      "\tDone Epoch: 9/50\n",
      "\t\tLoss\t|\tTrain AVG: 0.3359, Dev AVG: 0.2534\n",
      "\t\tMetrics\t|\tTrain: wer=0.189, em=0.06873 ; Dev: wer=0.2367, em=0.1581\n"
     ]
    },
    {
     "data": {
      "application/vnd.jupyter.widget-view+json": {
       "model_id": "526658be5d21453c9de613fb69763e82",
       "version_major": 2,
       "version_minor": 0
      },
      "text/plain": [
       "Train:   0%|          | 0/2290 [00:00<?, ?it/s]"
      ]
     },
     "metadata": {},
     "output_type": "display_data"
    },
    {
     "data": {
      "application/vnd.jupyter.widget-view+json": {
       "model_id": "e13177919d1f425da10bde55517a8cda",
       "version_major": 2,
       "version_minor": 0
      },
      "text/plain": [
       "Dev:   0%|          | 0/44 [00:00<?, ?it/s]"
      ]
     },
     "metadata": {},
     "output_type": "display_data"
    },
    {
     "name": "stdout",
     "output_type": "stream",
     "text": [
      "\tDone Epoch: 10/50\n",
      "\t\tLoss\t|\tTrain AVG: 0.3296, Dev AVG: 0.2463\n",
      "\t\tMetrics\t|\tTrain: wer=0.1871, em=0.07004 ; Dev: wer=0.23, em=0.1599\n"
     ]
    },
    {
     "data": {
      "application/vnd.jupyter.widget-view+json": {
       "model_id": "210300072cf740b7bf2c2f7b440818d1",
       "version_major": 2,
       "version_minor": 0
      },
      "text/plain": [
       "Train:   0%|          | 0/2290 [00:00<?, ?it/s]"
      ]
     },
     "metadata": {},
     "output_type": "display_data"
    },
    {
     "data": {
      "application/vnd.jupyter.widget-view+json": {
       "model_id": "111940315f1d415280f7d6410f45839f",
       "version_major": 2,
       "version_minor": 0
      },
      "text/plain": [
       "Dev:   0%|          | 0/44 [00:00<?, ?it/s]"
      ]
     },
     "metadata": {},
     "output_type": "display_data"
    },
    {
     "name": "stdout",
     "output_type": "stream",
     "text": [
      "\tDone Epoch: 11/50\n",
      "\t\tLoss\t|\tTrain AVG: 0.324, Dev AVG: 0.2463\n",
      "\t\tMetrics\t|\tTrain: wer=0.1856, em=0.07057 ; Dev: wer=0.2306, em=0.1553\n"
     ]
    },
    {
     "data": {
      "application/vnd.jupyter.widget-view+json": {
       "model_id": "10145b078f00431282c101d2c076efba",
       "version_major": 2,
       "version_minor": 0
      },
      "text/plain": [
       "Train:   0%|          | 0/2290 [00:00<?, ?it/s]"
      ]
     },
     "metadata": {},
     "output_type": "display_data"
    },
    {
     "data": {
      "application/vnd.jupyter.widget-view+json": {
       "model_id": "b1e02073a9fc43c2a2a706476497f7c7",
       "version_major": 2,
       "version_minor": 0
      },
      "text/plain": [
       "Dev:   0%|          | 0/44 [00:00<?, ?it/s]"
      ]
     },
     "metadata": {},
     "output_type": "display_data"
    },
    {
     "name": "stdout",
     "output_type": "stream",
     "text": [
      "\tDone Epoch: 12/50\n",
      "\t\tLoss\t|\tTrain AVG: 0.319, Dev AVG: 0.2575\n",
      "\t\tMetrics\t|\tTrain: wer=0.1839, em=0.0718 ; Dev: wer=0.2439, em=0.1553\n"
     ]
    },
    {
     "data": {
      "application/vnd.jupyter.widget-view+json": {
       "model_id": "53bc75ef872c46ed80faba06addf2739",
       "version_major": 2,
       "version_minor": 0
      },
      "text/plain": [
       "Train:   0%|          | 0/2290 [00:00<?, ?it/s]"
      ]
     },
     "metadata": {},
     "output_type": "display_data"
    },
    {
     "data": {
      "application/vnd.jupyter.widget-view+json": {
       "model_id": "e9334556bbfa4dec83e7a1666f5b1d99",
       "version_major": 2,
       "version_minor": 0
      },
      "text/plain": [
       "Dev:   0%|          | 0/44 [00:00<?, ?it/s]"
      ]
     },
     "metadata": {},
     "output_type": "display_data"
    },
    {
     "name": "stdout",
     "output_type": "stream",
     "text": [
      "\tDone Epoch: 13/50\n",
      "\t\tLoss\t|\tTrain AVG: 0.3142, Dev AVG: 0.2412\n",
      "\t\tMetrics\t|\tTrain: wer=0.1825, em=0.07286 ; Dev: wer=0.2291, em=0.1592\n"
     ]
    },
    {
     "data": {
      "application/vnd.jupyter.widget-view+json": {
       "model_id": "418c92fc272a4686a2fbcdd5f800c56f",
       "version_major": 2,
       "version_minor": 0
      },
      "text/plain": [
       "Train:   0%|          | 0/2290 [00:00<?, ?it/s]"
      ]
     },
     "metadata": {},
     "output_type": "display_data"
    },
    {
     "data": {
      "application/vnd.jupyter.widget-view+json": {
       "model_id": "da4ed468ac2d4fcdb1faa7a9c64fb7e2",
       "version_major": 2,
       "version_minor": 0
      },
      "text/plain": [
       "Dev:   0%|          | 0/44 [00:00<?, ?it/s]"
      ]
     },
     "metadata": {},
     "output_type": "display_data"
    },
    {
     "name": "stdout",
     "output_type": "stream",
     "text": [
      "\tDone Epoch: 14/50\n",
      "\t\tLoss\t|\tTrain AVG: 0.31, Dev AVG: 0.2502\n",
      "\t\tMetrics\t|\tTrain: wer=0.1816, em=0.07286 ; Dev: wer=0.2401, em=0.1556\n"
     ]
    },
    {
     "data": {
      "application/vnd.jupyter.widget-view+json": {
       "model_id": "5c0df5e8df0c4eaf828ccc111fe2e68e",
       "version_major": 2,
       "version_minor": 0
      },
      "text/plain": [
       "Train:   0%|          | 0/2290 [00:00<?, ?it/s]"
      ]
     },
     "metadata": {},
     "output_type": "display_data"
    },
    {
     "data": {
      "application/vnd.jupyter.widget-view+json": {
       "model_id": "ecab39b5624e412f89721b8f5833ba72",
       "version_major": 2,
       "version_minor": 0
      },
      "text/plain": [
       "Dev:   0%|          | 0/44 [00:00<?, ?it/s]"
      ]
     },
     "metadata": {},
     "output_type": "display_data"
    },
    {
     "name": "stdout",
     "output_type": "stream",
     "text": [
      "\tDone Epoch: 15/50\n",
      "\t\tLoss\t|\tTrain AVG: 0.3057, Dev AVG: 0.2389\n",
      "\t\tMetrics\t|\tTrain: wer=0.1799, em=0.07468 ; Dev: wer=0.2272, em=0.1609\n"
     ]
    },
    {
     "data": {
      "application/vnd.jupyter.widget-view+json": {
       "model_id": "fdd50ad483924223a155d4e6cb6575cc",
       "version_major": 2,
       "version_minor": 0
      },
      "text/plain": [
       "Train:   0%|          | 0/2290 [00:00<?, ?it/s]"
      ]
     },
     "metadata": {},
     "output_type": "display_data"
    },
    {
     "data": {
      "application/vnd.jupyter.widget-view+json": {
       "model_id": "e3e47b0164b84ef5b54cbb89df8478ab",
       "version_major": 2,
       "version_minor": 0
      },
      "text/plain": [
       "Dev:   0%|          | 0/44 [00:00<?, ?it/s]"
      ]
     },
     "metadata": {},
     "output_type": "display_data"
    },
    {
     "name": "stdout",
     "output_type": "stream",
     "text": [
      "\tDone Epoch: 16/50\n",
      "\t\tLoss\t|\tTrain AVG: 0.3018, Dev AVG: 0.2376\n",
      "\t\tMetrics\t|\tTrain: wer=0.1788, em=0.07521 ; Dev: wer=0.2283, em=0.1613\n"
     ]
    },
    {
     "data": {
      "application/vnd.jupyter.widget-view+json": {
       "model_id": "4ec02b876ad54a7bb0c2382c5c23410a",
       "version_major": 2,
       "version_minor": 0
      },
      "text/plain": [
       "Train:   0%|          | 0/2290 [00:00<?, ?it/s]"
      ]
     },
     "metadata": {},
     "output_type": "display_data"
    },
    {
     "data": {
      "application/vnd.jupyter.widget-view+json": {
       "model_id": "d2a9565f468a40589bfee7644a78399d",
       "version_major": 2,
       "version_minor": 0
      },
      "text/plain": [
       "Dev:   0%|          | 0/44 [00:00<?, ?it/s]"
      ]
     },
     "metadata": {},
     "output_type": "display_data"
    },
    {
     "name": "stdout",
     "output_type": "stream",
     "text": [
      "\tDone Epoch: 17/50\n",
      "\t\tLoss\t|\tTrain AVG: 0.2981, Dev AVG: 0.2375\n",
      "\t\tMetrics\t|\tTrain: wer=0.1778, em=0.0756 ; Dev: wer=0.2279, em=0.1602\n"
     ]
    },
    {
     "data": {
      "application/vnd.jupyter.widget-view+json": {
       "model_id": "5aedd216ac444e15b3743e62990fafb8",
       "version_major": 2,
       "version_minor": 0
      },
      "text/plain": [
       "Train:   0%|          | 0/2290 [00:00<?, ?it/s]"
      ]
     },
     "metadata": {},
     "output_type": "display_data"
    },
    {
     "data": {
      "application/vnd.jupyter.widget-view+json": {
       "model_id": "ca3d9faf71ed480cbdc9333ab6dea93f",
       "version_major": 2,
       "version_minor": 0
      },
      "text/plain": [
       "Dev:   0%|          | 0/44 [00:00<?, ?it/s]"
      ]
     },
     "metadata": {},
     "output_type": "display_data"
    },
    {
     "name": "stdout",
     "output_type": "stream",
     "text": [
      "\tDone Epoch: 18/50\n",
      "\t\tLoss\t|\tTrain AVG: 0.2946, Dev AVG: 0.2385\n",
      "\t\tMetrics\t|\tTrain: wer=0.1767, em=0.07542 ; Dev: wer=0.2288, em=0.1599\n"
     ]
    },
    {
     "data": {
      "application/vnd.jupyter.widget-view+json": {
       "model_id": "aa73debf067d4ed4bc530d3cbb7a30c9",
       "version_major": 2,
       "version_minor": 0
      },
      "text/plain": [
       "Train:   0%|          | 0/2290 [00:00<?, ?it/s]"
      ]
     },
     "metadata": {},
     "output_type": "display_data"
    },
    {
     "data": {
      "application/vnd.jupyter.widget-view+json": {
       "model_id": "32913d70973f4d14ab2c09b8010b2b2e",
       "version_major": 2,
       "version_minor": 0
      },
      "text/plain": [
       "Dev:   0%|          | 0/44 [00:00<?, ?it/s]"
      ]
     },
     "metadata": {},
     "output_type": "display_data"
    },
    {
     "name": "stdout",
     "output_type": "stream",
     "text": [
      "\tDone Epoch: 19/50\n",
      "\t\tLoss\t|\tTrain AVG: 0.2911, Dev AVG: 0.2388\n",
      "\t\tMetrics\t|\tTrain: wer=0.1755, em=0.0766 ; Dev: wer=0.2255, em=0.162\n"
     ]
    },
    {
     "data": {
      "application/vnd.jupyter.widget-view+json": {
       "model_id": "29adf2b63f8540f8ac71f44ad6737654",
       "version_major": 2,
       "version_minor": 0
      },
      "text/plain": [
       "Train:   0%|          | 0/2290 [00:00<?, ?it/s]"
      ]
     },
     "metadata": {},
     "output_type": "display_data"
    },
    {
     "data": {
      "application/vnd.jupyter.widget-view+json": {
       "model_id": "9a95198ef636464f9681115447eda523",
       "version_major": 2,
       "version_minor": 0
      },
      "text/plain": [
       "Dev:   0%|          | 0/44 [00:00<?, ?it/s]"
      ]
     },
     "metadata": {},
     "output_type": "display_data"
    },
    {
     "name": "stdout",
     "output_type": "stream",
     "text": [
      "\tDone Epoch: 20/50\n",
      "\t\tLoss\t|\tTrain AVG: 0.2881, Dev AVG: 0.2341\n",
      "\t\tMetrics\t|\tTrain: wer=0.1746, em=0.07673 ; Dev: wer=0.2248, em=0.1592\n"
     ]
    },
    {
     "data": {
      "application/vnd.jupyter.widget-view+json": {
       "model_id": "66fe8f9465634777aee19e7e350e59b6",
       "version_major": 2,
       "version_minor": 0
      },
      "text/plain": [
       "Train:   0%|          | 0/2290 [00:00<?, ?it/s]"
      ]
     },
     "metadata": {},
     "output_type": "display_data"
    },
    {
     "data": {
      "application/vnd.jupyter.widget-view+json": {
       "model_id": "14f158b1e1474dbaa3e8a57b80b32c5c",
       "version_major": 2,
       "version_minor": 0
      },
      "text/plain": [
       "Dev:   0%|          | 0/44 [00:00<?, ?it/s]"
      ]
     },
     "metadata": {},
     "output_type": "display_data"
    },
    {
     "name": "stdout",
     "output_type": "stream",
     "text": [
      "\tDone Epoch: 21/50\n",
      "\t\tLoss\t|\tTrain AVG: 0.285, Dev AVG: 0.2346\n",
      "\t\tMetrics\t|\tTrain: wer=0.1736, em=0.07842 ; Dev: wer=0.2255, em=0.1599\n"
     ]
    },
    {
     "data": {
      "application/vnd.jupyter.widget-view+json": {
       "model_id": "4a75456bb7fe4b6c9b66dc463cb532fb",
       "version_major": 2,
       "version_minor": 0
      },
      "text/plain": [
       "Train:   0%|          | 0/2290 [00:00<?, ?it/s]"
      ]
     },
     "metadata": {},
     "output_type": "display_data"
    },
    {
     "data": {
      "application/vnd.jupyter.widget-view+json": {
       "model_id": "40f479cc4bb64989af17f88398aa12eb",
       "version_major": 2,
       "version_minor": 0
      },
      "text/plain": [
       "Dev:   0%|          | 0/44 [00:00<?, ?it/s]"
      ]
     },
     "metadata": {},
     "output_type": "display_data"
    },
    {
     "name": "stdout",
     "output_type": "stream",
     "text": [
      "\tDone Epoch: 22/50\n",
      "\t\tLoss\t|\tTrain AVG: 0.282, Dev AVG: 0.2322\n",
      "\t\tMetrics\t|\tTrain: wer=0.1727, em=0.07882 ; Dev: wer=0.2244, em=0.1613\n"
     ]
    },
    {
     "data": {
      "application/vnd.jupyter.widget-view+json": {
       "model_id": "eb73a18e93414e2193cbf8cd072c013c",
       "version_major": 2,
       "version_minor": 0
      },
      "text/plain": [
       "Train:   0%|          | 0/2290 [00:00<?, ?it/s]"
      ]
     },
     "metadata": {},
     "output_type": "display_data"
    },
    {
     "data": {
      "application/vnd.jupyter.widget-view+json": {
       "model_id": "293098862ee147c0ab62176779a248c1",
       "version_major": 2,
       "version_minor": 0
      },
      "text/plain": [
       "Dev:   0%|          | 0/44 [00:00<?, ?it/s]"
      ]
     },
     "metadata": {},
     "output_type": "display_data"
    },
    {
     "name": "stdout",
     "output_type": "stream",
     "text": [
      "\tDone Epoch: 23/50\n",
      "\t\tLoss\t|\tTrain AVG: 0.2793, Dev AVG: 0.2329\n",
      "\t\tMetrics\t|\tTrain: wer=0.1718, em=0.07963 ; Dev: wer=0.2228, em=0.1634\n"
     ]
    },
    {
     "data": {
      "application/vnd.jupyter.widget-view+json": {
       "model_id": "c72fff6e9609415e9f5926f6b5c6d79b",
       "version_major": 2,
       "version_minor": 0
      },
      "text/plain": [
       "Train:   0%|          | 0/2290 [00:00<?, ?it/s]"
      ]
     },
     "metadata": {},
     "output_type": "display_data"
    },
    {
     "data": {
      "application/vnd.jupyter.widget-view+json": {
       "model_id": "1078e338ff4b4ccd8f4f612835f14518",
       "version_major": 2,
       "version_minor": 0
      },
      "text/plain": [
       "Dev:   0%|          | 0/44 [00:00<?, ?it/s]"
      ]
     },
     "metadata": {},
     "output_type": "display_data"
    },
    {
     "name": "stdout",
     "output_type": "stream",
     "text": [
      "\tDone Epoch: 24/50\n",
      "\t\tLoss\t|\tTrain AVG: 0.2765, Dev AVG: 0.2295\n",
      "\t\tMetrics\t|\tTrain: wer=0.171, em=0.08055 ; Dev: wer=0.2224, em=0.1638\n"
     ]
    },
    {
     "data": {
      "application/vnd.jupyter.widget-view+json": {
       "model_id": "73ee1f0967914f8abf1fb156e75509a1",
       "version_major": 2,
       "version_minor": 0
      },
      "text/plain": [
       "Train:   0%|          | 0/2290 [00:00<?, ?it/s]"
      ]
     },
     "metadata": {},
     "output_type": "display_data"
    },
    {
     "data": {
      "application/vnd.jupyter.widget-view+json": {
       "model_id": "0de2f0e7962e425cb7621f2b3d289bf3",
       "version_major": 2,
       "version_minor": 0
      },
      "text/plain": [
       "Dev:   0%|          | 0/44 [00:00<?, ?it/s]"
      ]
     },
     "metadata": {},
     "output_type": "display_data"
    },
    {
     "name": "stdout",
     "output_type": "stream",
     "text": [
      "\tDone Epoch: 25/50\n",
      "\t\tLoss\t|\tTrain AVG: 0.2741, Dev AVG: 0.2297\n",
      "\t\tMetrics\t|\tTrain: wer=0.1701, em=0.08084 ; Dev: wer=0.2207, em=0.1652\n"
     ]
    },
    {
     "data": {
      "application/vnd.jupyter.widget-view+json": {
       "model_id": "475564ceea464f2abbde771296818199",
       "version_major": 2,
       "version_minor": 0
      },
      "text/plain": [
       "Train:   0%|          | 0/2290 [00:00<?, ?it/s]"
      ]
     },
     "metadata": {},
     "output_type": "display_data"
    },
    {
     "data": {
      "application/vnd.jupyter.widget-view+json": {
       "model_id": "83b6506a431747c6b8154b6013e0167c",
       "version_major": 2,
       "version_minor": 0
      },
      "text/plain": [
       "Dev:   0%|          | 0/44 [00:00<?, ?it/s]"
      ]
     },
     "metadata": {},
     "output_type": "display_data"
    },
    {
     "name": "stdout",
     "output_type": "stream",
     "text": [
      "\tDone Epoch: 26/50\n",
      "\t\tLoss\t|\tTrain AVG: 0.2714, Dev AVG: 0.2299\n",
      "\t\tMetrics\t|\tTrain: wer=0.1692, em=0.0816 ; Dev: wer=0.2209, em=0.168\n"
     ]
    },
    {
     "data": {
      "application/vnd.jupyter.widget-view+json": {
       "model_id": "c9907be15ce5496c85b8742051396e43",
       "version_major": 2,
       "version_minor": 0
      },
      "text/plain": [
       "Train:   0%|          | 0/2290 [00:00<?, ?it/s]"
      ]
     },
     "metadata": {},
     "output_type": "display_data"
    },
    {
     "data": {
      "application/vnd.jupyter.widget-view+json": {
       "model_id": "b13a48edc101448483315e9e946c2e47",
       "version_major": 2,
       "version_minor": 0
      },
      "text/plain": [
       "Dev:   0%|          | 0/44 [00:00<?, ?it/s]"
      ]
     },
     "metadata": {},
     "output_type": "display_data"
    },
    {
     "name": "stdout",
     "output_type": "stream",
     "text": [
      "\tDone Epoch: 27/50\n",
      "\t\tLoss\t|\tTrain AVG: 0.269, Dev AVG: 0.2293\n",
      "\t\tMetrics\t|\tTrain: wer=0.1685, em=0.08218 ; Dev: wer=0.2209, em=0.1684\n"
     ]
    },
    {
     "data": {
      "application/vnd.jupyter.widget-view+json": {
       "model_id": "2f9292a3357442778880c2190edabc55",
       "version_major": 2,
       "version_minor": 0
      },
      "text/plain": [
       "Train:   0%|          | 0/2290 [00:00<?, ?it/s]"
      ]
     },
     "metadata": {},
     "output_type": "display_data"
    },
    {
     "data": {
      "application/vnd.jupyter.widget-view+json": {
       "model_id": "29e89d6a344e4b1eaea3f778b11f995c",
       "version_major": 2,
       "version_minor": 0
      },
      "text/plain": [
       "Dev:   0%|          | 0/44 [00:00<?, ?it/s]"
      ]
     },
     "metadata": {},
     "output_type": "display_data"
    },
    {
     "name": "stdout",
     "output_type": "stream",
     "text": [
      "\tDone Epoch: 28/50\n",
      "\t\tLoss\t|\tTrain AVG: 0.2666, Dev AVG: 0.2299\n",
      "\t\tMetrics\t|\tTrain: wer=0.1676, em=0.0821 ; Dev: wer=0.2203, em=0.1681\n"
     ]
    },
    {
     "data": {
      "application/vnd.jupyter.widget-view+json": {
       "model_id": "f40803ccf0544102a9885ca86de78dbd",
       "version_major": 2,
       "version_minor": 0
      },
      "text/plain": [
       "Train:   0%|          | 0/2290 [00:00<?, ?it/s]"
      ]
     },
     "metadata": {},
     "output_type": "display_data"
    },
    {
     "data": {
      "application/vnd.jupyter.widget-view+json": {
       "model_id": "f5724651a2644cd098d1d8190198b300",
       "version_major": 2,
       "version_minor": 0
      },
      "text/plain": [
       "Dev:   0%|          | 0/44 [00:00<?, ?it/s]"
      ]
     },
     "metadata": {},
     "output_type": "display_data"
    },
    {
     "name": "stdout",
     "output_type": "stream",
     "text": [
      "\tDone Epoch: 29/50\n",
      "\t\tLoss\t|\tTrain AVG: 0.2644, Dev AVG: 0.2285\n",
      "\t\tMetrics\t|\tTrain: wer=0.1669, em=0.08285 ; Dev: wer=0.2203, em=0.1677\n"
     ]
    },
    {
     "data": {
      "application/vnd.jupyter.widget-view+json": {
       "model_id": "e4ac2fbc557640d58031cc1d7c32a80b",
       "version_major": 2,
       "version_minor": 0
      },
      "text/plain": [
       "Train:   0%|          | 0/2290 [00:00<?, ?it/s]"
      ]
     },
     "metadata": {},
     "output_type": "display_data"
    },
    {
     "data": {
      "application/vnd.jupyter.widget-view+json": {
       "model_id": "dd8055beab9e4d0aacf9929fcc312f1f",
       "version_major": 2,
       "version_minor": 0
      },
      "text/plain": [
       "Dev:   0%|          | 0/44 [00:00<?, ?it/s]"
      ]
     },
     "metadata": {},
     "output_type": "display_data"
    },
    {
     "name": "stdout",
     "output_type": "stream",
     "text": [
      "\tDone Epoch: 30/50\n",
      "\t\tLoss\t|\tTrain AVG: 0.2621, Dev AVG: 0.2285\n",
      "\t\tMetrics\t|\tTrain: wer=0.1663, em=0.08386 ; Dev: wer=0.2196, em=0.1681\n"
     ]
    },
    {
     "data": {
      "application/vnd.jupyter.widget-view+json": {
       "model_id": "d6ad8b253e764c168c797460c74c13f7",
       "version_major": 2,
       "version_minor": 0
      },
      "text/plain": [
       "Train:   0%|          | 0/2290 [00:00<?, ?it/s]"
      ]
     },
     "metadata": {},
     "output_type": "display_data"
    },
    {
     "data": {
      "application/vnd.jupyter.widget-view+json": {
       "model_id": "c5bbb2d119494aaea0d4b49611638817",
       "version_major": 2,
       "version_minor": 0
      },
      "text/plain": [
       "Dev:   0%|          | 0/44 [00:00<?, ?it/s]"
      ]
     },
     "metadata": {},
     "output_type": "display_data"
    },
    {
     "name": "stdout",
     "output_type": "stream",
     "text": [
      "\tDone Epoch: 31/50\n",
      "\t\tLoss\t|\tTrain AVG: 0.2599, Dev AVG: 0.2282\n",
      "\t\tMetrics\t|\tTrain: wer=0.1654, em=0.08462 ; Dev: wer=0.2201, em=0.1684\n"
     ]
    },
    {
     "data": {
      "application/vnd.jupyter.widget-view+json": {
       "model_id": "b61853603aba4046858857191c781f94",
       "version_major": 2,
       "version_minor": 0
      },
      "text/plain": [
       "Train:   0%|          | 0/2290 [00:00<?, ?it/s]"
      ]
     },
     "metadata": {},
     "output_type": "display_data"
    },
    {
     "data": {
      "application/vnd.jupyter.widget-view+json": {
       "model_id": "554f31398aa34b5684698c08c6758034",
       "version_major": 2,
       "version_minor": 0
      },
      "text/plain": [
       "Dev:   0%|          | 0/44 [00:00<?, ?it/s]"
      ]
     },
     "metadata": {},
     "output_type": "display_data"
    },
    {
     "name": "stdout",
     "output_type": "stream",
     "text": [
      "\tDone Epoch: 32/50\n",
      "\t\tLoss\t|\tTrain AVG: 0.2579, Dev AVG: 0.2274\n",
      "\t\tMetrics\t|\tTrain: wer=0.165, em=0.08457 ; Dev: wer=0.2195, em=0.1688\n"
     ]
    },
    {
     "data": {
      "application/vnd.jupyter.widget-view+json": {
       "model_id": "389a6c1d16ad421b9ec7bd392aae7ebf",
       "version_major": 2,
       "version_minor": 0
      },
      "text/plain": [
       "Train:   0%|          | 0/2290 [00:00<?, ?it/s]"
      ]
     },
     "metadata": {},
     "output_type": "display_data"
    },
    {
     "data": {
      "application/vnd.jupyter.widget-view+json": {
       "model_id": "6554facb39424d08b4cc2b018b965adb",
       "version_major": 2,
       "version_minor": 0
      },
      "text/plain": [
       "Dev:   0%|          | 0/44 [00:00<?, ?it/s]"
      ]
     },
     "metadata": {},
     "output_type": "display_data"
    },
    {
     "name": "stdout",
     "output_type": "stream",
     "text": [
      "\tDone Epoch: 33/50\n",
      "\t\tLoss\t|\tTrain AVG: 0.2559, Dev AVG: 0.2286\n",
      "\t\tMetrics\t|\tTrain: wer=0.1642, em=0.08548 ; Dev: wer=0.219, em=0.1677\n"
     ]
    },
    {
     "data": {
      "application/vnd.jupyter.widget-view+json": {
       "model_id": "39976be1636344aca3bcbb04fe4180ca",
       "version_major": 2,
       "version_minor": 0
      },
      "text/plain": [
       "Train:   0%|          | 0/2290 [00:00<?, ?it/s]"
      ]
     },
     "metadata": {},
     "output_type": "display_data"
    },
    {
     "data": {
      "application/vnd.jupyter.widget-view+json": {
       "model_id": "e31ed984493c43878ff8d898ec67fb81",
       "version_major": 2,
       "version_minor": 0
      },
      "text/plain": [
       "Dev:   0%|          | 0/44 [00:00<?, ?it/s]"
      ]
     },
     "metadata": {},
     "output_type": "display_data"
    },
    {
     "name": "stdout",
     "output_type": "stream",
     "text": [
      "\tDone Epoch: 34/50\n",
      "\t\tLoss\t|\tTrain AVG: 0.254, Dev AVG: 0.2279\n",
      "\t\tMetrics\t|\tTrain: wer=0.1635, em=0.08649 ; Dev: wer=0.2197, em=0.172\n"
     ]
    },
    {
     "data": {
      "application/vnd.jupyter.widget-view+json": {
       "model_id": "68a39a70abd84b13918ee3159076530a",
       "version_major": 2,
       "version_minor": 0
      },
      "text/plain": [
       "Train:   0%|          | 0/2290 [00:00<?, ?it/s]"
      ]
     },
     "metadata": {},
     "output_type": "display_data"
    },
    {
     "data": {
      "application/vnd.jupyter.widget-view+json": {
       "model_id": "a44cf3dc2faf4e36869e5fc83c191ac9",
       "version_major": 2,
       "version_minor": 0
      },
      "text/plain": [
       "Dev:   0%|          | 0/44 [00:00<?, ?it/s]"
      ]
     },
     "metadata": {},
     "output_type": "display_data"
    },
    {
     "name": "stdout",
     "output_type": "stream",
     "text": [
      "\tDone Epoch: 35/50\n",
      "\t\tLoss\t|\tTrain AVG: 0.2518, Dev AVG: 0.2281\n",
      "\t\tMetrics\t|\tTrain: wer=0.1629, em=0.08623 ; Dev: wer=0.2193, em=0.1717\n"
     ]
    },
    {
     "data": {
      "application/vnd.jupyter.widget-view+json": {
       "model_id": "97e24699ad714ffca434e203bb58b686",
       "version_major": 2,
       "version_minor": 0
      },
      "text/plain": [
       "Train:   0%|          | 0/2290 [00:00<?, ?it/s]"
      ]
     },
     "metadata": {},
     "output_type": "display_data"
    },
    {
     "data": {
      "application/vnd.jupyter.widget-view+json": {
       "model_id": "96c067555fc5439896fbaac2fea08b1d",
       "version_major": 2,
       "version_minor": 0
      },
      "text/plain": [
       "Dev:   0%|          | 0/44 [00:00<?, ?it/s]"
      ]
     },
     "metadata": {},
     "output_type": "display_data"
    },
    {
     "name": "stdout",
     "output_type": "stream",
     "text": [
      "\tDone Epoch: 36/50\n",
      "\t\tLoss\t|\tTrain AVG: 0.2501, Dev AVG: 0.2282\n",
      "\t\tMetrics\t|\tTrain: wer=0.1622, em=0.08679 ; Dev: wer=0.2185, em=0.1692\n"
     ]
    },
    {
     "data": {
      "application/vnd.jupyter.widget-view+json": {
       "model_id": "52e5875b0575417bb68e5be479726b59",
       "version_major": 2,
       "version_minor": 0
      },
      "text/plain": [
       "Train:   0%|          | 0/2290 [00:00<?, ?it/s]"
      ]
     },
     "metadata": {},
     "output_type": "display_data"
    },
    {
     "data": {
      "application/vnd.jupyter.widget-view+json": {
       "model_id": "592611082c6b4b658edcec2d59bfca7b",
       "version_major": 2,
       "version_minor": 0
      },
      "text/plain": [
       "Dev:   0%|          | 0/44 [00:00<?, ?it/s]"
      ]
     },
     "metadata": {},
     "output_type": "display_data"
    },
    {
     "name": "stdout",
     "output_type": "stream",
     "text": [
      "\tDone Epoch: 37/50\n",
      "\t\tLoss\t|\tTrain AVG: 0.2481, Dev AVG: 0.2274\n",
      "\t\tMetrics\t|\tTrain: wer=0.1615, em=0.08766 ; Dev: wer=0.2194, em=0.1688\n"
     ]
    },
    {
     "data": {
      "application/vnd.jupyter.widget-view+json": {
       "model_id": "beec2b64506b4b87b6629eaea40b05bb",
       "version_major": 2,
       "version_minor": 0
      },
      "text/plain": [
       "Train:   0%|          | 0/2290 [00:00<?, ?it/s]"
      ]
     },
     "metadata": {},
     "output_type": "display_data"
    },
    {
     "data": {
      "application/vnd.jupyter.widget-view+json": {
       "model_id": "1c6092d0d45d420a948c9134f59f1fe7",
       "version_major": 2,
       "version_minor": 0
      },
      "text/plain": [
       "Dev:   0%|          | 0/44 [00:00<?, ?it/s]"
      ]
     },
     "metadata": {},
     "output_type": "display_data"
    },
    {
     "name": "stdout",
     "output_type": "stream",
     "text": [
      "\tDone Epoch: 38/50\n",
      "\t\tLoss\t|\tTrain AVG: 0.2463, Dev AVG: 0.2283\n",
      "\t\tMetrics\t|\tTrain: wer=0.1611, em=0.08784 ; Dev: wer=0.2193, em=0.1702\n"
     ]
    },
    {
     "data": {
      "application/vnd.jupyter.widget-view+json": {
       "model_id": "b0cffd97b65d4828af8ffcf717896092",
       "version_major": 2,
       "version_minor": 0
      },
      "text/plain": [
       "Train:   0%|          | 0/2290 [00:00<?, ?it/s]"
      ]
     },
     "metadata": {},
     "output_type": "display_data"
    },
    {
     "data": {
      "application/vnd.jupyter.widget-view+json": {
       "model_id": "5adf05a6075f4da69360c9d507bf66df",
       "version_major": 2,
       "version_minor": 0
      },
      "text/plain": [
       "Dev:   0%|          | 0/44 [00:00<?, ?it/s]"
      ]
     },
     "metadata": {},
     "output_type": "display_data"
    },
    {
     "name": "stdout",
     "output_type": "stream",
     "text": [
      "\tDone Epoch: 39/50\n",
      "\t\tLoss\t|\tTrain AVG: 0.2444, Dev AVG: 0.2278\n",
      "\t\tMetrics\t|\tTrain: wer=0.1602, em=0.08879 ; Dev: wer=0.2196, em=0.1681\n"
     ]
    },
    {
     "data": {
      "application/vnd.jupyter.widget-view+json": {
       "model_id": "5f779efccf064e8fb934401bb8b06497",
       "version_major": 2,
       "version_minor": 0
      },
      "text/plain": [
       "Train:   0%|          | 0/2290 [00:00<?, ?it/s]"
      ]
     },
     "metadata": {},
     "output_type": "display_data"
    },
    {
     "data": {
      "application/vnd.jupyter.widget-view+json": {
       "model_id": "d628ea3a1d4148c2aeee3e92ec5f6510",
       "version_major": 2,
       "version_minor": 0
      },
      "text/plain": [
       "Dev:   0%|          | 0/44 [00:00<?, ?it/s]"
      ]
     },
     "metadata": {},
     "output_type": "display_data"
    },
    {
     "name": "stdout",
     "output_type": "stream",
     "text": [
      "\tDone Epoch: 40/50\n",
      "\t\tLoss\t|\tTrain AVG: 0.2429, Dev AVG: 0.2286\n",
      "\t\tMetrics\t|\tTrain: wer=0.1597, em=0.08908 ; Dev: wer=0.2193, em=0.171\n"
     ]
    },
    {
     "data": {
      "application/vnd.jupyter.widget-view+json": {
       "model_id": "6d6849386bd446af8c573456b2a2122f",
       "version_major": 2,
       "version_minor": 0
      },
      "text/plain": [
       "Train:   0%|          | 0/2290 [00:00<?, ?it/s]"
      ]
     },
     "metadata": {},
     "output_type": "display_data"
    },
    {
     "data": {
      "application/vnd.jupyter.widget-view+json": {
       "model_id": "39a4fbe1422f41e09cc1b9d1d9a45b7b",
       "version_major": 2,
       "version_minor": 0
      },
      "text/plain": [
       "Dev:   0%|          | 0/44 [00:00<?, ?it/s]"
      ]
     },
     "metadata": {},
     "output_type": "display_data"
    },
    {
     "name": "stdout",
     "output_type": "stream",
     "text": [
      "\tDone Epoch: 41/50\n",
      "\t\tLoss\t|\tTrain AVG: 0.2412, Dev AVG: 0.2278\n",
      "\t\tMetrics\t|\tTrain: wer=0.1591, em=0.0891 ; Dev: wer=0.2189, em=0.1727\n"
     ]
    },
    {
     "data": {
      "application/vnd.jupyter.widget-view+json": {
       "model_id": "2fb3798c31744e74ba08b6e49c6beabc",
       "version_major": 2,
       "version_minor": 0
      },
      "text/plain": [
       "Train:   0%|          | 0/2290 [00:00<?, ?it/s]"
      ]
     },
     "metadata": {},
     "output_type": "display_data"
    },
    {
     "data": {
      "application/vnd.jupyter.widget-view+json": {
       "model_id": "d89619e6da52475eb21e5caac84c85ed",
       "version_major": 2,
       "version_minor": 0
      },
      "text/plain": [
       "Dev:   0%|          | 0/44 [00:00<?, ?it/s]"
      ]
     },
     "metadata": {},
     "output_type": "display_data"
    },
    {
     "name": "stdout",
     "output_type": "stream",
     "text": [
      "\tDone Epoch: 42/50\n",
      "\t\tLoss\t|\tTrain AVG: 0.2395, Dev AVG: 0.2269\n",
      "\t\tMetrics\t|\tTrain: wer=0.1585, em=0.08984 ; Dev: wer=0.2189, em=0.1709\n"
     ]
    },
    {
     "data": {
      "application/vnd.jupyter.widget-view+json": {
       "model_id": "82518bc1f44d454bb9dda3f42b2fc5b5",
       "version_major": 2,
       "version_minor": 0
      },
      "text/plain": [
       "Train:   0%|          | 0/2290 [00:00<?, ?it/s]"
      ]
     },
     "metadata": {},
     "output_type": "display_data"
    },
    {
     "data": {
      "application/vnd.jupyter.widget-view+json": {
       "model_id": "e7883f5f13644092a8c588b2037086ae",
       "version_major": 2,
       "version_minor": 0
      },
      "text/plain": [
       "Dev:   0%|          | 0/44 [00:00<?, ?it/s]"
      ]
     },
     "metadata": {},
     "output_type": "display_data"
    },
    {
     "name": "stdout",
     "output_type": "stream",
     "text": [
      "\tDone Epoch: 43/50\n",
      "\t\tLoss\t|\tTrain AVG: 0.2378, Dev AVG: 0.2272\n",
      "\t\tMetrics\t|\tTrain: wer=0.158, em=0.09014 ; Dev: wer=0.2179, em=0.1699\n"
     ]
    },
    {
     "data": {
      "application/vnd.jupyter.widget-view+json": {
       "model_id": "cf008856741340af8abbb5ad5091f2e8",
       "version_major": 2,
       "version_minor": 0
      },
      "text/plain": [
       "Train:   0%|          | 0/2290 [00:00<?, ?it/s]"
      ]
     },
     "metadata": {},
     "output_type": "display_data"
    },
    {
     "data": {
      "application/vnd.jupyter.widget-view+json": {
       "model_id": "4b90315f564f4a4f8e5ead7981679ae4",
       "version_major": 2,
       "version_minor": 0
      },
      "text/plain": [
       "Dev:   0%|          | 0/44 [00:00<?, ?it/s]"
      ]
     },
     "metadata": {},
     "output_type": "display_data"
    },
    {
     "name": "stdout",
     "output_type": "stream",
     "text": [
      "\tDone Epoch: 44/50\n",
      "\t\tLoss\t|\tTrain AVG: 0.236, Dev AVG: 0.2269\n",
      "\t\tMetrics\t|\tTrain: wer=0.1571, em=0.09098 ; Dev: wer=0.2181, em=0.1713\n"
     ]
    },
    {
     "data": {
      "application/vnd.jupyter.widget-view+json": {
       "model_id": "ae687e9647cd44f2bed1127aa001662d",
       "version_major": 2,
       "version_minor": 0
      },
      "text/plain": [
       "Train:   0%|          | 0/2290 [00:00<?, ?it/s]"
      ]
     },
     "metadata": {},
     "output_type": "display_data"
    },
    {
     "data": {
      "application/vnd.jupyter.widget-view+json": {
       "model_id": "1942ac9bd9674e8381c47f5d42c49f35",
       "version_major": 2,
       "version_minor": 0
      },
      "text/plain": [
       "Dev:   0%|          | 0/44 [00:00<?, ?it/s]"
      ]
     },
     "metadata": {},
     "output_type": "display_data"
    },
    {
     "name": "stdout",
     "output_type": "stream",
     "text": [
      "\tDone Epoch: 45/50\n",
      "\t\tLoss\t|\tTrain AVG: 0.2346, Dev AVG: 0.228\n",
      "\t\tMetrics\t|\tTrain: wer=0.1567, em=0.09065 ; Dev: wer=0.2187, em=0.1699\n"
     ]
    },
    {
     "data": {
      "application/vnd.jupyter.widget-view+json": {
       "model_id": "3f70a09e04194398a24e3b7529ea62c3",
       "version_major": 2,
       "version_minor": 0
      },
      "text/plain": [
       "Train:   0%|          | 0/2290 [00:00<?, ?it/s]"
      ]
     },
     "metadata": {},
     "output_type": "display_data"
    },
    {
     "data": {
      "application/vnd.jupyter.widget-view+json": {
       "model_id": "c875736adcc7426e9fcb994decd8ba1b",
       "version_major": 2,
       "version_minor": 0
      },
      "text/plain": [
       "Dev:   0%|          | 0/44 [00:00<?, ?it/s]"
      ]
     },
     "metadata": {},
     "output_type": "display_data"
    },
    {
     "name": "stdout",
     "output_type": "stream",
     "text": [
      "\tDone Epoch: 46/50\n",
      "\t\tLoss\t|\tTrain AVG: 0.233, Dev AVG: 0.2281\n",
      "\t\tMetrics\t|\tTrain: wer=0.1562, em=0.09233 ; Dev: wer=0.2178, em=0.1706\n"
     ]
    },
    {
     "data": {
      "application/vnd.jupyter.widget-view+json": {
       "model_id": "44db17b4675d44d0a1aae29a6582dfc2",
       "version_major": 2,
       "version_minor": 0
      },
      "text/plain": [
       "Train:   0%|          | 0/2290 [00:00<?, ?it/s]"
      ]
     },
     "metadata": {},
     "output_type": "display_data"
    },
    {
     "data": {
      "application/vnd.jupyter.widget-view+json": {
       "model_id": "0d3419e3abc64ae385611443f3c437d5",
       "version_major": 2,
       "version_minor": 0
      },
      "text/plain": [
       "Dev:   0%|          | 0/44 [00:00<?, ?it/s]"
      ]
     },
     "metadata": {},
     "output_type": "display_data"
    },
    {
     "name": "stdout",
     "output_type": "stream",
     "text": [
      "\tDone Epoch: 47/50\n",
      "\t\tLoss\t|\tTrain AVG: 0.2315, Dev AVG: 0.2273\n",
      "\t\tMetrics\t|\tTrain: wer=0.1556, em=0.0927 ; Dev: wer=0.2172, em=0.1735\n"
     ]
    },
    {
     "data": {
      "application/vnd.jupyter.widget-view+json": {
       "model_id": "d5634bbbffdf4c72b415618a9525e113",
       "version_major": 2,
       "version_minor": 0
      },
      "text/plain": [
       "Train:   0%|          | 0/2290 [00:00<?, ?it/s]"
      ]
     },
     "metadata": {},
     "output_type": "display_data"
    },
    {
     "data": {
      "application/vnd.jupyter.widget-view+json": {
       "model_id": "161e48631909433dab33aef73c3bcb8c",
       "version_major": 2,
       "version_minor": 0
      },
      "text/plain": [
       "Dev:   0%|          | 0/44 [00:00<?, ?it/s]"
      ]
     },
     "metadata": {},
     "output_type": "display_data"
    },
    {
     "name": "stdout",
     "output_type": "stream",
     "text": [
      "\tDone Epoch: 48/50\n",
      "\t\tLoss\t|\tTrain AVG: 0.2301, Dev AVG: 0.2282\n",
      "\t\tMetrics\t|\tTrain: wer=0.1552, em=0.09321 ; Dev: wer=0.2169, em=0.172\n"
     ]
    },
    {
     "data": {
      "application/vnd.jupyter.widget-view+json": {
       "model_id": "ebb91e2f8cb04d45835f9d143c81034c",
       "version_major": 2,
       "version_minor": 0
      },
      "text/plain": [
       "Train:   0%|          | 0/2290 [00:00<?, ?it/s]"
      ]
     },
     "metadata": {},
     "output_type": "display_data"
    },
    {
     "data": {
      "application/vnd.jupyter.widget-view+json": {
       "model_id": "2b17df58e04641d59865d0086ec2347d",
       "version_major": 2,
       "version_minor": 0
      },
      "text/plain": [
       "Dev:   0%|          | 0/44 [00:00<?, ?it/s]"
      ]
     },
     "metadata": {},
     "output_type": "display_data"
    },
    {
     "name": "stdout",
     "output_type": "stream",
     "text": [
      "\tDone Epoch: 49/50\n",
      "\t\tLoss\t|\tTrain AVG: 0.2285, Dev AVG: 0.2277\n",
      "\t\tMetrics\t|\tTrain: wer=0.1545, em=0.09378 ; Dev: wer=0.218, em=0.1727\n"
     ]
    },
    {
     "data": {
      "application/vnd.jupyter.widget-view+json": {
       "model_id": "5d6cf2e506f340f7beb7dc85c7bbf31f",
       "version_major": 2,
       "version_minor": 0
      },
      "text/plain": [
       "Train:   0%|          | 0/2290 [00:00<?, ?it/s]"
      ]
     },
     "metadata": {},
     "output_type": "display_data"
    },
    {
     "data": {
      "application/vnd.jupyter.widget-view+json": {
       "model_id": "b03f88eb81764452965a217844843d67",
       "version_major": 2,
       "version_minor": 0
      },
      "text/plain": [
       "Dev:   0%|          | 0/44 [00:00<?, ?it/s]"
      ]
     },
     "metadata": {},
     "output_type": "display_data"
    },
    {
     "name": "stdout",
     "output_type": "stream",
     "text": [
      "\tDone Epoch: 50/50\n",
      "\t\tLoss\t|\tTrain AVG: 0.2271, Dev AVG: 0.2277\n",
      "\t\tMetrics\t|\tTrain: wer=0.1539, em=0.09417 ; Dev: wer=0.218, em=0.1709\n",
      "\n",
      "Training finished!\n",
      "\n"
     ]
    }
   ],
   "source": [
    "assert debug==False, \"You are in debug mode, please change to False\"\n",
    "\n",
    "orig_other_model = RecACEWrapModel(t5_type=t5_type, model_type='original', bin_size=bin_size, use_pretrained=True).to(DEVICE)\n",
    "orig_other_optimizer = torch.optim.Adam(orig_other_model.parameters(), lr=1e-4)\n",
    "\n",
    "orig_other_model, orig_other_metrics_df = training(\n",
    "    model=orig_other_model,\n",
    "    n_epochs=50,\n",
    "    train_data=train_loader_other,\n",
    "    dev_data=dev_loader_other,\n",
    "    optimizer=orig_other_optimizer,\n",
    "    exp_name=f\"original_f5_Other\",\n",
    "    save_model=True)"
   ]
  },
  {
   "cell_type": "markdown",
   "id": "1f9d1da5",
   "metadata": {},
   "source": [
    "#### Analysis"
   ]
  },
  {
   "cell_type": "code",
   "execution_count": 21,
   "id": "7395b157",
   "metadata": {},
   "outputs": [
    {
     "data": {
      "image/png": "[encoded data removed]",
      "text/plain": [
       "<Figure size 1440x576 with 3 Axes>"
      ]
     },
     "metadata": {
      "needs_background": "light"
     },
     "output_type": "display_data"
    }
   ],
   "source": [
    "plot_graphs(orig_other_metrics_df, gt_df=asr_evaluators['Other'].metrics_df, fig_size=(20,8))"
   ]
  }
 ],
 "metadata": {
  "kernelspec": {
   "display_name": "Python 3 (ipykernel)",
   "language": "python",
   "name": "python3"
  },
  "language_info": {
   "codemirror_mode": {
    "name": "ipython",
    "version": 3
   },
   "file_extension": ".py",
   "mimetype": "text/x-python",
   "name": "python",
   "nbconvert_exporter": "python",
   "pygments_lexer": "ipython3",
   "version": "3.8.5"
  }
 },
 "nbformat": 4,
 "nbformat_minor": 5
}
