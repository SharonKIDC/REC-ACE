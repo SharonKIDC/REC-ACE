{
 "cells": [
  {
   "cell_type": "markdown",
   "id": "8d4f9352",
   "metadata": {
    "pycharm": {
     "name": "#%% md\n"
    }
   },
   "source": [
    "# Imports"
   ]
  },
  {
   "cell_type": "code",
   "execution_count": 1,
   "id": "b69b5430",
   "metadata": {
    "pycharm": {
     "name": "#%%\n"
    }
   },
   "outputs": [
    {
     "name": "stderr",
     "output_type": "stream",
     "text": [
      "c:\\Users\\SharonK\\.virtualenvs\\DS38-Dev\\lib\\site-packages\\requests\\__init__.py:102: RequestsDependencyWarning: urllib3 (1.26.7) or chardet (5.1.0)/charset_normalizer (2.0.7) doesn't match a supported version!\n",
      "  warnings.warn(\"urllib3 ({}) or chardet ({})/charset_normalizer ({}) doesn't match a supported \"\n"
     ]
    }
   ],
   "source": [
    "import os\n",
    "import random\n",
    "from datetime import datetime\n",
    "\n",
    "from tqdm.notebook import tqdm\n",
    "from matplotlib import pyplot as plt\n",
    "import numpy as np\n",
    "import torch\n",
    "from transformers import T5Tokenizer\n",
    "\n",
    "from evaluation import Evaluator\n",
    "from visualization import plot_graphs\n",
    "from data_utils.dataset import prepare_data_basic, prepare_data_for_prompt_engineering\n",
    "from data_utils.utils import read_json\n",
    "from models.rec_ace import RecACEWrapModel, detokenize_and_clean"
   ]
  },
  {
   "cell_type": "markdown",
   "id": "34a4d00b",
   "metadata": {
    "pycharm": {
     "name": "#%% md\n"
    }
   },
   "source": [
    "## Seeds"
   ]
  },
  {
   "cell_type": "code",
   "execution_count": 2,
   "id": "f532e285",
   "metadata": {
    "pycharm": {
     "name": "#%%\n"
    }
   },
   "outputs": [
    {
     "data": {
      "text/plain": [
       "<torch._C.Generator at 0x278512d1bf0>"
      ]
     },
     "execution_count": 2,
     "metadata": {},
     "output_type": "execute_result"
    }
   ],
   "source": [
    "SEED = 42\n",
    "\n",
    "# Set the random seed for Python\n",
    "random.seed(SEED)\n",
    "\n",
    "# Set the random seed for numpy\n",
    "np.random.seed(SEED)\n",
    "\n",
    "torch.manual_seed(SEED)"
   ]
  },
  {
   "cell_type": "markdown",
   "id": "7422b232",
   "metadata": {
    "pycharm": {
     "name": "#%% md\n"
    }
   },
   "source": [
    "# Data Paths"
   ]
  },
  {
   "cell_type": "code",
   "execution_count": 3,
   "id": "38e9663e",
   "metadata": {
    "pycharm": {
     "name": "#%%\n"
    }
   },
   "outputs": [],
   "source": [
    "datasets_dict = {\n",
    "    # Default\n",
    "    'Default Train Clean': 'data/default/train_clean.json',\n",
    "    'Default Train Other': 'data/default/train_other.json',\n",
    "    'Default Dev Clean': 'data/default/dev_clean.json',\n",
    "    'Default Dev Other': 'data/default/dev_other.json',\n",
    "    # Video\n",
    "    'Video Train Clean': 'data/video/train_clean.json',\n",
    "    'Video Train Other': 'data/video/train_other.json',\n",
    "    'Video Dev Clean': 'data/video/dev_clean.json',\n",
    "    'Video Dev Other': 'data/video/dev_other.json'\n",
    "}"
   ]
  },
  {
   "cell_type": "markdown",
   "id": "8068e355",
   "metadata": {
    "pycharm": {
     "name": "#%% md\n"
    }
   },
   "source": [
    "# Load essentials"
   ]
  },
  {
   "cell_type": "code",
   "execution_count": 4,
   "id": "d991cad0",
   "metadata": {
    "pycharm": {
     "name": "#%%\n"
    }
   },
   "outputs": [
    {
     "data": {
      "text/plain": [
       "'cuda'"
      ]
     },
     "execution_count": 4,
     "metadata": {},
     "output_type": "execute_result"
    }
   ],
   "source": [
    "DEVICE = 'cuda' if torch.cuda.is_available() else 'cpu'\n",
    "DEVICE"
   ]
  },
  {
   "cell_type": "code",
   "execution_count": 5,
   "id": "c2d034af",
   "metadata": {
    "pycharm": {
     "name": "#%%\n"
    }
   },
   "outputs": [],
   "source": [
    "debug = False\n",
    "\n",
    "# Base architecture\n",
    "t5_type = 't5-small'\n",
    "\n",
    "# How to quantize the confidence vectors [only required for rec_ac]\n",
    "bin_size=10\n",
    "\n",
    "results_dir = './results'"
   ]
  },
  {
   "cell_type": "markdown",
   "id": "04623fc8",
   "metadata": {
    "pycharm": {
     "name": "#%% md\n"
    }
   },
   "source": [
    "### Tokenizer"
   ]
  },
  {
   "cell_type": "code",
   "execution_count": 6,
   "id": "315802c1",
   "metadata": {
    "pycharm": {
     "name": "#%%\n"
    }
   },
   "outputs": [],
   "source": [
    "tokenizer = T5Tokenizer.from_pretrained(\"t5-small\")"
   ]
  },
  {
   "cell_type": "markdown",
   "id": "bd108a00",
   "metadata": {
    "pycharm": {
     "name": "#%% md\n"
    }
   },
   "source": [
    "## Read Data"
   ]
  },
  {
   "cell_type": "code",
   "execution_count": 7,
   "id": "cfa01feb",
   "metadata": {
    "pycharm": {
     "name": "#%%\n"
    }
   },
   "outputs": [],
   "source": [
    "# Clean data\n",
    "train_set = read_json(json_path=datasets_dict['Default Train Clean'])\n",
    "dev_set = read_json(json_path=datasets_dict['Default Dev Clean'])\n",
    "\n",
    "# Other data\n",
    "train_set_other = read_json(json_path=datasets_dict['Default Train Other'])\n",
    "dev_set_other = read_json(json_path=datasets_dict['Default Dev Other'])"
   ]
  },
  {
   "cell_type": "markdown",
   "id": "0c2cf505",
   "metadata": {
    "pycharm": {
     "name": "#%% md\n"
    }
   },
   "source": [
    "## Prepare as DataLoader"
   ]
  },
  {
   "cell_type": "code",
   "execution_count": 8,
   "id": "3cf812b2",
   "metadata": {
    "pycharm": {
     "name": "#%%\n"
    }
   },
   "outputs": [
    {
     "name": "stdout",
     "output_type": "stream",
     "text": [
      "- Converting the input sentences into tokens\n",
      "- Converting the GT sentences into tokens\n",
      "- Converting the input sentences into tokens\n",
      "- Converting the GT sentences into tokens\n",
      "- Converting the input sentences into tokens\n",
      "- Converting the GT sentences into tokens\n",
      "- Converting the input sentences into tokens\n",
      "- Converting the GT sentences into tokens\n"
     ]
    }
   ],
   "source": [
    "batch_size = 64\n",
    "\n",
    "# Clean data\n",
    "train_loader = prepare_data_basic(data=train_set, tokenizer=tokenizer, batch_size=batch_size, shuffle=True, debug=debug)\n",
    "dev_loader = prepare_data_basic(data=dev_set, tokenizer=tokenizer, batch_size=batch_size, shuffle=False)\n",
    "\n",
    "# Other data\n",
    "train_loader_other = prepare_data_basic(data=train_set_other, tokenizer=tokenizer, batch_size=batch_size, shuffle=True, debug=debug)\n",
    "dev_loader_other = prepare_data_basic(data=dev_set_other, tokenizer=tokenizer, batch_size=batch_size, shuffle=False)"
   ]
  },
  {
   "cell_type": "markdown",
   "id": "980b7dfd",
   "metadata": {},
   "source": [
    "# Evaluating metrics for the ASR (for train and dev sets)\n",
    "This is useful for the convergence plots"
   ]
  },
  {
   "cell_type": "code",
   "execution_count": 9,
   "id": "fbfa10b1",
   "metadata": {},
   "outputs": [
    {
     "name": "stdout",
     "output_type": "stream",
     "text": [
      "Running ASR evaluation on Clean datasets\n",
      "Train Metrics:\n",
      "+----+-------+-------+\n",
      "|    |   wer |    em |\n",
      "|----+-------+-------|\n",
      "|  1 | 0.126 | 0.104 |\n",
      "+----+-------+-------+\n",
      "\n",
      "Dev Metrics:\n",
      "+----+-------+-------+\n",
      "|    |   wer |    em |\n",
      "|----+-------+-------|\n",
      "|  1 | 0.132 | 0.307 |\n",
      "+----+-------+-------+\n",
      "\n",
      "\n",
      "Running ASR evaluation on Other datasets\n",
      "Train Metrics:\n",
      "+----+-------+-------+\n",
      "|    |   wer |    em |\n",
      "|----+-------+-------|\n",
      "|  1 | 0.229 | 0.056 |\n",
      "+----+-------+-------+\n",
      "\n",
      "Dev Metrics:\n",
      "+----+-------+-------+\n",
      "|    |   wer |    em |\n",
      "|----+-------+-------|\n",
      "|  1 | 0.293 | 0.132 |\n",
      "+----+-------+-------+\n",
      "\n",
      "\n"
     ]
    }
   ],
   "source": [
    "asr_evaluators = {}\n",
    "\n",
    "for data_type in ['Clean', 'Other']:\n",
    "\n",
    "    # Print data type header\n",
    "    print(f'Running ASR evaluation on {data_type} datasets')\n",
    "\n",
    "    types = ['train', 'dev']\n",
    "    asr_evaluator = Evaluator(metrics=['wer', 'em'], set_types=types)\n",
    "\n",
    "    data_loaders = [train_loader, dev_loader] if data_type == 'Clean' else [train_loader_other, dev_loader_other]\n",
    "    for set_type, loader in zip(types, data_loaders):\n",
    "        for batch in loader:\n",
    "            reference = detokenize_and_clean(tokenizer, batch['sentences'])\n",
    "            predicted = detokenize_and_clean(tokenizer, batch['labels'])\n",
    "            asr_evaluator.calculate_metrics(set_type=set_type, reference=reference, predicted=predicted)\n",
    "\n",
    "    asr_evaluator.end_epoch_routine(print_metrics=False)\n",
    "\n",
    "    # Print final metrics\n",
    "    asr_evaluator.print_final_metrics()\n",
    "\n",
    "    # Save results to disk\n",
    "    dir_path = os.path.join(results_dir, 'ASR', data_type)\n",
    "    os.makedirs(dir_path, exist_ok=True)\n",
    "    asr_evaluator.store_df(dir_path)\n",
    "\n",
    "    # Save evaluator for later use\n",
    "    asr_evaluators[data_type] = asr_evaluator\n",
    "\n",
    "    print()"
   ]
  },
  {
   "cell_type": "markdown",
   "id": "372bc6e6",
   "metadata": {
    "pycharm": {
     "name": "#%% md\n"
    }
   },
   "source": [
    "# Training"
   ]
  },
  {
   "cell_type": "code",
   "execution_count": 10,
   "id": "928826cf",
   "metadata": {
    "pycharm": {
     "name": "#%%\n"
    }
   },
   "outputs": [],
   "source": [
    "def training(model, n_epochs, train_data, dev_data, optimizer, exp_name, save_model=True):\n",
    "    \"\"\" Training loop for the model\n",
    "\n",
    "        Args:\n",
    "            model (nn.Module): Model to train\n",
    "            n_epochs (int): Number of epochs to train\n",
    "            train_data (DataLoader): DataLoader with train data\n",
    "            dev_data (DataLoader): DataLoader with dev data\n",
    "            optimizer (torch.optim): Optimizer for the model\n",
    "            exp_name (str): Name of the experiment\n",
    "            save_model (bool): Whether to save the model after training\n",
    "\n",
    "        Returns:\n",
    "            dict: Dictionary with train and dev losses and accuracies\n",
    "    \"\"\"\n",
    "\n",
    "    assert exp_name, \"Must supply experiment name\"\n",
    "    assert model.model_type in ['original', 'rec_ace'], f\"{model.model_type} is not a valid training scheme\"\n",
    "\n",
    "    print(f\"Experiment name: {exp_name}\")\n",
    "    print(f\"Training model of type: {model.model_type}\")\n",
    "    print(f\"Confidence vectors are {'NOT IN USED' if model.model_type == 'original' else 'IN USED'}\")\n",
    "\n",
    "    if save_model:\n",
    "        timestamp = datetime.now().strftime(\"%Y-%m-%d_%H-%M-%S\")\n",
    "        output_dir = os.path.join(results_dir, f'{exp_name}/{timestamp}')\n",
    "        os.makedirs(output_dir, exist_ok=True)\n",
    "        print(f\"Saving model to: {output_dir}\")\n",
    "\n",
    "    # Initialize metrics evaluator\n",
    "    evaluator = Evaluator(metrics=['wer', 'em'], set_types=['train', 'dev'])\n",
    "    train_epoch_losses, dev_epoch_losses = [], []\n",
    "\n",
    "    # Training loop\n",
    "    pbar = tqdm(range(n_epochs), position=0, leave=False)\n",
    "    for epoch in pbar:\n",
    "        pbar.set_description(f\"Epoch: {epoch+1}/{n_epochs}\")\n",
    "\n",
    "        train_losses, dev_losses = [], []\n",
    "\n",
    "        ### TRAIN\n",
    "        model.train()\n",
    "\n",
    "        # Iterating over batches in train data\n",
    "        pbar_train = tqdm(train_data, desc=\"Train\", leave=False)\n",
    "        for batch in pbar_train:\n",
    "\n",
    "            optimizer.zero_grad()\n",
    "\n",
    "            X = batch['sentences'].to(DEVICE)\n",
    "            S = batch['scores'].to(DEVICE)\n",
    "            y = batch['labels'].to(DEVICE)\n",
    "\n",
    "            preds = model(input_ids=X, labels=y, scores_ids=S)\n",
    "\n",
    "            loss = preds.loss\n",
    "            logits = preds.logits\n",
    "\n",
    "            reference = detokenize_and_clean(tokenizer, y)\n",
    "            predicted = detokenize_and_clean(tokenizer, logits.argmax(dim=-1))\n",
    "\n",
    "            train_losses.append(loss.item())\n",
    "            evaluator.calculate_metrics(set_type='train', reference=reference, predicted=predicted)\n",
    "\n",
    "            loss.backward()\n",
    "            optimizer.step()\n",
    "\n",
    "        ### Evaluate DEV set\n",
    "        model.eval()\n",
    "\n",
    "        # No need for gradients when evaluating\n",
    "        with torch.no_grad():\n",
    "            pbar_dev = tqdm(dev_data, desc=\"Dev\", leave=False)\n",
    "            for batch in pbar_dev:\n",
    "\n",
    "                X = batch['sentences'].to(DEVICE)\n",
    "                S = batch['scores'].to(DEVICE)\n",
    "                y = batch['labels'].to(DEVICE)\n",
    "\n",
    "                dev_preds = model(input_ids=X, labels=y, scores_ids=S)\n",
    "\n",
    "                dev_loss = dev_preds.loss\n",
    "                dev_logits = dev_preds.logits\n",
    "\n",
    "                def_reference = detokenize_and_clean(tokenizer, y)\n",
    "                def_predicted = detokenize_and_clean(tokenizer, dev_logits.argmax(dim=-1))\n",
    "                \n",
    "                dev_losses.append(dev_loss.item())\n",
    "                evaluator.calculate_metrics(set_type='dev', reference=def_reference, predicted=def_predicted)\n",
    "\n",
    "        # End of epoch\n",
    "        print(f\"\\tDone Epoch: {epoch+1}/{n_epochs}\")\n",
    "        train_epoch_losses.append(np.mean(train_losses))\n",
    "        dev_epoch_losses.append(np.mean(dev_losses))\n",
    "        print(f\"\\t\\tLoss\\t|\\tTrain AVG: {train_epoch_losses[-1]:.04}, Dev AVG: {dev_epoch_losses[-1]:.04}\")      \n",
    "        evaluator.end_epoch_routine(print_metrics=True, indent=2)\n",
    "\n",
    "        if save_model:\n",
    "            model.save_to_disk(output_dir + f\"/epoch_{epoch+1}.pt\")\n",
    "\n",
    "        if os.path.exists(output_dir + '/.stop'):\n",
    "            print(\"Stopping training\")\n",
    "            break\n",
    "    \n",
    "    losses = {'train': train_epoch_losses, 'dev': dev_epoch_losses}\n",
    "\n",
    "    if save_model:\n",
    "        evaluator.store_df(output_dir, losses=losses)\n",
    "\n",
    "    print()\n",
    "    print(\"Training finished!\")\n",
    "    print()\n",
    "\n",
    "    return model, evaluator.get_merged_df(losses)"
   ]
  },
  {
   "cell_type": "markdown",
   "id": "00167b02",
   "metadata": {},
   "source": [
    "# Experiments\n",
    "Training the following models:\n",
    "1. Rec-ACE: T5 with confidence training on 'Clean' dataset\n",
    "1. Original: T5 training on 'Clean' dataset\n",
    "1. Rec-ACE(trained on other): T5 with confidence training on 'Other' dataset\n",
    "1. Original(trained on other): T5 training on 'Other' dataset\n",
    "1. P-Original: T5 training on Prompt-Engineered 'Clean' dataset"
   ]
  },
  {
   "cell_type": "markdown",
   "id": "654dbf69",
   "metadata": {},
   "source": [
    "## Model Debug"
   ]
  },
  {
   "cell_type": "markdown",
   "id": "3d12d8b2",
   "metadata": {},
   "source": [
    "#### Training"
   ]
  },
  {
   "cell_type": "code",
   "execution_count": 12,
   "id": "f153ec74",
   "metadata": {},
   "outputs": [],
   "source": [
    "if debug:\n",
    "    model_debug = RecACEWrapModel(t5_type=t5_type, model_type='rec_ace', bin_size=bin_size, use_pretrained=True)\n",
    "    model_debug.to(DEVICE)\n",
    "\n",
    "    optimizer = torch.optim.Adam(model_debug.parameters(), lr=1e-4)\n",
    "\n",
    "    model_debug, debub_metrics_df = training(\n",
    "        model=model_debug,\n",
    "        n_epochs=3,\n",
    "        train_data=train_loader,\n",
    "        dev_data=dev_loader,\n",
    "        optimizer=optimizer,\n",
    "        exp_name=f\"DebugRecAce_Clean\",\n",
    "        save_model=True)"
   ]
  },
  {
   "cell_type": "markdown",
   "id": "b6660a48",
   "metadata": {},
   "source": [
    "#### Analysis"
   ]
  },
  {
   "cell_type": "code",
   "execution_count": 13,
   "id": "511c5ba6",
   "metadata": {},
   "outputs": [],
   "source": [
    "if debug:\n",
    "    plot_graphs(debub_metrics_df, gt_df=asr_evaluators['Clean'].metrics_df, fig_size=(20,8))"
   ]
  },
  {
   "cell_type": "markdown",
   "id": "4f3b6043",
   "metadata": {},
   "source": [
    "## Model REC-ACE"
   ]
  },
  {
   "cell_type": "markdown",
   "id": "6a0e9ed5",
   "metadata": {},
   "source": [
    "#### Training"
   ]
  },
  {
   "cell_type": "code",
   "execution_count": 14,
   "id": "8f26ce77",
   "metadata": {
    "collapsed": false,
    "pycharm": {
     "name": "#%%\n"
    }
   },
   "outputs": [
    {
     "name": "stdout",
     "output_type": "stream",
     "text": [
      "Experiment name: rec_ace_Clean\n",
      "Training model of type: rec_ace\n",
      "Confidence vectors are IN USED\n",
      "Saving model to: ./results\\rec_ace_Clean/2023-08-23_01-46-03\n"
     ]
    },
    {
     "data": {
      "application/vnd.jupyter.widget-view+json": {
       "model_id": "3850b4b952624392ba10ec60b0cb93e9",
       "version_major": 2,
       "version_minor": 0
      },
      "text/plain": [
       "  0%|          | 0/50 [00:00<?, ?it/s]"
      ]
     },
     "metadata": {},
     "output_type": "display_data"
    },
    {
     "data": {
      "application/vnd.jupyter.widget-view+json": {
       "model_id": "a0116c8cbf3748f2b5914582bb98a2f7",
       "version_major": 2,
       "version_minor": 0
      },
      "text/plain": [
       "Train:   0%|          | 0/1624 [00:00<?, ?it/s]"
      ]
     },
     "metadata": {},
     "output_type": "display_data"
    },
    {
     "data": {
      "application/vnd.jupyter.widget-view+json": {
       "model_id": "be030da26c294ca891cf3c4988b8fc23",
       "version_major": 2,
       "version_minor": 0
      },
      "text/plain": [
       "Dev:   0%|          | 0/43 [00:00<?, ?it/s]"
      ]
     },
     "metadata": {},
     "output_type": "display_data"
    },
    {
     "name": "stdout",
     "output_type": "stream",
     "text": [
      "\tDone Epoch: 1/50\n",
      "\t\tLoss\t|\tTrain AVG: 0.3542, Dev AVG: 0.2313\n",
      "\t\tMetrics\t|\tTrain: wer=0.1482, em=0.08711 ; Dev: wer=0.2218, em=0.2028\n"
     ]
    },
    {
     "data": {
      "application/vnd.jupyter.widget-view+json": {
       "model_id": "54ef866a8ea74cd5963e1c21889778dc",
       "version_major": 2,
       "version_minor": 0
      },
      "text/plain": [
       "Train:   0%|          | 0/1624 [00:00<?, ?it/s]"
      ]
     },
     "metadata": {},
     "output_type": "display_data"
    },
    {
     "data": {
      "application/vnd.jupyter.widget-view+json": {
       "model_id": "1c92f07569cf4864a541fd923148c4cc",
       "version_major": 2,
       "version_minor": 0
      },
      "text/plain": [
       "Dev:   0%|          | 0/43 [00:00<?, ?it/s]"
      ]
     },
     "metadata": {},
     "output_type": "display_data"
    },
    {
     "name": "stdout",
     "output_type": "stream",
     "text": [
      "\tDone Epoch: 2/50\n",
      "\t\tLoss\t|\tTrain AVG: 0.2783, Dev AVG: 0.3547\n",
      "\t\tMetrics\t|\tTrain: wer=0.1249, em=0.1102 ; Dev: wer=0.4012, em=0.1014\n"
     ]
    },
    {
     "data": {
      "application/vnd.jupyter.widget-view+json": {
       "model_id": "a9c22f0c25094dfb823cd14d5f5ecc31",
       "version_major": 2,
       "version_minor": 0
      },
      "text/plain": [
       "Train:   0%|          | 0/1624 [00:00<?, ?it/s]"
      ]
     },
     "metadata": {},
     "output_type": "display_data"
    },
    {
     "data": {
      "application/vnd.jupyter.widget-view+json": {
       "model_id": "100539761ebb45a5adf9830ab75e17a9",
       "version_major": 2,
       "version_minor": 0
      },
      "text/plain": [
       "Dev:   0%|          | 0/43 [00:00<?, ?it/s]"
      ]
     },
     "metadata": {},
     "output_type": "display_data"
    },
    {
     "name": "stdout",
     "output_type": "stream",
     "text": [
      "\tDone Epoch: 3/50\n",
      "\t\tLoss\t|\tTrain AVG: 0.2563, Dev AVG: 0.6683\n",
      "\t\tMetrics\t|\tTrain: wer=0.1188, em=0.1179 ; Dev: wer=0.3274, em=0.2406\n"
     ]
    },
    {
     "data": {
      "application/vnd.jupyter.widget-view+json": {
       "model_id": "41849e588ad1405f92405fc9324dc9f5",
       "version_major": 2,
       "version_minor": 0
      },
      "text/plain": [
       "Train:   0%|          | 0/1624 [00:00<?, ?it/s]"
      ]
     },
     "metadata": {},
     "output_type": "display_data"
    },
    {
     "data": {
      "application/vnd.jupyter.widget-view+json": {
       "model_id": "112abf2f21e14854b55f349b896c582f",
       "version_major": 2,
       "version_minor": 0
      },
      "text/plain": [
       "Dev:   0%|          | 0/43 [00:00<?, ?it/s]"
      ]
     },
     "metadata": {},
     "output_type": "display_data"
    },
    {
     "name": "stdout",
     "output_type": "stream",
     "text": [
      "\tDone Epoch: 4/50\n",
      "\t\tLoss\t|\tTrain AVG: 0.2401, Dev AVG: 0.9221\n",
      "\t\tMetrics\t|\tTrain: wer=0.1144, em=0.1235 ; Dev: wer=0.556, em=0.1094\n"
     ]
    },
    {
     "data": {
      "application/vnd.jupyter.widget-view+json": {
       "model_id": "e48e44332bd4499fa6d57efd129e4995",
       "version_major": 2,
       "version_minor": 0
      },
      "text/plain": [
       "Train:   0%|          | 0/1624 [00:00<?, ?it/s]"
      ]
     },
     "metadata": {},
     "output_type": "display_data"
    },
    {
     "data": {
      "application/vnd.jupyter.widget-view+json": {
       "model_id": "3dd56344896c4336a634e2cf1c96b56b",
       "version_major": 2,
       "version_minor": 0
      },
      "text/plain": [
       "Dev:   0%|          | 0/43 [00:00<?, ?it/s]"
      ]
     },
     "metadata": {},
     "output_type": "display_data"
    },
    {
     "name": "stdout",
     "output_type": "stream",
     "text": [
      "\tDone Epoch: 5/50\n",
      "\t\tLoss\t|\tTrain AVG: 0.2282, Dev AVG: 0.2339\n",
      "\t\tMetrics\t|\tTrain: wer=0.111, em=0.1292 ; Dev: wer=0.2866, em=0.2261\n"
     ]
    },
    {
     "data": {
      "application/vnd.jupyter.widget-view+json": {
       "model_id": "ced8a8604f064ecb835e2672d831e9d1",
       "version_major": 2,
       "version_minor": 0
      },
      "text/plain": [
       "Train:   0%|          | 0/1624 [00:00<?, ?it/s]"
      ]
     },
     "metadata": {},
     "output_type": "display_data"
    },
    {
     "data": {
      "application/vnd.jupyter.widget-view+json": {
       "model_id": "b415a834877d47c8b0ffbe1ef34333f9",
       "version_major": 2,
       "version_minor": 0
      },
      "text/plain": [
       "Dev:   0%|          | 0/43 [00:00<?, ?it/s]"
      ]
     },
     "metadata": {},
     "output_type": "display_data"
    },
    {
     "name": "stdout",
     "output_type": "stream",
     "text": [
      "\tDone Epoch: 6/50\n",
      "\t\tLoss\t|\tTrain AVG: 0.2184, Dev AVG: 0.1436\n",
      "\t\tMetrics\t|\tTrain: wer=0.1084, em=0.1339 ; Dev: wer=0.1647, em=0.3085\n"
     ]
    },
    {
     "data": {
      "application/vnd.jupyter.widget-view+json": {
       "model_id": "8ff11f652d1d4d2c8e444fdb3659c235",
       "version_major": 2,
       "version_minor": 0
      },
      "text/plain": [
       "Train:   0%|          | 0/1624 [00:00<?, ?it/s]"
      ]
     },
     "metadata": {},
     "output_type": "display_data"
    },
    {
     "data": {
      "application/vnd.jupyter.widget-view+json": {
       "model_id": "8818147b8fce4a42a0192277d5be3fc7",
       "version_major": 2,
       "version_minor": 0
      },
      "text/plain": [
       "Dev:   0%|          | 0/43 [00:00<?, ?it/s]"
      ]
     },
     "metadata": {},
     "output_type": "display_data"
    },
    {
     "name": "stdout",
     "output_type": "stream",
     "text": [
      "\tDone Epoch: 7/50\n",
      "\t\tLoss\t|\tTrain AVG: 0.2107, Dev AVG: 0.3227\n",
      "\t\tMetrics\t|\tTrain: wer=0.1059, em=0.1375 ; Dev: wer=0.4391, em=0.1177\n"
     ]
    },
    {
     "data": {
      "application/vnd.jupyter.widget-view+json": {
       "model_id": "cd43122418c14c86b3147340c4fb5c9e",
       "version_major": 2,
       "version_minor": 0
      },
      "text/plain": [
       "Train:   0%|          | 0/1624 [00:00<?, ?it/s]"
      ]
     },
     "metadata": {},
     "output_type": "display_data"
    },
    {
     "data": {
      "application/vnd.jupyter.widget-view+json": {
       "model_id": "3526998e3a994f53aaf80668202da993",
       "version_major": 2,
       "version_minor": 0
      },
      "text/plain": [
       "Dev:   0%|          | 0/43 [00:00<?, ?it/s]"
      ]
     },
     "metadata": {},
     "output_type": "display_data"
    },
    {
     "name": "stdout",
     "output_type": "stream",
     "text": [
      "\tDone Epoch: 8/50\n",
      "\t\tLoss\t|\tTrain AVG: 0.2039, Dev AVG: 0.1278\n",
      "\t\tMetrics\t|\tTrain: wer=0.1041, em=0.1407 ; Dev: wer=0.1764, em=0.3075\n"
     ]
    },
    {
     "data": {
      "application/vnd.jupyter.widget-view+json": {
       "model_id": "9dbeda7a30794e97b56d19f06609f759",
       "version_major": 2,
       "version_minor": 0
      },
      "text/plain": [
       "Train:   0%|          | 0/1624 [00:00<?, ?it/s]"
      ]
     },
     "metadata": {},
     "output_type": "display_data"
    },
    {
     "data": {
      "application/vnd.jupyter.widget-view+json": {
       "model_id": "cbdb645e7cc04adfb44f83ec656ce95a",
       "version_major": 2,
       "version_minor": 0
      },
      "text/plain": [
       "Dev:   0%|          | 0/43 [00:00<?, ?it/s]"
      ]
     },
     "metadata": {},
     "output_type": "display_data"
    },
    {
     "name": "stdout",
     "output_type": "stream",
     "text": [
      "\tDone Epoch: 9/50\n",
      "\t\tLoss\t|\tTrain AVG: 0.1982, Dev AVG: 0.2229\n",
      "\t\tMetrics\t|\tTrain: wer=0.1026, em=0.144 ; Dev: wer=0.3162, em=0.2078\n"
     ]
    },
    {
     "data": {
      "application/vnd.jupyter.widget-view+json": {
       "model_id": "e051ca6525204a40ace2381c2c52ee32",
       "version_major": 2,
       "version_minor": 0
      },
      "text/plain": [
       "Train:   0%|          | 0/1624 [00:00<?, ?it/s]"
      ]
     },
     "metadata": {},
     "output_type": "display_data"
    },
    {
     "data": {
      "application/vnd.jupyter.widget-view+json": {
       "model_id": "82317d930ac14d2ca80c0e91f21940e5",
       "version_major": 2,
       "version_minor": 0
      },
      "text/plain": [
       "Dev:   0%|          | 0/43 [00:00<?, ?it/s]"
      ]
     },
     "metadata": {},
     "output_type": "display_data"
    },
    {
     "name": "stdout",
     "output_type": "stream",
     "text": [
      "\tDone Epoch: 10/50\n",
      "\t\tLoss\t|\tTrain AVG: 0.1928, Dev AVG: 0.1003\n",
      "\t\tMetrics\t|\tTrain: wer=0.1007, em=0.1468 ; Dev: wer=0.1194, em=0.3507\n"
     ]
    },
    {
     "data": {
      "application/vnd.jupyter.widget-view+json": {
       "model_id": "a5b18c90a80c4635afc43cc743d950af",
       "version_major": 2,
       "version_minor": 0
      },
      "text/plain": [
       "Train:   0%|          | 0/1624 [00:00<?, ?it/s]"
      ]
     },
     "metadata": {},
     "output_type": "display_data"
    },
    {
     "data": {
      "application/vnd.jupyter.widget-view+json": {
       "model_id": "f2814c9ffa0a41af88d3f5438f70983d",
       "version_major": 2,
       "version_minor": 0
      },
      "text/plain": [
       "Dev:   0%|          | 0/43 [00:00<?, ?it/s]"
      ]
     },
     "metadata": {},
     "output_type": "display_data"
    },
    {
     "name": "stdout",
     "output_type": "stream",
     "text": [
      "\tDone Epoch: 11/50\n",
      "\t\tLoss\t|\tTrain AVG: 0.1879, Dev AVG: 0.1818\n",
      "\t\tMetrics\t|\tTrain: wer=0.09938, em=0.1496 ; Dev: wer=0.2128, em=0.2566\n"
     ]
    },
    {
     "data": {
      "application/vnd.jupyter.widget-view+json": {
       "model_id": "e4ed1933910545859a196c1867075550",
       "version_major": 2,
       "version_minor": 0
      },
      "text/plain": [
       "Train:   0%|          | 0/1624 [00:00<?, ?it/s]"
      ]
     },
     "metadata": {},
     "output_type": "display_data"
    },
    {
     "data": {
      "application/vnd.jupyter.widget-view+json": {
       "model_id": "af72a3d5b526444da64879fd1def3108",
       "version_major": 2,
       "version_minor": 0
      },
      "text/plain": [
       "Dev:   0%|          | 0/43 [00:00<?, ?it/s]"
      ]
     },
     "metadata": {},
     "output_type": "display_data"
    },
    {
     "name": "stdout",
     "output_type": "stream",
     "text": [
      "\tDone Epoch: 12/50\n",
      "\t\tLoss\t|\tTrain AVG: 0.1836, Dev AVG: 0.1776\n",
      "\t\tMetrics\t|\tTrain: wer=0.09818, em=0.1521 ; Dev: wer=0.2375, em=0.2409\n"
     ]
    },
    {
     "data": {
      "application/vnd.jupyter.widget-view+json": {
       "model_id": "47240114ce8848c9ba4775454a51f66e",
       "version_major": 2,
       "version_minor": 0
      },
      "text/plain": [
       "Train:   0%|          | 0/1624 [00:00<?, ?it/s]"
      ]
     },
     "metadata": {},
     "output_type": "display_data"
    },
    {
     "data": {
      "application/vnd.jupyter.widget-view+json": {
       "model_id": "48838c2f8d43435ab9afcf1cc41d40b8",
       "version_major": 2,
       "version_minor": 0
      },
      "text/plain": [
       "Dev:   0%|          | 0/43 [00:00<?, ?it/s]"
      ]
     },
     "metadata": {},
     "output_type": "display_data"
    },
    {
     "name": "stdout",
     "output_type": "stream",
     "text": [
      "\tDone Epoch: 13/50\n",
      "\t\tLoss\t|\tTrain AVG: 0.1796, Dev AVG: 0.1214\n",
      "\t\tMetrics\t|\tTrain: wer=0.09692, em=0.1548 ; Dev: wer=0.1592, em=0.3165\n"
     ]
    },
    {
     "data": {
      "application/vnd.jupyter.widget-view+json": {
       "model_id": "bd9fa3e158074ffca6a8c0ace83f1989",
       "version_major": 2,
       "version_minor": 0
      },
      "text/plain": [
       "Train:   0%|          | 0/1624 [00:00<?, ?it/s]"
      ]
     },
     "metadata": {},
     "output_type": "display_data"
    },
    {
     "data": {
      "application/vnd.jupyter.widget-view+json": {
       "model_id": "1281cd0a2e274f63b454978a34092258",
       "version_major": 2,
       "version_minor": 0
      },
      "text/plain": [
       "Dev:   0%|          | 0/43 [00:00<?, ?it/s]"
      ]
     },
     "metadata": {},
     "output_type": "display_data"
    },
    {
     "name": "stdout",
     "output_type": "stream",
     "text": [
      "\tDone Epoch: 14/50\n",
      "\t\tLoss\t|\tTrain AVG: 0.176, Dev AVG: 0.1324\n",
      "\t\tMetrics\t|\tTrain: wer=0.0958, em=0.1567 ; Dev: wer=0.1608, em=0.3096\n"
     ]
    },
    {
     "data": {
      "application/vnd.jupyter.widget-view+json": {
       "model_id": "0a06e5e6c658495abda5067a215de6c7",
       "version_major": 2,
       "version_minor": 0
      },
      "text/plain": [
       "Train:   0%|          | 0/1624 [00:00<?, ?it/s]"
      ]
     },
     "metadata": {},
     "output_type": "display_data"
    },
    {
     "data": {
      "application/vnd.jupyter.widget-view+json": {
       "model_id": "d01fa5b3bf45421d8151470c9e706b9a",
       "version_major": 2,
       "version_minor": 0
      },
      "text/plain": [
       "Dev:   0%|          | 0/43 [00:00<?, ?it/s]"
      ]
     },
     "metadata": {},
     "output_type": "display_data"
    },
    {
     "name": "stdout",
     "output_type": "stream",
     "text": [
      "\tDone Epoch: 15/50\n",
      "\t\tLoss\t|\tTrain AVG: 0.1726, Dev AVG: 0.2527\n",
      "\t\tMetrics\t|\tTrain: wer=0.0947, em=0.1576 ; Dev: wer=0.3544, em=0.1581\n"
     ]
    },
    {
     "data": {
      "application/vnd.jupyter.widget-view+json": {
       "model_id": "9ed07b3b95a940e695165e1a1329868c",
       "version_major": 2,
       "version_minor": 0
      },
      "text/plain": [
       "Train:   0%|          | 0/1624 [00:00<?, ?it/s]"
      ]
     },
     "metadata": {},
     "output_type": "display_data"
    },
    {
     "data": {
      "application/vnd.jupyter.widget-view+json": {
       "model_id": "c5842af5d8334c1790f9fc3f86786751",
       "version_major": 2,
       "version_minor": 0
      },
      "text/plain": [
       "Dev:   0%|          | 0/43 [00:00<?, ?it/s]"
      ]
     },
     "metadata": {},
     "output_type": "display_data"
    },
    {
     "name": "stdout",
     "output_type": "stream",
     "text": [
      "\tDone Epoch: 16/50\n",
      "\t\tLoss\t|\tTrain AVG: 0.1692, Dev AVG: 0.1788\n",
      "\t\tMetrics\t|\tTrain: wer=0.0938, em=0.161 ; Dev: wer=0.2324, em=0.2485\n"
     ]
    },
    {
     "data": {
      "application/vnd.jupyter.widget-view+json": {
       "model_id": "497fc3423299428f862ed5120c271d7f",
       "version_major": 2,
       "version_minor": 0
      },
      "text/plain": [
       "Train:   0%|          | 0/1624 [00:00<?, ?it/s]"
      ]
     },
     "metadata": {},
     "output_type": "display_data"
    },
    {
     "data": {
      "application/vnd.jupyter.widget-view+json": {
       "model_id": "5c3734608ed742648057c45c5b399809",
       "version_major": 2,
       "version_minor": 0
      },
      "text/plain": [
       "Dev:   0%|          | 0/43 [00:00<?, ?it/s]"
      ]
     },
     "metadata": {},
     "output_type": "display_data"
    },
    {
     "name": "stdout",
     "output_type": "stream",
     "text": [
      "\tDone Epoch: 17/50\n",
      "\t\tLoss\t|\tTrain AVG: 0.1661, Dev AVG: 0.1712\n",
      "\t\tMetrics\t|\tTrain: wer=0.0927, em=0.1632 ; Dev: wer=0.2362, em=0.2485\n"
     ]
    },
    {
     "data": {
      "application/vnd.jupyter.widget-view+json": {
       "model_id": "7f4b23a55f644c2d899cc3b1518acf7c",
       "version_major": 2,
       "version_minor": 0
      },
      "text/plain": [
       "Train:   0%|          | 0/1624 [00:00<?, ?it/s]"
      ]
     },
     "metadata": {},
     "output_type": "display_data"
    },
    {
     "data": {
      "application/vnd.jupyter.widget-view+json": {
       "model_id": "317308155c59403397a095516ce1fb84",
       "version_major": 2,
       "version_minor": 0
      },
      "text/plain": [
       "Dev:   0%|          | 0/43 [00:00<?, ?it/s]"
      ]
     },
     "metadata": {},
     "output_type": "display_data"
    },
    {
     "name": "stdout",
     "output_type": "stream",
     "text": [
      "\tDone Epoch: 18/50\n",
      "\t\tLoss\t|\tTrain AVG: 0.1633, Dev AVG: 0.1394\n",
      "\t\tMetrics\t|\tTrain: wer=0.09189, em=0.166 ; Dev: wer=0.1941, em=0.286\n"
     ]
    },
    {
     "data": {
      "application/vnd.jupyter.widget-view+json": {
       "model_id": "d5b3dbc027694f5e8d42d65e3acbf49e",
       "version_major": 2,
       "version_minor": 0
      },
      "text/plain": [
       "Train:   0%|          | 0/1624 [00:00<?, ?it/s]"
      ]
     },
     "metadata": {},
     "output_type": "display_data"
    },
    {
     "data": {
      "application/vnd.jupyter.widget-view+json": {
       "model_id": "3da1d0d8a7ea481095f0cf20c2b3764c",
       "version_major": 2,
       "version_minor": 0
      },
      "text/plain": [
       "Dev:   0%|          | 0/43 [00:00<?, ?it/s]"
      ]
     },
     "metadata": {},
     "output_type": "display_data"
    },
    {
     "name": "stdout",
     "output_type": "stream",
     "text": [
      "\tDone Epoch: 19/50\n",
      "\t\tLoss\t|\tTrain AVG: 0.1607, Dev AVG: 0.1248\n",
      "\t\tMetrics\t|\tTrain: wer=0.09099, em=0.1674 ; Dev: wer=0.171, em=0.2947\n"
     ]
    },
    {
     "data": {
      "application/vnd.jupyter.widget-view+json": {
       "model_id": "28fda2ab2eee47a7b28b756e8a922ad7",
       "version_major": 2,
       "version_minor": 0
      },
      "text/plain": [
       "Train:   0%|          | 0/1624 [00:00<?, ?it/s]"
      ]
     },
     "metadata": {},
     "output_type": "display_data"
    },
    {
     "data": {
      "application/vnd.jupyter.widget-view+json": {
       "model_id": "b863ff522a274bb590f8daedbce398ba",
       "version_major": 2,
       "version_minor": 0
      },
      "text/plain": [
       "Dev:   0%|          | 0/43 [00:00<?, ?it/s]"
      ]
     },
     "metadata": {},
     "output_type": "display_data"
    },
    {
     "name": "stdout",
     "output_type": "stream",
     "text": [
      "\tDone Epoch: 20/50\n",
      "\t\tLoss\t|\tTrain AVG: 0.158, Dev AVG: 0.1258\n",
      "\t\tMetrics\t|\tTrain: wer=0.09007, em=0.1696 ; Dev: wer=0.1718, em=0.2987\n"
     ]
    },
    {
     "data": {
      "application/vnd.jupyter.widget-view+json": {
       "model_id": "4ccab178ff6a40369bc58593dc8e9f31",
       "version_major": 2,
       "version_minor": 0
      },
      "text/plain": [
       "Train:   0%|          | 0/1624 [00:00<?, ?it/s]"
      ]
     },
     "metadata": {},
     "output_type": "display_data"
    },
    {
     "data": {
      "application/vnd.jupyter.widget-view+json": {
       "model_id": "538032b26713477d97d7b7201734e50e",
       "version_major": 2,
       "version_minor": 0
      },
      "text/plain": [
       "Dev:   0%|          | 0/43 [00:00<?, ?it/s]"
      ]
     },
     "metadata": {},
     "output_type": "display_data"
    },
    {
     "name": "stdout",
     "output_type": "stream",
     "text": [
      "\tDone Epoch: 21/50\n",
      "\t\tLoss\t|\tTrain AVG: 0.1554, Dev AVG: 0.09066\n",
      "\t\tMetrics\t|\tTrain: wer=0.08928, em=0.1707 ; Dev: wer=0.1075, em=0.3736\n"
     ]
    },
    {
     "data": {
      "application/vnd.jupyter.widget-view+json": {
       "model_id": "6efb98f0b64546b8a70a8912fe35c4a9",
       "version_major": 2,
       "version_minor": 0
      },
      "text/plain": [
       "Train:   0%|          | 0/1624 [00:00<?, ?it/s]"
      ]
     },
     "metadata": {},
     "output_type": "display_data"
    },
    {
     "data": {
      "application/vnd.jupyter.widget-view+json": {
       "model_id": "f75214859b074e23b5ff158964faee05",
       "version_major": 2,
       "version_minor": 0
      },
      "text/plain": [
       "Dev:   0%|          | 0/43 [00:00<?, ?it/s]"
      ]
     },
     "metadata": {},
     "output_type": "display_data"
    },
    {
     "name": "stdout",
     "output_type": "stream",
     "text": [
      "\tDone Epoch: 22/50\n",
      "\t\tLoss\t|\tTrain AVG: 0.153, Dev AVG: 0.1386\n",
      "\t\tMetrics\t|\tTrain: wer=0.08863, em=0.1731 ; Dev: wer=0.2041, em=0.2754\n"
     ]
    },
    {
     "data": {
      "application/vnd.jupyter.widget-view+json": {
       "model_id": "13dac17252884263b915983138aa20fc",
       "version_major": 2,
       "version_minor": 0
      },
      "text/plain": [
       "Train:   0%|          | 0/1624 [00:00<?, ?it/s]"
      ]
     },
     "metadata": {},
     "output_type": "display_data"
    },
    {
     "data": {
      "application/vnd.jupyter.widget-view+json": {
       "model_id": "24b0dd1c76ac46b1b87fabe86d34f109",
       "version_major": 2,
       "version_minor": 0
      },
      "text/plain": [
       "Dev:   0%|          | 0/43 [00:00<?, ?it/s]"
      ]
     },
     "metadata": {},
     "output_type": "display_data"
    },
    {
     "name": "stdout",
     "output_type": "stream",
     "text": [
      "\tDone Epoch: 23/50\n",
      "\t\tLoss\t|\tTrain AVG: 0.1506, Dev AVG: 0.1928\n",
      "\t\tMetrics\t|\tTrain: wer=0.08777, em=0.1749 ; Dev: wer=0.2658, em=0.2188\n"
     ]
    },
    {
     "data": {
      "application/vnd.jupyter.widget-view+json": {
       "model_id": "89c1f5e167974d108e84a272bde18c55",
       "version_major": 2,
       "version_minor": 0
      },
      "text/plain": [
       "Train:   0%|          | 0/1624 [00:00<?, ?it/s]"
      ]
     },
     "metadata": {},
     "output_type": "display_data"
    },
    {
     "data": {
      "application/vnd.jupyter.widget-view+json": {
       "model_id": "975e03fafe674d3fb0c03a7914787489",
       "version_major": 2,
       "version_minor": 0
      },
      "text/plain": [
       "Dev:   0%|          | 0/43 [00:00<?, ?it/s]"
      ]
     },
     "metadata": {},
     "output_type": "display_data"
    },
    {
     "name": "stdout",
     "output_type": "stream",
     "text": [
      "\tDone Epoch: 24/50\n",
      "\t\tLoss\t|\tTrain AVG: 0.1485, Dev AVG: 0.3695\n",
      "\t\tMetrics\t|\tTrain: wer=0.08701, em=0.177 ; Dev: wer=0.4544, em=0.09411\n"
     ]
    },
    {
     "data": {
      "application/vnd.jupyter.widget-view+json": {
       "model_id": "62fd8a1dfdda4bb9b7d6587352c1a9a5",
       "version_major": 2,
       "version_minor": 0
      },
      "text/plain": [
       "Train:   0%|          | 0/1624 [00:00<?, ?it/s]"
      ]
     },
     "metadata": {},
     "output_type": "display_data"
    },
    {
     "data": {
      "application/vnd.jupyter.widget-view+json": {
       "model_id": "444fbbc5c6714fd2a8c562b9861f8f5f",
       "version_major": 2,
       "version_minor": 0
      },
      "text/plain": [
       "Dev:   0%|          | 0/43 [00:00<?, ?it/s]"
      ]
     },
     "metadata": {},
     "output_type": "display_data"
    },
    {
     "name": "stdout",
     "output_type": "stream",
     "text": [
      "\tDone Epoch: 25/50\n",
      "\t\tLoss\t|\tTrain AVG: 0.1463, Dev AVG: 0.1791\n",
      "\t\tMetrics\t|\tTrain: wer=0.08642, em=0.1788 ; Dev: wer=0.2701, em=0.2249\n"
     ]
    },
    {
     "data": {
      "application/vnd.jupyter.widget-view+json": {
       "model_id": "8c6c4de6d414460280f67ea4056d9391",
       "version_major": 2,
       "version_minor": 0
      },
      "text/plain": [
       "Train:   0%|          | 0/1624 [00:00<?, ?it/s]"
      ]
     },
     "metadata": {},
     "output_type": "display_data"
    },
    {
     "data": {
      "application/vnd.jupyter.widget-view+json": {
       "model_id": "8fba7ce488a54ea68fe101761c8d6be3",
       "version_major": 2,
       "version_minor": 0
      },
      "text/plain": [
       "Dev:   0%|          | 0/43 [00:00<?, ?it/s]"
      ]
     },
     "metadata": {},
     "output_type": "display_data"
    },
    {
     "name": "stdout",
     "output_type": "stream",
     "text": [
      "\tDone Epoch: 26/50\n",
      "\t\tLoss\t|\tTrain AVG: 0.1441, Dev AVG: 0.2025\n",
      "\t\tMetrics\t|\tTrain: wer=0.08556, em=0.1812 ; Dev: wer=0.2915, em=0.2028\n"
     ]
    },
    {
     "data": {
      "application/vnd.jupyter.widget-view+json": {
       "model_id": "10fc494b2b10486bb540f35e83d2ca49",
       "version_major": 2,
       "version_minor": 0
      },
      "text/plain": [
       "Train:   0%|          | 0/1624 [00:00<?, ?it/s]"
      ]
     },
     "metadata": {},
     "output_type": "display_data"
    },
    {
     "data": {
      "application/vnd.jupyter.widget-view+json": {
       "model_id": "9344a91c5aa84282b233db3b572d2ee7",
       "version_major": 2,
       "version_minor": 0
      },
      "text/plain": [
       "Dev:   0%|          | 0/43 [00:00<?, ?it/s]"
      ]
     },
     "metadata": {},
     "output_type": "display_data"
    },
    {
     "name": "stdout",
     "output_type": "stream",
     "text": [
      "\tDone Epoch: 27/50\n",
      "\t\tLoss\t|\tTrain AVG: 0.1421, Dev AVG: 0.1056\n",
      "\t\tMetrics\t|\tTrain: wer=0.08506, em=0.1837 ; Dev: wer=0.1455, em=0.3303\n"
     ]
    },
    {
     "data": {
      "application/vnd.jupyter.widget-view+json": {
       "model_id": "d2ab274b310f4f18af65f015beb47c44",
       "version_major": 2,
       "version_minor": 0
      },
      "text/plain": [
       "Train:   0%|          | 0/1624 [00:00<?, ?it/s]"
      ]
     },
     "metadata": {},
     "output_type": "display_data"
    },
    {
     "data": {
      "application/vnd.jupyter.widget-view+json": {
       "model_id": "230dd92d584441a891de20967cf778a8",
       "version_major": 2,
       "version_minor": 0
      },
      "text/plain": [
       "Dev:   0%|          | 0/43 [00:00<?, ?it/s]"
      ]
     },
     "metadata": {},
     "output_type": "display_data"
    },
    {
     "name": "stdout",
     "output_type": "stream",
     "text": [
      "\tDone Epoch: 28/50\n",
      "\t\tLoss\t|\tTrain AVG: 0.1403, Dev AVG: 0.1418\n",
      "\t\tMetrics\t|\tTrain: wer=0.08447, em=0.1845 ; Dev: wer=0.2102, em=0.2602\n"
     ]
    },
    {
     "data": {
      "application/vnd.jupyter.widget-view+json": {
       "model_id": "e935e407ed0a474088911630b7b51295",
       "version_major": 2,
       "version_minor": 0
      },
      "text/plain": [
       "Train:   0%|          | 0/1624 [00:00<?, ?it/s]"
      ]
     },
     "metadata": {},
     "output_type": "display_data"
    },
    {
     "data": {
      "application/vnd.jupyter.widget-view+json": {
       "model_id": "0d79f2b1c687407592318f2aa9db7884",
       "version_major": 2,
       "version_minor": 0
      },
      "text/plain": [
       "Dev:   0%|          | 0/43 [00:00<?, ?it/s]"
      ]
     },
     "metadata": {},
     "output_type": "display_data"
    },
    {
     "name": "stdout",
     "output_type": "stream",
     "text": [
      "\tDone Epoch: 29/50\n",
      "\t\tLoss\t|\tTrain AVG: 0.1382, Dev AVG: 0.2369\n",
      "\t\tMetrics\t|\tTrain: wer=0.08364, em=0.1852 ; Dev: wer=0.335, em=0.1697\n"
     ]
    },
    {
     "data": {
      "application/vnd.jupyter.widget-view+json": {
       "model_id": "6279b33519f84547bd42073a24adac97",
       "version_major": 2,
       "version_minor": 0
      },
      "text/plain": [
       "Train:   0%|          | 0/1624 [00:00<?, ?it/s]"
      ]
     },
     "metadata": {},
     "output_type": "display_data"
    },
    {
     "data": {
      "application/vnd.jupyter.widget-view+json": {
       "model_id": "138de7d45d234c94b1bf25fb358c060e",
       "version_major": 2,
       "version_minor": 0
      },
      "text/plain": [
       "Dev:   0%|          | 0/43 [00:00<?, ?it/s]"
      ]
     },
     "metadata": {},
     "output_type": "display_data"
    },
    {
     "name": "stdout",
     "output_type": "stream",
     "text": [
      "\tDone Epoch: 30/50\n",
      "\t\tLoss\t|\tTrain AVG: 0.1366, Dev AVG: 0.1013\n",
      "\t\tMetrics\t|\tTrain: wer=0.08312, em=0.1874 ; Dev: wer=0.1372, em=0.3434\n"
     ]
    },
    {
     "data": {
      "application/vnd.jupyter.widget-view+json": {
       "model_id": "d4005a79cb3d408a9b770ab86b5f3b1d",
       "version_major": 2,
       "version_minor": 0
      },
      "text/plain": [
       "Train:   0%|          | 0/1624 [00:00<?, ?it/s]"
      ]
     },
     "metadata": {},
     "output_type": "display_data"
    },
    {
     "data": {
      "application/vnd.jupyter.widget-view+json": {
       "model_id": "3ce0fcf10c3046cf9883fac6b591f2f6",
       "version_major": 2,
       "version_minor": 0
      },
      "text/plain": [
       "Dev:   0%|          | 0/43 [00:00<?, ?it/s]"
      ]
     },
     "metadata": {},
     "output_type": "display_data"
    },
    {
     "name": "stdout",
     "output_type": "stream",
     "text": [
      "\tDone Epoch: 31/50\n",
      "\t\tLoss\t|\tTrain AVG: 0.1347, Dev AVG: 0.1248\n",
      "\t\tMetrics\t|\tTrain: wer=0.0824, em=0.1896 ; Dev: wer=0.187, em=0.29\n"
     ]
    },
    {
     "data": {
      "application/vnd.jupyter.widget-view+json": {
       "model_id": "21d6f626ba6d4b9385edb34a804ab3c9",
       "version_major": 2,
       "version_minor": 0
      },
      "text/plain": [
       "Train:   0%|          | 0/1624 [00:00<?, ?it/s]"
      ]
     },
     "metadata": {},
     "output_type": "display_data"
    },
    {
     "data": {
      "application/vnd.jupyter.widget-view+json": {
       "model_id": "9c518921425e43df90f1061b9818a828",
       "version_major": 2,
       "version_minor": 0
      },
      "text/plain": [
       "Dev:   0%|          | 0/43 [00:00<?, ?it/s]"
      ]
     },
     "metadata": {},
     "output_type": "display_data"
    },
    {
     "name": "stdout",
     "output_type": "stream",
     "text": [
      "\tDone Epoch: 32/50\n",
      "\t\tLoss\t|\tTrain AVG: 0.1331, Dev AVG: 0.133\n",
      "\t\tMetrics\t|\tTrain: wer=0.08201, em=0.1913 ; Dev: wer=0.2008, em=0.2743\n"
     ]
    },
    {
     "data": {
      "application/vnd.jupyter.widget-view+json": {
       "model_id": "e07b1188889643d9820546e10834b3f9",
       "version_major": 2,
       "version_minor": 0
      },
      "text/plain": [
       "Train:   0%|          | 0/1624 [00:00<?, ?it/s]"
      ]
     },
     "metadata": {},
     "output_type": "display_data"
    },
    {
     "data": {
      "application/vnd.jupyter.widget-view+json": {
       "model_id": "3c7150e2fc094a509413466d799db893",
       "version_major": 2,
       "version_minor": 0
      },
      "text/plain": [
       "Dev:   0%|          | 0/43 [00:00<?, ?it/s]"
      ]
     },
     "metadata": {},
     "output_type": "display_data"
    },
    {
     "name": "stdout",
     "output_type": "stream",
     "text": [
      "\tDone Epoch: 33/50\n",
      "\t\tLoss\t|\tTrain AVG: 0.1312, Dev AVG: 0.1541\n",
      "\t\tMetrics\t|\tTrain: wer=0.08124, em=0.1925 ; Dev: wer=0.2467, em=0.2489\n"
     ]
    },
    {
     "data": {
      "application/vnd.jupyter.widget-view+json": {
       "model_id": "50a241d988da477f8cd8d2e9fc16adad",
       "version_major": 2,
       "version_minor": 0
      },
      "text/plain": [
       "Train:   0%|          | 0/1624 [00:00<?, ?it/s]"
      ]
     },
     "metadata": {},
     "output_type": "display_data"
    },
    {
     "data": {
      "application/vnd.jupyter.widget-view+json": {
       "model_id": "5c35c7bd10224762bc1aa12973df0c6c",
       "version_major": 2,
       "version_minor": 0
      },
      "text/plain": [
       "Dev:   0%|          | 0/43 [00:00<?, ?it/s]"
      ]
     },
     "metadata": {},
     "output_type": "display_data"
    },
    {
     "name": "stdout",
     "output_type": "stream",
     "text": [
      "\tDone Epoch: 34/50\n",
      "\t\tLoss\t|\tTrain AVG: 0.1296, Dev AVG: 0.1711\n",
      "\t\tMetrics\t|\tTrain: wer=0.08067, em=0.1936 ; Dev: wer=0.264, em=0.2278\n"
     ]
    },
    {
     "data": {
      "application/vnd.jupyter.widget-view+json": {
       "model_id": "6165f1c29d094c6492d59a1067954053",
       "version_major": 2,
       "version_minor": 0
      },
      "text/plain": [
       "Train:   0%|          | 0/1624 [00:00<?, ?it/s]"
      ]
     },
     "metadata": {},
     "output_type": "display_data"
    },
    {
     "data": {
      "application/vnd.jupyter.widget-view+json": {
       "model_id": "486d405d80c049a4a8d5600cc5d42521",
       "version_major": 2,
       "version_minor": 0
      },
      "text/plain": [
       "Dev:   0%|          | 0/43 [00:00<?, ?it/s]"
      ]
     },
     "metadata": {},
     "output_type": "display_data"
    },
    {
     "name": "stdout",
     "output_type": "stream",
     "text": [
      "\tDone Epoch: 35/50\n",
      "\t\tLoss\t|\tTrain AVG: 0.1279, Dev AVG: 0.1217\n",
      "\t\tMetrics\t|\tTrain: wer=0.07998, em=0.1962 ; Dev: wer=0.1846, em=0.2936\n"
     ]
    },
    {
     "data": {
      "application/vnd.jupyter.widget-view+json": {
       "model_id": "8912d79db2b84b54a24a378e884f3ef0",
       "version_major": 2,
       "version_minor": 0
      },
      "text/plain": [
       "Train:   0%|          | 0/1624 [00:00<?, ?it/s]"
      ]
     },
     "metadata": {},
     "output_type": "display_data"
    },
    {
     "data": {
      "application/vnd.jupyter.widget-view+json": {
       "model_id": "8dc5ee552c2b405bb56dbc59d50efef0",
       "version_major": 2,
       "version_minor": 0
      },
      "text/plain": [
       "Dev:   0%|          | 0/43 [00:00<?, ?it/s]"
      ]
     },
     "metadata": {},
     "output_type": "display_data"
    },
    {
     "name": "stdout",
     "output_type": "stream",
     "text": [
      "\tDone Epoch: 36/50\n",
      "\t\tLoss\t|\tTrain AVG: 0.1264, Dev AVG: 0.142\n",
      "\t\tMetrics\t|\tTrain: wer=0.07952, em=0.1978 ; Dev: wer=0.22, em=0.2638\n"
     ]
    },
    {
     "data": {
      "application/vnd.jupyter.widget-view+json": {
       "model_id": "d83946886ed347c1b1576ca82ce608da",
       "version_major": 2,
       "version_minor": 0
      },
      "text/plain": [
       "Train:   0%|          | 0/1624 [00:00<?, ?it/s]"
      ]
     },
     "metadata": {},
     "output_type": "display_data"
    },
    {
     "data": {
      "application/vnd.jupyter.widget-view+json": {
       "model_id": "1e07812d304f46e5b0157173841a4464",
       "version_major": 2,
       "version_minor": 0
      },
      "text/plain": [
       "Dev:   0%|          | 0/43 [00:00<?, ?it/s]"
      ]
     },
     "metadata": {},
     "output_type": "display_data"
    },
    {
     "name": "stdout",
     "output_type": "stream",
     "text": [
      "\tDone Epoch: 37/50\n",
      "\t\tLoss\t|\tTrain AVG: 0.1249, Dev AVG: 0.1587\n",
      "\t\tMetrics\t|\tTrain: wer=0.07909, em=0.1991 ; Dev: wer=0.2335, em=0.2522\n"
     ]
    },
    {
     "data": {
      "application/vnd.jupyter.widget-view+json": {
       "model_id": "12e1ff9021a84a88a841fc78bc4645bd",
       "version_major": 2,
       "version_minor": 0
      },
      "text/plain": [
       "Train:   0%|          | 0/1624 [00:00<?, ?it/s]"
      ]
     },
     "metadata": {},
     "output_type": "display_data"
    },
    {
     "data": {
      "application/vnd.jupyter.widget-view+json": {
       "model_id": "91b72dfb2cbe424c9f0672920c852d28",
       "version_major": 2,
       "version_minor": 0
      },
      "text/plain": [
       "Dev:   0%|          | 0/43 [00:00<?, ?it/s]"
      ]
     },
     "metadata": {},
     "output_type": "display_data"
    },
    {
     "name": "stdout",
     "output_type": "stream",
     "text": [
      "\tDone Epoch: 38/50\n",
      "\t\tLoss\t|\tTrain AVG: 0.1235, Dev AVG: 0.1706\n",
      "\t\tMetrics\t|\tTrain: wer=0.07869, em=0.2002 ; Dev: wer=0.2589, em=0.2355\n"
     ]
    },
    {
     "data": {
      "application/vnd.jupyter.widget-view+json": {
       "model_id": "c90b65c504fc4200910c06eb31125175",
       "version_major": 2,
       "version_minor": 0
      },
      "text/plain": [
       "Train:   0%|          | 0/1624 [00:00<?, ?it/s]"
      ]
     },
     "metadata": {},
     "output_type": "display_data"
    },
    {
     "data": {
      "application/vnd.jupyter.widget-view+json": {
       "model_id": "309f3b41d32c47aaaa10bea4d72cee21",
       "version_major": 2,
       "version_minor": 0
      },
      "text/plain": [
       "Dev:   0%|          | 0/43 [00:00<?, ?it/s]"
      ]
     },
     "metadata": {},
     "output_type": "display_data"
    },
    {
     "name": "stdout",
     "output_type": "stream",
     "text": [
      "\tDone Epoch: 39/50\n",
      "\t\tLoss\t|\tTrain AVG: 0.122, Dev AVG: 0.1036\n",
      "\t\tMetrics\t|\tTrain: wer=0.07809, em=0.2031 ; Dev: wer=0.1481, em=0.3299\n"
     ]
    },
    {
     "data": {
      "application/vnd.jupyter.widget-view+json": {
       "model_id": "2b8f6bfa271f401d9afdb8e2139a20af",
       "version_major": 2,
       "version_minor": 0
      },
      "text/plain": [
       "Train:   0%|          | 0/1624 [00:00<?, ?it/s]"
      ]
     },
     "metadata": {},
     "output_type": "display_data"
    },
    {
     "data": {
      "application/vnd.jupyter.widget-view+json": {
       "model_id": "ec0aaf21021e4cc8a8215cb942d468de",
       "version_major": 2,
       "version_minor": 0
      },
      "text/plain": [
       "Dev:   0%|          | 0/43 [00:00<?, ?it/s]"
      ]
     },
     "metadata": {},
     "output_type": "display_data"
    },
    {
     "name": "stdout",
     "output_type": "stream",
     "text": [
      "\tDone Epoch: 40/50\n",
      "\t\tLoss\t|\tTrain AVG: 0.1205, Dev AVG: 0.129\n",
      "\t\tMetrics\t|\tTrain: wer=0.07747, em=0.2042 ; Dev: wer=0.1904, em=0.2834\n"
     ]
    },
    {
     "data": {
      "application/vnd.jupyter.widget-view+json": {
       "model_id": "6827921f85ce42b0bea012b7ab87ca82",
       "version_major": 2,
       "version_minor": 0
      },
      "text/plain": [
       "Train:   0%|          | 0/1624 [00:00<?, ?it/s]"
      ]
     },
     "metadata": {},
     "output_type": "display_data"
    },
    {
     "data": {
      "application/vnd.jupyter.widget-view+json": {
       "model_id": "6cab75e1591445b98e01ffc94d491275",
       "version_major": 2,
       "version_minor": 0
      },
      "text/plain": [
       "Dev:   0%|          | 0/43 [00:00<?, ?it/s]"
      ]
     },
     "metadata": {},
     "output_type": "display_data"
    },
    {
     "name": "stdout",
     "output_type": "stream",
     "text": [
      "\tDone Epoch: 41/50\n",
      "\t\tLoss\t|\tTrain AVG: 0.1192, Dev AVG: 0.1197\n",
      "\t\tMetrics\t|\tTrain: wer=0.07701, em=0.2063 ; Dev: wer=0.1749, em=0.2951\n"
     ]
    },
    {
     "data": {
      "application/vnd.jupyter.widget-view+json": {
       "model_id": "98f81f94b8b0412cb2d83bdacdc4b861",
       "version_major": 2,
       "version_minor": 0
      },
      "text/plain": [
       "Train:   0%|          | 0/1624 [00:00<?, ?it/s]"
      ]
     },
     "metadata": {},
     "output_type": "display_data"
    },
    {
     "data": {
      "application/vnd.jupyter.widget-view+json": {
       "model_id": "41ee7ee754f84bf6ac843e70716c496b",
       "version_major": 2,
       "version_minor": 0
      },
      "text/plain": [
       "Dev:   0%|          | 0/43 [00:00<?, ?it/s]"
      ]
     },
     "metadata": {},
     "output_type": "display_data"
    },
    {
     "name": "stdout",
     "output_type": "stream",
     "text": [
      "\tDone Epoch: 42/50\n",
      "\t\tLoss\t|\tTrain AVG: 0.1176, Dev AVG: 0.1178\n",
      "\t\tMetrics\t|\tTrain: wer=0.07647, em=0.2082 ; Dev: wer=0.1783, em=0.3012\n"
     ]
    },
    {
     "data": {
      "application/vnd.jupyter.widget-view+json": {
       "model_id": "84a4b6fe517f48a2ac5052f0998d618d",
       "version_major": 2,
       "version_minor": 0
      },
      "text/plain": [
       "Train:   0%|          | 0/1624 [00:00<?, ?it/s]"
      ]
     },
     "metadata": {},
     "output_type": "display_data"
    },
    {
     "data": {
      "application/vnd.jupyter.widget-view+json": {
       "model_id": "867f276473d84edcbbcad46c8281cb5f",
       "version_major": 2,
       "version_minor": 0
      },
      "text/plain": [
       "Dev:   0%|          | 0/43 [00:00<?, ?it/s]"
      ]
     },
     "metadata": {},
     "output_type": "display_data"
    },
    {
     "name": "stdout",
     "output_type": "stream",
     "text": [
      "\tDone Epoch: 43/50\n",
      "\t\tLoss\t|\tTrain AVG: 0.1165, Dev AVG: 0.1215\n",
      "\t\tMetrics\t|\tTrain: wer=0.07586, em=0.2102 ; Dev: wer=0.1835, em=0.2896\n"
     ]
    },
    {
     "data": {
      "application/vnd.jupyter.widget-view+json": {
       "model_id": "08e3bd3277e8449095913583d7ba3c20",
       "version_major": 2,
       "version_minor": 0
      },
      "text/plain": [
       "Train:   0%|          | 0/1624 [00:00<?, ?it/s]"
      ]
     },
     "metadata": {},
     "output_type": "display_data"
    },
    {
     "data": {
      "application/vnd.jupyter.widget-view+json": {
       "model_id": "bca6d07e9fd24a3b92c2e880e933a7ec",
       "version_major": 2,
       "version_minor": 0
      },
      "text/plain": [
       "Dev:   0%|          | 0/43 [00:00<?, ?it/s]"
      ]
     },
     "metadata": {},
     "output_type": "display_data"
    },
    {
     "name": "stdout",
     "output_type": "stream",
     "text": [
      "\tDone Epoch: 44/50\n",
      "\t\tLoss\t|\tTrain AVG: 0.1152, Dev AVG: 0.1211\n",
      "\t\tMetrics\t|\tTrain: wer=0.07542, em=0.2103 ; Dev: wer=0.1828, em=0.2925\n"
     ]
    },
    {
     "data": {
      "application/vnd.jupyter.widget-view+json": {
       "model_id": "59e673a8231445f3b5ef941a1aeb566f",
       "version_major": 2,
       "version_minor": 0
      },
      "text/plain": [
       "Train:   0%|          | 0/1624 [00:00<?, ?it/s]"
      ]
     },
     "metadata": {},
     "output_type": "display_data"
    },
    {
     "data": {
      "application/vnd.jupyter.widget-view+json": {
       "model_id": "c72ba12c78774011bb05574fe8d298f6",
       "version_major": 2,
       "version_minor": 0
      },
      "text/plain": [
       "Dev:   0%|          | 0/43 [00:00<?, ?it/s]"
      ]
     },
     "metadata": {},
     "output_type": "display_data"
    },
    {
     "name": "stdout",
     "output_type": "stream",
     "text": [
      "\tDone Epoch: 45/50\n",
      "\t\tLoss\t|\tTrain AVG: 0.114, Dev AVG: 0.1464\n",
      "\t\tMetrics\t|\tTrain: wer=0.075, em=0.2141 ; Dev: wer=0.2152, em=0.27\n"
     ]
    },
    {
     "data": {
      "application/vnd.jupyter.widget-view+json": {
       "model_id": "4c264102c4254d48bb9d26561db55e34",
       "version_major": 2,
       "version_minor": 0
      },
      "text/plain": [
       "Train:   0%|          | 0/1624 [00:00<?, ?it/s]"
      ]
     },
     "metadata": {},
     "output_type": "display_data"
    },
    {
     "data": {
      "application/vnd.jupyter.widget-view+json": {
       "model_id": "2398190328324d2887dd75c2f532c807",
       "version_major": 2,
       "version_minor": 0
      },
      "text/plain": [
       "Dev:   0%|          | 0/43 [00:00<?, ?it/s]"
      ]
     },
     "metadata": {},
     "output_type": "display_data"
    },
    {
     "name": "stdout",
     "output_type": "stream",
     "text": [
      "\tDone Epoch: 46/50\n",
      "\t\tLoss\t|\tTrain AVG: 0.1126, Dev AVG: 0.1534\n",
      "\t\tMetrics\t|\tTrain: wer=0.0744, em=0.2143 ; Dev: wer=0.2265, em=0.2464\n"
     ]
    },
    {
     "data": {
      "application/vnd.jupyter.widget-view+json": {
       "model_id": "bd94b5919b8b43c089fe98e0c1d116df",
       "version_major": 2,
       "version_minor": 0
      },
      "text/plain": [
       "Train:   0%|          | 0/1624 [00:00<?, ?it/s]"
      ]
     },
     "metadata": {},
     "output_type": "display_data"
    },
    {
     "data": {
      "application/vnd.jupyter.widget-view+json": {
       "model_id": "352afcee9dcc45c9b92b1d25c8424b1b",
       "version_major": 2,
       "version_minor": 0
      },
      "text/plain": [
       "Dev:   0%|          | 0/43 [00:00<?, ?it/s]"
      ]
     },
     "metadata": {},
     "output_type": "display_data"
    },
    {
     "name": "stdout",
     "output_type": "stream",
     "text": [
      "\tDone Epoch: 47/50\n",
      "\t\tLoss\t|\tTrain AVG: 0.1114, Dev AVG: 0.1188\n",
      "\t\tMetrics\t|\tTrain: wer=0.07397, em=0.2167 ; Dev: wer=0.1696, em=0.2983\n"
     ]
    },
    {
     "data": {
      "application/vnd.jupyter.widget-view+json": {
       "model_id": "4f801c365de3447fa4282afa38756839",
       "version_major": 2,
       "version_minor": 0
      },
      "text/plain": [
       "Train:   0%|          | 0/1624 [00:00<?, ?it/s]"
      ]
     },
     "metadata": {},
     "output_type": "display_data"
    },
    {
     "data": {
      "application/vnd.jupyter.widget-view+json": {
       "model_id": "40c16da69f6345f597139bd1eb41bd51",
       "version_major": 2,
       "version_minor": 0
      },
      "text/plain": [
       "Dev:   0%|          | 0/43 [00:00<?, ?it/s]"
      ]
     },
     "metadata": {},
     "output_type": "display_data"
    },
    {
     "name": "stdout",
     "output_type": "stream",
     "text": [
      "\tDone Epoch: 48/50\n",
      "\t\tLoss\t|\tTrain AVG: 0.1102, Dev AVG: 0.09688\n",
      "\t\tMetrics\t|\tTrain: wer=0.07362, em=0.2164 ; Dev: wer=0.1231, em=0.3528\n"
     ]
    },
    {
     "data": {
      "application/vnd.jupyter.widget-view+json": {
       "model_id": "193390f10de44ec2a66e99f1b848c29e",
       "version_major": 2,
       "version_minor": 0
      },
      "text/plain": [
       "Train:   0%|          | 0/1624 [00:00<?, ?it/s]"
      ]
     },
     "metadata": {},
     "output_type": "display_data"
    },
    {
     "data": {
      "application/vnd.jupyter.widget-view+json": {
       "model_id": "6332ef86dc9048878340da550fb21804",
       "version_major": 2,
       "version_minor": 0
      },
      "text/plain": [
       "Dev:   0%|          | 0/43 [00:00<?, ?it/s]"
      ]
     },
     "metadata": {},
     "output_type": "display_data"
    },
    {
     "name": "stdout",
     "output_type": "stream",
     "text": [
      "\tDone Epoch: 49/50\n",
      "\t\tLoss\t|\tTrain AVG: 0.1091, Dev AVG: 0.1169\n",
      "\t\tMetrics\t|\tTrain: wer=0.07309, em=0.2179 ; Dev: wer=0.1675, em=0.2932\n"
     ]
    },
    {
     "data": {
      "application/vnd.jupyter.widget-view+json": {
       "model_id": "a4f25fdb348b4156a8e55a3bf8d5567f",
       "version_major": 2,
       "version_minor": 0
      },
      "text/plain": [
       "Train:   0%|          | 0/1624 [00:00<?, ?it/s]"
      ]
     },
     "metadata": {},
     "output_type": "display_data"
    },
    {
     "data": {
      "application/vnd.jupyter.widget-view+json": {
       "model_id": "0de65c9b1b4a4d688987bc4d98acf028",
       "version_major": 2,
       "version_minor": 0
      },
      "text/plain": [
       "Dev:   0%|          | 0/43 [00:00<?, ?it/s]"
      ]
     },
     "metadata": {},
     "output_type": "display_data"
    },
    {
     "name": "stdout",
     "output_type": "stream",
     "text": [
      "\tDone Epoch: 50/50\n",
      "\t\tLoss\t|\tTrain AVG: 0.1077, Dev AVG: 0.1069\n",
      "\t\tMetrics\t|\tTrain: wer=0.07265, em=0.2191 ; Dev: wer=0.14, em=0.3267\n",
      "\n",
      "Training finished!\n",
      "\n"
     ]
    }
   ],
   "source": [
    "assert debug==False, \"You are in debug mode, please change to False\"\n",
    "\n",
    "rec_ace_model = RecACEWrapModel(t5_type=t5_type, model_type='rec_ace', bin_size=bin_size, use_pretrained=True).to(DEVICE)\n",
    "rec_ace_optimizer = torch.optim.Adam(rec_ace_model.parameters(), lr=1e-4)\n",
    "\n",
    "rec_ace_model, rec_ace_metrics_df = training(\n",
    "    model=rec_ace_model,\n",
    "    n_epochs=50,\n",
    "    train_data=train_loader,\n",
    "    dev_data=dev_loader,\n",
    "    optimizer=rec_ace_optimizer,\n",
    "    exp_name=f\"rec_ace_Clean\",\n",
    "    save_model=True)"
   ]
  },
  {
   "cell_type": "markdown",
   "id": "2f2b58ad",
   "metadata": {},
   "source": [
    "#### Anaylsis"
   ]
  },
  {
   "cell_type": "code",
   "execution_count": 15,
   "id": "7ab1f60c",
   "metadata": {},
   "outputs": [
    {
     "data": {
      "image/png": "[encoded data removed]",
      "text/plain": [
       "<Figure size 1440x576 with 3 Axes>"
      ]
     },
     "metadata": {
      "needs_background": "light"
     },
     "output_type": "display_data"
    }
   ],
   "source": [
    "plot_graphs(rec_ace_metrics_df, gt_df=asr_evaluators['Clean'].metrics_df, fig_size=(20,8))"
   ]
  },
  {
   "cell_type": "markdown",
   "id": "0e21e0d8",
   "metadata": {},
   "source": [
    "## Model Original T5"
   ]
  },
  {
   "cell_type": "markdown",
   "id": "e124cbcb",
   "metadata": {},
   "source": [
    "#### Training"
   ]
  },
  {
   "cell_type": "code",
   "execution_count": 11,
   "id": "9257e736",
   "metadata": {},
   "outputs": [
    {
     "name": "stdout",
     "output_type": "stream",
     "text": [
      "Experiment name: original_f5_Clean\n",
      "Training model of type: original\n",
      "Confidence vectors are NOT IN USED\n",
      "Saving model to: ./results\\original_f5_Clean/2023-08-27_01-50-22\n"
     ]
    },
    {
     "data": {
      "application/vnd.jupyter.widget-view+json": {
       "model_id": "a049d46c4f554d5f87ede0cd8b94e664",
       "version_major": 2,
       "version_minor": 0
      },
      "text/plain": [
       "  0%|          | 0/100 [00:00<?, ?it/s]"
      ]
     },
     "metadata": {},
     "output_type": "display_data"
    },
    {
     "data": {
      "application/vnd.jupyter.widget-view+json": {
       "model_id": "39fbd79e03864cd59069b8c2d6053d8a",
       "version_major": 2,
       "version_minor": 0
      },
      "text/plain": [
       "Train:   0%|          | 0/1624 [00:00<?, ?it/s]"
      ]
     },
     "metadata": {},
     "output_type": "display_data"
    },
    {
     "data": {
      "application/vnd.jupyter.widget-view+json": {
       "model_id": "c44e2fe1dd8449de92ff043abb5b3a99",
       "version_major": 2,
       "version_minor": 0
      },
      "text/plain": [
       "Dev:   0%|          | 0/43 [00:00<?, ?it/s]"
      ]
     },
     "metadata": {},
     "output_type": "display_data"
    },
    {
     "name": "stdout",
     "output_type": "stream",
     "text": [
      "\tDone Epoch: 1/100\n",
      "\t\tLoss\t|\tTrain AVG: 0.3455, Dev AVG: 0.1839\n",
      "\t\tMetrics\t|\tTrain: wer=0.1439, em=0.09086 ; Dev: wer=0.1404, em=0.3016\n"
     ]
    },
    {
     "data": {
      "application/vnd.jupyter.widget-view+json": {
       "model_id": "07b772361c7442d498e5be8e8eb411cb",
       "version_major": 2,
       "version_minor": 0
      },
      "text/plain": [
       "Train:   0%|          | 0/1624 [00:00<?, ?it/s]"
      ]
     },
     "metadata": {},
     "output_type": "display_data"
    },
    {
     "data": {
      "application/vnd.jupyter.widget-view+json": {
       "model_id": "9fc263e49faf4e5f9c3005703fbea3e7",
       "version_major": 2,
       "version_minor": 0
      },
      "text/plain": [
       "Dev:   0%|          | 0/43 [00:00<?, ?it/s]"
      ]
     },
     "metadata": {},
     "output_type": "display_data"
    },
    {
     "name": "stdout",
     "output_type": "stream",
     "text": [
      "\tDone Epoch: 2/100\n",
      "\t\tLoss\t|\tTrain AVG: 0.2747, Dev AVG: 0.3052\n",
      "\t\tMetrics\t|\tTrain: wer=0.1235, em=0.1127 ; Dev: wer=0.416, em=0.129\n"
     ]
    },
    {
     "data": {
      "application/vnd.jupyter.widget-view+json": {
       "model_id": "fda8bcd3ee034544bfbde37991d6396f",
       "version_major": 2,
       "version_minor": 0
      },
      "text/plain": [
       "Train:   0%|          | 0/1624 [00:00<?, ?it/s]"
      ]
     },
     "metadata": {},
     "output_type": "display_data"
    },
    {
     "data": {
      "application/vnd.jupyter.widget-view+json": {
       "model_id": "a270ccf13a6248f39d7307a3762a4417",
       "version_major": 2,
       "version_minor": 0
      },
      "text/plain": [
       "Dev:   0%|          | 0/43 [00:00<?, ?it/s]"
      ]
     },
     "metadata": {},
     "output_type": "display_data"
    },
    {
     "name": "stdout",
     "output_type": "stream",
     "text": [
      "\tDone Epoch: 3/100\n",
      "\t\tLoss\t|\tTrain AVG: 0.2545, Dev AVG: 0.197\n",
      "\t\tMetrics\t|\tTrain: wer=0.1178, em=0.1192 ; Dev: wer=0.2516, em=0.2282\n"
     ]
    },
    {
     "data": {
      "application/vnd.jupyter.widget-view+json": {
       "model_id": "a2f5b2a166d84952962a13f89c88e08f",
       "version_major": 2,
       "version_minor": 0
      },
      "text/plain": [
       "Train:   0%|          | 0/1624 [00:00<?, ?it/s]"
      ]
     },
     "metadata": {},
     "output_type": "display_data"
    },
    {
     "data": {
      "application/vnd.jupyter.widget-view+json": {
       "model_id": "d1d902e4e1c54233ba4a420f85faaee0",
       "version_major": 2,
       "version_minor": 0
      },
      "text/plain": [
       "Dev:   0%|          | 0/43 [00:00<?, ?it/s]"
      ]
     },
     "metadata": {},
     "output_type": "display_data"
    },
    {
     "name": "stdout",
     "output_type": "stream",
     "text": [
      "\tDone Epoch: 4/100\n",
      "\t\tLoss\t|\tTrain AVG: 0.2406, Dev AVG: 0.1706\n",
      "\t\tMetrics\t|\tTrain: wer=0.1139, em=0.124 ; Dev: wer=0.2566, em=0.2278\n"
     ]
    },
    {
     "data": {
      "application/vnd.jupyter.widget-view+json": {
       "model_id": "d7cb494c1a6a4cf38a7ea669d76ab5f1",
       "version_major": 2,
       "version_minor": 0
      },
      "text/plain": [
       "Train:   0%|          | 0/1624 [00:00<?, ?it/s]"
      ]
     },
     "metadata": {},
     "output_type": "display_data"
    },
    {
     "data": {
      "application/vnd.jupyter.widget-view+json": {
       "model_id": "ccecec85806b455c982b929294e9d123",
       "version_major": 2,
       "version_minor": 0
      },
      "text/plain": [
       "Dev:   0%|          | 0/43 [00:00<?, ?it/s]"
      ]
     },
     "metadata": {},
     "output_type": "display_data"
    },
    {
     "name": "stdout",
     "output_type": "stream",
     "text": [
      "\tDone Epoch: 5/100\n",
      "\t\tLoss\t|\tTrain AVG: 0.2302, Dev AVG: 0.153\n",
      "\t\tMetrics\t|\tTrain: wer=0.111, em=0.1285 ; Dev: wer=0.2187, em=0.2631\n"
     ]
    },
    {
     "data": {
      "application/vnd.jupyter.widget-view+json": {
       "model_id": "b2c7e229b8504b90a8f9017df4bfe03d",
       "version_major": 2,
       "version_minor": 0
      },
      "text/plain": [
       "Train:   0%|          | 0/1624 [00:00<?, ?it/s]"
      ]
     },
     "metadata": {},
     "output_type": "display_data"
    },
    {
     "data": {
      "application/vnd.jupyter.widget-view+json": {
       "model_id": "673bbbe0e89f404e986183b7cabc0104",
       "version_major": 2,
       "version_minor": 0
      },
      "text/plain": [
       "Dev:   0%|          | 0/43 [00:00<?, ?it/s]"
      ]
     },
     "metadata": {},
     "output_type": "display_data"
    },
    {
     "name": "stdout",
     "output_type": "stream",
     "text": [
      "\tDone Epoch: 6/100\n",
      "\t\tLoss\t|\tTrain AVG: 0.2215, Dev AVG: 0.1117\n",
      "\t\tMetrics\t|\tTrain: wer=0.1087, em=0.1327 ; Dev: wer=0.1171, em=0.346\n"
     ]
    },
    {
     "data": {
      "application/vnd.jupyter.widget-view+json": {
       "model_id": "50d862775dd3416192a44d00f01b4919",
       "version_major": 2,
       "version_minor": 0
      },
      "text/plain": [
       "Train:   0%|          | 0/1624 [00:00<?, ?it/s]"
      ]
     },
     "metadata": {},
     "output_type": "display_data"
    },
    {
     "data": {
      "application/vnd.jupyter.widget-view+json": {
       "model_id": "a186f755d13048529e041a6d05df8a00",
       "version_major": 2,
       "version_minor": 0
      },
      "text/plain": [
       "Dev:   0%|          | 0/43 [00:00<?, ?it/s]"
      ]
     },
     "metadata": {},
     "output_type": "display_data"
    },
    {
     "name": "stdout",
     "output_type": "stream",
     "text": [
      "\tDone Epoch: 7/100\n",
      "\t\tLoss\t|\tTrain AVG: 0.2143, Dev AVG: 0.1294\n",
      "\t\tMetrics\t|\tTrain: wer=0.1066, em=0.1358 ; Dev: wer=0.1532, em=0.3111\n"
     ]
    },
    {
     "data": {
      "application/vnd.jupyter.widget-view+json": {
       "model_id": "e658c1acbe7645b0a608bc57b62a9906",
       "version_major": 2,
       "version_minor": 0
      },
      "text/plain": [
       "Train:   0%|          | 0/1624 [00:00<?, ?it/s]"
      ]
     },
     "metadata": {},
     "output_type": "display_data"
    },
    {
     "data": {
      "application/vnd.jupyter.widget-view+json": {
       "model_id": "7e440454731045f99c07e46fe58329f1",
       "version_major": 2,
       "version_minor": 0
      },
      "text/plain": [
       "Dev:   0%|          | 0/43 [00:00<?, ?it/s]"
      ]
     },
     "metadata": {},
     "output_type": "display_data"
    },
    {
     "name": "stdout",
     "output_type": "stream",
     "text": [
      "\tDone Epoch: 8/100\n",
      "\t\tLoss\t|\tTrain AVG: 0.2081, Dev AVG: 0.2062\n",
      "\t\tMetrics\t|\tTrain: wer=0.1049, em=0.1396 ; Dev: wer=0.2783, em=0.1974\n"
     ]
    },
    {
     "data": {
      "application/vnd.jupyter.widget-view+json": {
       "model_id": "331966bdea1345c18cc4f1868dbee511",
       "version_major": 2,
       "version_minor": 0
      },
      "text/plain": [
       "Train:   0%|          | 0/1624 [00:00<?, ?it/s]"
      ]
     },
     "metadata": {},
     "output_type": "display_data"
    },
    {
     "data": {
      "application/vnd.jupyter.widget-view+json": {
       "model_id": "e67fac1103a9470492bb2f3739b63712",
       "version_major": 2,
       "version_minor": 0
      },
      "text/plain": [
       "Dev:   0%|          | 0/43 [00:00<?, ?it/s]"
      ]
     },
     "metadata": {},
     "output_type": "display_data"
    },
    {
     "name": "stdout",
     "output_type": "stream",
     "text": [
      "\tDone Epoch: 9/100\n",
      "\t\tLoss\t|\tTrain AVG: 0.2024, Dev AVG: 0.2388\n",
      "\t\tMetrics\t|\tTrain: wer=0.1033, em=0.1415 ; Dev: wer=0.1679, em=0.02834\n"
     ]
    },
    {
     "data": {
      "application/vnd.jupyter.widget-view+json": {
       "model_id": "15bfaaa4f93047ecb4f299ccae2e188f",
       "version_major": 2,
       "version_minor": 0
      },
      "text/plain": [
       "Train:   0%|          | 0/1624 [00:00<?, ?it/s]"
      ]
     },
     "metadata": {},
     "output_type": "display_data"
    },
    {
     "data": {
      "application/vnd.jupyter.widget-view+json": {
       "model_id": "2e72401e1131411da377176f3dd1f205",
       "version_major": 2,
       "version_minor": 0
      },
      "text/plain": [
       "Dev:   0%|          | 0/43 [00:00<?, ?it/s]"
      ]
     },
     "metadata": {},
     "output_type": "display_data"
    },
    {
     "name": "stdout",
     "output_type": "stream",
     "text": [
      "\tDone Epoch: 10/100\n",
      "\t\tLoss\t|\tTrain AVG: 0.1975, Dev AVG: 0.2207\n",
      "\t\tMetrics\t|\tTrain: wer=0.1018, em=0.1452 ; Dev: wer=0.1666, em=0.01999\n"
     ]
    },
    {
     "data": {
      "application/vnd.jupyter.widget-view+json": {
       "model_id": "ce98ebe686684360b9f52ff16adba517",
       "version_major": 2,
       "version_minor": 0
      },
      "text/plain": [
       "Train:   0%|          | 0/1624 [00:00<?, ?it/s]"
      ]
     },
     "metadata": {},
     "output_type": "display_data"
    },
    {
     "data": {
      "application/vnd.jupyter.widget-view+json": {
       "model_id": "6ecf5aabaa1d4d0a89c72e01488f8528",
       "version_major": 2,
       "version_minor": 0
      },
      "text/plain": [
       "Dev:   0%|          | 0/43 [00:00<?, ?it/s]"
      ]
     },
     "metadata": {},
     "output_type": "display_data"
    },
    {
     "name": "stdout",
     "output_type": "stream",
     "text": [
      "\tDone Epoch: 11/100\n",
      "\t\tLoss\t|\tTrain AVG: 0.1928, Dev AVG: 0.1667\n",
      "\t\tMetrics\t|\tTrain: wer=0.1005, em=0.1465 ; Dev: wer=0.225, em=0.2522\n"
     ]
    },
    {
     "data": {
      "application/vnd.jupyter.widget-view+json": {
       "model_id": "f52e9cd676b84904b41b02f73383e6ad",
       "version_major": 2,
       "version_minor": 0
      },
      "text/plain": [
       "Train:   0%|          | 0/1624 [00:00<?, ?it/s]"
      ]
     },
     "metadata": {},
     "output_type": "display_data"
    },
    {
     "data": {
      "application/vnd.jupyter.widget-view+json": {
       "model_id": "cb880dbb57a34896bb38851d672c9df3",
       "version_major": 2,
       "version_minor": 0
      },
      "text/plain": [
       "Dev:   0%|          | 0/43 [00:00<?, ?it/s]"
      ]
     },
     "metadata": {},
     "output_type": "display_data"
    },
    {
     "name": "stdout",
     "output_type": "stream",
     "text": [
      "\tDone Epoch: 12/100\n",
      "\t\tLoss\t|\tTrain AVG: 0.1886, Dev AVG: 0.3148\n",
      "\t\tMetrics\t|\tTrain: wer=0.09925, em=0.148 ; Dev: wer=0.4418, em=0.1352\n"
     ]
    },
    {
     "data": {
      "application/vnd.jupyter.widget-view+json": {
       "model_id": "f7d1a79a60a846278a612de07c7d33bc",
       "version_major": 2,
       "version_minor": 0
      },
      "text/plain": [
       "Train:   0%|          | 0/1624 [00:00<?, ?it/s]"
      ]
     },
     "metadata": {},
     "output_type": "display_data"
    },
    {
     "data": {
      "application/vnd.jupyter.widget-view+json": {
       "model_id": "75a347d4bf70419ab29c1a320144681e",
       "version_major": 2,
       "version_minor": 0
      },
      "text/plain": [
       "Dev:   0%|          | 0/43 [00:00<?, ?it/s]"
      ]
     },
     "metadata": {},
     "output_type": "display_data"
    },
    {
     "name": "stdout",
     "output_type": "stream",
     "text": [
      "\tDone Epoch: 13/100\n",
      "\t\tLoss\t|\tTrain AVG: 0.1846, Dev AVG: 0.2762\n",
      "\t\tMetrics\t|\tTrain: wer=0.09813, em=0.1505 ; Dev: wer=0.2862, em=0.2322\n"
     ]
    },
    {
     "data": {
      "application/vnd.jupyter.widget-view+json": {
       "model_id": "09d0d535c2f54d5791d752fd677c535e",
       "version_major": 2,
       "version_minor": 0
      },
      "text/plain": [
       "Train:   0%|          | 0/1624 [00:00<?, ?it/s]"
      ]
     },
     "metadata": {},
     "output_type": "display_data"
    },
    {
     "data": {
      "application/vnd.jupyter.widget-view+json": {
       "model_id": "76aaf4da257c430ab6b05e1b04464782",
       "version_major": 2,
       "version_minor": 0
      },
      "text/plain": [
       "Dev:   0%|          | 0/43 [00:00<?, ?it/s]"
      ]
     },
     "metadata": {},
     "output_type": "display_data"
    },
    {
     "name": "stdout",
     "output_type": "stream",
     "text": [
      "\tDone Epoch: 14/100\n",
      "\t\tLoss\t|\tTrain AVG: 0.181, Dev AVG: 0.3395\n",
      "\t\tMetrics\t|\tTrain: wer=0.09701, em=0.1524 ; Dev: wer=0.4321, em=0.1065\n"
     ]
    },
    {
     "data": {
      "application/vnd.jupyter.widget-view+json": {
       "model_id": "fb1128b0a9894092908a75c7f9643516",
       "version_major": 2,
       "version_minor": 0
      },
      "text/plain": [
       "Train:   0%|          | 0/1624 [00:00<?, ?it/s]"
      ]
     },
     "metadata": {},
     "output_type": "display_data"
    },
    {
     "data": {
      "application/vnd.jupyter.widget-view+json": {
       "model_id": "65478a227dd64f088b266239bd01e9b3",
       "version_major": 2,
       "version_minor": 0
      },
      "text/plain": [
       "Dev:   0%|          | 0/43 [00:00<?, ?it/s]"
      ]
     },
     "metadata": {},
     "output_type": "display_data"
    },
    {
     "name": "stdout",
     "output_type": "stream",
     "text": [
      "\tDone Epoch: 15/100\n",
      "\t\tLoss\t|\tTrain AVG: 0.1777, Dev AVG: 0.2044\n",
      "\t\tMetrics\t|\tTrain: wer=0.09612, em=0.1535 ; Dev: wer=0.3006, em=0.1908\n"
     ]
    },
    {
     "data": {
      "application/vnd.jupyter.widget-view+json": {
       "model_id": "263dd20a03a24fc99bde4417a88052db",
       "version_major": 2,
       "version_minor": 0
      },
      "text/plain": [
       "Train:   0%|          | 0/1624 [00:00<?, ?it/s]"
      ]
     },
     "metadata": {},
     "output_type": "display_data"
    },
    {
     "data": {
      "application/vnd.jupyter.widget-view+json": {
       "model_id": "ad6cc95ec8ee489bbb6f28dae77f1df4",
       "version_major": 2,
       "version_minor": 0
      },
      "text/plain": [
       "Dev:   0%|          | 0/43 [00:00<?, ?it/s]"
      ]
     },
     "metadata": {},
     "output_type": "display_data"
    },
    {
     "name": "stdout",
     "output_type": "stream",
     "text": [
      "\tDone Epoch: 16/100\n",
      "\t\tLoss\t|\tTrain AVG: 0.1745, Dev AVG: 0.1272\n",
      "\t\tMetrics\t|\tTrain: wer=0.09511, em=0.1565 ; Dev: wer=0.1212, em=0.2878\n"
     ]
    },
    {
     "data": {
      "application/vnd.jupyter.widget-view+json": {
       "model_id": "07fb1836414d406ba06bfc92eeb2e753",
       "version_major": 2,
       "version_minor": 0
      },
      "text/plain": [
       "Train:   0%|          | 0/1624 [00:00<?, ?it/s]"
      ]
     },
     "metadata": {},
     "output_type": "display_data"
    },
    {
     "data": {
      "application/vnd.jupyter.widget-view+json": {
       "model_id": "7220296594894b23b003673e0a6304fe",
       "version_major": 2,
       "version_minor": 0
      },
      "text/plain": [
       "Dev:   0%|          | 0/43 [00:00<?, ?it/s]"
      ]
     },
     "metadata": {},
     "output_type": "display_data"
    },
    {
     "name": "stdout",
     "output_type": "stream",
     "text": [
      "\tDone Epoch: 17/100\n",
      "\t\tLoss\t|\tTrain AVG: 0.1715, Dev AVG: 0.1229\n",
      "\t\tMetrics\t|\tTrain: wer=0.09428, em=0.1586 ; Dev: wer=0.1687, em=0.2736\n"
     ]
    },
    {
     "data": {
      "application/vnd.jupyter.widget-view+json": {
       "model_id": "5482c330793b406aba0995eaf956ba7b",
       "version_major": 2,
       "version_minor": 0
      },
      "text/plain": [
       "Train:   0%|          | 0/1624 [00:00<?, ?it/s]"
      ]
     },
     "metadata": {},
     "output_type": "display_data"
    },
    {
     "data": {
      "application/vnd.jupyter.widget-view+json": {
       "model_id": "7487775fd8a84b29bd8545be3a51f069",
       "version_major": 2,
       "version_minor": 0
      },
      "text/plain": [
       "Dev:   0%|          | 0/43 [00:00<?, ?it/s]"
      ]
     },
     "metadata": {},
     "output_type": "display_data"
    },
    {
     "name": "stdout",
     "output_type": "stream",
     "text": [
      "\tDone Epoch: 18/100\n",
      "\t\tLoss\t|\tTrain AVG: 0.1686, Dev AVG: 0.1411\n",
      "\t\tMetrics\t|\tTrain: wer=0.09328, em=0.1611 ; Dev: wer=0.1804, em=0.2787\n"
     ]
    },
    {
     "data": {
      "application/vnd.jupyter.widget-view+json": {
       "model_id": "4804e10efcd6406a9f3728321b6ffbb8",
       "version_major": 2,
       "version_minor": 0
      },
      "text/plain": [
       "Train:   0%|          | 0/1624 [00:00<?, ?it/s]"
      ]
     },
     "metadata": {},
     "output_type": "display_data"
    },
    {
     "data": {
      "application/vnd.jupyter.widget-view+json": {
       "model_id": "e5010a44a82644ef9225cf8b8282987e",
       "version_major": 2,
       "version_minor": 0
      },
      "text/plain": [
       "Dev:   0%|          | 0/43 [00:00<?, ?it/s]"
      ]
     },
     "metadata": {},
     "output_type": "display_data"
    },
    {
     "name": "stdout",
     "output_type": "stream",
     "text": [
      "\tDone Epoch: 19/100\n",
      "\t\tLoss\t|\tTrain AVG: 0.1658, Dev AVG: 0.1771\n",
      "\t\tMetrics\t|\tTrain: wer=0.09253, em=0.1618 ; Dev: wer=0.2707, em=0.2118\n"
     ]
    },
    {
     "data": {
      "application/vnd.jupyter.widget-view+json": {
       "model_id": "9c1c2e444a694af88734a18381ab8d78",
       "version_major": 2,
       "version_minor": 0
      },
      "text/plain": [
       "Train:   0%|          | 0/1624 [00:00<?, ?it/s]"
      ]
     },
     "metadata": {},
     "output_type": "display_data"
    },
    {
     "data": {
      "application/vnd.jupyter.widget-view+json": {
       "model_id": "ba7b5dc0a55542b5bab8a6b66666f145",
       "version_major": 2,
       "version_minor": 0
      },
      "text/plain": [
       "Dev:   0%|          | 0/43 [00:00<?, ?it/s]"
      ]
     },
     "metadata": {},
     "output_type": "display_data"
    },
    {
     "name": "stdout",
     "output_type": "stream",
     "text": [
      "\tDone Epoch: 20/100\n",
      "\t\tLoss\t|\tTrain AVG: 0.1633, Dev AVG: 0.2104\n",
      "\t\tMetrics\t|\tTrain: wer=0.0917, em=0.1629 ; Dev: wer=0.1493, em=0.3387\n"
     ]
    },
    {
     "data": {
      "application/vnd.jupyter.widget-view+json": {
       "model_id": "fc39e7d8d4254bf8bd9fcf8aead42211",
       "version_major": 2,
       "version_minor": 0
      },
      "text/plain": [
       "Train:   0%|          | 0/1624 [00:00<?, ?it/s]"
      ]
     },
     "metadata": {},
     "output_type": "display_data"
    },
    {
     "data": {
      "application/vnd.jupyter.widget-view+json": {
       "model_id": "1bc7ac6c268149fea2364331545688b8",
       "version_major": 2,
       "version_minor": 0
      },
      "text/plain": [
       "Dev:   0%|          | 0/43 [00:00<?, ?it/s]"
      ]
     },
     "metadata": {},
     "output_type": "display_data"
    },
    {
     "name": "stdout",
     "output_type": "stream",
     "text": [
      "\tDone Epoch: 21/100\n",
      "\t\tLoss\t|\tTrain AVG: 0.1607, Dev AVG: 0.1639\n",
      "\t\tMetrics\t|\tTrain: wer=0.09089, em=0.1654 ; Dev: wer=0.2412, em=0.2413\n"
     ]
    },
    {
     "data": {
      "application/vnd.jupyter.widget-view+json": {
       "model_id": "9a7e70d9a52f4493a7bb3c5ba5baede0",
       "version_major": 2,
       "version_minor": 0
      },
      "text/plain": [
       "Train:   0%|          | 0/1624 [00:00<?, ?it/s]"
      ]
     },
     "metadata": {},
     "output_type": "display_data"
    },
    {
     "data": {
      "application/vnd.jupyter.widget-view+json": {
       "model_id": "7d5f5ea2d783492ebfbe1215e6f88afb",
       "version_major": 2,
       "version_minor": 0
      },
      "text/plain": [
       "Dev:   0%|          | 0/43 [00:00<?, ?it/s]"
      ]
     },
     "metadata": {},
     "output_type": "display_data"
    },
    {
     "name": "stdout",
     "output_type": "stream",
     "text": [
      "\tDone Epoch: 22/100\n",
      "\t\tLoss\t|\tTrain AVG: 0.1584, Dev AVG: 0.1065\n",
      "\t\tMetrics\t|\tTrain: wer=0.09045, em=0.1664 ; Dev: wer=0.1365, em=0.3234\n"
     ]
    },
    {
     "data": {
      "application/vnd.jupyter.widget-view+json": {
       "model_id": "10163ac8d2584dc7836e21d4df8ba0c9",
       "version_major": 2,
       "version_minor": 0
      },
      "text/plain": [
       "Train:   0%|          | 0/1624 [00:00<?, ?it/s]"
      ]
     },
     "metadata": {},
     "output_type": "display_data"
    },
    {
     "data": {
      "application/vnd.jupyter.widget-view+json": {
       "model_id": "c4ce3392c3b741cc826a8239806e6f48",
       "version_major": 2,
       "version_minor": 0
      },
      "text/plain": [
       "Dev:   0%|          | 0/43 [00:00<?, ?it/s]"
      ]
     },
     "metadata": {},
     "output_type": "display_data"
    },
    {
     "name": "stdout",
     "output_type": "stream",
     "text": [
      "\tDone Epoch: 23/100\n",
      "\t\tLoss\t|\tTrain AVG: 0.1558, Dev AVG: 0.1473\n",
      "\t\tMetrics\t|\tTrain: wer=0.08945, em=0.1681 ; Dev: wer=0.1698, em=0.29\n"
     ]
    },
    {
     "data": {
      "application/vnd.jupyter.widget-view+json": {
       "model_id": "0c09e88468224cb383d3a73212bf43a6",
       "version_major": 2,
       "version_minor": 0
      },
      "text/plain": [
       "Train:   0%|          | 0/1624 [00:00<?, ?it/s]"
      ]
     },
     "metadata": {},
     "output_type": "display_data"
    },
    {
     "data": {
      "application/vnd.jupyter.widget-view+json": {
       "model_id": "a702e123f0a947e89d705845fdc4ead8",
       "version_major": 2,
       "version_minor": 0
      },
      "text/plain": [
       "Dev:   0%|          | 0/43 [00:00<?, ?it/s]"
      ]
     },
     "metadata": {},
     "output_type": "display_data"
    },
    {
     "name": "stdout",
     "output_type": "stream",
     "text": [
      "\tDone Epoch: 24/100\n",
      "\t\tLoss\t|\tTrain AVG: 0.1537, Dev AVG: 0.5775\n",
      "\t\tMetrics\t|\tTrain: wer=0.08885, em=0.1701 ; Dev: wer=0.5097, em=0.09157\n"
     ]
    },
    {
     "data": {
      "application/vnd.jupyter.widget-view+json": {
       "model_id": "9b51e872a8b54ab491dbdce47a803351",
       "version_major": 2,
       "version_minor": 0
      },
      "text/plain": [
       "Train:   0%|          | 0/1624 [00:00<?, ?it/s]"
      ]
     },
     "metadata": {},
     "output_type": "display_data"
    },
    {
     "data": {
      "application/vnd.jupyter.widget-view+json": {
       "model_id": "f5b37bcf53b74d38841d76c4ddc6d97b",
       "version_major": 2,
       "version_minor": 0
      },
      "text/plain": [
       "Dev:   0%|          | 0/43 [00:00<?, ?it/s]"
      ]
     },
     "metadata": {},
     "output_type": "display_data"
    },
    {
     "name": "stdout",
     "output_type": "stream",
     "text": [
      "\tDone Epoch: 25/100\n",
      "\t\tLoss\t|\tTrain AVG: 0.1518, Dev AVG: 0.1067\n",
      "\t\tMetrics\t|\tTrain: wer=0.08831, em=0.171 ; Dev: wer=0.1267, em=0.3365\n"
     ]
    },
    {
     "data": {
      "application/vnd.jupyter.widget-view+json": {
       "model_id": "ad82f494ef4a43c0a7832d43cc49c382",
       "version_major": 2,
       "version_minor": 0
      },
      "text/plain": [
       "Train:   0%|          | 0/1624 [00:00<?, ?it/s]"
      ]
     },
     "metadata": {},
     "output_type": "display_data"
    },
    {
     "data": {
      "application/vnd.jupyter.widget-view+json": {
       "model_id": "d1fe8649811f46dd9908630d134eb7e7",
       "version_major": 2,
       "version_minor": 0
      },
      "text/plain": [
       "Dev:   0%|          | 0/43 [00:00<?, ?it/s]"
      ]
     },
     "metadata": {},
     "output_type": "display_data"
    },
    {
     "name": "stdout",
     "output_type": "stream",
     "text": [
      "\tDone Epoch: 26/100\n",
      "\t\tLoss\t|\tTrain AVG: 0.1497, Dev AVG: 0.1138\n",
      "\t\tMetrics\t|\tTrain: wer=0.08761, em=0.1739 ; Dev: wer=0.1459, em=0.2685\n"
     ]
    },
    {
     "data": {
      "application/vnd.jupyter.widget-view+json": {
       "model_id": "065fd643db304226a4f608a5233d10d0",
       "version_major": 2,
       "version_minor": 0
      },
      "text/plain": [
       "Train:   0%|          | 0/1624 [00:00<?, ?it/s]"
      ]
     },
     "metadata": {},
     "output_type": "display_data"
    },
    {
     "data": {
      "application/vnd.jupyter.widget-view+json": {
       "model_id": "5a9ccb1556214e4bb5405d49c0b2b286",
       "version_major": 2,
       "version_minor": 0
      },
      "text/plain": [
       "Dev:   0%|          | 0/43 [00:00<?, ?it/s]"
      ]
     },
     "metadata": {},
     "output_type": "display_data"
    },
    {
     "name": "stdout",
     "output_type": "stream",
     "text": [
      "\tDone Epoch: 27/100\n",
      "\t\tLoss\t|\tTrain AVG: 0.1476, Dev AVG: 0.1404\n",
      "\t\tMetrics\t|\tTrain: wer=0.08698, em=0.1741 ; Dev: wer=0.1457, em=0.3263\n"
     ]
    },
    {
     "data": {
      "application/vnd.jupyter.widget-view+json": {
       "model_id": "e007c6e3d243468288152cd585f35962",
       "version_major": 2,
       "version_minor": 0
      },
      "text/plain": [
       "Train:   0%|          | 0/1624 [00:00<?, ?it/s]"
      ]
     },
     "metadata": {},
     "output_type": "display_data"
    },
    {
     "data": {
      "application/vnd.jupyter.widget-view+json": {
       "model_id": "3a6c1efafd914400b3699ba951b0b0b2",
       "version_major": 2,
       "version_minor": 0
      },
      "text/plain": [
       "Dev:   0%|          | 0/43 [00:00<?, ?it/s]"
      ]
     },
     "metadata": {},
     "output_type": "display_data"
    },
    {
     "name": "stdout",
     "output_type": "stream",
     "text": [
      "\tDone Epoch: 28/100\n",
      "\t\tLoss\t|\tTrain AVG: 0.1457, Dev AVG: 0.09997\n",
      "\t\tMetrics\t|\tTrain: wer=0.08632, em=0.1762 ; Dev: wer=0.1243, em=0.3416\n"
     ]
    },
    {
     "data": {
      "application/vnd.jupyter.widget-view+json": {
       "model_id": "21484bb5f2ac4f80b423243fc7a6958d",
       "version_major": 2,
       "version_minor": 0
      },
      "text/plain": [
       "Train:   0%|          | 0/1624 [00:00<?, ?it/s]"
      ]
     },
     "metadata": {},
     "output_type": "display_data"
    },
    {
     "data": {
      "application/vnd.jupyter.widget-view+json": {
       "model_id": "ec2a46f9b0ae48b9b15f9763dc95dc17",
       "version_major": 2,
       "version_minor": 0
      },
      "text/plain": [
       "Dev:   0%|          | 0/43 [00:00<?, ?it/s]"
      ]
     },
     "metadata": {},
     "output_type": "display_data"
    },
    {
     "name": "stdout",
     "output_type": "stream",
     "text": [
      "\tDone Epoch: 29/100\n",
      "\t\tLoss\t|\tTrain AVG: 0.1438, Dev AVG: 0.1276\n",
      "\t\tMetrics\t|\tTrain: wer=0.08563, em=0.1777 ; Dev: wer=0.1443, em=0.3252\n"
     ]
    },
    {
     "data": {
      "application/vnd.jupyter.widget-view+json": {
       "model_id": "0110739c1510409ca8ea3296121cf25e",
       "version_major": 2,
       "version_minor": 0
      },
      "text/plain": [
       "Train:   0%|          | 0/1624 [00:00<?, ?it/s]"
      ]
     },
     "metadata": {},
     "output_type": "display_data"
    },
    {
     "data": {
      "application/vnd.jupyter.widget-view+json": {
       "model_id": "a720ba7260e54efc97bb0f3034c9e8fe",
       "version_major": 2,
       "version_minor": 0
      },
      "text/plain": [
       "Dev:   0%|          | 0/43 [00:00<?, ?it/s]"
      ]
     },
     "metadata": {},
     "output_type": "display_data"
    },
    {
     "name": "stdout",
     "output_type": "stream",
     "text": [
      "\tDone Epoch: 30/100\n",
      "\t\tLoss\t|\tTrain AVG: 0.1419, Dev AVG: 0.1866\n",
      "\t\tMetrics\t|\tTrain: wer=0.08514, em=0.1795 ; Dev: wer=0.2064, em=0.2511\n"
     ]
    },
    {
     "data": {
      "application/vnd.jupyter.widget-view+json": {
       "model_id": "a10a48de5824460ca38a0f2359d36da9",
       "version_major": 2,
       "version_minor": 0
      },
      "text/plain": [
       "Train:   0%|          | 0/1624 [00:00<?, ?it/s]"
      ]
     },
     "metadata": {},
     "output_type": "display_data"
    },
    {
     "data": {
      "application/vnd.jupyter.widget-view+json": {
       "model_id": "a6afa8da7cf8437da6d54a6ab4dbbd39",
       "version_major": 2,
       "version_minor": 0
      },
      "text/plain": [
       "Dev:   0%|          | 0/43 [00:00<?, ?it/s]"
      ]
     },
     "metadata": {},
     "output_type": "display_data"
    },
    {
     "name": "stdout",
     "output_type": "stream",
     "text": [
      "\tDone Epoch: 31/100\n",
      "\t\tLoss\t|\tTrain AVG: 0.1402, Dev AVG: 0.2365\n",
      "\t\tMetrics\t|\tTrain: wer=0.08459, em=0.1798 ; Dev: wer=0.3688, em=0.1624\n"
     ]
    },
    {
     "data": {
      "application/vnd.jupyter.widget-view+json": {
       "model_id": "3450d0cbfae54feda7dc90ec8c1010f5",
       "version_major": 2,
       "version_minor": 0
      },
      "text/plain": [
       "Train:   0%|          | 0/1624 [00:00<?, ?it/s]"
      ]
     },
     "metadata": {},
     "output_type": "display_data"
    },
    {
     "data": {
      "application/vnd.jupyter.widget-view+json": {
       "model_id": "fe3aa65900fa45618e01c294777c9376",
       "version_major": 2,
       "version_minor": 0
      },
      "text/plain": [
       "Dev:   0%|          | 0/43 [00:00<?, ?it/s]"
      ]
     },
     "metadata": {},
     "output_type": "display_data"
    },
    {
     "name": "stdout",
     "output_type": "stream",
     "text": [
      "\tDone Epoch: 32/100\n",
      "\t\tLoss\t|\tTrain AVG: 0.1385, Dev AVG: 0.1637\n",
      "\t\tMetrics\t|\tTrain: wer=0.08394, em=0.1826 ; Dev: wer=0.1823, em=0.2616\n"
     ]
    },
    {
     "data": {
      "application/vnd.jupyter.widget-view+json": {
       "model_id": "f4852fd7adb24374846088596ff574bd",
       "version_major": 2,
       "version_minor": 0
      },
      "text/plain": [
       "Train:   0%|          | 0/1624 [00:00<?, ?it/s]"
      ]
     },
     "metadata": {},
     "output_type": "display_data"
    },
    {
     "data": {
      "application/vnd.jupyter.widget-view+json": {
       "model_id": "b883d1c8c1c743ccb7f40c83cee29041",
       "version_major": 2,
       "version_minor": 0
      },
      "text/plain": [
       "Dev:   0%|          | 0/43 [00:00<?, ?it/s]"
      ]
     },
     "metadata": {},
     "output_type": "display_data"
    },
    {
     "name": "stdout",
     "output_type": "stream",
     "text": [
      "\tDone Epoch: 33/100\n",
      "\t\tLoss\t|\tTrain AVG: 0.1366, Dev AVG: 0.1102\n",
      "\t\tMetrics\t|\tTrain: wer=0.08327, em=0.1838 ; Dev: wer=0.116, em=0.3532\n"
     ]
    },
    {
     "data": {
      "application/vnd.jupyter.widget-view+json": {
       "model_id": "3b8725f363434dba86de57bfaef734d7",
       "version_major": 2,
       "version_minor": 0
      },
      "text/plain": [
       "Train:   0%|          | 0/1624 [00:00<?, ?it/s]"
      ]
     },
     "metadata": {},
     "output_type": "display_data"
    },
    {
     "data": {
      "application/vnd.jupyter.widget-view+json": {
       "model_id": "d9189f187cee463e9660fa781ecc04d7",
       "version_major": 2,
       "version_minor": 0
      },
      "text/plain": [
       "Dev:   0%|          | 0/43 [00:00<?, ?it/s]"
      ]
     },
     "metadata": {},
     "output_type": "display_data"
    },
    {
     "name": "stdout",
     "output_type": "stream",
     "text": [
      "\tDone Epoch: 34/100\n",
      "\t\tLoss\t|\tTrain AVG: 0.1351, Dev AVG: 0.105\n",
      "\t\tMetrics\t|\tTrain: wer=0.08282, em=0.1859 ; Dev: wer=0.1075, em=0.3641\n"
     ]
    },
    {
     "data": {
      "application/vnd.jupyter.widget-view+json": {
       "model_id": "5c8edac14a56419aaaaaba9113d506b4",
       "version_major": 2,
       "version_minor": 0
      },
      "text/plain": [
       "Train:   0%|          | 0/1624 [00:00<?, ?it/s]"
      ]
     },
     "metadata": {},
     "output_type": "display_data"
    },
    {
     "data": {
      "application/vnd.jupyter.widget-view+json": {
       "model_id": "50c5b07868dd450b98803b6e15b430b7",
       "version_major": 2,
       "version_minor": 0
      },
      "text/plain": [
       "Dev:   0%|          | 0/43 [00:00<?, ?it/s]"
      ]
     },
     "metadata": {},
     "output_type": "display_data"
    },
    {
     "name": "stdout",
     "output_type": "stream",
     "text": [
      "\tDone Epoch: 35/100\n",
      "\t\tLoss\t|\tTrain AVG: 0.1336, Dev AVG: 0.1296\n",
      "\t\tMetrics\t|\tTrain: wer=0.08235, em=0.1876 ; Dev: wer=0.1374, em=0.3224\n"
     ]
    },
    {
     "data": {
      "application/vnd.jupyter.widget-view+json": {
       "model_id": "6d30e13dba664240ac26e0990331d9da",
       "version_major": 2,
       "version_minor": 0
      },
      "text/plain": [
       "Train:   0%|          | 0/1624 [00:00<?, ?it/s]"
      ]
     },
     "metadata": {},
     "output_type": "display_data"
    },
    {
     "data": {
      "application/vnd.jupyter.widget-view+json": {
       "model_id": "aa65fddfa3b641d19e2d9cecf5608c7c",
       "version_major": 2,
       "version_minor": 0
      },
      "text/plain": [
       "Dev:   0%|          | 0/43 [00:00<?, ?it/s]"
      ]
     },
     "metadata": {},
     "output_type": "display_data"
    },
    {
     "name": "stdout",
     "output_type": "stream",
     "text": [
      "\tDone Epoch: 36/100\n",
      "\t\tLoss\t|\tTrain AVG: 0.1319, Dev AVG: 0.1514\n",
      "\t\tMetrics\t|\tTrain: wer=0.08186, em=0.1875 ; Dev: wer=0.1565, em=0.3042\n"
     ]
    },
    {
     "data": {
      "application/vnd.jupyter.widget-view+json": {
       "model_id": "8e1479c410f94b5fb350ff271d8eeb4f",
       "version_major": 2,
       "version_minor": 0
      },
      "text/plain": [
       "Train:   0%|          | 0/1624 [00:00<?, ?it/s]"
      ]
     },
     "metadata": {},
     "output_type": "display_data"
    },
    {
     "data": {
      "application/vnd.jupyter.widget-view+json": {
       "model_id": "16f2eb48d6104c45827ff05b8301d9a5",
       "version_major": 2,
       "version_minor": 0
      },
      "text/plain": [
       "Dev:   0%|          | 0/43 [00:00<?, ?it/s]"
      ]
     },
     "metadata": {},
     "output_type": "display_data"
    },
    {
     "name": "stdout",
     "output_type": "stream",
     "text": [
      "\tDone Epoch: 37/100\n",
      "\t\tLoss\t|\tTrain AVG: 0.1305, Dev AVG: 0.2001\n",
      "\t\tMetrics\t|\tTrain: wer=0.08137, em=0.1891 ; Dev: wer=0.2278, em=0.2391\n"
     ]
    },
    {
     "data": {
      "application/vnd.jupyter.widget-view+json": {
       "model_id": "2904b1137f0f4803a0440070a4f958fa",
       "version_major": 2,
       "version_minor": 0
      },
      "text/plain": [
       "Train:   0%|          | 0/1624 [00:00<?, ?it/s]"
      ]
     },
     "metadata": {},
     "output_type": "display_data"
    },
    {
     "data": {
      "application/vnd.jupyter.widget-view+json": {
       "model_id": "c9bc5e7cf14e4ac1abff3754bc3cf0fd",
       "version_major": 2,
       "version_minor": 0
      },
      "text/plain": [
       "Dev:   0%|          | 0/43 [00:00<?, ?it/s]"
      ]
     },
     "metadata": {},
     "output_type": "display_data"
    },
    {
     "name": "stdout",
     "output_type": "stream",
     "text": [
      "\tDone Epoch: 38/100\n",
      "\t\tLoss\t|\tTrain AVG: 0.1289, Dev AVG: 0.1499\n",
      "\t\tMetrics\t|\tTrain: wer=0.08075, em=0.191 ; Dev: wer=0.1689, em=0.2838\n"
     ]
    },
    {
     "data": {
      "application/vnd.jupyter.widget-view+json": {
       "model_id": "e27d0c1144c84de98c5cc73ba82abdfc",
       "version_major": 2,
       "version_minor": 0
      },
      "text/plain": [
       "Train:   0%|          | 0/1624 [00:00<?, ?it/s]"
      ]
     },
     "metadata": {},
     "output_type": "display_data"
    },
    {
     "data": {
      "application/vnd.jupyter.widget-view+json": {
       "model_id": "0c755b5f3301459ebe48429ebdd28990",
       "version_major": 2,
       "version_minor": 0
      },
      "text/plain": [
       "Dev:   0%|          | 0/43 [00:00<?, ?it/s]"
      ]
     },
     "metadata": {},
     "output_type": "display_data"
    },
    {
     "name": "stdout",
     "output_type": "stream",
     "text": [
      "\tDone Epoch: 39/100\n",
      "\t\tLoss\t|\tTrain AVG: 0.1276, Dev AVG: 0.1587\n",
      "\t\tMetrics\t|\tTrain: wer=0.08039, em=0.1931 ; Dev: wer=0.1949, em=0.2576\n"
     ]
    },
    {
     "data": {
      "application/vnd.jupyter.widget-view+json": {
       "model_id": "d8871111c8294703af8fa4dfca31c109",
       "version_major": 2,
       "version_minor": 0
      },
      "text/plain": [
       "Train:   0%|          | 0/1624 [00:00<?, ?it/s]"
      ]
     },
     "metadata": {},
     "output_type": "display_data"
    },
    {
     "data": {
      "application/vnd.jupyter.widget-view+json": {
       "model_id": "80cfbe7595434c74a197a15600c25a7f",
       "version_major": 2,
       "version_minor": 0
      },
      "text/plain": [
       "Dev:   0%|          | 0/43 [00:00<?, ?it/s]"
      ]
     },
     "metadata": {},
     "output_type": "display_data"
    },
    {
     "name": "stdout",
     "output_type": "stream",
     "text": [
      "\tDone Epoch: 40/100\n",
      "\t\tLoss\t|\tTrain AVG: 0.1259, Dev AVG: 0.1046\n",
      "\t\tMetrics\t|\tTrain: wer=0.07952, em=0.194 ; Dev: wer=0.1231, em=0.3408\n"
     ]
    },
    {
     "data": {
      "application/vnd.jupyter.widget-view+json": {
       "model_id": "599707a7381341afa4093e2486afe017",
       "version_major": 2,
       "version_minor": 0
      },
      "text/plain": [
       "Train:   0%|          | 0/1624 [00:00<?, ?it/s]"
      ]
     },
     "metadata": {},
     "output_type": "display_data"
    },
    {
     "data": {
      "application/vnd.jupyter.widget-view+json": {
       "model_id": "64f5155e7f1b415d9eed258e605e0fe0",
       "version_major": 2,
       "version_minor": 0
      },
      "text/plain": [
       "Dev:   0%|          | 0/43 [00:00<?, ?it/s]"
      ]
     },
     "metadata": {},
     "output_type": "display_data"
    },
    {
     "name": "stdout",
     "output_type": "stream",
     "text": [
      "\tDone Epoch: 41/100\n",
      "\t\tLoss\t|\tTrain AVG: 0.1246, Dev AVG: 0.1654\n",
      "\t\tMetrics\t|\tTrain: wer=0.07921, em=0.1959 ; Dev: wer=0.2094, em=0.254\n"
     ]
    },
    {
     "data": {
      "application/vnd.jupyter.widget-view+json": {
       "model_id": "14decbfa23034542a5868e7967916307",
       "version_major": 2,
       "version_minor": 0
      },
      "text/plain": [
       "Train:   0%|          | 0/1624 [00:00<?, ?it/s]"
      ]
     },
     "metadata": {},
     "output_type": "display_data"
    },
    {
     "data": {
      "application/vnd.jupyter.widget-view+json": {
       "model_id": "ea2c01990b3d42aa8f640deb87462c24",
       "version_major": 2,
       "version_minor": 0
      },
      "text/plain": [
       "Dev:   0%|          | 0/43 [00:00<?, ?it/s]"
      ]
     },
     "metadata": {},
     "output_type": "display_data"
    },
    {
     "name": "stdout",
     "output_type": "stream",
     "text": [
      "\tDone Epoch: 42/100\n",
      "\t\tLoss\t|\tTrain AVG: 0.1233, Dev AVG: 0.1263\n",
      "\t\tMetrics\t|\tTrain: wer=0.07879, em=0.1966 ; Dev: wer=0.155, em=0.3096\n"
     ]
    },
    {
     "data": {
      "application/vnd.jupyter.widget-view+json": {
       "model_id": "0b7184a7ec744ce097f087c3729a30a3",
       "version_major": 2,
       "version_minor": 0
      },
      "text/plain": [
       "Train:   0%|          | 0/1624 [00:00<?, ?it/s]"
      ]
     },
     "metadata": {},
     "output_type": "display_data"
    },
    {
     "data": {
      "application/vnd.jupyter.widget-view+json": {
       "model_id": "29cf932fbe374004b63813f41cc9b7c7",
       "version_major": 2,
       "version_minor": 0
      },
      "text/plain": [
       "Dev:   0%|          | 0/43 [00:00<?, ?it/s]"
      ]
     },
     "metadata": {},
     "output_type": "display_data"
    },
    {
     "name": "stdout",
     "output_type": "stream",
     "text": [
      "\tDone Epoch: 43/100\n",
      "\t\tLoss\t|\tTrain AVG: 0.1218, Dev AVG: 0.1176\n",
      "\t\tMetrics\t|\tTrain: wer=0.07817, em=0.1983 ; Dev: wer=0.146, em=0.3143\n"
     ]
    },
    {
     "data": {
      "application/vnd.jupyter.widget-view+json": {
       "model_id": "e31a4a9b25384bbe9bb2c4e61317879e",
       "version_major": 2,
       "version_minor": 0
      },
      "text/plain": [
       "Train:   0%|          | 0/1624 [00:00<?, ?it/s]"
      ]
     },
     "metadata": {},
     "output_type": "display_data"
    },
    {
     "data": {
      "application/vnd.jupyter.widget-view+json": {
       "model_id": "8618e4d957b54806aa63cf3933c4e230",
       "version_major": 2,
       "version_minor": 0
      },
      "text/plain": [
       "Dev:   0%|          | 0/43 [00:00<?, ?it/s]"
      ]
     },
     "metadata": {},
     "output_type": "display_data"
    },
    {
     "name": "stdout",
     "output_type": "stream",
     "text": [
      "\tDone Epoch: 44/100\n",
      "\t\tLoss\t|\tTrain AVG: 0.1206, Dev AVG: 0.1303\n",
      "\t\tMetrics\t|\tTrain: wer=0.07782, em=0.1995 ; Dev: wer=0.1782, em=0.2882\n"
     ]
    },
    {
     "data": {
      "application/vnd.jupyter.widget-view+json": {
       "model_id": "ee0998c0c31941c696c7978d494683c0",
       "version_major": 2,
       "version_minor": 0
      },
      "text/plain": [
       "Train:   0%|          | 0/1624 [00:00<?, ?it/s]"
      ]
     },
     "metadata": {},
     "output_type": "display_data"
    },
    {
     "data": {
      "application/vnd.jupyter.widget-view+json": {
       "model_id": "21164e42bf2b4101bd714a9509183313",
       "version_major": 2,
       "version_minor": 0
      },
      "text/plain": [
       "Dev:   0%|          | 0/43 [00:00<?, ?it/s]"
      ]
     },
     "metadata": {},
     "output_type": "display_data"
    },
    {
     "name": "stdout",
     "output_type": "stream",
     "text": [
      "\tDone Epoch: 45/100\n",
      "\t\tLoss\t|\tTrain AVG: 0.1192, Dev AVG: 0.1876\n",
      "\t\tMetrics\t|\tTrain: wer=0.07738, em=0.202 ; Dev: wer=0.2646, em=0.2217\n"
     ]
    },
    {
     "data": {
      "application/vnd.jupyter.widget-view+json": {
       "model_id": "18bab70f181a4cd79ed3bd2138ca3d60",
       "version_major": 2,
       "version_minor": 0
      },
      "text/plain": [
       "Train:   0%|          | 0/1624 [00:00<?, ?it/s]"
      ]
     },
     "metadata": {},
     "output_type": "display_data"
    },
    {
     "data": {
      "application/vnd.jupyter.widget-view+json": {
       "model_id": "5aa17b307f0d4f78a19785d0f22ceca9",
       "version_major": 2,
       "version_minor": 0
      },
      "text/plain": [
       "Dev:   0%|          | 0/43 [00:00<?, ?it/s]"
      ]
     },
     "metadata": {},
     "output_type": "display_data"
    },
    {
     "name": "stdout",
     "output_type": "stream",
     "text": [
      "\tDone Epoch: 46/100\n",
      "\t\tLoss\t|\tTrain AVG: 0.1179, Dev AVG: 0.1048\n",
      "\t\tMetrics\t|\tTrain: wer=0.07695, em=0.2031 ; Dev: wer=0.1325, em=0.3325\n"
     ]
    },
    {
     "data": {
      "application/vnd.jupyter.widget-view+json": {
       "model_id": "313b5c64b95a4a29a24dad7ffd8cfa98",
       "version_major": 2,
       "version_minor": 0
      },
      "text/plain": [
       "Train:   0%|          | 0/1624 [00:00<?, ?it/s]"
      ]
     },
     "metadata": {},
     "output_type": "display_data"
    },
    {
     "data": {
      "application/vnd.jupyter.widget-view+json": {
       "model_id": "38d7a1660b94499ba2107d59788d494c",
       "version_major": 2,
       "version_minor": 0
      },
      "text/plain": [
       "Dev:   0%|          | 0/43 [00:00<?, ?it/s]"
      ]
     },
     "metadata": {},
     "output_type": "display_data"
    },
    {
     "name": "stdout",
     "output_type": "stream",
     "text": [
      "\tDone Epoch: 47/100\n",
      "\t\tLoss\t|\tTrain AVG: 0.1168, Dev AVG: 0.1024\n",
      "\t\tMetrics\t|\tTrain: wer=0.07652, em=0.2051 ; Dev: wer=0.1257, em=0.3401\n"
     ]
    },
    {
     "data": {
      "application/vnd.jupyter.widget-view+json": {
       "model_id": "9b3902a7d8454ab8b5f401a5c87f717b",
       "version_major": 2,
       "version_minor": 0
      },
      "text/plain": [
       "Train:   0%|          | 0/1624 [00:00<?, ?it/s]"
      ]
     },
     "metadata": {},
     "output_type": "display_data"
    },
    {
     "data": {
      "application/vnd.jupyter.widget-view+json": {
       "model_id": "d947a390f7e1473595bec395220f9148",
       "version_major": 2,
       "version_minor": 0
      },
      "text/plain": [
       "Dev:   0%|          | 0/43 [00:00<?, ?it/s]"
      ]
     },
     "metadata": {},
     "output_type": "display_data"
    },
    {
     "name": "stdout",
     "output_type": "stream",
     "text": [
      "\tDone Epoch: 48/100\n",
      "\t\tLoss\t|\tTrain AVG: 0.1155, Dev AVG: 0.1375\n",
      "\t\tMetrics\t|\tTrain: wer=0.07594, em=0.2062 ; Dev: wer=0.1934, em=0.2762\n"
     ]
    },
    {
     "data": {
      "application/vnd.jupyter.widget-view+json": {
       "model_id": "def9eccd515b41e4a34e5478f50ba845",
       "version_major": 2,
       "version_minor": 0
      },
      "text/plain": [
       "Train:   0%|          | 0/1624 [00:00<?, ?it/s]"
      ]
     },
     "metadata": {},
     "output_type": "display_data"
    },
    {
     "data": {
      "application/vnd.jupyter.widget-view+json": {
       "model_id": "a46b559903f04a8fbf54774a33406143",
       "version_major": 2,
       "version_minor": 0
      },
      "text/plain": [
       "Dev:   0%|          | 0/43 [00:00<?, ?it/s]"
      ]
     },
     "metadata": {},
     "output_type": "display_data"
    },
    {
     "name": "stdout",
     "output_type": "stream",
     "text": [
      "\tDone Epoch: 49/100\n",
      "\t\tLoss\t|\tTrain AVG: 0.1142, Dev AVG: 0.1312\n",
      "\t\tMetrics\t|\tTrain: wer=0.0754, em=0.208 ; Dev: wer=0.1718, em=0.2882\n"
     ]
    },
    {
     "data": {
      "application/vnd.jupyter.widget-view+json": {
       "model_id": "4f1e3ce588684104a1798bab4818bd2c",
       "version_major": 2,
       "version_minor": 0
      },
      "text/plain": [
       "Train:   0%|          | 0/1624 [00:00<?, ?it/s]"
      ]
     },
     "metadata": {},
     "output_type": "display_data"
    },
    {
     "data": {
      "application/vnd.jupyter.widget-view+json": {
       "model_id": "5d072556f67a4428b19895e42c592da6",
       "version_major": 2,
       "version_minor": 0
      },
      "text/plain": [
       "Dev:   0%|          | 0/43 [00:00<?, ?it/s]"
      ]
     },
     "metadata": {},
     "output_type": "display_data"
    },
    {
     "name": "stdout",
     "output_type": "stream",
     "text": [
      "\tDone Epoch: 50/100\n",
      "\t\tLoss\t|\tTrain AVG: 0.1131, Dev AVG: 0.1062\n",
      "\t\tMetrics\t|\tTrain: wer=0.07505, em=0.2086 ; Dev: wer=0.1261, em=0.3379\n",
      "Stopping training\n",
      "\n",
      "Training finished!\n",
      "\n"
     ]
    }
   ],
   "source": [
    "assert debug==False, \"You are in debug mode, please change to False\"\n",
    "\n",
    "orig_model = RecACEWrapModel(t5_type=t5_type, model_type='original', bin_size=bin_size, use_pretrained=True).to(DEVICE)\n",
    "orig_optimizer = torch.optim.Adam(orig_model.parameters(), lr=1e-4)\n",
    "\n",
    "orig_model, orig_metrics_df = training(\n",
    "    model=orig_model,\n",
    "    n_epochs=100,\n",
    "    train_data=train_loader,\n",
    "    dev_data=dev_loader,\n",
    "    optimizer=orig_optimizer,\n",
    "    exp_name=f\"original_f5_Clean\",\n",
    "    save_model=True)"
   ]
  },
  {
   "cell_type": "markdown",
   "id": "62f5c7fc",
   "metadata": {},
   "source": [
    "#### Analysis"
   ]
  },
  {
   "cell_type": "code",
   "execution_count": 12,
   "id": "3ffd882c",
   "metadata": {},
   "outputs": [
    {
     "data": {
      "image/png": "[encoded data removed]",
      "text/plain": [
       "<Figure size 1440x576 with 3 Axes>"
      ]
     },
     "metadata": {
      "needs_background": "light"
     },
     "output_type": "display_data"
    }
   ],
   "source": [
    "plot_graphs(orig_metrics_df, gt_df=asr_evaluators['Clean'].metrics_df, fig_size=(20,8))"
   ]
  },
  {
   "cell_type": "markdown",
   "id": "f23cae45",
   "metadata": {},
   "source": [
    "## Model REC-ACE (on Other data)"
   ]
  },
  {
   "cell_type": "markdown",
   "id": "20528d33",
   "metadata": {},
   "source": [
    "#### Training"
   ]
  },
  {
   "cell_type": "code",
   "execution_count": 18,
   "id": "1926010a",
   "metadata": {},
   "outputs": [
    {
     "name": "stdout",
     "output_type": "stream",
     "text": [
      "Experiment name: rec_ace_Other\n",
      "Training model of type: rec_ace\n",
      "Confidence vectors are IN USED\n",
      "Saving model to: ./results\\rec_ace_Other/2023-08-24_01-05-43\n"
     ]
    },
    {
     "data": {
      "application/vnd.jupyter.widget-view+json": {
       "model_id": "83f666a30a20409aad7d81fbf8009819",
       "version_major": 2,
       "version_minor": 0
      },
      "text/plain": [
       "  0%|          | 0/50 [00:00<?, ?it/s]"
      ]
     },
     "metadata": {},
     "output_type": "display_data"
    },
    {
     "data": {
      "application/vnd.jupyter.widget-view+json": {
       "model_id": "6e4e4e609a4643d6bbf53d3004dfb504",
       "version_major": 2,
       "version_minor": 0
      },
      "text/plain": [
       "Train:   0%|          | 0/2290 [00:00<?, ?it/s]"
      ]
     },
     "metadata": {},
     "output_type": "display_data"
    },
    {
     "data": {
      "application/vnd.jupyter.widget-view+json": {
       "model_id": "d8f96fb137af42ba90462367d0fdede2",
       "version_major": 2,
       "version_minor": 0
      },
      "text/plain": [
       "Dev:   0%|          | 0/44 [00:00<?, ?it/s]"
      ]
     },
     "metadata": {},
     "output_type": "display_data"
    },
    {
     "name": "stdout",
     "output_type": "stream",
     "text": [
      "\tDone Epoch: 1/50\n",
      "\t\tLoss\t|\tTrain AVG: 0.4981, Dev AVG: 0.3047\n",
      "\t\tMetrics\t|\tTrain: wer=0.2371, em=0.04645 ; Dev: wer=0.2599, em=0.1399\n"
     ]
    },
    {
     "data": {
      "application/vnd.jupyter.widget-view+json": {
       "model_id": "411efa0d1c3d47a69292fc5a273b795d",
       "version_major": 2,
       "version_minor": 0
      },
      "text/plain": [
       "Train:   0%|          | 0/2290 [00:00<?, ?it/s]"
      ]
     },
     "metadata": {},
     "output_type": "display_data"
    },
    {
     "data": {
      "application/vnd.jupyter.widget-view+json": {
       "model_id": "1ecce212fb2442bfb0c82fc1a3f7ed89",
       "version_major": 2,
       "version_minor": 0
      },
      "text/plain": [
       "Dev:   0%|          | 0/44 [00:00<?, ?it/s]"
      ]
     },
     "metadata": {},
     "output_type": "display_data"
    },
    {
     "name": "stdout",
     "output_type": "stream",
     "text": [
      "\tDone Epoch: 2/50\n",
      "\t\tLoss\t|\tTrain AVG: 0.4196, Dev AVG: 0.2812\n",
      "\t\tMetrics\t|\tTrain: wer=0.2132, em=0.05786 ; Dev: wer=0.248, em=0.1449\n"
     ]
    },
    {
     "data": {
      "application/vnd.jupyter.widget-view+json": {
       "model_id": "9def503e56bc4bd0932c7519dc397985",
       "version_major": 2,
       "version_minor": 0
      },
      "text/plain": [
       "Train:   0%|          | 0/2290 [00:00<?, ?it/s]"
      ]
     },
     "metadata": {},
     "output_type": "display_data"
    },
    {
     "data": {
      "application/vnd.jupyter.widget-view+json": {
       "model_id": "c86cad6bf143485da28447d6f5edff2d",
       "version_major": 2,
       "version_minor": 0
      },
      "text/plain": [
       "Dev:   0%|          | 0/44 [00:00<?, ?it/s]"
      ]
     },
     "metadata": {},
     "output_type": "display_data"
    },
    {
     "name": "stdout",
     "output_type": "stream",
     "text": [
      "\tDone Epoch: 3/50\n",
      "\t\tLoss\t|\tTrain AVG: 0.3928, Dev AVG: 0.2701\n",
      "\t\tMetrics\t|\tTrain: wer=0.2055, em=0.061 ; Dev: wer=0.2419, em=0.1484\n"
     ]
    },
    {
     "data": {
      "application/vnd.jupyter.widget-view+json": {
       "model_id": "41c5cd98f706464f9efe14654eb51b69",
       "version_major": 2,
       "version_minor": 0
      },
      "text/plain": [
       "Train:   0%|          | 0/2290 [00:00<?, ?it/s]"
      ]
     },
     "metadata": {},
     "output_type": "display_data"
    },
    {
     "data": {
      "application/vnd.jupyter.widget-view+json": {
       "model_id": "9fac3fde3a78441fa769903be4f4a36f",
       "version_major": 2,
       "version_minor": 0
      },
      "text/plain": [
       "Dev:   0%|          | 0/44 [00:00<?, ?it/s]"
      ]
     },
     "metadata": {},
     "output_type": "display_data"
    },
    {
     "name": "stdout",
     "output_type": "stream",
     "text": [
      "\tDone Epoch: 4/50\n",
      "\t\tLoss\t|\tTrain AVG: 0.3753, Dev AVG: 0.2633\n",
      "\t\tMetrics\t|\tTrain: wer=0.2003, em=0.06358 ; Dev: wer=0.2385, em=0.1524\n"
     ]
    },
    {
     "data": {
      "application/vnd.jupyter.widget-view+json": {
       "model_id": "9e0bc145776a46c3af9d0166289d8be0",
       "version_major": 2,
       "version_minor": 0
      },
      "text/plain": [
       "Train:   0%|          | 0/2290 [00:00<?, ?it/s]"
      ]
     },
     "metadata": {},
     "output_type": "display_data"
    },
    {
     "data": {
      "application/vnd.jupyter.widget-view+json": {
       "model_id": "cda8b808b16c411b8f52bf51eef4d2c7",
       "version_major": 2,
       "version_minor": 0
      },
      "text/plain": [
       "Dev:   0%|          | 0/44 [00:00<?, ?it/s]"
      ]
     },
     "metadata": {},
     "output_type": "display_data"
    },
    {
     "name": "stdout",
     "output_type": "stream",
     "text": [
      "\tDone Epoch: 5/50\n",
      "\t\tLoss\t|\tTrain AVG: 0.3623, Dev AVG: 0.2558\n",
      "\t\tMetrics\t|\tTrain: wer=0.1966, em=0.06543 ; Dev: wer=0.2344, em=0.1545\n"
     ]
    },
    {
     "data": {
      "application/vnd.jupyter.widget-view+json": {
       "model_id": "05c1ff3d1d724a73bd596355c4e25458",
       "version_major": 2,
       "version_minor": 0
      },
      "text/plain": [
       "Train:   0%|          | 0/2290 [00:00<?, ?it/s]"
      ]
     },
     "metadata": {},
     "output_type": "display_data"
    },
    {
     "data": {
      "application/vnd.jupyter.widget-view+json": {
       "model_id": "d4ae0d275b58428ab7f39837262632f2",
       "version_major": 2,
       "version_minor": 0
      },
      "text/plain": [
       "Dev:   0%|          | 0/44 [00:00<?, ?it/s]"
      ]
     },
     "metadata": {},
     "output_type": "display_data"
    },
    {
     "name": "stdout",
     "output_type": "stream",
     "text": [
      "\tDone Epoch: 6/50\n",
      "\t\tLoss\t|\tTrain AVG: 0.3517, Dev AVG: 0.2523\n",
      "\t\tMetrics\t|\tTrain: wer=0.1936, em=0.06727 ; Dev: wer=0.2323, em=0.1553\n"
     ]
    },
    {
     "data": {
      "application/vnd.jupyter.widget-view+json": {
       "model_id": "4f9021b74bed496285319579b7a9de72",
       "version_major": 2,
       "version_minor": 0
      },
      "text/plain": [
       "Train:   0%|          | 0/2290 [00:00<?, ?it/s]"
      ]
     },
     "metadata": {},
     "output_type": "display_data"
    },
    {
     "data": {
      "application/vnd.jupyter.widget-view+json": {
       "model_id": "219704914d934f01b142ca43e1e531f6",
       "version_major": 2,
       "version_minor": 0
      },
      "text/plain": [
       "Dev:   0%|          | 0/44 [00:00<?, ?it/s]"
      ]
     },
     "metadata": {},
     "output_type": "display_data"
    },
    {
     "name": "stdout",
     "output_type": "stream",
     "text": [
      "\tDone Epoch: 7/50\n",
      "\t\tLoss\t|\tTrain AVG: 0.3426, Dev AVG: 0.2483\n",
      "\t\tMetrics\t|\tTrain: wer=0.1909, em=0.06873 ; Dev: wer=0.2309, em=0.1567\n"
     ]
    },
    {
     "data": {
      "application/vnd.jupyter.widget-view+json": {
       "model_id": "2f3b1db51b9b440791c254ab1d698871",
       "version_major": 2,
       "version_minor": 0
      },
      "text/plain": [
       "Train:   0%|          | 0/2290 [00:00<?, ?it/s]"
      ]
     },
     "metadata": {},
     "output_type": "display_data"
    },
    {
     "data": {
      "application/vnd.jupyter.widget-view+json": {
       "model_id": "d1acdf6ba23a44b180265c815d644994",
       "version_major": 2,
       "version_minor": 0
      },
      "text/plain": [
       "Dev:   0%|          | 0/44 [00:00<?, ?it/s]"
      ]
     },
     "metadata": {},
     "output_type": "display_data"
    },
    {
     "name": "stdout",
     "output_type": "stream",
     "text": [
      "\tDone Epoch: 8/50\n",
      "\t\tLoss\t|\tTrain AVG: 0.3349, Dev AVG: 0.2453\n",
      "\t\tMetrics\t|\tTrain: wer=0.1886, em=0.07068 ; Dev: wer=0.2294, em=0.1563\n"
     ]
    },
    {
     "data": {
      "application/vnd.jupyter.widget-view+json": {
       "model_id": "29599e4f75db486ab0453cefee5ffc26",
       "version_major": 2,
       "version_minor": 0
      },
      "text/plain": [
       "Train:   0%|          | 0/2290 [00:00<?, ?it/s]"
      ]
     },
     "metadata": {},
     "output_type": "display_data"
    },
    {
     "data": {
      "application/vnd.jupyter.widget-view+json": {
       "model_id": "7f4b7b5e580449439b860a19136849e5",
       "version_major": 2,
       "version_minor": 0
      },
      "text/plain": [
       "Dev:   0%|          | 0/44 [00:00<?, ?it/s]"
      ]
     },
     "metadata": {},
     "output_type": "display_data"
    },
    {
     "name": "stdout",
     "output_type": "stream",
     "text": [
      "\tDone Epoch: 9/50\n",
      "\t\tLoss\t|\tTrain AVG: 0.328, Dev AVG: 0.2431\n",
      "\t\tMetrics\t|\tTrain: wer=0.1865, em=0.07156 ; Dev: wer=0.2278, em=0.1588\n"
     ]
    },
    {
     "data": {
      "application/vnd.jupyter.widget-view+json": {
       "model_id": "4b960de9aee94bdc9b08c9b20921917c",
       "version_major": 2,
       "version_minor": 0
      },
      "text/plain": [
       "Train:   0%|          | 0/2290 [00:00<?, ?it/s]"
      ]
     },
     "metadata": {},
     "output_type": "display_data"
    },
    {
     "data": {
      "application/vnd.jupyter.widget-view+json": {
       "model_id": "278b30bab41c47fd8d4b6ec8de165fcd",
       "version_major": 2,
       "version_minor": 0
      },
      "text/plain": [
       "Dev:   0%|          | 0/44 [00:00<?, ?it/s]"
      ]
     },
     "metadata": {},
     "output_type": "display_data"
    },
    {
     "name": "stdout",
     "output_type": "stream",
     "text": [
      "\tDone Epoch: 10/50\n",
      "\t\tLoss\t|\tTrain AVG: 0.322, Dev AVG: 0.2393\n",
      "\t\tMetrics\t|\tTrain: wer=0.1848, em=0.07248 ; Dev: wer=0.2269, em=0.1599\n"
     ]
    },
    {
     "data": {
      "application/vnd.jupyter.widget-view+json": {
       "model_id": "773073827e17477b9917fe1d08847949",
       "version_major": 2,
       "version_minor": 0
      },
      "text/plain": [
       "Train:   0%|          | 0/2290 [00:00<?, ?it/s]"
      ]
     },
     "metadata": {},
     "output_type": "display_data"
    },
    {
     "data": {
      "application/vnd.jupyter.widget-view+json": {
       "model_id": "7f49870cd4b84e478dbbb625dbac1d8b",
       "version_major": 2,
       "version_minor": 0
      },
      "text/plain": [
       "Dev:   0%|          | 0/44 [00:00<?, ?it/s]"
      ]
     },
     "metadata": {},
     "output_type": "display_data"
    },
    {
     "name": "stdout",
     "output_type": "stream",
     "text": [
      "\tDone Epoch: 11/50\n",
      "\t\tLoss\t|\tTrain AVG: 0.3163, Dev AVG: 0.2379\n",
      "\t\tMetrics\t|\tTrain: wer=0.183, em=0.074 ; Dev: wer=0.2264, em=0.1606\n"
     ]
    },
    {
     "data": {
      "application/vnd.jupyter.widget-view+json": {
       "model_id": "9bb48be657634c4fac55ef040a89bf7c",
       "version_major": 2,
       "version_minor": 0
      },
      "text/plain": [
       "Train:   0%|          | 0/2290 [00:00<?, ?it/s]"
      ]
     },
     "metadata": {},
     "output_type": "display_data"
    },
    {
     "data": {
      "application/vnd.jupyter.widget-view+json": {
       "model_id": "38c34d0a9b3043c89f7010d85638f6f4",
       "version_major": 2,
       "version_minor": 0
      },
      "text/plain": [
       "Dev:   0%|          | 0/44 [00:00<?, ?it/s]"
      ]
     },
     "metadata": {},
     "output_type": "display_data"
    },
    {
     "name": "stdout",
     "output_type": "stream",
     "text": [
      "\tDone Epoch: 12/50\n",
      "\t\tLoss\t|\tTrain AVG: 0.3114, Dev AVG: 0.2353\n",
      "\t\tMetrics\t|\tTrain: wer=0.1816, em=0.07463 ; Dev: wer=0.2252, em=0.1609\n"
     ]
    },
    {
     "data": {
      "application/vnd.jupyter.widget-view+json": {
       "model_id": "f29c99da56f74e86a3e4612442ea794b",
       "version_major": 2,
       "version_minor": 0
      },
      "text/plain": [
       "Train:   0%|          | 0/2290 [00:00<?, ?it/s]"
      ]
     },
     "metadata": {},
     "output_type": "display_data"
    },
    {
     "data": {
      "application/vnd.jupyter.widget-view+json": {
       "model_id": "17d25c16f8b14ab9a225fc42fff9d5cd",
       "version_major": 2,
       "version_minor": 0
      },
      "text/plain": [
       "Dev:   0%|          | 0/44 [00:00<?, ?it/s]"
      ]
     },
     "metadata": {},
     "output_type": "display_data"
    },
    {
     "name": "stdout",
     "output_type": "stream",
     "text": [
      "\tDone Epoch: 13/50\n",
      "\t\tLoss\t|\tTrain AVG: 0.3067, Dev AVG: 0.2346\n",
      "\t\tMetrics\t|\tTrain: wer=0.1801, em=0.07547 ; Dev: wer=0.2246, em=0.1627\n"
     ]
    },
    {
     "data": {
      "application/vnd.jupyter.widget-view+json": {
       "model_id": "393ee595a5904cfa91a0111488d492b7",
       "version_major": 2,
       "version_minor": 0
      },
      "text/plain": [
       "Train:   0%|          | 0/2290 [00:00<?, ?it/s]"
      ]
     },
     "metadata": {},
     "output_type": "display_data"
    },
    {
     "data": {
      "application/vnd.jupyter.widget-view+json": {
       "model_id": "7ace975237ca4b62b422398b6e0b6a0a",
       "version_major": 2,
       "version_minor": 0
      },
      "text/plain": [
       "Dev:   0%|          | 0/44 [00:00<?, ?it/s]"
      ]
     },
     "metadata": {},
     "output_type": "display_data"
    },
    {
     "name": "stdout",
     "output_type": "stream",
     "text": [
      "\tDone Epoch: 14/50\n",
      "\t\tLoss\t|\tTrain AVG: 0.3022, Dev AVG: 0.2345\n",
      "\t\tMetrics\t|\tTrain: wer=0.1788, em=0.07638 ; Dev: wer=0.2238, em=0.1648\n"
     ]
    },
    {
     "data": {
      "application/vnd.jupyter.widget-view+json": {
       "model_id": "d5e88b3f706a45c8ba735e91dfced74f",
       "version_major": 2,
       "version_minor": 0
      },
      "text/plain": [
       "Train:   0%|          | 0/2290 [00:00<?, ?it/s]"
      ]
     },
     "metadata": {},
     "output_type": "display_data"
    },
    {
     "data": {
      "application/vnd.jupyter.widget-view+json": {
       "model_id": "4337f70423b2402296ea8c4e22bc149e",
       "version_major": 2,
       "version_minor": 0
      },
      "text/plain": [
       "Dev:   0%|          | 0/44 [00:00<?, ?it/s]"
      ]
     },
     "metadata": {},
     "output_type": "display_data"
    },
    {
     "name": "stdout",
     "output_type": "stream",
     "text": [
      "\tDone Epoch: 15/50\n",
      "\t\tLoss\t|\tTrain AVG: 0.2982, Dev AVG: 0.2312\n",
      "\t\tMetrics\t|\tTrain: wer=0.1774, em=0.07735 ; Dev: wer=0.223, em=0.1631\n"
     ]
    },
    {
     "data": {
      "application/vnd.jupyter.widget-view+json": {
       "model_id": "0402685b5c014732b8cb47d5b5c99b3b",
       "version_major": 2,
       "version_minor": 0
      },
      "text/plain": [
       "Train:   0%|          | 0/2290 [00:00<?, ?it/s]"
      ]
     },
     "metadata": {},
     "output_type": "display_data"
    },
    {
     "data": {
      "application/vnd.jupyter.widget-view+json": {
       "model_id": "c3c23be7bb0e4e03a7fad89b6f410f6e",
       "version_major": 2,
       "version_minor": 0
      },
      "text/plain": [
       "Dev:   0%|          | 0/44 [00:00<?, ?it/s]"
      ]
     },
     "metadata": {},
     "output_type": "display_data"
    },
    {
     "name": "stdout",
     "output_type": "stream",
     "text": [
      "\tDone Epoch: 16/50\n",
      "\t\tLoss\t|\tTrain AVG: 0.2943, Dev AVG: 0.2317\n",
      "\t\tMetrics\t|\tTrain: wer=0.1763, em=0.07815 ; Dev: wer=0.2228, em=0.1641\n"
     ]
    },
    {
     "data": {
      "application/vnd.jupyter.widget-view+json": {
       "model_id": "d4ecd985e2574e6e814f3652b620c01d",
       "version_major": 2,
       "version_minor": 0
      },
      "text/plain": [
       "Train:   0%|          | 0/2290 [00:00<?, ?it/s]"
      ]
     },
     "metadata": {},
     "output_type": "display_data"
    },
    {
     "data": {
      "application/vnd.jupyter.widget-view+json": {
       "model_id": "d8fd841fac0e41609d8655128f597c97",
       "version_major": 2,
       "version_minor": 0
      },
      "text/plain": [
       "Dev:   0%|          | 0/44 [00:00<?, ?it/s]"
      ]
     },
     "metadata": {},
     "output_type": "display_data"
    },
    {
     "name": "stdout",
     "output_type": "stream",
     "text": [
      "\tDone Epoch: 17/50\n",
      "\t\tLoss\t|\tTrain AVG: 0.2906, Dev AVG: 0.2297\n",
      "\t\tMetrics\t|\tTrain: wer=0.175, em=0.07921 ; Dev: wer=0.2211, em=0.167\n"
     ]
    },
    {
     "data": {
      "application/vnd.jupyter.widget-view+json": {
       "model_id": "ceb6e5cc155045a9a4c5733c83e8abdb",
       "version_major": 2,
       "version_minor": 0
      },
      "text/plain": [
       "Train:   0%|          | 0/2290 [00:00<?, ?it/s]"
      ]
     },
     "metadata": {},
     "output_type": "display_data"
    },
    {
     "data": {
      "application/vnd.jupyter.widget-view+json": {
       "model_id": "4dc50247e58c4723b02a380b9dddc5f1",
       "version_major": 2,
       "version_minor": 0
      },
      "text/plain": [
       "Dev:   0%|          | 0/44 [00:00<?, ?it/s]"
      ]
     },
     "metadata": {},
     "output_type": "display_data"
    },
    {
     "name": "stdout",
     "output_type": "stream",
     "text": [
      "\tDone Epoch: 18/50\n",
      "\t\tLoss\t|\tTrain AVG: 0.2871, Dev AVG: 0.2301\n",
      "\t\tMetrics\t|\tTrain: wer=0.174, em=0.08006 ; Dev: wer=0.2216, em=0.1648\n"
     ]
    },
    {
     "data": {
      "application/vnd.jupyter.widget-view+json": {
       "model_id": "e13a87addb6b49d09810498bd03c6193",
       "version_major": 2,
       "version_minor": 0
      },
      "text/plain": [
       "Train:   0%|          | 0/2290 [00:00<?, ?it/s]"
      ]
     },
     "metadata": {},
     "output_type": "display_data"
    },
    {
     "data": {
      "application/vnd.jupyter.widget-view+json": {
       "model_id": "b96f136a2a5246ae81b53b7efe7606ab",
       "version_major": 2,
       "version_minor": 0
      },
      "text/plain": [
       "Dev:   0%|          | 0/44 [00:00<?, ?it/s]"
      ]
     },
     "metadata": {},
     "output_type": "display_data"
    },
    {
     "name": "stdout",
     "output_type": "stream",
     "text": [
      "\tDone Epoch: 19/50\n",
      "\t\tLoss\t|\tTrain AVG: 0.2839, Dev AVG: 0.2288\n",
      "\t\tMetrics\t|\tTrain: wer=0.1729, em=0.08066 ; Dev: wer=0.2204, em=0.167\n"
     ]
    },
    {
     "data": {
      "application/vnd.jupyter.widget-view+json": {
       "model_id": "48e16580b68c4fcba75ea90116d7dc55",
       "version_major": 2,
       "version_minor": 0
      },
      "text/plain": [
       "Train:   0%|          | 0/2290 [00:00<?, ?it/s]"
      ]
     },
     "metadata": {},
     "output_type": "display_data"
    },
    {
     "data": {
      "application/vnd.jupyter.widget-view+json": {
       "model_id": "073d06ae7dd34d239b302d38239c8632",
       "version_major": 2,
       "version_minor": 0
      },
      "text/plain": [
       "Dev:   0%|          | 0/44 [00:00<?, ?it/s]"
      ]
     },
     "metadata": {},
     "output_type": "display_data"
    },
    {
     "name": "stdout",
     "output_type": "stream",
     "text": [
      "\tDone Epoch: 20/50\n",
      "\t\tLoss\t|\tTrain AVG: 0.2807, Dev AVG: 0.2283\n",
      "\t\tMetrics\t|\tTrain: wer=0.172, em=0.08148 ; Dev: wer=0.2197, em=0.1674\n"
     ]
    },
    {
     "data": {
      "application/vnd.jupyter.widget-view+json": {
       "model_id": "0acac34f4de94f96b2d65610074f2450",
       "version_major": 2,
       "version_minor": 0
      },
      "text/plain": [
       "Train:   0%|          | 0/2290 [00:00<?, ?it/s]"
      ]
     },
     "metadata": {},
     "output_type": "display_data"
    },
    {
     "data": {
      "application/vnd.jupyter.widget-view+json": {
       "model_id": "6a747b02260041b78d0ed880cc1806fa",
       "version_major": 2,
       "version_minor": 0
      },
      "text/plain": [
       "Dev:   0%|          | 0/44 [00:00<?, ?it/s]"
      ]
     },
     "metadata": {},
     "output_type": "display_data"
    },
    {
     "name": "stdout",
     "output_type": "stream",
     "text": [
      "\tDone Epoch: 21/50\n",
      "\t\tLoss\t|\tTrain AVG: 0.2777, Dev AVG: 0.2275\n",
      "\t\tMetrics\t|\tTrain: wer=0.171, em=0.08178 ; Dev: wer=0.2198, em=0.167\n"
     ]
    },
    {
     "data": {
      "application/vnd.jupyter.widget-view+json": {
       "model_id": "2e2f8044cc104e8fa2900da0153e26d4",
       "version_major": 2,
       "version_minor": 0
      },
      "text/plain": [
       "Train:   0%|          | 0/2290 [00:00<?, ?it/s]"
      ]
     },
     "metadata": {},
     "output_type": "display_data"
    },
    {
     "data": {
      "application/vnd.jupyter.widget-view+json": {
       "model_id": "737e3226fbb14cafaad901c001d2bbc4",
       "version_major": 2,
       "version_minor": 0
      },
      "text/plain": [
       "Dev:   0%|          | 0/44 [00:00<?, ?it/s]"
      ]
     },
     "metadata": {},
     "output_type": "display_data"
    },
    {
     "name": "stdout",
     "output_type": "stream",
     "text": [
      "\tDone Epoch: 22/50\n",
      "\t\tLoss\t|\tTrain AVG: 0.2746, Dev AVG: 0.2276\n",
      "\t\tMetrics\t|\tTrain: wer=0.17, em=0.08263 ; Dev: wer=0.2196, em=0.1684\n"
     ]
    },
    {
     "data": {
      "application/vnd.jupyter.widget-view+json": {
       "model_id": "7c2ec43c7c0146a694938d895af24109",
       "version_major": 2,
       "version_minor": 0
      },
      "text/plain": [
       "Train:   0%|          | 0/2290 [00:00<?, ?it/s]"
      ]
     },
     "metadata": {},
     "output_type": "display_data"
    },
    {
     "data": {
      "application/vnd.jupyter.widget-view+json": {
       "model_id": "92725d9d6a11481e9fdacffd6315b27c",
       "version_major": 2,
       "version_minor": 0
      },
      "text/plain": [
       "Dev:   0%|          | 0/44 [00:00<?, ?it/s]"
      ]
     },
     "metadata": {},
     "output_type": "display_data"
    },
    {
     "name": "stdout",
     "output_type": "stream",
     "text": [
      "\tDone Epoch: 23/50\n",
      "\t\tLoss\t|\tTrain AVG: 0.2719, Dev AVG: 0.2259\n",
      "\t\tMetrics\t|\tTrain: wer=0.1692, em=0.08351 ; Dev: wer=0.2187, em=0.1695\n"
     ]
    },
    {
     "data": {
      "application/vnd.jupyter.widget-view+json": {
       "model_id": "9ba0f7fd025e43a0864c12d20fe6d209",
       "version_major": 2,
       "version_minor": 0
      },
      "text/plain": [
       "Train:   0%|          | 0/2290 [00:00<?, ?it/s]"
      ]
     },
     "metadata": {},
     "output_type": "display_data"
    },
    {
     "data": {
      "application/vnd.jupyter.widget-view+json": {
       "model_id": "cfcd3c667165427bb23bf81e187c494c",
       "version_major": 2,
       "version_minor": 0
      },
      "text/plain": [
       "Dev:   0%|          | 0/44 [00:00<?, ?it/s]"
      ]
     },
     "metadata": {},
     "output_type": "display_data"
    },
    {
     "name": "stdout",
     "output_type": "stream",
     "text": [
      "\tDone Epoch: 24/50\n",
      "\t\tLoss\t|\tTrain AVG: 0.2692, Dev AVG: 0.2249\n",
      "\t\tMetrics\t|\tTrain: wer=0.1682, em=0.08397 ; Dev: wer=0.2184, em=0.1703\n"
     ]
    },
    {
     "data": {
      "application/vnd.jupyter.widget-view+json": {
       "model_id": "92cd2300e9694d338522ccd2d93bb344",
       "version_major": 2,
       "version_minor": 0
      },
      "text/plain": [
       "Train:   0%|          | 0/2290 [00:00<?, ?it/s]"
      ]
     },
     "metadata": {},
     "output_type": "display_data"
    },
    {
     "data": {
      "application/vnd.jupyter.widget-view+json": {
       "model_id": "2071af523c56478d8378d73d9122fea2",
       "version_major": 2,
       "version_minor": 0
      },
      "text/plain": [
       "Dev:   0%|          | 0/44 [00:00<?, ?it/s]"
      ]
     },
     "metadata": {},
     "output_type": "display_data"
    },
    {
     "name": "stdout",
     "output_type": "stream",
     "text": [
      "\tDone Epoch: 25/50\n",
      "\t\tLoss\t|\tTrain AVG: 0.2666, Dev AVG: 0.2254\n",
      "\t\tMetrics\t|\tTrain: wer=0.1673, em=0.08512 ; Dev: wer=0.2179, em=0.1699\n"
     ]
    },
    {
     "data": {
      "application/vnd.jupyter.widget-view+json": {
       "model_id": "446d036650bd46ac8610cd6a99cf1082",
       "version_major": 2,
       "version_minor": 0
      },
      "text/plain": [
       "Train:   0%|          | 0/2290 [00:00<?, ?it/s]"
      ]
     },
     "metadata": {},
     "output_type": "display_data"
    },
    {
     "data": {
      "application/vnd.jupyter.widget-view+json": {
       "model_id": "00b73feffc8548268e57d827c5b3dbff",
       "version_major": 2,
       "version_minor": 0
      },
      "text/plain": [
       "Dev:   0%|          | 0/44 [00:00<?, ?it/s]"
      ]
     },
     "metadata": {},
     "output_type": "display_data"
    },
    {
     "name": "stdout",
     "output_type": "stream",
     "text": [
      "\tDone Epoch: 26/50\n",
      "\t\tLoss\t|\tTrain AVG: 0.2642, Dev AVG: 0.2248\n",
      "\t\tMetrics\t|\tTrain: wer=0.1665, em=0.08535 ; Dev: wer=0.2182, em=0.1713\n"
     ]
    },
    {
     "data": {
      "application/vnd.jupyter.widget-view+json": {
       "model_id": "fc65a7fee3fb458e90fda4ef467bcd22",
       "version_major": 2,
       "version_minor": 0
      },
      "text/plain": [
       "Train:   0%|          | 0/2290 [00:00<?, ?it/s]"
      ]
     },
     "metadata": {},
     "output_type": "display_data"
    },
    {
     "data": {
      "application/vnd.jupyter.widget-view+json": {
       "model_id": "170741fc406b4c54b0963c4ec542c451",
       "version_major": 2,
       "version_minor": 0
      },
      "text/plain": [
       "Dev:   0%|          | 0/44 [00:00<?, ?it/s]"
      ]
     },
     "metadata": {},
     "output_type": "display_data"
    },
    {
     "name": "stdout",
     "output_type": "stream",
     "text": [
      "\tDone Epoch: 27/50\n",
      "\t\tLoss\t|\tTrain AVG: 0.2619, Dev AVG: 0.2244\n",
      "\t\tMetrics\t|\tTrain: wer=0.1658, em=0.08629 ; Dev: wer=0.219, em=0.1699\n"
     ]
    },
    {
     "data": {
      "application/vnd.jupyter.widget-view+json": {
       "model_id": "4cd2de2941544704b4bcd456c506c0cd",
       "version_major": 2,
       "version_minor": 0
      },
      "text/plain": [
       "Train:   0%|          | 0/2290 [00:00<?, ?it/s]"
      ]
     },
     "metadata": {},
     "output_type": "display_data"
    },
    {
     "data": {
      "application/vnd.jupyter.widget-view+json": {
       "model_id": "cc11080088d043a19b882b8c11fc8896",
       "version_major": 2,
       "version_minor": 0
      },
      "text/plain": [
       "Dev:   0%|          | 0/44 [00:00<?, ?it/s]"
      ]
     },
     "metadata": {},
     "output_type": "display_data"
    },
    {
     "name": "stdout",
     "output_type": "stream",
     "text": [
      "\tDone Epoch: 28/50\n",
      "\t\tLoss\t|\tTrain AVG: 0.2592, Dev AVG: 0.2242\n",
      "\t\tMetrics\t|\tTrain: wer=0.1647, em=0.08665 ; Dev: wer=0.2176, em=0.1735\n"
     ]
    },
    {
     "data": {
      "application/vnd.jupyter.widget-view+json": {
       "model_id": "8f6693ce636c4501a6b6ea92c9605460",
       "version_major": 2,
       "version_minor": 0
      },
      "text/plain": [
       "Train:   0%|          | 0/2290 [00:00<?, ?it/s]"
      ]
     },
     "metadata": {},
     "output_type": "display_data"
    },
    {
     "data": {
      "application/vnd.jupyter.widget-view+json": {
       "model_id": "1b30927bde0d4c6d959576e621d9facf",
       "version_major": 2,
       "version_minor": 0
      },
      "text/plain": [
       "Dev:   0%|          | 0/44 [00:00<?, ?it/s]"
      ]
     },
     "metadata": {},
     "output_type": "display_data"
    },
    {
     "name": "stdout",
     "output_type": "stream",
     "text": [
      "\tDone Epoch: 29/50\n",
      "\t\tLoss\t|\tTrain AVG: 0.257, Dev AVG: 0.2241\n",
      "\t\tMetrics\t|\tTrain: wer=0.1642, em=0.08729 ; Dev: wer=0.2178, em=0.1716\n"
     ]
    },
    {
     "data": {
      "application/vnd.jupyter.widget-view+json": {
       "model_id": "a49e2632037d4b0eb8ddeed2e716de90",
       "version_major": 2,
       "version_minor": 0
      },
      "text/plain": [
       "Train:   0%|          | 0/2290 [00:00<?, ?it/s]"
      ]
     },
     "metadata": {},
     "output_type": "display_data"
    },
    {
     "data": {
      "application/vnd.jupyter.widget-view+json": {
       "model_id": "e0c273fcc7bd40c088d4c894963f4ffa",
       "version_major": 2,
       "version_minor": 0
      },
      "text/plain": [
       "Dev:   0%|          | 0/44 [00:00<?, ?it/s]"
      ]
     },
     "metadata": {},
     "output_type": "display_data"
    },
    {
     "name": "stdout",
     "output_type": "stream",
     "text": [
      "\tDone Epoch: 30/50\n",
      "\t\tLoss\t|\tTrain AVG: 0.2549, Dev AVG: 0.224\n",
      "\t\tMetrics\t|\tTrain: wer=0.1634, em=0.08745 ; Dev: wer=0.218, em=0.1709\n"
     ]
    },
    {
     "data": {
      "application/vnd.jupyter.widget-view+json": {
       "model_id": "ce1e26ec2024477880681e14111ea6fe",
       "version_major": 2,
       "version_minor": 0
      },
      "text/plain": [
       "Train:   0%|          | 0/2290 [00:00<?, ?it/s]"
      ]
     },
     "metadata": {},
     "output_type": "display_data"
    },
    {
     "data": {
      "application/vnd.jupyter.widget-view+json": {
       "model_id": "b3cbc9e7cbf04c73986d5cde8b3d3fa6",
       "version_major": 2,
       "version_minor": 0
      },
      "text/plain": [
       "Dev:   0%|          | 0/44 [00:00<?, ?it/s]"
      ]
     },
     "metadata": {},
     "output_type": "display_data"
    },
    {
     "name": "stdout",
     "output_type": "stream",
     "text": [
      "\tDone Epoch: 31/50\n",
      "\t\tLoss\t|\tTrain AVG: 0.2528, Dev AVG: 0.2234\n",
      "\t\tMetrics\t|\tTrain: wer=0.1627, em=0.08878 ; Dev: wer=0.2176, em=0.1731\n"
     ]
    },
    {
     "data": {
      "application/vnd.jupyter.widget-view+json": {
       "model_id": "bf898ced0b2f4e499c63d87b9acdc778",
       "version_major": 2,
       "version_minor": 0
      },
      "text/plain": [
       "Train:   0%|          | 0/2290 [00:00<?, ?it/s]"
      ]
     },
     "metadata": {},
     "output_type": "display_data"
    },
    {
     "data": {
      "application/vnd.jupyter.widget-view+json": {
       "model_id": "fc7aaf7621474fb5941de0a1a9c1cc37",
       "version_major": 2,
       "version_minor": 0
      },
      "text/plain": [
       "Dev:   0%|          | 0/44 [00:00<?, ?it/s]"
      ]
     },
     "metadata": {},
     "output_type": "display_data"
    },
    {
     "name": "stdout",
     "output_type": "stream",
     "text": [
      "\tDone Epoch: 32/50\n",
      "\t\tLoss\t|\tTrain AVG: 0.2506, Dev AVG: 0.2241\n",
      "\t\tMetrics\t|\tTrain: wer=0.1621, em=0.08972 ; Dev: wer=0.2175, em=0.1734\n"
     ]
    },
    {
     "data": {
      "application/vnd.jupyter.widget-view+json": {
       "model_id": "adcbfe921bb244379200802c42cfe277",
       "version_major": 2,
       "version_minor": 0
      },
      "text/plain": [
       "Train:   0%|          | 0/2290 [00:00<?, ?it/s]"
      ]
     },
     "metadata": {},
     "output_type": "display_data"
    },
    {
     "data": {
      "application/vnd.jupyter.widget-view+json": {
       "model_id": "0e77b2bd8ba849a89325f4bce50d60a0",
       "version_major": 2,
       "version_minor": 0
      },
      "text/plain": [
       "Dev:   0%|          | 0/44 [00:00<?, ?it/s]"
      ]
     },
     "metadata": {},
     "output_type": "display_data"
    },
    {
     "name": "stdout",
     "output_type": "stream",
     "text": [
      "\tDone Epoch: 33/50\n",
      "\t\tLoss\t|\tTrain AVG: 0.2485, Dev AVG: 0.224\n",
      "\t\tMetrics\t|\tTrain: wer=0.1612, em=0.09088 ; Dev: wer=0.2173, em=0.1734\n"
     ]
    },
    {
     "data": {
      "application/vnd.jupyter.widget-view+json": {
       "model_id": "f02b9fb266a64666bfcf22cc16dfdf1e",
       "version_major": 2,
       "version_minor": 0
      },
      "text/plain": [
       "Train:   0%|          | 0/2290 [00:00<?, ?it/s]"
      ]
     },
     "metadata": {},
     "output_type": "display_data"
    },
    {
     "data": {
      "application/vnd.jupyter.widget-view+json": {
       "model_id": "01e8893afc994d69815989b047d03b72",
       "version_major": 2,
       "version_minor": 0
      },
      "text/plain": [
       "Dev:   0%|          | 0/44 [00:00<?, ?it/s]"
      ]
     },
     "metadata": {},
     "output_type": "display_data"
    },
    {
     "name": "stdout",
     "output_type": "stream",
     "text": [
      "\tDone Epoch: 34/50\n",
      "\t\tLoss\t|\tTrain AVG: 0.2468, Dev AVG: 0.2227\n",
      "\t\tMetrics\t|\tTrain: wer=0.1605, em=0.09044 ; Dev: wer=0.2174, em=0.172\n"
     ]
    },
    {
     "data": {
      "application/vnd.jupyter.widget-view+json": {
       "model_id": "7e53f6c73be846bf8f1289bd7dfb24a5",
       "version_major": 2,
       "version_minor": 0
      },
      "text/plain": [
       "Train:   0%|          | 0/2290 [00:00<?, ?it/s]"
      ]
     },
     "metadata": {},
     "output_type": "display_data"
    },
    {
     "data": {
      "application/vnd.jupyter.widget-view+json": {
       "model_id": "c9cfeef3cf084b84b3cc9fda627e7bf1",
       "version_major": 2,
       "version_minor": 0
      },
      "text/plain": [
       "Dev:   0%|          | 0/44 [00:00<?, ?it/s]"
      ]
     },
     "metadata": {},
     "output_type": "display_data"
    },
    {
     "name": "stdout",
     "output_type": "stream",
     "text": [
      "\tDone Epoch: 35/50\n",
      "\t\tLoss\t|\tTrain AVG: 0.2448, Dev AVG: 0.2223\n",
      "\t\tMetrics\t|\tTrain: wer=0.1599, em=0.09074 ; Dev: wer=0.217, em=0.1745\n"
     ]
    },
    {
     "data": {
      "application/vnd.jupyter.widget-view+json": {
       "model_id": "0f60bba2dced4a779d2b3f866fb4a276",
       "version_major": 2,
       "version_minor": 0
      },
      "text/plain": [
       "Train:   0%|          | 0/2290 [00:00<?, ?it/s]"
      ]
     },
     "metadata": {},
     "output_type": "display_data"
    },
    {
     "data": {
      "application/vnd.jupyter.widget-view+json": {
       "model_id": "84e2a85f0064407d817da7ac2d531d95",
       "version_major": 2,
       "version_minor": 0
      },
      "text/plain": [
       "Dev:   0%|          | 0/44 [00:00<?, ?it/s]"
      ]
     },
     "metadata": {},
     "output_type": "display_data"
    },
    {
     "name": "stdout",
     "output_type": "stream",
     "text": [
      "\tDone Epoch: 36/50\n",
      "\t\tLoss\t|\tTrain AVG: 0.2427, Dev AVG: 0.2238\n",
      "\t\tMetrics\t|\tTrain: wer=0.1591, em=0.09263 ; Dev: wer=0.2157, em=0.1755\n"
     ]
    },
    {
     "data": {
      "application/vnd.jupyter.widget-view+json": {
       "model_id": "afee135a377b40f2a4e3807665fe6c3f",
       "version_major": 2,
       "version_minor": 0
      },
      "text/plain": [
       "Train:   0%|          | 0/2290 [00:00<?, ?it/s]"
      ]
     },
     "metadata": {},
     "output_type": "display_data"
    },
    {
     "data": {
      "application/vnd.jupyter.widget-view+json": {
       "model_id": "f457807e3d754f11a0894ad3983ecf56",
       "version_major": 2,
       "version_minor": 0
      },
      "text/plain": [
       "Dev:   0%|          | 0/44 [00:00<?, ?it/s]"
      ]
     },
     "metadata": {},
     "output_type": "display_data"
    },
    {
     "name": "stdout",
     "output_type": "stream",
     "text": [
      "\tDone Epoch: 37/50\n",
      "\t\tLoss\t|\tTrain AVG: 0.2408, Dev AVG: 0.2226\n",
      "\t\tMetrics\t|\tTrain: wer=0.1585, em=0.09266 ; Dev: wer=0.2154, em=0.1723\n"
     ]
    },
    {
     "data": {
      "application/vnd.jupyter.widget-view+json": {
       "model_id": "d5f3ffb182b243b7be1b15798d026f54",
       "version_major": 2,
       "version_minor": 0
      },
      "text/plain": [
       "Train:   0%|          | 0/2290 [00:00<?, ?it/s]"
      ]
     },
     "metadata": {},
     "output_type": "display_data"
    },
    {
     "data": {
      "application/vnd.jupyter.widget-view+json": {
       "model_id": "75e6926355fb40339b4a2ad2a63116a4",
       "version_major": 2,
       "version_minor": 0
      },
      "text/plain": [
       "Dev:   0%|          | 0/44 [00:00<?, ?it/s]"
      ]
     },
     "metadata": {},
     "output_type": "display_data"
    },
    {
     "name": "stdout",
     "output_type": "stream",
     "text": [
      "\tDone Epoch: 38/50\n",
      "\t\tLoss\t|\tTrain AVG: 0.2392, Dev AVG: 0.2225\n",
      "\t\tMetrics\t|\tTrain: wer=0.1579, em=0.09325 ; Dev: wer=0.2153, em=0.1734\n"
     ]
    },
    {
     "data": {
      "application/vnd.jupyter.widget-view+json": {
       "model_id": "76221857072a41588b64744e4d260225",
       "version_major": 2,
       "version_minor": 0
      },
      "text/plain": [
       "Train:   0%|          | 0/2290 [00:00<?, ?it/s]"
      ]
     },
     "metadata": {},
     "output_type": "display_data"
    },
    {
     "data": {
      "application/vnd.jupyter.widget-view+json": {
       "model_id": "f414ed2341ce458295f7110e4b8669a3",
       "version_major": 2,
       "version_minor": 0
      },
      "text/plain": [
       "Dev:   0%|          | 0/44 [00:00<?, ?it/s]"
      ]
     },
     "metadata": {},
     "output_type": "display_data"
    },
    {
     "name": "stdout",
     "output_type": "stream",
     "text": [
      "\tDone Epoch: 39/50\n",
      "\t\tLoss\t|\tTrain AVG: 0.2375, Dev AVG: 0.2231\n",
      "\t\tMetrics\t|\tTrain: wer=0.1573, em=0.09421 ; Dev: wer=0.2158, em=0.1752\n"
     ]
    },
    {
     "data": {
      "application/vnd.jupyter.widget-view+json": {
       "model_id": "b6580138855d4a0192aa62e8c0912791",
       "version_major": 2,
       "version_minor": 0
      },
      "text/plain": [
       "Train:   0%|          | 0/2290 [00:00<?, ?it/s]"
      ]
     },
     "metadata": {},
     "output_type": "display_data"
    },
    {
     "data": {
      "application/vnd.jupyter.widget-view+json": {
       "model_id": "b9d4c774597c4f6cac76c9d9bcd6ce93",
       "version_major": 2,
       "version_minor": 0
      },
      "text/plain": [
       "Dev:   0%|          | 0/44 [00:00<?, ?it/s]"
      ]
     },
     "metadata": {},
     "output_type": "display_data"
    },
    {
     "name": "stdout",
     "output_type": "stream",
     "text": [
      "\tDone Epoch: 40/50\n",
      "\t\tLoss\t|\tTrain AVG: 0.2357, Dev AVG: 0.2216\n",
      "\t\tMetrics\t|\tTrain: wer=0.1566, em=0.09476 ; Dev: wer=0.2163, em=0.172\n"
     ]
    },
    {
     "data": {
      "application/vnd.jupyter.widget-view+json": {
       "model_id": "e1d8f2d1d94f4fac94bc7fc262d20720",
       "version_major": 2,
       "version_minor": 0
      },
      "text/plain": [
       "Train:   0%|          | 0/2290 [00:00<?, ?it/s]"
      ]
     },
     "metadata": {},
     "output_type": "display_data"
    },
    {
     "data": {
      "application/vnd.jupyter.widget-view+json": {
       "model_id": "9167c284908b44bb878b93f914b80eb7",
       "version_major": 2,
       "version_minor": 0
      },
      "text/plain": [
       "Dev:   0%|          | 0/44 [00:00<?, ?it/s]"
      ]
     },
     "metadata": {},
     "output_type": "display_data"
    },
    {
     "name": "stdout",
     "output_type": "stream",
     "text": [
      "\tDone Epoch: 41/50\n",
      "\t\tLoss\t|\tTrain AVG: 0.2339, Dev AVG: 0.222\n",
      "\t\tMetrics\t|\tTrain: wer=0.156, em=0.09459 ; Dev: wer=0.2149, em=0.1738\n"
     ]
    },
    {
     "data": {
      "application/vnd.jupyter.widget-view+json": {
       "model_id": "61485c630f3843d3ad629c4165ae1f65",
       "version_major": 2,
       "version_minor": 0
      },
      "text/plain": [
       "Train:   0%|          | 0/2290 [00:00<?, ?it/s]"
      ]
     },
     "metadata": {},
     "output_type": "display_data"
    },
    {
     "data": {
      "application/vnd.jupyter.widget-view+json": {
       "model_id": "6806a47fa3cd4e22b576ebc7e54553fc",
       "version_major": 2,
       "version_minor": 0
      },
      "text/plain": [
       "Dev:   0%|          | 0/44 [00:00<?, ?it/s]"
      ]
     },
     "metadata": {},
     "output_type": "display_data"
    },
    {
     "name": "stdout",
     "output_type": "stream",
     "text": [
      "\tDone Epoch: 42/50\n",
      "\t\tLoss\t|\tTrain AVG: 0.2325, Dev AVG: 0.2216\n",
      "\t\tMetrics\t|\tTrain: wer=0.1556, em=0.09583 ; Dev: wer=0.2148, em=0.1731\n"
     ]
    },
    {
     "data": {
      "application/vnd.jupyter.widget-view+json": {
       "model_id": "722fa9d36a254a6ca4e49a42f3d79db5",
       "version_major": 2,
       "version_minor": 0
      },
      "text/plain": [
       "Train:   0%|          | 0/2290 [00:00<?, ?it/s]"
      ]
     },
     "metadata": {},
     "output_type": "display_data"
    },
    {
     "data": {
      "application/vnd.jupyter.widget-view+json": {
       "model_id": "60ee347daf26423181f502e0d3cdb61d",
       "version_major": 2,
       "version_minor": 0
      },
      "text/plain": [
       "Dev:   0%|          | 0/44 [00:00<?, ?it/s]"
      ]
     },
     "metadata": {},
     "output_type": "display_data"
    },
    {
     "name": "stdout",
     "output_type": "stream",
     "text": [
      "\tDone Epoch: 43/50\n",
      "\t\tLoss\t|\tTrain AVG: 0.2308, Dev AVG: 0.2211\n",
      "\t\tMetrics\t|\tTrain: wer=0.1548, em=0.09653 ; Dev: wer=0.2152, em=0.1738\n"
     ]
    },
    {
     "data": {
      "application/vnd.jupyter.widget-view+json": {
       "model_id": "8f9195e01d914e2c95b017926609a063",
       "version_major": 2,
       "version_minor": 0
      },
      "text/plain": [
       "Train:   0%|          | 0/2290 [00:00<?, ?it/s]"
      ]
     },
     "metadata": {},
     "output_type": "display_data"
    },
    {
     "data": {
      "application/vnd.jupyter.widget-view+json": {
       "model_id": "fa9c1057362549dfbd7d8dfd7f6db01c",
       "version_major": 2,
       "version_minor": 0
      },
      "text/plain": [
       "Dev:   0%|          | 0/44 [00:00<?, ?it/s]"
      ]
     },
     "metadata": {},
     "output_type": "display_data"
    },
    {
     "name": "stdout",
     "output_type": "stream",
     "text": [
      "\tDone Epoch: 44/50\n",
      "\t\tLoss\t|\tTrain AVG: 0.2292, Dev AVG: 0.2223\n",
      "\t\tMetrics\t|\tTrain: wer=0.1542, em=0.09621 ; Dev: wer=0.2147, em=0.1777\n"
     ]
    },
    {
     "data": {
      "application/vnd.jupyter.widget-view+json": {
       "model_id": "05dc600b941d4a66b2af7612023b4825",
       "version_major": 2,
       "version_minor": 0
      },
      "text/plain": [
       "Train:   0%|          | 0/2290 [00:00<?, ?it/s]"
      ]
     },
     "metadata": {},
     "output_type": "display_data"
    },
    {
     "data": {
      "application/vnd.jupyter.widget-view+json": {
       "model_id": "86fde03d8edb4148aa6d1161cd9e75a1",
       "version_major": 2,
       "version_minor": 0
      },
      "text/plain": [
       "Dev:   0%|          | 0/44 [00:00<?, ?it/s]"
      ]
     },
     "metadata": {},
     "output_type": "display_data"
    },
    {
     "name": "stdout",
     "output_type": "stream",
     "text": [
      "\tDone Epoch: 45/50\n",
      "\t\tLoss\t|\tTrain AVG: 0.2276, Dev AVG: 0.2215\n",
      "\t\tMetrics\t|\tTrain: wer=0.1536, em=0.09763 ; Dev: wer=0.2148, em=0.1752\n"
     ]
    },
    {
     "data": {
      "application/vnd.jupyter.widget-view+json": {
       "model_id": "ba097ca983584dc2a3e6a42d7f328e6a",
       "version_major": 2,
       "version_minor": 0
      },
      "text/plain": [
       "Train:   0%|          | 0/2290 [00:00<?, ?it/s]"
      ]
     },
     "metadata": {},
     "output_type": "display_data"
    },
    {
     "data": {
      "application/vnd.jupyter.widget-view+json": {
       "model_id": "133b493d598349528861e46feca8a082",
       "version_major": 2,
       "version_minor": 0
      },
      "text/plain": [
       "Dev:   0%|          | 0/44 [00:00<?, ?it/s]"
      ]
     },
     "metadata": {},
     "output_type": "display_data"
    },
    {
     "name": "stdout",
     "output_type": "stream",
     "text": [
      "\tDone Epoch: 46/50\n",
      "\t\tLoss\t|\tTrain AVG: 0.2261, Dev AVG: 0.2207\n",
      "\t\tMetrics\t|\tTrain: wer=0.1531, em=0.09831 ; Dev: wer=0.2149, em=0.1766\n"
     ]
    },
    {
     "data": {
      "application/vnd.jupyter.widget-view+json": {
       "model_id": "6c46c3570b4245b790e8a79321aa9941",
       "version_major": 2,
       "version_minor": 0
      },
      "text/plain": [
       "Train:   0%|          | 0/2290 [00:00<?, ?it/s]"
      ]
     },
     "metadata": {},
     "output_type": "display_data"
    },
    {
     "data": {
      "application/vnd.jupyter.widget-view+json": {
       "model_id": "39c6aca9439847bb8573cd3d8757bd95",
       "version_major": 2,
       "version_minor": 0
      },
      "text/plain": [
       "Dev:   0%|          | 0/44 [00:00<?, ?it/s]"
      ]
     },
     "metadata": {},
     "output_type": "display_data"
    },
    {
     "name": "stdout",
     "output_type": "stream",
     "text": [
      "\tDone Epoch: 47/50\n",
      "\t\tLoss\t|\tTrain AVG: 0.2245, Dev AVG: 0.2218\n",
      "\t\tMetrics\t|\tTrain: wer=0.1525, em=0.09862 ; Dev: wer=0.2149, em=0.1759\n"
     ]
    },
    {
     "data": {
      "application/vnd.jupyter.widget-view+json": {
       "model_id": "5a64453eb925423fad01f2333fcda2af",
       "version_major": 2,
       "version_minor": 0
      },
      "text/plain": [
       "Train:   0%|          | 0/2290 [00:00<?, ?it/s]"
      ]
     },
     "metadata": {},
     "output_type": "display_data"
    },
    {
     "data": {
      "application/vnd.jupyter.widget-view+json": {
       "model_id": "7bb811529f3f4fc9886cb79605c835a5",
       "version_major": 2,
       "version_minor": 0
      },
      "text/plain": [
       "Dev:   0%|          | 0/44 [00:00<?, ?it/s]"
      ]
     },
     "metadata": {},
     "output_type": "display_data"
    },
    {
     "name": "stdout",
     "output_type": "stream",
     "text": [
      "\tDone Epoch: 48/50\n",
      "\t\tLoss\t|\tTrain AVG: 0.223, Dev AVG: 0.2217\n",
      "\t\tMetrics\t|\tTrain: wer=0.1521, em=0.09883 ; Dev: wer=0.2143, em=0.1777\n"
     ]
    },
    {
     "data": {
      "application/vnd.jupyter.widget-view+json": {
       "model_id": "77a2cca519d946c5adca0fee39b4179c",
       "version_major": 2,
       "version_minor": 0
      },
      "text/plain": [
       "Train:   0%|          | 0/2290 [00:00<?, ?it/s]"
      ]
     },
     "metadata": {},
     "output_type": "display_data"
    },
    {
     "data": {
      "application/vnd.jupyter.widget-view+json": {
       "model_id": "8fe67907e38140ddbdcfff6d83d249a4",
       "version_major": 2,
       "version_minor": 0
      },
      "text/plain": [
       "Dev:   0%|          | 0/44 [00:00<?, ?it/s]"
      ]
     },
     "metadata": {},
     "output_type": "display_data"
    },
    {
     "name": "stdout",
     "output_type": "stream",
     "text": [
      "\tDone Epoch: 49/50\n",
      "\t\tLoss\t|\tTrain AVG: 0.2216, Dev AVG: 0.2216\n",
      "\t\tMetrics\t|\tTrain: wer=0.1513, em=0.09937 ; Dev: wer=0.214, em=0.1787\n"
     ]
    },
    {
     "data": {
      "application/vnd.jupyter.widget-view+json": {
       "model_id": "c36c34d80d3a449aae4d0a4081296794",
       "version_major": 2,
       "version_minor": 0
      },
      "text/plain": [
       "Train:   0%|          | 0/2290 [00:00<?, ?it/s]"
      ]
     },
     "metadata": {},
     "output_type": "display_data"
    },
    {
     "data": {
      "application/vnd.jupyter.widget-view+json": {
       "model_id": "765a3b18ebe140f0b370946529c4f435",
       "version_major": 2,
       "version_minor": 0
      },
      "text/plain": [
       "Dev:   0%|          | 0/44 [00:00<?, ?it/s]"
      ]
     },
     "metadata": {},
     "output_type": "display_data"
    },
    {
     "name": "stdout",
     "output_type": "stream",
     "text": [
      "\tDone Epoch: 50/50\n",
      "\t\tLoss\t|\tTrain AVG: 0.2202, Dev AVG: 0.2224\n",
      "\t\tMetrics\t|\tTrain: wer=0.1509, em=0.09987 ; Dev: wer=0.2152, em=0.1745\n",
      "\n",
      "Training finished!\n",
      "\n"
     ]
    }
   ],
   "source": [
    "assert debug==False, \"You are in debug mode, please change to False\"\n",
    "\n",
    "rec_ace_other_model = RecACEWrapModel(t5_type=t5_type, model_type='rec_ace', bin_size=bin_size, use_pretrained=True).to(DEVICE)\n",
    "rec_ace_other_optimizer = torch.optim.Adam(rec_ace_other_model.parameters(), lr=1e-4)\n",
    "\n",
    "rec_ace_other_model, rec_ace_other_metrics_df = training(\n",
    "    model=rec_ace_other_model,\n",
    "    n_epochs=50,\n",
    "    train_data=train_loader_other,\n",
    "    dev_data=dev_loader_other,\n",
    "    optimizer=rec_ace_other_optimizer,\n",
    "    exp_name=f\"rec_ace_Other\",\n",
    "    save_model=True)"
   ]
  },
  {
   "cell_type": "markdown",
   "id": "0e4fa434",
   "metadata": {},
   "source": [
    "#### Analysis"
   ]
  },
  {
   "cell_type": "code",
   "execution_count": 19,
   "id": "aae4a594",
   "metadata": {},
   "outputs": [
    {
     "data": {
      "image/png": "[encoded data removed]",
      "text/plain": [
       "<Figure size 1440x576 with 3 Axes>"
      ]
     },
     "metadata": {
      "needs_background": "light"
     },
     "output_type": "display_data"
    }
   ],
   "source": [
    "plot_graphs(rec_ace_other_metrics_df, gt_df=asr_evaluators['Other'].metrics_df, fig_size=(20,8))"
   ]
  },
  {
   "cell_type": "markdown",
   "id": "e58748c5",
   "metadata": {},
   "source": [
    "## Model Original T5 (on Other data)"
   ]
  },
  {
   "cell_type": "markdown",
   "id": "c125fe23",
   "metadata": {},
   "source": [
    "#### Training"
   ]
  },
  {
   "cell_type": "code",
   "execution_count": 20,
   "id": "d78b563a",
   "metadata": {},
   "outputs": [
    {
     "name": "stdout",
     "output_type": "stream",
     "text": [
      "Experiment name: original_f5_Other\n",
      "Training model of type: original\n",
      "Confidence vectors are NOT IN USED\n",
      "Saving model to: ./results\\original_f5_Other/2023-08-24_17-27-55\n"
     ]
    },
    {
     "data": {
      "application/vnd.jupyter.widget-view+json": {
       "model_id": "02e9cb57ac3147f4bd4e7ea538db22a9",
       "version_major": 2,
       "version_minor": 0
      },
      "text/plain": [
       "  0%|          | 0/50 [00:00<?, ?it/s]"
      ]
     },
     "metadata": {},
     "output_type": "display_data"
    },
    {
     "data": {
      "application/vnd.jupyter.widget-view+json": {
       "model_id": "0d3a35587a944df68a51b1c976aa9bd5",
       "version_major": 2,
       "version_minor": 0
      },
      "text/plain": [
       "Train:   0%|          | 0/2290 [00:00<?, ?it/s]"
      ]
     },
     "metadata": {},
     "output_type": "display_data"
    },
    {
     "data": {
      "application/vnd.jupyter.widget-view+json": {
       "model_id": "06c16a4ef58e48f98e439025f3756188",
       "version_major": 2,
       "version_minor": 0
      },
      "text/plain": [
       "Dev:   0%|          | 0/44 [00:00<?, ?it/s]"
      ]
     },
     "metadata": {},
     "output_type": "display_data"
    },
    {
     "name": "stdout",
     "output_type": "stream",
     "text": [
      "\tDone Epoch: 1/50\n",
      "\t\tLoss\t|\tTrain AVG: 0.5048, Dev AVG: 0.3126\n",
      "\t\tMetrics\t|\tTrain: wer=0.2392, em=0.04577 ; Dev: wer=0.2666, em=0.122\n"
     ]
    },
    {
     "data": {
      "application/vnd.jupyter.widget-view+json": {
       "model_id": "71c2dbebf11e4b5fb703d8aa61d913be",
       "version_major": 2,
       "version_minor": 0
      },
      "text/plain": [
       "Train:   0%|          | 0/2290 [00:00<?, ?it/s]"
      ]
     },
     "metadata": {},
     "output_type": "display_data"
    },
    {
     "data": {
      "application/vnd.jupyter.widget-view+json": {
       "model_id": "385374d98414460b8a826c4b849407e7",
       "version_major": 2,
       "version_minor": 0
      },
      "text/plain": [
       "Dev:   0%|          | 0/44 [00:00<?, ?it/s]"
      ]
     },
     "metadata": {},
     "output_type": "display_data"
    },
    {
     "name": "stdout",
     "output_type": "stream",
     "text": [
      "\tDone Epoch: 2/50\n",
      "\t\tLoss\t|\tTrain AVG: 0.4253, Dev AVG: 0.2994\n",
      "\t\tMetrics\t|\tTrain: wer=0.2146, em=0.05713 ; Dev: wer=0.255, em=0.1456\n"
     ]
    },
    {
     "data": {
      "application/vnd.jupyter.widget-view+json": {
       "model_id": "ac8b2d8b1f01423da469e1f7f2222d60",
       "version_major": 2,
       "version_minor": 0
      },
      "text/plain": [
       "Train:   0%|          | 0/2290 [00:00<?, ?it/s]"
      ]
     },
     "metadata": {},
     "output_type": "display_data"
    },
    {
     "data": {
      "application/vnd.jupyter.widget-view+json": {
       "model_id": "f9df0c7ac10e4199a4ef0e5bbf469994",
       "version_major": 2,
       "version_minor": 0
      },
      "text/plain": [
       "Dev:   0%|          | 0/44 [00:00<?, ?it/s]"
      ]
     },
     "metadata": {},
     "output_type": "display_data"
    },
    {
     "name": "stdout",
     "output_type": "stream",
     "text": [
      "\tDone Epoch: 3/50\n",
      "\t\tLoss\t|\tTrain AVG: 0.4002, Dev AVG: 0.275\n",
      "\t\tMetrics\t|\tTrain: wer=0.2072, em=0.0596 ; Dev: wer=0.2446, em=0.1492\n"
     ]
    },
    {
     "data": {
      "application/vnd.jupyter.widget-view+json": {
       "model_id": "c118a89d9b5e4d6898708f44ea017a9a",
       "version_major": 2,
       "version_minor": 0
      },
      "text/plain": [
       "Train:   0%|          | 0/2290 [00:00<?, ?it/s]"
      ]
     },
     "metadata": {},
     "output_type": "display_data"
    },
    {
     "data": {
      "application/vnd.jupyter.widget-view+json": {
       "model_id": "3a2beeb02cf5490685112ba4656ba3c2",
       "version_major": 2,
       "version_minor": 0
      },
      "text/plain": [
       "Dev:   0%|          | 0/44 [00:00<?, ?it/s]"
      ]
     },
     "metadata": {},
     "output_type": "display_data"
    },
    {
     "name": "stdout",
     "output_type": "stream",
     "text": [
      "\tDone Epoch: 4/50\n",
      "\t\tLoss\t|\tTrain AVG: 0.3834, Dev AVG: 0.2788\n",
      "\t\tMetrics\t|\tTrain: wer=0.2023, em=0.06203 ; Dev: wer=0.2517, em=0.1482\n"
     ]
    },
    {
     "data": {
      "application/vnd.jupyter.widget-view+json": {
       "model_id": "ca92416ddcd646d0bfb1ed249de5612b",
       "version_major": 2,
       "version_minor": 0
      },
      "text/plain": [
       "Train:   0%|          | 0/2290 [00:00<?, ?it/s]"
      ]
     },
     "metadata": {},
     "output_type": "display_data"
    },
    {
     "data": {
      "application/vnd.jupyter.widget-view+json": {
       "model_id": "ad72b8e054a141559147e15aabe8c21f",
       "version_major": 2,
       "version_minor": 0
      },
      "text/plain": [
       "Dev:   0%|          | 0/44 [00:00<?, ?it/s]"
      ]
     },
     "metadata": {},
     "output_type": "display_data"
    },
    {
     "name": "stdout",
     "output_type": "stream",
     "text": [
      "\tDone Epoch: 5/50\n",
      "\t\tLoss\t|\tTrain AVG: 0.37, Dev AVG: 0.2707\n",
      "\t\tMetrics\t|\tTrain: wer=0.1987, em=0.0639 ; Dev: wer=0.247, em=0.1521\n"
     ]
    },
    {
     "data": {
      "application/vnd.jupyter.widget-view+json": {
       "model_id": "6236404f9c7f433eb6afbc7f7ff865af",
       "version_major": 2,
       "version_minor": 0
      },
      "text/plain": [
       "Train:   0%|          | 0/2290 [00:00<?, ?it/s]"
      ]
     },
     "metadata": {},
     "output_type": "display_data"
    },
    {
     "data": {
      "application/vnd.jupyter.widget-view+json": {
       "model_id": "f717a7a96c384edaab0c97a2ff83b6e9",
       "version_major": 2,
       "version_minor": 0
      },
      "text/plain": [
       "Dev:   0%|          | 0/44 [00:00<?, ?it/s]"
      ]
     },
     "metadata": {},
     "output_type": "display_data"
    },
    {
     "name": "stdout",
     "output_type": "stream",
     "text": [
      "\tDone Epoch: 6/50\n",
      "\t\tLoss\t|\tTrain AVG: 0.3595, Dev AVG: 0.2688\n",
      "\t\tMetrics\t|\tTrain: wer=0.1956, em=0.06584 ; Dev: wer=0.2472, em=0.1535\n"
     ]
    },
    {
     "data": {
      "application/vnd.jupyter.widget-view+json": {
       "model_id": "cd9ee24e018c467a8e66bea8039d137b",
       "version_major": 2,
       "version_minor": 0
      },
      "text/plain": [
       "Train:   0%|          | 0/2290 [00:00<?, ?it/s]"
      ]
     },
     "metadata": {},
     "output_type": "display_data"
    },
    {
     "data": {
      "application/vnd.jupyter.widget-view+json": {
       "model_id": "529dcf55cfd844e5992ef1bb11b8c4f5",
       "version_major": 2,
       "version_minor": 0
      },
      "text/plain": [
       "Dev:   0%|          | 0/44 [00:00<?, ?it/s]"
      ]
     },
     "metadata": {},
     "output_type": "display_data"
    },
    {
     "name": "stdout",
     "output_type": "stream",
     "text": [
      "\tDone Epoch: 7/50\n",
      "\t\tLoss\t|\tTrain AVG: 0.3503, Dev AVG: 0.2552\n",
      "\t\tMetrics\t|\tTrain: wer=0.1931, em=0.06692 ; Dev: wer=0.2366, em=0.1509\n"
     ]
    },
    {
     "data": {
      "application/vnd.jupyter.widget-view+json": {
       "model_id": "acf62d85064247229ff9764bd0ce4223",
       "version_major": 2,
       "version_minor": 0
      },
      "text/plain": [
       "Train:   0%|          | 0/2290 [00:00<?, ?it/s]"
      ]
     },
     "metadata": {},
     "output_type": "display_data"
    },
    {
     "data": {
      "application/vnd.jupyter.widget-view+json": {
       "model_id": "8120648c382945268e2deccaa8354ea6",
       "version_major": 2,
       "version_minor": 0
      },
      "text/plain": [
       "Dev:   0%|          | 0/44 [00:00<?, ?it/s]"
      ]
     },
     "metadata": {},
     "output_type": "display_data"
    },
    {
     "name": "stdout",
     "output_type": "stream",
     "text": [
      "\tDone Epoch: 8/50\n",
      "\t\tLoss\t|\tTrain AVG: 0.3427, Dev AVG: 0.2651\n",
      "\t\tMetrics\t|\tTrain: wer=0.1908, em=0.06787 ; Dev: wer=0.2469, em=0.156\n"
     ]
    },
    {
     "data": {
      "application/vnd.jupyter.widget-view+json": {
       "model_id": "25264a022cf74037a7b4fb59273d7ad0",
       "version_major": 2,
       "version_minor": 0
      },
      "text/plain": [
       "Train:   0%|          | 0/2290 [00:00<?, ?it/s]"
      ]
     },
     "metadata": {},
     "output_type": "display_data"
    },
    {
     "data": {
      "application/vnd.jupyter.widget-view+json": {
       "model_id": "67831c2060c14531ab51b75c728fc74f",
       "version_major": 2,
       "version_minor": 0
      },
      "text/plain": [
       "Dev:   0%|          | 0/44 [00:00<?, ?it/s]"
      ]
     },
     "metadata": {},
     "output_type": "display_data"
    },
    {
     "name": "stdout",
     "output_type": "stream",
     "text": [
      "\tDone Epoch: 9/50\n",
      "\t\tLoss\t|\tTrain AVG: 0.3359, Dev AVG: 0.2534\n",
      "\t\tMetrics\t|\tTrain: wer=0.189, em=0.06873 ; Dev: wer=0.2367, em=0.1581\n"
     ]
    },
    {
     "data": {
      "application/vnd.jupyter.widget-view+json": {
       "model_id": "526658be5d21453c9de613fb69763e82",
       "version_major": 2,
       "version_minor": 0
      },
      "text/plain": [
       "Train:   0%|          | 0/2290 [00:00<?, ?it/s]"
      ]
     },
     "metadata": {},
     "output_type": "display_data"
    },
    {
     "data": {
      "application/vnd.jupyter.widget-view+json": {
       "model_id": "e13177919d1f425da10bde55517a8cda",
       "version_major": 2,
       "version_minor": 0
      },
      "text/plain": [
       "Dev:   0%|          | 0/44 [00:00<?, ?it/s]"
      ]
     },
     "metadata": {},
     "output_type": "display_data"
    },
    {
     "name": "stdout",
     "output_type": "stream",
     "text": [
      "\tDone Epoch: 10/50\n",
      "\t\tLoss\t|\tTrain AVG: 0.3296, Dev AVG: 0.2463\n",
      "\t\tMetrics\t|\tTrain: wer=0.1871, em=0.07004 ; Dev: wer=0.23, em=0.1599\n"
     ]
    },
    {
     "data": {
      "application/vnd.jupyter.widget-view+json": {
       "model_id": "210300072cf740b7bf2c2f7b440818d1",
       "version_major": 2,
       "version_minor": 0
      },
      "text/plain": [
       "Train:   0%|          | 0/2290 [00:00<?, ?it/s]"
      ]
     },
     "metadata": {},
     "output_type": "display_data"
    },
    {
     "data": {
      "application/vnd.jupyter.widget-view+json": {
       "model_id": "111940315f1d415280f7d6410f45839f",
       "version_major": 2,
       "version_minor": 0
      },
      "text/plain": [
       "Dev:   0%|          | 0/44 [00:00<?, ?it/s]"
      ]
     },
     "metadata": {},
     "output_type": "display_data"
    },
    {
     "name": "stdout",
     "output_type": "stream",
     "text": [
      "\tDone Epoch: 11/50\n",
      "\t\tLoss\t|\tTrain AVG: 0.324, Dev AVG: 0.2463\n",
      "\t\tMetrics\t|\tTrain: wer=0.1856, em=0.07057 ; Dev: wer=0.2306, em=0.1553\n"
     ]
    },
    {
     "data": {
      "application/vnd.jupyter.widget-view+json": {
       "model_id": "10145b078f00431282c101d2c076efba",
       "version_major": 2,
       "version_minor": 0
      },
      "text/plain": [
       "Train:   0%|          | 0/2290 [00:00<?, ?it/s]"
      ]
     },
     "metadata": {},
     "output_type": "display_data"
    },
    {
     "data": {
      "application/vnd.jupyter.widget-view+json": {
       "model_id": "b1e02073a9fc43c2a2a706476497f7c7",
       "version_major": 2,
       "version_minor": 0
      },
      "text/plain": [
       "Dev:   0%|          | 0/44 [00:00<?, ?it/s]"
      ]
     },
     "metadata": {},
     "output_type": "display_data"
    },
    {
     "name": "stdout",
     "output_type": "stream",
     "text": [
      "\tDone Epoch: 12/50\n",
      "\t\tLoss\t|\tTrain AVG: 0.319, Dev AVG: 0.2575\n",
      "\t\tMetrics\t|\tTrain: wer=0.1839, em=0.0718 ; Dev: wer=0.2439, em=0.1553\n"
     ]
    },
    {
     "data": {
      "application/vnd.jupyter.widget-view+json": {
       "model_id": "53bc75ef872c46ed80faba06addf2739",
       "version_major": 2,
       "version_minor": 0
      },
      "text/plain": [
       "Train:   0%|          | 0/2290 [00:00<?, ?it/s]"
      ]
     },
     "metadata": {},
     "output_type": "display_data"
    },
    {
     "data": {
      "application/vnd.jupyter.widget-view+json": {
       "model_id": "e9334556bbfa4dec83e7a1666f5b1d99",
       "version_major": 2,
       "version_minor": 0
      },
      "text/plain": [
       "Dev:   0%|          | 0/44 [00:00<?, ?it/s]"
      ]
     },
     "metadata": {},
     "output_type": "display_data"
    },
    {
     "name": "stdout",
     "output_type": "stream",
     "text": [
      "\tDone Epoch: 13/50\n",
      "\t\tLoss\t|\tTrain AVG: 0.3142, Dev AVG: 0.2412\n",
      "\t\tMetrics\t|\tTrain: wer=0.1825, em=0.07286 ; Dev: wer=0.2291, em=0.1592\n"
     ]
    },
    {
     "data": {
      "application/vnd.jupyter.widget-view+json": {
       "model_id": "418c92fc272a4686a2fbcdd5f800c56f",
       "version_major": 2,
       "version_minor": 0
      },
      "text/plain": [
       "Train:   0%|          | 0/2290 [00:00<?, ?it/s]"
      ]
     },
     "metadata": {},
     "output_type": "display_data"
    },
    {
     "data": {
      "application/vnd.jupyter.widget-view+json": {
       "model_id": "da4ed468ac2d4fcdb1faa7a9c64fb7e2",
       "version_major": 2,
       "version_minor": 0
      },
      "text/plain": [
       "Dev:   0%|          | 0/44 [00:00<?, ?it/s]"
      ]
     },
     "metadata": {},
     "output_type": "display_data"
    },
    {
     "name": "stdout",
     "output_type": "stream",
     "text": [
      "\tDone Epoch: 14/50\n",
      "\t\tLoss\t|\tTrain AVG: 0.31, Dev AVG: 0.2502\n",
      "\t\tMetrics\t|\tTrain: wer=0.1816, em=0.07286 ; Dev: wer=0.2401, em=0.1556\n"
     ]
    },
    {
     "data": {
      "application/vnd.jupyter.widget-view+json": {
       "model_id": "5c0df5e8df0c4eaf828ccc111fe2e68e",
       "version_major": 2,
       "version_minor": 0
      },
      "text/plain": [
       "Train:   0%|          | 0/2290 [00:00<?, ?it/s]"
      ]
     },
     "metadata": {},
     "output_type": "display_data"
    },
    {
     "data": {
      "application/vnd.jupyter.widget-view+json": {
       "model_id": "ecab39b5624e412f89721b8f5833ba72",
       "version_major": 2,
       "version_minor": 0
      },
      "text/plain": [
       "Dev:   0%|          | 0/44 [00:00<?, ?it/s]"
      ]
     },
     "metadata": {},
     "output_type": "display_data"
    },
    {
     "name": "stdout",
     "output_type": "stream",
     "text": [
      "\tDone Epoch: 15/50\n",
      "\t\tLoss\t|\tTrain AVG: 0.3057, Dev AVG: 0.2389\n",
      "\t\tMetrics\t|\tTrain: wer=0.1799, em=0.07468 ; Dev: wer=0.2272, em=0.1609\n"
     ]
    },
    {
     "data": {
      "application/vnd.jupyter.widget-view+json": {
       "model_id": "fdd50ad483924223a155d4e6cb6575cc",
       "version_major": 2,
       "version_minor": 0
      },
      "text/plain": [
       "Train:   0%|          | 0/2290 [00:00<?, ?it/s]"
      ]
     },
     "metadata": {},
     "output_type": "display_data"
    },
    {
     "data": {
      "application/vnd.jupyter.widget-view+json": {
       "model_id": "e3e47b0164b84ef5b54cbb89df8478ab",
       "version_major": 2,
       "version_minor": 0
      },
      "text/plain": [
       "Dev:   0%|          | 0/44 [00:00<?, ?it/s]"
      ]
     },
     "metadata": {},
     "output_type": "display_data"
    },
    {
     "name": "stdout",
     "output_type": "stream",
     "text": [
      "\tDone Epoch: 16/50\n",
      "\t\tLoss\t|\tTrain AVG: 0.3018, Dev AVG: 0.2376\n",
      "\t\tMetrics\t|\tTrain: wer=0.1788, em=0.07521 ; Dev: wer=0.2283, em=0.1613\n"
     ]
    },
    {
     "data": {
      "application/vnd.jupyter.widget-view+json": {
       "model_id": "4ec02b876ad54a7bb0c2382c5c23410a",
       "version_major": 2,
       "version_minor": 0
      },
      "text/plain": [
       "Train:   0%|          | 0/2290 [00:00<?, ?it/s]"
      ]
     },
     "metadata": {},
     "output_type": "display_data"
    },
    {
     "data": {
      "application/vnd.jupyter.widget-view+json": {
       "model_id": "d2a9565f468a40589bfee7644a78399d",
       "version_major": 2,
       "version_minor": 0
      },
      "text/plain": [
       "Dev:   0%|          | 0/44 [00:00<?, ?it/s]"
      ]
     },
     "metadata": {},
     "output_type": "display_data"
    },
    {
     "name": "stdout",
     "output_type": "stream",
     "text": [
      "\tDone Epoch: 17/50\n",
      "\t\tLoss\t|\tTrain AVG: 0.2981, Dev AVG: 0.2375\n",
      "\t\tMetrics\t|\tTrain: wer=0.1778, em=0.0756 ; Dev: wer=0.2279, em=0.1602\n"
     ]
    },
    {
     "data": {
      "application/vnd.jupyter.widget-view+json": {
       "model_id": "5aedd216ac444e15b3743e62990fafb8",
       "version_major": 2,
       "version_minor": 0
      },
      "text/plain": [
       "Train:   0%|          | 0/2290 [00:00<?, ?it/s]"
      ]
     },
     "metadata": {},
     "output_type": "display_data"
    },
    {
     "data": {
      "application/vnd.jupyter.widget-view+json": {
       "model_id": "ca3d9faf71ed480cbdc9333ab6dea93f",
       "version_major": 2,
       "version_minor": 0
      },
      "text/plain": [
       "Dev:   0%|          | 0/44 [00:00<?, ?it/s]"
      ]
     },
     "metadata": {},
     "output_type": "display_data"
    },
    {
     "name": "stdout",
     "output_type": "stream",
     "text": [
      "\tDone Epoch: 18/50\n",
      "\t\tLoss\t|\tTrain AVG: 0.2946, Dev AVG: 0.2385\n",
      "\t\tMetrics\t|\tTrain: wer=0.1767, em=0.07542 ; Dev: wer=0.2288, em=0.1599\n"
     ]
    },
    {
     "data": {
      "application/vnd.jupyter.widget-view+json": {
       "model_id": "aa73debf067d4ed4bc530d3cbb7a30c9",
       "version_major": 2,
       "version_minor": 0
      },
      "text/plain": [
       "Train:   0%|          | 0/2290 [00:00<?, ?it/s]"
      ]
     },
     "metadata": {},
     "output_type": "display_data"
    },
    {
     "data": {
      "application/vnd.jupyter.widget-view+json": {
       "model_id": "32913d70973f4d14ab2c09b8010b2b2e",
       "version_major": 2,
       "version_minor": 0
      },
      "text/plain": [
       "Dev:   0%|          | 0/44 [00:00<?, ?it/s]"
      ]
     },
     "metadata": {},
     "output_type": "display_data"
    },
    {
     "name": "stdout",
     "output_type": "stream",
     "text": [
      "\tDone Epoch: 19/50\n",
      "\t\tLoss\t|\tTrain AVG: 0.2911, Dev AVG: 0.2388\n",
      "\t\tMetrics\t|\tTrain: wer=0.1755, em=0.0766 ; Dev: wer=0.2255, em=0.162\n"
     ]
    },
    {
     "data": {
      "application/vnd.jupyter.widget-view+json": {
       "model_id": "29adf2b63f8540f8ac71f44ad6737654",
       "version_major": 2,
       "version_minor": 0
      },
      "text/plain": [
       "Train:   0%|          | 0/2290 [00:00<?, ?it/s]"
      ]
     },
     "metadata": {},
     "output_type": "display_data"
    },
    {
     "data": {
      "application/vnd.jupyter.widget-view+json": {
       "model_id": "9a95198ef636464f9681115447eda523",
       "version_major": 2,
       "version_minor": 0
      },
      "text/plain": [
       "Dev:   0%|          | 0/44 [00:00<?, ?it/s]"
      ]
     },
     "metadata": {},
     "output_type": "display_data"
    },
    {
     "name": "stdout",
     "output_type": "stream",
     "text": [
      "\tDone Epoch: 20/50\n",
      "\t\tLoss\t|\tTrain AVG: 0.2881, Dev AVG: 0.2341\n",
      "\t\tMetrics\t|\tTrain: wer=0.1746, em=0.07673 ; Dev: wer=0.2248, em=0.1592\n"
     ]
    },
    {
     "data": {
      "application/vnd.jupyter.widget-view+json": {
       "model_id": "66fe8f9465634777aee19e7e350e59b6",
       "version_major": 2,
       "version_minor": 0
      },
      "text/plain": [
       "Train:   0%|          | 0/2290 [00:00<?, ?it/s]"
      ]
     },
     "metadata": {},
     "output_type": "display_data"
    },
    {
     "data": {
      "application/vnd.jupyter.widget-view+json": {
       "model_id": "14f158b1e1474dbaa3e8a57b80b32c5c",
       "version_major": 2,
       "version_minor": 0
      },
      "text/plain": [
       "Dev:   0%|          | 0/44 [00:00<?, ?it/s]"
      ]
     },
     "metadata": {},
     "output_type": "display_data"
    },
    {
     "name": "stdout",
     "output_type": "stream",
     "text": [
      "\tDone Epoch: 21/50\n",
      "\t\tLoss\t|\tTrain AVG: 0.285, Dev AVG: 0.2346\n",
      "\t\tMetrics\t|\tTrain: wer=0.1736, em=0.07842 ; Dev: wer=0.2255, em=0.1599\n"
     ]
    },
    {
     "data": {
      "application/vnd.jupyter.widget-view+json": {
       "model_id": "4a75456bb7fe4b6c9b66dc463cb532fb",
       "version_major": 2,
       "version_minor": 0
      },
      "text/plain": [
       "Train:   0%|          | 0/2290 [00:00<?, ?it/s]"
      ]
     },
     "metadata": {},
     "output_type": "display_data"
    },
    {
     "data": {
      "application/vnd.jupyter.widget-view+json": {
       "model_id": "40f479cc4bb64989af17f88398aa12eb",
       "version_major": 2,
       "version_minor": 0
      },
      "text/plain": [
       "Dev:   0%|          | 0/44 [00:00<?, ?it/s]"
      ]
     },
     "metadata": {},
     "output_type": "display_data"
    },
    {
     "name": "stdout",
     "output_type": "stream",
     "text": [
      "\tDone Epoch: 22/50\n",
      "\t\tLoss\t|\tTrain AVG: 0.282, Dev AVG: 0.2322\n",
      "\t\tMetrics\t|\tTrain: wer=0.1727, em=0.07882 ; Dev: wer=0.2244, em=0.1613\n"
     ]
    },
    {
     "data": {
      "application/vnd.jupyter.widget-view+json": {
       "model_id": "eb73a18e93414e2193cbf8cd072c013c",
       "version_major": 2,
       "version_minor": 0
      },
      "text/plain": [
       "Train:   0%|          | 0/2290 [00:00<?, ?it/s]"
      ]
     },
     "metadata": {},
     "output_type": "display_data"
    },
    {
     "data": {
      "application/vnd.jupyter.widget-view+json": {
       "model_id": "293098862ee147c0ab62176779a248c1",
       "version_major": 2,
       "version_minor": 0
      },
      "text/plain": [
       "Dev:   0%|          | 0/44 [00:00<?, ?it/s]"
      ]
     },
     "metadata": {},
     "output_type": "display_data"
    },
    {
     "name": "stdout",
     "output_type": "stream",
     "text": [
      "\tDone Epoch: 23/50\n",
      "\t\tLoss\t|\tTrain AVG: 0.2793, Dev AVG: 0.2329\n",
      "\t\tMetrics\t|\tTrain: wer=0.1718, em=0.07963 ; Dev: wer=0.2228, em=0.1634\n"
     ]
    },
    {
     "data": {
      "application/vnd.jupyter.widget-view+json": {
       "model_id": "c72fff6e9609415e9f5926f6b5c6d79b",
       "version_major": 2,
       "version_minor": 0
      },
      "text/plain": [
       "Train:   0%|          | 0/2290 [00:00<?, ?it/s]"
      ]
     },
     "metadata": {},
     "output_type": "display_data"
    },
    {
     "data": {
      "application/vnd.jupyter.widget-view+json": {
       "model_id": "1078e338ff4b4ccd8f4f612835f14518",
       "version_major": 2,
       "version_minor": 0
      },
      "text/plain": [
       "Dev:   0%|          | 0/44 [00:00<?, ?it/s]"
      ]
     },
     "metadata": {},
     "output_type": "display_data"
    },
    {
     "name": "stdout",
     "output_type": "stream",
     "text": [
      "\tDone Epoch: 24/50\n",
      "\t\tLoss\t|\tTrain AVG: 0.2765, Dev AVG: 0.2295\n",
      "\t\tMetrics\t|\tTrain: wer=0.171, em=0.08055 ; Dev: wer=0.2224, em=0.1638\n"
     ]
    },
    {
     "data": {
      "application/vnd.jupyter.widget-view+json": {
       "model_id": "73ee1f0967914f8abf1fb156e75509a1",
       "version_major": 2,
       "version_minor": 0
      },
      "text/plain": [
       "Train:   0%|          | 0/2290 [00:00<?, ?it/s]"
      ]
     },
     "metadata": {},
     "output_type": "display_data"
    },
    {
     "data": {
      "application/vnd.jupyter.widget-view+json": {
       "model_id": "0de2f0e7962e425cb7621f2b3d289bf3",
       "version_major": 2,
       "version_minor": 0
      },
      "text/plain": [
       "Dev:   0%|          | 0/44 [00:00<?, ?it/s]"
      ]
     },
     "metadata": {},
     "output_type": "display_data"
    },
    {
     "name": "stdout",
     "output_type": "stream",
     "text": [
      "\tDone Epoch: 25/50\n",
      "\t\tLoss\t|\tTrain AVG: 0.2741, Dev AVG: 0.2297\n",
      "\t\tMetrics\t|\tTrain: wer=0.1701, em=0.08084 ; Dev: wer=0.2207, em=0.1652\n"
     ]
    },
    {
     "data": {
      "application/vnd.jupyter.widget-view+json": {
       "model_id": "475564ceea464f2abbde771296818199",
       "version_major": 2,
       "version_minor": 0
      },
      "text/plain": [
       "Train:   0%|          | 0/2290 [00:00<?, ?it/s]"
      ]
     },
     "metadata": {},
     "output_type": "display_data"
    },
    {
     "data": {
      "application/vnd.jupyter.widget-view+json": {
       "model_id": "83b6506a431747c6b8154b6013e0167c",
       "version_major": 2,
       "version_minor": 0
      },
      "text/plain": [
       "Dev:   0%|          | 0/44 [00:00<?, ?it/s]"
      ]
     },
     "metadata": {},
     "output_type": "display_data"
    },
    {
     "name": "stdout",
     "output_type": "stream",
     "text": [
      "\tDone Epoch: 26/50\n",
      "\t\tLoss\t|\tTrain AVG: 0.2714, Dev AVG: 0.2299\n",
      "\t\tMetrics\t|\tTrain: wer=0.1692, em=0.0816 ; Dev: wer=0.2209, em=0.168\n"
     ]
    },
    {
     "data": {
      "application/vnd.jupyter.widget-view+json": {
       "model_id": "c9907be15ce5496c85b8742051396e43",
       "version_major": 2,
       "version_minor": 0
      },
      "text/plain": [
       "Train:   0%|          | 0/2290 [00:00<?, ?it/s]"
      ]
     },
     "metadata": {},
     "output_type": "display_data"
    },
    {
     "data": {
      "application/vnd.jupyter.widget-view+json": {
       "model_id": "b13a48edc101448483315e9e946c2e47",
       "version_major": 2,
       "version_minor": 0
      },
      "text/plain": [
       "Dev:   0%|          | 0/44 [00:00<?, ?it/s]"
      ]
     },
     "metadata": {},
     "output_type": "display_data"
    },
    {
     "name": "stdout",
     "output_type": "stream",
     "text": [
      "\tDone Epoch: 27/50\n",
      "\t\tLoss\t|\tTrain AVG: 0.269, Dev AVG: 0.2293\n",
      "\t\tMetrics\t|\tTrain: wer=0.1685, em=0.08218 ; Dev: wer=0.2209, em=0.1684\n"
     ]
    },
    {
     "data": {
      "application/vnd.jupyter.widget-view+json": {
       "model_id": "2f9292a3357442778880c2190edabc55",
       "version_major": 2,
       "version_minor": 0
      },
      "text/plain": [
       "Train:   0%|          | 0/2290 [00:00<?, ?it/s]"
      ]
     },
     "metadata": {},
     "output_type": "display_data"
    },
    {
     "data": {
      "application/vnd.jupyter.widget-view+json": {
       "model_id": "29e89d6a344e4b1eaea3f778b11f995c",
       "version_major": 2,
       "version_minor": 0
      },
      "text/plain": [
       "Dev:   0%|          | 0/44 [00:00<?, ?it/s]"
      ]
     },
     "metadata": {},
     "output_type": "display_data"
    },
    {
     "name": "stdout",
     "output_type": "stream",
     "text": [
      "\tDone Epoch: 28/50\n",
      "\t\tLoss\t|\tTrain AVG: 0.2666, Dev AVG: 0.2299\n",
      "\t\tMetrics\t|\tTrain: wer=0.1676, em=0.0821 ; Dev: wer=0.2203, em=0.1681\n"
     ]
    },
    {
     "data": {
      "application/vnd.jupyter.widget-view+json": {
       "model_id": "f40803ccf0544102a9885ca86de78dbd",
       "version_major": 2,
       "version_minor": 0
      },
      "text/plain": [
       "Train:   0%|          | 0/2290 [00:00<?, ?it/s]"
      ]
     },
     "metadata": {},
     "output_type": "display_data"
    },
    {
     "data": {
      "application/vnd.jupyter.widget-view+json": {
       "model_id": "f5724651a2644cd098d1d8190198b300",
       "version_major": 2,
       "version_minor": 0
      },
      "text/plain": [
       "Dev:   0%|          | 0/44 [00:00<?, ?it/s]"
      ]
     },
     "metadata": {},
     "output_type": "display_data"
    },
    {
     "name": "stdout",
     "output_type": "stream",
     "text": [
      "\tDone Epoch: 29/50\n",
      "\t\tLoss\t|\tTrain AVG: 0.2644, Dev AVG: 0.2285\n",
      "\t\tMetrics\t|\tTrain: wer=0.1669, em=0.08285 ; Dev: wer=0.2203, em=0.1677\n"
     ]
    },
    {
     "data": {
      "application/vnd.jupyter.widget-view+json": {
       "model_id": "e4ac2fbc557640d58031cc1d7c32a80b",
       "version_major": 2,
       "version_minor": 0
      },
      "text/plain": [
       "Train:   0%|          | 0/2290 [00:00<?, ?it/s]"
      ]
     },
     "metadata": {},
     "output_type": "display_data"
    },
    {
     "data": {
      "application/vnd.jupyter.widget-view+json": {
       "model_id": "dd8055beab9e4d0aacf9929fcc312f1f",
       "version_major": 2,
       "version_minor": 0
      },
      "text/plain": [
       "Dev:   0%|          | 0/44 [00:00<?, ?it/s]"
      ]
     },
     "metadata": {},
     "output_type": "display_data"
    },
    {
     "name": "stdout",
     "output_type": "stream",
     "text": [
      "\tDone Epoch: 30/50\n",
      "\t\tLoss\t|\tTrain AVG: 0.2621, Dev AVG: 0.2285\n",
      "\t\tMetrics\t|\tTrain: wer=0.1663, em=0.08386 ; Dev: wer=0.2196, em=0.1681\n"
     ]
    },
    {
     "data": {
      "application/vnd.jupyter.widget-view+json": {
       "model_id": "d6ad8b253e764c168c797460c74c13f7",
       "version_major": 2,
       "version_minor": 0
      },
      "text/plain": [
       "Train:   0%|          | 0/2290 [00:00<?, ?it/s]"
      ]
     },
     "metadata": {},
     "output_type": "display_data"
    },
    {
     "data": {
      "application/vnd.jupyter.widget-view+json": {
       "model_id": "c5bbb2d119494aaea0d4b49611638817",
       "version_major": 2,
       "version_minor": 0
      },
      "text/plain": [
       "Dev:   0%|          | 0/44 [00:00<?, ?it/s]"
      ]
     },
     "metadata": {},
     "output_type": "display_data"
    },
    {
     "name": "stdout",
     "output_type": "stream",
     "text": [
      "\tDone Epoch: 31/50\n",
      "\t\tLoss\t|\tTrain AVG: 0.2599, Dev AVG: 0.2282\n",
      "\t\tMetrics\t|\tTrain: wer=0.1654, em=0.08462 ; Dev: wer=0.2201, em=0.1684\n"
     ]
    },
    {
     "data": {
      "application/vnd.jupyter.widget-view+json": {
       "model_id": "b61853603aba4046858857191c781f94",
       "version_major": 2,
       "version_minor": 0
      },
      "text/plain": [
       "Train:   0%|          | 0/2290 [00:00<?, ?it/s]"
      ]
     },
     "metadata": {},
     "output_type": "display_data"
    },
    {
     "data": {
      "application/vnd.jupyter.widget-view+json": {
       "model_id": "554f31398aa34b5684698c08c6758034",
       "version_major": 2,
       "version_minor": 0
      },
      "text/plain": [
       "Dev:   0%|          | 0/44 [00:00<?, ?it/s]"
      ]
     },
     "metadata": {},
     "output_type": "display_data"
    },
    {
     "name": "stdout",
     "output_type": "stream",
     "text": [
      "\tDone Epoch: 32/50\n",
      "\t\tLoss\t|\tTrain AVG: 0.2579, Dev AVG: 0.2274\n",
      "\t\tMetrics\t|\tTrain: wer=0.165, em=0.08457 ; Dev: wer=0.2195, em=0.1688\n"
     ]
    },
    {
     "data": {
      "application/vnd.jupyter.widget-view+json": {
       "model_id": "389a6c1d16ad421b9ec7bd392aae7ebf",
       "version_major": 2,
       "version_minor": 0
      },
      "text/plain": [
       "Train:   0%|          | 0/2290 [00:00<?, ?it/s]"
      ]
     },
     "metadata": {},
     "output_type": "display_data"
    },
    {
     "data": {
      "application/vnd.jupyter.widget-view+json": {
       "model_id": "6554facb39424d08b4cc2b018b965adb",
       "version_major": 2,
       "version_minor": 0
      },
      "text/plain": [
       "Dev:   0%|          | 0/44 [00:00<?, ?it/s]"
      ]
     },
     "metadata": {},
     "output_type": "display_data"
    },
    {
     "name": "stdout",
     "output_type": "stream",
     "text": [
      "\tDone Epoch: 33/50\n",
      "\t\tLoss\t|\tTrain AVG: 0.2559, Dev AVG: 0.2286\n",
      "\t\tMetrics\t|\tTrain: wer=0.1642, em=0.08548 ; Dev: wer=0.219, em=0.1677\n"
     ]
    },
    {
     "data": {
      "application/vnd.jupyter.widget-view+json": {
       "model_id": "39976be1636344aca3bcbb04fe4180ca",
       "version_major": 2,
       "version_minor": 0
      },
      "text/plain": [
       "Train:   0%|          | 0/2290 [00:00<?, ?it/s]"
      ]
     },
     "metadata": {},
     "output_type": "display_data"
    },
    {
     "data": {
      "application/vnd.jupyter.widget-view+json": {
       "model_id": "e31ed984493c43878ff8d898ec67fb81",
       "version_major": 2,
       "version_minor": 0
      },
      "text/plain": [
       "Dev:   0%|          | 0/44 [00:00<?, ?it/s]"
      ]
     },
     "metadata": {},
     "output_type": "display_data"
    },
    {
     "name": "stdout",
     "output_type": "stream",
     "text": [
      "\tDone Epoch: 34/50\n",
      "\t\tLoss\t|\tTrain AVG: 0.254, Dev AVG: 0.2279\n",
      "\t\tMetrics\t|\tTrain: wer=0.1635, em=0.08649 ; Dev: wer=0.2197, em=0.172\n"
     ]
    },
    {
     "data": {
      "application/vnd.jupyter.widget-view+json": {
       "model_id": "68a39a70abd84b13918ee3159076530a",
       "version_major": 2,
       "version_minor": 0
      },
      "text/plain": [
       "Train:   0%|          | 0/2290 [00:00<?, ?it/s]"
      ]
     },
     "metadata": {},
     "output_type": "display_data"
    },
    {
     "data": {
      "application/vnd.jupyter.widget-view+json": {
       "model_id": "a44cf3dc2faf4e36869e5fc83c191ac9",
       "version_major": 2,
       "version_minor": 0
      },
      "text/plain": [
       "Dev:   0%|          | 0/44 [00:00<?, ?it/s]"
      ]
     },
     "metadata": {},
     "output_type": "display_data"
    },
    {
     "name": "stdout",
     "output_type": "stream",
     "text": [
      "\tDone Epoch: 35/50\n",
      "\t\tLoss\t|\tTrain AVG: 0.2518, Dev AVG: 0.2281\n",
      "\t\tMetrics\t|\tTrain: wer=0.1629, em=0.08623 ; Dev: wer=0.2193, em=0.1717\n"
     ]
    },
    {
     "data": {
      "application/vnd.jupyter.widget-view+json": {
       "model_id": "97e24699ad714ffca434e203bb58b686",
       "version_major": 2,
       "version_minor": 0
      },
      "text/plain": [
       "Train:   0%|          | 0/2290 [00:00<?, ?it/s]"
      ]
     },
     "metadata": {},
     "output_type": "display_data"
    },
    {
     "data": {
      "application/vnd.jupyter.widget-view+json": {
       "model_id": "96c067555fc5439896fbaac2fea08b1d",
       "version_major": 2,
       "version_minor": 0
      },
      "text/plain": [
       "Dev:   0%|          | 0/44 [00:00<?, ?it/s]"
      ]
     },
     "metadata": {},
     "output_type": "display_data"
    },
    {
     "name": "stdout",
     "output_type": "stream",
     "text": [
      "\tDone Epoch: 36/50\n",
      "\t\tLoss\t|\tTrain AVG: 0.2501, Dev AVG: 0.2282\n",
      "\t\tMetrics\t|\tTrain: wer=0.1622, em=0.08679 ; Dev: wer=0.2185, em=0.1692\n"
     ]
    },
    {
     "data": {
      "application/vnd.jupyter.widget-view+json": {
       "model_id": "52e5875b0575417bb68e5be479726b59",
       "version_major": 2,
       "version_minor": 0
      },
      "text/plain": [
       "Train:   0%|          | 0/2290 [00:00<?, ?it/s]"
      ]
     },
     "metadata": {},
     "output_type": "display_data"
    },
    {
     "data": {
      "application/vnd.jupyter.widget-view+json": {
       "model_id": "592611082c6b4b658edcec2d59bfca7b",
       "version_major": 2,
       "version_minor": 0
      },
      "text/plain": [
       "Dev:   0%|          | 0/44 [00:00<?, ?it/s]"
      ]
     },
     "metadata": {},
     "output_type": "display_data"
    },
    {
     "name": "stdout",
     "output_type": "stream",
     "text": [
      "\tDone Epoch: 37/50\n",
      "\t\tLoss\t|\tTrain AVG: 0.2481, Dev AVG: 0.2274\n",
      "\t\tMetrics\t|\tTrain: wer=0.1615, em=0.08766 ; Dev: wer=0.2194, em=0.1688\n"
     ]
    },
    {
     "data": {
      "application/vnd.jupyter.widget-view+json": {
       "model_id": "beec2b64506b4b87b6629eaea40b05bb",
       "version_major": 2,
       "version_minor": 0
      },
      "text/plain": [
       "Train:   0%|          | 0/2290 [00:00<?, ?it/s]"
      ]
     },
     "metadata": {},
     "output_type": "display_data"
    },
    {
     "data": {
      "application/vnd.jupyter.widget-view+json": {
       "model_id": "1c6092d0d45d420a948c9134f59f1fe7",
       "version_major": 2,
       "version_minor": 0
      },
      "text/plain": [
       "Dev:   0%|          | 0/44 [00:00<?, ?it/s]"
      ]
     },
     "metadata": {},
     "output_type": "display_data"
    },
    {
     "name": "stdout",
     "output_type": "stream",
     "text": [
      "\tDone Epoch: 38/50\n",
      "\t\tLoss\t|\tTrain AVG: 0.2463, Dev AVG: 0.2283\n",
      "\t\tMetrics\t|\tTrain: wer=0.1611, em=0.08784 ; Dev: wer=0.2193, em=0.1702\n"
     ]
    },
    {
     "data": {
      "application/vnd.jupyter.widget-view+json": {
       "model_id": "b0cffd97b65d4828af8ffcf717896092",
       "version_major": 2,
       "version_minor": 0
      },
      "text/plain": [
       "Train:   0%|          | 0/2290 [00:00<?, ?it/s]"
      ]
     },
     "metadata": {},
     "output_type": "display_data"
    },
    {
     "data": {
      "application/vnd.jupyter.widget-view+json": {
       "model_id": "5adf05a6075f4da69360c9d507bf66df",
       "version_major": 2,
       "version_minor": 0
      },
      "text/plain": [
       "Dev:   0%|          | 0/44 [00:00<?, ?it/s]"
      ]
     },
     "metadata": {},
     "output_type": "display_data"
    },
    {
     "name": "stdout",
     "output_type": "stream",
     "text": [
      "\tDone Epoch: 39/50\n",
      "\t\tLoss\t|\tTrain AVG: 0.2444, Dev AVG: 0.2278\n",
      "\t\tMetrics\t|\tTrain: wer=0.1602, em=0.08879 ; Dev: wer=0.2196, em=0.1681\n"
     ]
    },
    {
     "data": {
      "application/vnd.jupyter.widget-view+json": {
       "model_id": "5f779efccf064e8fb934401bb8b06497",
       "version_major": 2,
       "version_minor": 0
      },
      "text/plain": [
       "Train:   0%|          | 0/2290 [00:00<?, ?it/s]"
      ]
     },
     "metadata": {},
     "output_type": "display_data"
    },
    {
     "data": {
      "application/vnd.jupyter.widget-view+json": {
       "model_id": "d628ea3a1d4148c2aeee3e92ec5f6510",
       "version_major": 2,
       "version_minor": 0
      },
      "text/plain": [
       "Dev:   0%|          | 0/44 [00:00<?, ?it/s]"
      ]
     },
     "metadata": {},
     "output_type": "display_data"
    },
    {
     "name": "stdout",
     "output_type": "stream",
     "text": [
      "\tDone Epoch: 40/50\n",
      "\t\tLoss\t|\tTrain AVG: 0.2429, Dev AVG: 0.2286\n",
      "\t\tMetrics\t|\tTrain: wer=0.1597, em=0.08908 ; Dev: wer=0.2193, em=0.171\n"
     ]
    },
    {
     "data": {
      "application/vnd.jupyter.widget-view+json": {
       "model_id": "6d6849386bd446af8c573456b2a2122f",
       "version_major": 2,
       "version_minor": 0
      },
      "text/plain": [
       "Train:   0%|          | 0/2290 [00:00<?, ?it/s]"
      ]
     },
     "metadata": {},
     "output_type": "display_data"
    },
    {
     "data": {
      "application/vnd.jupyter.widget-view+json": {
       "model_id": "39a4fbe1422f41e09cc1b9d1d9a45b7b",
       "version_major": 2,
       "version_minor": 0
      },
      "text/plain": [
       "Dev:   0%|          | 0/44 [00:00<?, ?it/s]"
      ]
     },
     "metadata": {},
     "output_type": "display_data"
    },
    {
     "name": "stdout",
     "output_type": "stream",
     "text": [
      "\tDone Epoch: 41/50\n",
      "\t\tLoss\t|\tTrain AVG: 0.2412, Dev AVG: 0.2278\n",
      "\t\tMetrics\t|\tTrain: wer=0.1591, em=0.0891 ; Dev: wer=0.2189, em=0.1727\n"
     ]
    },
    {
     "data": {
      "application/vnd.jupyter.widget-view+json": {
       "model_id": "2fb3798c31744e74ba08b6e49c6beabc",
       "version_major": 2,
       "version_minor": 0
      },
      "text/plain": [
       "Train:   0%|          | 0/2290 [00:00<?, ?it/s]"
      ]
     },
     "metadata": {},
     "output_type": "display_data"
    },
    {
     "data": {
      "application/vnd.jupyter.widget-view+json": {
       "model_id": "d89619e6da52475eb21e5caac84c85ed",
       "version_major": 2,
       "version_minor": 0
      },
      "text/plain": [
       "Dev:   0%|          | 0/44 [00:00<?, ?it/s]"
      ]
     },
     "metadata": {},
     "output_type": "display_data"
    },
    {
     "name": "stdout",
     "output_type": "stream",
     "text": [
      "\tDone Epoch: 42/50\n",
      "\t\tLoss\t|\tTrain AVG: 0.2395, Dev AVG: 0.2269\n",
      "\t\tMetrics\t|\tTrain: wer=0.1585, em=0.08984 ; Dev: wer=0.2189, em=0.1709\n"
     ]
    },
    {
     "data": {
      "application/vnd.jupyter.widget-view+json": {
       "model_id": "82518bc1f44d454bb9dda3f42b2fc5b5",
       "version_major": 2,
       "version_minor": 0
      },
      "text/plain": [
       "Train:   0%|          | 0/2290 [00:00<?, ?it/s]"
      ]
     },
     "metadata": {},
     "output_type": "display_data"
    },
    {
     "data": {
      "application/vnd.jupyter.widget-view+json": {
       "model_id": "e7883f5f13644092a8c588b2037086ae",
       "version_major": 2,
       "version_minor": 0
      },
      "text/plain": [
       "Dev:   0%|          | 0/44 [00:00<?, ?it/s]"
      ]
     },
     "metadata": {},
     "output_type": "display_data"
    },
    {
     "name": "stdout",
     "output_type": "stream",
     "text": [
      "\tDone Epoch: 43/50\n",
      "\t\tLoss\t|\tTrain AVG: 0.2378, Dev AVG: 0.2272\n",
      "\t\tMetrics\t|\tTrain: wer=0.158, em=0.09014 ; Dev: wer=0.2179, em=0.1699\n"
     ]
    },
    {
     "data": {
      "application/vnd.jupyter.widget-view+json": {
       "model_id": "cf008856741340af8abbb5ad5091f2e8",
       "version_major": 2,
       "version_minor": 0
      },
      "text/plain": [
       "Train:   0%|          | 0/2290 [00:00<?, ?it/s]"
      ]
     },
     "metadata": {},
     "output_type": "display_data"
    },
    {
     "data": {
      "application/vnd.jupyter.widget-view+json": {
       "model_id": "4b90315f564f4a4f8e5ead7981679ae4",
       "version_major": 2,
       "version_minor": 0
      },
      "text/plain": [
       "Dev:   0%|          | 0/44 [00:00<?, ?it/s]"
      ]
     },
     "metadata": {},
     "output_type": "display_data"
    },
    {
     "name": "stdout",
     "output_type": "stream",
     "text": [
      "\tDone Epoch: 44/50\n",
      "\t\tLoss\t|\tTrain AVG: 0.236, Dev AVG: 0.2269\n",
      "\t\tMetrics\t|\tTrain: wer=0.1571, em=0.09098 ; Dev: wer=0.2181, em=0.1713\n"
     ]
    },
    {
     "data": {
      "application/vnd.jupyter.widget-view+json": {
       "model_id": "ae687e9647cd44f2bed1127aa001662d",
       "version_major": 2,
       "version_minor": 0
      },
      "text/plain": [
       "Train:   0%|          | 0/2290 [00:00<?, ?it/s]"
      ]
     },
     "metadata": {},
     "output_type": "display_data"
    },
    {
     "data": {
      "application/vnd.jupyter.widget-view+json": {
       "model_id": "1942ac9bd9674e8381c47f5d42c49f35",
       "version_major": 2,
       "version_minor": 0
      },
      "text/plain": [
       "Dev:   0%|          | 0/44 [00:00<?, ?it/s]"
      ]
     },
     "metadata": {},
     "output_type": "display_data"
    },
    {
     "name": "stdout",
     "output_type": "stream",
     "text": [
      "\tDone Epoch: 45/50\n",
      "\t\tLoss\t|\tTrain AVG: 0.2346, Dev AVG: 0.228\n",
      "\t\tMetrics\t|\tTrain: wer=0.1567, em=0.09065 ; Dev: wer=0.2187, em=0.1699\n"
     ]
    },
    {
     "data": {
      "application/vnd.jupyter.widget-view+json": {
       "model_id": "3f70a09e04194398a24e3b7529ea62c3",
       "version_major": 2,
       "version_minor": 0
      },
      "text/plain": [
       "Train:   0%|          | 0/2290 [00:00<?, ?it/s]"
      ]
     },
     "metadata": {},
     "output_type": "display_data"
    },
    {
     "data": {
      "application/vnd.jupyter.widget-view+json": {
       "model_id": "c875736adcc7426e9fcb994decd8ba1b",
       "version_major": 2,
       "version_minor": 0
      },
      "text/plain": [
       "Dev:   0%|          | 0/44 [00:00<?, ?it/s]"
      ]
     },
     "metadata": {},
     "output_type": "display_data"
    },
    {
     "name": "stdout",
     "output_type": "stream",
     "text": [
      "\tDone Epoch: 46/50\n",
      "\t\tLoss\t|\tTrain AVG: 0.233, Dev AVG: 0.2281\n",
      "\t\tMetrics\t|\tTrain: wer=0.1562, em=0.09233 ; Dev: wer=0.2178, em=0.1706\n"
     ]
    },
    {
     "data": {
      "application/vnd.jupyter.widget-view+json": {
       "model_id": "44db17b4675d44d0a1aae29a6582dfc2",
       "version_major": 2,
       "version_minor": 0
      },
      "text/plain": [
       "Train:   0%|          | 0/2290 [00:00<?, ?it/s]"
      ]
     },
     "metadata": {},
     "output_type": "display_data"
    },
    {
     "data": {
      "application/vnd.jupyter.widget-view+json": {
       "model_id": "0d3419e3abc64ae385611443f3c437d5",
       "version_major": 2,
       "version_minor": 0
      },
      "text/plain": [
       "Dev:   0%|          | 0/44 [00:00<?, ?it/s]"
      ]
     },
     "metadata": {},
     "output_type": "display_data"
    },
    {
     "name": "stdout",
     "output_type": "stream",
     "text": [
      "\tDone Epoch: 47/50\n",
      "\t\tLoss\t|\tTrain AVG: 0.2315, Dev AVG: 0.2273\n",
      "\t\tMetrics\t|\tTrain: wer=0.1556, em=0.0927 ; Dev: wer=0.2172, em=0.1735\n"
     ]
    },
    {
     "data": {
      "application/vnd.jupyter.widget-view+json": {
       "model_id": "d5634bbbffdf4c72b415618a9525e113",
       "version_major": 2,
       "version_minor": 0
      },
      "text/plain": [
       "Train:   0%|          | 0/2290 [00:00<?, ?it/s]"
      ]
     },
     "metadata": {},
     "output_type": "display_data"
    },
    {
     "data": {
      "application/vnd.jupyter.widget-view+json": {
       "model_id": "161e48631909433dab33aef73c3bcb8c",
       "version_major": 2,
       "version_minor": 0
      },
      "text/plain": [
       "Dev:   0%|          | 0/44 [00:00<?, ?it/s]"
      ]
     },
     "metadata": {},
     "output_type": "display_data"
    },
    {
     "name": "stdout",
     "output_type": "stream",
     "text": [
      "\tDone Epoch: 48/50\n",
      "\t\tLoss\t|\tTrain AVG: 0.2301, Dev AVG: 0.2282\n",
      "\t\tMetrics\t|\tTrain: wer=0.1552, em=0.09321 ; Dev: wer=0.2169, em=0.172\n"
     ]
    },
    {
     "data": {
      "application/vnd.jupyter.widget-view+json": {
       "model_id": "ebb91e2f8cb04d45835f9d143c81034c",
       "version_major": 2,
       "version_minor": 0
      },
      "text/plain": [
       "Train:   0%|          | 0/2290 [00:00<?, ?it/s]"
      ]
     },
     "metadata": {},
     "output_type": "display_data"
    },
    {
     "data": {
      "application/vnd.jupyter.widget-view+json": {
       "model_id": "2b17df58e04641d59865d0086ec2347d",
       "version_major": 2,
       "version_minor": 0
      },
      "text/plain": [
       "Dev:   0%|          | 0/44 [00:00<?, ?it/s]"
      ]
     },
     "metadata": {},
     "output_type": "display_data"
    },
    {
     "name": "stdout",
     "output_type": "stream",
     "text": [
      "\tDone Epoch: 49/50\n",
      "\t\tLoss\t|\tTrain AVG: 0.2285, Dev AVG: 0.2277\n",
      "\t\tMetrics\t|\tTrain: wer=0.1545, em=0.09378 ; Dev: wer=0.218, em=0.1727\n"
     ]
    },
    {
     "data": {
      "application/vnd.jupyter.widget-view+json": {
       "model_id": "5d6cf2e506f340f7beb7dc85c7bbf31f",
       "version_major": 2,
       "version_minor": 0
      },
      "text/plain": [
       "Train:   0%|          | 0/2290 [00:00<?, ?it/s]"
      ]
     },
     "metadata": {},
     "output_type": "display_data"
    },
    {
     "data": {
      "application/vnd.jupyter.widget-view+json": {
       "model_id": "b03f88eb81764452965a217844843d67",
       "version_major": 2,
       "version_minor": 0
      },
      "text/plain": [
       "Dev:   0%|          | 0/44 [00:00<?, ?it/s]"
      ]
     },
     "metadata": {},
     "output_type": "display_data"
    },
    {
     "name": "stdout",
     "output_type": "stream",
     "text": [
      "\tDone Epoch: 50/50\n",
      "\t\tLoss\t|\tTrain AVG: 0.2271, Dev AVG: 0.2277\n",
      "\t\tMetrics\t|\tTrain: wer=0.1539, em=0.09417 ; Dev: wer=0.218, em=0.1709\n",
      "\n",
      "Training finished!\n",
      "\n"
     ]
    }
   ],
   "source": [
    "assert debug==False, \"You are in debug mode, please change to False\"\n",
    "\n",
    "orig_other_model = RecACEWrapModel(t5_type=t5_type, model_type='original', bin_size=bin_size, use_pretrained=True).to(DEVICE)\n",
    "orig_other_optimizer = torch.optim.Adam(orig_other_model.parameters(), lr=1e-4)\n",
    "\n",
    "orig_other_model, orig_other_metrics_df = training(\n",
    "    model=orig_other_model,\n",
    "    n_epochs=50,\n",
    "    train_data=train_loader_other,\n",
    "    dev_data=dev_loader_other,\n",
    "    optimizer=orig_other_optimizer,\n",
    "    exp_name=f\"original_f5_Other\",\n",
    "    save_model=True)"
   ]
  },
  {
   "cell_type": "markdown",
   "id": "1f9d1da5",
   "metadata": {},
   "source": [
    "#### Analysis"
   ]
  },
  {
   "cell_type": "code",
   "execution_count": 21,
   "id": "7395b157",
   "metadata": {},
   "outputs": [
    {
     "data": {
      "image/png": "[encoded data removed]",
      "text/plain": [
       "<Figure size 1440x576 with 3 Axes>"
      ]
     },
     "metadata": {
      "needs_background": "light"
     },
     "output_type": "display_data"
    }
   ],
   "source": [
    "plot_graphs(orig_other_metrics_df, gt_df=asr_evaluators['Other'].metrics_df, fig_size=(20,8))"
   ]
  },
  {
   "cell_type": "markdown",
   "id": "4086a048",
   "metadata": {},
   "source": [
    "## Model T5 trained on prompt-engineered data (\"Clean\" dataset)"
   ]
  },
  {
   "cell_type": "markdown",
   "id": "85dda255",
   "metadata": {},
   "source": [
    "#### Data loader"
   ]
  },
  {
   "cell_type": "code",
   "execution_count": 13,
   "id": "81823d12",
   "metadata": {},
   "outputs": [
    {
     "name": "stdout",
     "output_type": "stream",
     "text": [
      "- Converting the input sentences into tokens\n",
      "- Converting the GT sentences into tokens\n",
      "- Converting the input sentences into tokens\n",
      "- Converting the GT sentences into tokens\n"
     ]
    }
   ],
   "source": [
    "# Clean data\n",
    "p_train_loader = prepare_data_for_prompt_engineering(data=train_set, tokenizer=tokenizer, batch_size=batch_size, shuffle=True, debug=debug)\n",
    "p_dev_loader = prepare_data_for_prompt_engineering(data=dev_set, tokenizer=tokenizer, batch_size=batch_size, shuffle=False)"
   ]
  },
  {
   "cell_type": "markdown",
   "id": "74cae47c",
   "metadata": {},
   "source": [
    "#### Training"
   ]
  },
  {
   "cell_type": "code",
   "execution_count": 14,
   "id": "d29623d4",
   "metadata": {},
   "outputs": [
    {
     "name": "stdout",
     "output_type": "stream",
     "text": [
      "Experiment name: original_t5_prompt_Clean\n",
      "Training model of type: original\n",
      "Confidence vectors are NOT IN USED\n",
      "Saving model to: ./results\\original_t5_prompt_Clean/2023-08-26_10-58-53\n"
     ]
    },
    {
     "data": {
      "application/vnd.jupyter.widget-view+json": {
       "model_id": "d73f1cfe2ae74d5eb53b10f47211a4cf",
       "version_major": 2,
       "version_minor": 0
      },
      "text/plain": [
       "  0%|          | 0/50 [00:00<?, ?it/s]"
      ]
     },
     "metadata": {},
     "output_type": "display_data"
    },
    {
     "data": {
      "application/vnd.jupyter.widget-view+json": {
       "model_id": "04fbf52070ed4e1699683d6240ed82dd",
       "version_major": 2,
       "version_minor": 0
      },
      "text/plain": [
       "Train:   0%|          | 0/1624 [00:00<?, ?it/s]"
      ]
     },
     "metadata": {},
     "output_type": "display_data"
    },
    {
     "data": {
      "application/vnd.jupyter.widget-view+json": {
       "model_id": "948d16b440e04bee9f69a86a7f9f96b0",
       "version_major": 2,
       "version_minor": 0
      },
      "text/plain": [
       "Dev:   0%|          | 0/43 [00:00<?, ?it/s]"
      ]
     },
     "metadata": {},
     "output_type": "display_data"
    },
    {
     "name": "stdout",
     "output_type": "stream",
     "text": [
      "\tDone Epoch: 1/50\n",
      "\t\tLoss\t|\tTrain AVG: 0.3455, Dev AVG: 0.1495\n",
      "\t\tMetrics\t|\tTrain: wer=0.1453, em=0.08122 ; Dev: wer=0.1392, em=0.2838\n"
     ]
    },
    {
     "data": {
      "application/vnd.jupyter.widget-view+json": {
       "model_id": "d0e7e81fee3b499fba9895e25f2de4f6",
       "version_major": 2,
       "version_minor": 0
      },
      "text/plain": [
       "Train:   0%|          | 0/1624 [00:00<?, ?it/s]"
      ]
     },
     "metadata": {},
     "output_type": "display_data"
    },
    {
     "data": {
      "application/vnd.jupyter.widget-view+json": {
       "model_id": "f9bbe1b9cc154718bcad440f752aa50e",
       "version_major": 2,
       "version_minor": 0
      },
      "text/plain": [
       "Dev:   0%|          | 0/43 [00:00<?, ?it/s]"
      ]
     },
     "metadata": {},
     "output_type": "display_data"
    },
    {
     "name": "stdout",
     "output_type": "stream",
     "text": [
      "\tDone Epoch: 2/50\n",
      "\t\tLoss\t|\tTrain AVG: 0.2755, Dev AVG: 0.1421\n",
      "\t\tMetrics\t|\tTrain: wer=0.1258, em=0.1049 ; Dev: wer=0.1341, em=0.294\n"
     ]
    },
    {
     "data": {
      "application/vnd.jupyter.widget-view+json": {
       "model_id": "c048dfdfb3e5427e9a137cff46089790",
       "version_major": 2,
       "version_minor": 0
      },
      "text/plain": [
       "Train:   0%|          | 0/1624 [00:00<?, ?it/s]"
      ]
     },
     "metadata": {},
     "output_type": "display_data"
    },
    {
     "data": {
      "application/vnd.jupyter.widget-view+json": {
       "model_id": "e4ea65ac72024f44bcfe7a544c3d448b",
       "version_major": 2,
       "version_minor": 0
      },
      "text/plain": [
       "Dev:   0%|          | 0/43 [00:00<?, ?it/s]"
      ]
     },
     "metadata": {},
     "output_type": "display_data"
    },
    {
     "name": "stdout",
     "output_type": "stream",
     "text": [
      "\tDone Epoch: 3/50\n",
      "\t\tLoss\t|\tTrain AVG: 0.2544, Dev AVG: 0.1157\n",
      "\t\tMetrics\t|\tTrain: wer=0.1197, em=0.1126 ; Dev: wer=0.1173, em=0.3293\n"
     ]
    },
    {
     "data": {
      "application/vnd.jupyter.widget-view+json": {
       "model_id": "ed891ea471e149ceb6732922dd74427d",
       "version_major": 2,
       "version_minor": 0
      },
      "text/plain": [
       "Train:   0%|          | 0/1624 [00:00<?, ?it/s]"
      ]
     },
     "metadata": {},
     "output_type": "display_data"
    },
    {
     "data": {
      "application/vnd.jupyter.widget-view+json": {
       "model_id": "3e2098b1037c463c9b4972385f4f702a",
       "version_major": 2,
       "version_minor": 0
      },
      "text/plain": [
       "Dev:   0%|          | 0/43 [00:00<?, ?it/s]"
      ]
     },
     "metadata": {},
     "output_type": "display_data"
    },
    {
     "name": "stdout",
     "output_type": "stream",
     "text": [
      "\tDone Epoch: 4/50\n",
      "\t\tLoss\t|\tTrain AVG: 0.24, Dev AVG: 0.1187\n",
      "\t\tMetrics\t|\tTrain: wer=0.1155, em=0.119 ; Dev: wer=0.1227, em=0.3231\n"
     ]
    },
    {
     "data": {
      "application/vnd.jupyter.widget-view+json": {
       "model_id": "0551230f78f24140b4c4c0bcb9be2c65",
       "version_major": 2,
       "version_minor": 0
      },
      "text/plain": [
       "Train:   0%|          | 0/1624 [00:00<?, ?it/s]"
      ]
     },
     "metadata": {},
     "output_type": "display_data"
    },
    {
     "data": {
      "application/vnd.jupyter.widget-view+json": {
       "model_id": "392a05c060d948f9bc1832f1ef067748",
       "version_major": 2,
       "version_minor": 0
      },
      "text/plain": [
       "Dev:   0%|          | 0/43 [00:00<?, ?it/s]"
      ]
     },
     "metadata": {},
     "output_type": "display_data"
    },
    {
     "name": "stdout",
     "output_type": "stream",
     "text": [
      "\tDone Epoch: 5/50\n",
      "\t\tLoss\t|\tTrain AVG: 0.2294, Dev AVG: 0.1221\n",
      "\t\tMetrics\t|\tTrain: wer=0.1123, em=0.1244 ; Dev: wer=0.1399, em=0.3078\n"
     ]
    },
    {
     "data": {
      "application/vnd.jupyter.widget-view+json": {
       "model_id": "2b7313d39f274063836f32f2c82ed167",
       "version_major": 2,
       "version_minor": 0
      },
      "text/plain": [
       "Train:   0%|          | 0/1624 [00:00<?, ?it/s]"
      ]
     },
     "metadata": {},
     "output_type": "display_data"
    },
    {
     "data": {
      "application/vnd.jupyter.widget-view+json": {
       "model_id": "75f2068b486649809aa97ed3c7aa6f63",
       "version_major": 2,
       "version_minor": 0
      },
      "text/plain": [
       "Dev:   0%|          | 0/43 [00:00<?, ?it/s]"
      ]
     },
     "metadata": {},
     "output_type": "display_data"
    },
    {
     "name": "stdout",
     "output_type": "stream",
     "text": [
      "\tDone Epoch: 6/50\n",
      "\t\tLoss\t|\tTrain AVG: 0.2206, Dev AVG: 0.1067\n",
      "\t\tMetrics\t|\tTrain: wer=0.11, em=0.1279 ; Dev: wer=0.1126, em=0.3405\n"
     ]
    },
    {
     "data": {
      "application/vnd.jupyter.widget-view+json": {
       "model_id": "7c47df6a1f214a6dafb41aae7693f02d",
       "version_major": 2,
       "version_minor": 0
      },
      "text/plain": [
       "Train:   0%|          | 0/1624 [00:00<?, ?it/s]"
      ]
     },
     "metadata": {},
     "output_type": "display_data"
    },
    {
     "data": {
      "application/vnd.jupyter.widget-view+json": {
       "model_id": "ea2874891f354fc4bc92818a6f5f0499",
       "version_major": 2,
       "version_minor": 0
      },
      "text/plain": [
       "Dev:   0%|          | 0/43 [00:00<?, ?it/s]"
      ]
     },
     "metadata": {},
     "output_type": "display_data"
    },
    {
     "name": "stdout",
     "output_type": "stream",
     "text": [
      "\tDone Epoch: 7/50\n",
      "\t\tLoss\t|\tTrain AVG: 0.2133, Dev AVG: 0.1087\n",
      "\t\tMetrics\t|\tTrain: wer=0.1078, em=0.1322 ; Dev: wer=0.1189, em=0.3383\n"
     ]
    },
    {
     "data": {
      "application/vnd.jupyter.widget-view+json": {
       "model_id": "a27c809c20e3402bb07f99407a5e8049",
       "version_major": 2,
       "version_minor": 0
      },
      "text/plain": [
       "Train:   0%|          | 0/1624 [00:00<?, ?it/s]"
      ]
     },
     "metadata": {},
     "output_type": "display_data"
    },
    {
     "data": {
      "application/vnd.jupyter.widget-view+json": {
       "model_id": "820ce55d29044744abd2db33e335c51b",
       "version_major": 2,
       "version_minor": 0
      },
      "text/plain": [
       "Dev:   0%|          | 0/43 [00:00<?, ?it/s]"
      ]
     },
     "metadata": {},
     "output_type": "display_data"
    },
    {
     "name": "stdout",
     "output_type": "stream",
     "text": [
      "\tDone Epoch: 8/50\n",
      "\t\tLoss\t|\tTrain AVG: 0.207, Dev AVG: 0.1375\n",
      "\t\tMetrics\t|\tTrain: wer=0.1059, em=0.1352 ; Dev: wer=0.1661, em=0.2955\n"
     ]
    },
    {
     "data": {
      "application/vnd.jupyter.widget-view+json": {
       "model_id": "9fba8b44f15f46f09f9615c1ee887cd5",
       "version_major": 2,
       "version_minor": 0
      },
      "text/plain": [
       "Train:   0%|          | 0/1624 [00:00<?, ?it/s]"
      ]
     },
     "metadata": {},
     "output_type": "display_data"
    },
    {
     "data": {
      "application/vnd.jupyter.widget-view+json": {
       "model_id": "0fa574a430544ff891d9fb6f5e1a853b",
       "version_major": 2,
       "version_minor": 0
      },
      "text/plain": [
       "Dev:   0%|          | 0/43 [00:00<?, ?it/s]"
      ]
     },
     "metadata": {},
     "output_type": "display_data"
    },
    {
     "name": "stdout",
     "output_type": "stream",
     "text": [
      "\tDone Epoch: 9/50\n",
      "\t\tLoss\t|\tTrain AVG: 0.2011, Dev AVG: 0.1312\n",
      "\t\tMetrics\t|\tTrain: wer=0.1042, em=0.1381 ; Dev: wer=0.1637, em=0.298\n"
     ]
    },
    {
     "data": {
      "application/vnd.jupyter.widget-view+json": {
       "model_id": "d6a575340576441ea02b4e9c588a5ef1",
       "version_major": 2,
       "version_minor": 0
      },
      "text/plain": [
       "Train:   0%|          | 0/1624 [00:00<?, ?it/s]"
      ]
     },
     "metadata": {},
     "output_type": "display_data"
    },
    {
     "data": {
      "application/vnd.jupyter.widget-view+json": {
       "model_id": "0150ec0fd90a47f990bf72cdbcdb7473",
       "version_major": 2,
       "version_minor": 0
      },
      "text/plain": [
       "Dev:   0%|          | 0/43 [00:00<?, ?it/s]"
      ]
     },
     "metadata": {},
     "output_type": "display_data"
    },
    {
     "name": "stdout",
     "output_type": "stream",
     "text": [
      "\tDone Epoch: 10/50\n",
      "\t\tLoss\t|\tTrain AVG: 0.1961, Dev AVG: 0.1445\n",
      "\t\tMetrics\t|\tTrain: wer=0.1027, em=0.1415 ; Dev: wer=0.1862, em=0.2871\n"
     ]
    },
    {
     "data": {
      "application/vnd.jupyter.widget-view+json": {
       "model_id": "a6d5a2a0807746bba39cfcf94688726d",
       "version_major": 2,
       "version_minor": 0
      },
      "text/plain": [
       "Train:   0%|          | 0/1624 [00:00<?, ?it/s]"
      ]
     },
     "metadata": {},
     "output_type": "display_data"
    },
    {
     "data": {
      "application/vnd.jupyter.widget-view+json": {
       "model_id": "043ca2c03e8a468e98932a6d5ed24cf7",
       "version_major": 2,
       "version_minor": 0
      },
      "text/plain": [
       "Dev:   0%|          | 0/43 [00:00<?, ?it/s]"
      ]
     },
     "metadata": {},
     "output_type": "display_data"
    },
    {
     "name": "stdout",
     "output_type": "stream",
     "text": [
      "\tDone Epoch: 11/50\n",
      "\t\tLoss\t|\tTrain AVG: 0.1915, Dev AVG: 0.1061\n",
      "\t\tMetrics\t|\tTrain: wer=0.1014, em=0.1434 ; Dev: wer=0.1261, em=0.342\n"
     ]
    },
    {
     "data": {
      "application/vnd.jupyter.widget-view+json": {
       "model_id": "75c3fbb6f9f646d8acc9e00d15edf37d",
       "version_major": 2,
       "version_minor": 0
      },
      "text/plain": [
       "Train:   0%|          | 0/1624 [00:00<?, ?it/s]"
      ]
     },
     "metadata": {},
     "output_type": "display_data"
    },
    {
     "data": {
      "application/vnd.jupyter.widget-view+json": {
       "model_id": "54b5704e2442447588af1188a6e95e93",
       "version_major": 2,
       "version_minor": 0
      },
      "text/plain": [
       "Dev:   0%|          | 0/43 [00:00<?, ?it/s]"
      ]
     },
     "metadata": {},
     "output_type": "display_data"
    },
    {
     "name": "stdout",
     "output_type": "stream",
     "text": [
      "\tDone Epoch: 12/50\n",
      "\t\tLoss\t|\tTrain AVG: 0.1872, Dev AVG: 0.13\n",
      "\t\tMetrics\t|\tTrain: wer=0.1002, em=0.1461 ; Dev: wer=0.1698, em=0.3016\n"
     ]
    },
    {
     "data": {
      "application/vnd.jupyter.widget-view+json": {
       "model_id": "6e285eb0d5dd4b52955831eb65bf4207",
       "version_major": 2,
       "version_minor": 0
      },
      "text/plain": [
       "Train:   0%|          | 0/1624 [00:00<?, ?it/s]"
      ]
     },
     "metadata": {},
     "output_type": "display_data"
    },
    {
     "data": {
      "application/vnd.jupyter.widget-view+json": {
       "model_id": "699c3fffeb5a42bfa99872f3f286ec1b",
       "version_major": 2,
       "version_minor": 0
      },
      "text/plain": [
       "Dev:   0%|          | 0/43 [00:00<?, ?it/s]"
      ]
     },
     "metadata": {},
     "output_type": "display_data"
    },
    {
     "name": "stdout",
     "output_type": "stream",
     "text": [
      "\tDone Epoch: 13/50\n",
      "\t\tLoss\t|\tTrain AVG: 0.1833, Dev AVG: 0.1383\n",
      "\t\tMetrics\t|\tTrain: wer=0.09905, em=0.1471 ; Dev: wer=0.1864, em=0.2863\n"
     ]
    },
    {
     "data": {
      "application/vnd.jupyter.widget-view+json": {
       "model_id": "c03dca7bf89b4d49bad888f72b1b58a7",
       "version_major": 2,
       "version_minor": 0
      },
      "text/plain": [
       "Train:   0%|          | 0/1624 [00:00<?, ?it/s]"
      ]
     },
     "metadata": {},
     "output_type": "display_data"
    },
    {
     "data": {
      "application/vnd.jupyter.widget-view+json": {
       "model_id": "27130b445bf145b6983c0e87e691dc06",
       "version_major": 2,
       "version_minor": 0
      },
      "text/plain": [
       "Dev:   0%|          | 0/43 [00:00<?, ?it/s]"
      ]
     },
     "metadata": {},
     "output_type": "display_data"
    },
    {
     "name": "stdout",
     "output_type": "stream",
     "text": [
      "\tDone Epoch: 14/50\n",
      "\t\tLoss\t|\tTrain AVG: 0.1797, Dev AVG: 0.1565\n",
      "\t\tMetrics\t|\tTrain: wer=0.09782, em=0.1496 ; Dev: wer=0.2104, em=0.2696\n"
     ]
    },
    {
     "data": {
      "application/vnd.jupyter.widget-view+json": {
       "model_id": "b50be782d60d4ee8bdfd12f56e514d85",
       "version_major": 2,
       "version_minor": 0
      },
      "text/plain": [
       "Train:   0%|          | 0/1624 [00:00<?, ?it/s]"
      ]
     },
     "metadata": {},
     "output_type": "display_data"
    },
    {
     "data": {
      "application/vnd.jupyter.widget-view+json": {
       "model_id": "2b0d2efcfe284e4c993aa77e150d1178",
       "version_major": 2,
       "version_minor": 0
      },
      "text/plain": [
       "Dev:   0%|          | 0/43 [00:00<?, ?it/s]"
      ]
     },
     "metadata": {},
     "output_type": "display_data"
    },
    {
     "name": "stdout",
     "output_type": "stream",
     "text": [
      "\tDone Epoch: 15/50\n",
      "\t\tLoss\t|\tTrain AVG: 0.1763, Dev AVG: 0.1344\n",
      "\t\tMetrics\t|\tTrain: wer=0.09681, em=0.1523 ; Dev: wer=0.1737, em=0.298\n"
     ]
    },
    {
     "data": {
      "application/vnd.jupyter.widget-view+json": {
       "model_id": "bb15c538a624434689c496680799c2b3",
       "version_major": 2,
       "version_minor": 0
      },
      "text/plain": [
       "Train:   0%|          | 0/1624 [00:00<?, ?it/s]"
      ]
     },
     "metadata": {},
     "output_type": "display_data"
    },
    {
     "data": {
      "application/vnd.jupyter.widget-view+json": {
       "model_id": "b40d78fde2ee440d98223c4e7a9bfba1",
       "version_major": 2,
       "version_minor": 0
      },
      "text/plain": [
       "Dev:   0%|          | 0/43 [00:00<?, ?it/s]"
      ]
     },
     "metadata": {},
     "output_type": "display_data"
    },
    {
     "name": "stdout",
     "output_type": "stream",
     "text": [
      "\tDone Epoch: 16/50\n",
      "\t\tLoss\t|\tTrain AVG: 0.173, Dev AVG: 0.138\n",
      "\t\tMetrics\t|\tTrain: wer=0.096, em=0.1545 ; Dev: wer=0.1902, em=0.2929\n"
     ]
    },
    {
     "data": {
      "application/vnd.jupyter.widget-view+json": {
       "model_id": "b98e7a70ce194b2b908baf5ff0b65970",
       "version_major": 2,
       "version_minor": 0
      },
      "text/plain": [
       "Train:   0%|          | 0/1624 [00:00<?, ?it/s]"
      ]
     },
     "metadata": {},
     "output_type": "display_data"
    },
    {
     "data": {
      "application/vnd.jupyter.widget-view+json": {
       "model_id": "282937e84c4f4ce2a9a94022251a4fa0",
       "version_major": 2,
       "version_minor": 0
      },
      "text/plain": [
       "Dev:   0%|          | 0/43 [00:00<?, ?it/s]"
      ]
     },
     "metadata": {},
     "output_type": "display_data"
    },
    {
     "name": "stdout",
     "output_type": "stream",
     "text": [
      "\tDone Epoch: 17/50\n",
      "\t\tLoss\t|\tTrain AVG: 0.17, Dev AVG: 0.1123\n",
      "\t\tMetrics\t|\tTrain: wer=0.09479, em=0.1558 ; Dev: wer=0.1426, em=0.3282\n"
     ]
    },
    {
     "data": {
      "application/vnd.jupyter.widget-view+json": {
       "model_id": "dcc0dc4f5cba47e381b6fb43fe44c6b6",
       "version_major": 2,
       "version_minor": 0
      },
      "text/plain": [
       "Train:   0%|          | 0/1624 [00:00<?, ?it/s]"
      ]
     },
     "metadata": {},
     "output_type": "display_data"
    },
    {
     "data": {
      "application/vnd.jupyter.widget-view+json": {
       "model_id": "39293531e7254c4faf56c26829ab27c1",
       "version_major": 2,
       "version_minor": 0
      },
      "text/plain": [
       "Dev:   0%|          | 0/43 [00:00<?, ?it/s]"
      ]
     },
     "metadata": {},
     "output_type": "display_data"
    },
    {
     "name": "stdout",
     "output_type": "stream",
     "text": [
      "\tDone Epoch: 18/50\n",
      "\t\tLoss\t|\tTrain AVG: 0.167, Dev AVG: 0.09682\n",
      "\t\tMetrics\t|\tTrain: wer=0.09389, em=0.1586 ; Dev: wer=0.116, em=0.3521\n"
     ]
    },
    {
     "data": {
      "application/vnd.jupyter.widget-view+json": {
       "model_id": "537ba8794bd9471b9e6255523a1f4a09",
       "version_major": 2,
       "version_minor": 0
      },
      "text/plain": [
       "Train:   0%|          | 0/1624 [00:00<?, ?it/s]"
      ]
     },
     "metadata": {},
     "output_type": "display_data"
    },
    {
     "data": {
      "application/vnd.jupyter.widget-view+json": {
       "model_id": "8a23ebc3eb314eedaa23380fa6309cee",
       "version_major": 2,
       "version_minor": 0
      },
      "text/plain": [
       "Dev:   0%|          | 0/43 [00:00<?, ?it/s]"
      ]
     },
     "metadata": {},
     "output_type": "display_data"
    },
    {
     "name": "stdout",
     "output_type": "stream",
     "text": [
      "\tDone Epoch: 19/50\n",
      "\t\tLoss\t|\tTrain AVG: 0.1643, Dev AVG: 0.0962\n",
      "\t\tMetrics\t|\tTrain: wer=0.09294, em=0.1602 ; Dev: wer=0.112, em=0.3587\n"
     ]
    },
    {
     "data": {
      "application/vnd.jupyter.widget-view+json": {
       "model_id": "a56cda0775df463c94e7cfbcc6204c5b",
       "version_major": 2,
       "version_minor": 0
      },
      "text/plain": [
       "Train:   0%|          | 0/1624 [00:00<?, ?it/s]"
      ]
     },
     "metadata": {},
     "output_type": "display_data"
    },
    {
     "data": {
      "application/vnd.jupyter.widget-view+json": {
       "model_id": "e7b75d2f97da40308766e62a16e365d6",
       "version_major": 2,
       "version_minor": 0
      },
      "text/plain": [
       "Dev:   0%|          | 0/43 [00:00<?, ?it/s]"
      ]
     },
     "metadata": {},
     "output_type": "display_data"
    },
    {
     "name": "stdout",
     "output_type": "stream",
     "text": [
      "\tDone Epoch: 20/50\n",
      "\t\tLoss\t|\tTrain AVG: 0.1616, Dev AVG: 0.1038\n",
      "\t\tMetrics\t|\tTrain: wer=0.09232, em=0.1619 ; Dev: wer=0.1281, em=0.3423\n"
     ]
    },
    {
     "data": {
      "application/vnd.jupyter.widget-view+json": {
       "model_id": "00f2a547cf6e4acba55c4c2368e6c765",
       "version_major": 2,
       "version_minor": 0
      },
      "text/plain": [
       "Train:   0%|          | 0/1624 [00:00<?, ?it/s]"
      ]
     },
     "metadata": {},
     "output_type": "display_data"
    },
    {
     "data": {
      "application/vnd.jupyter.widget-view+json": {
       "model_id": "6a5a7c2cf2bf457ab7e73b3472bff0c6",
       "version_major": 2,
       "version_minor": 0
      },
      "text/plain": [
       "Dev:   0%|          | 0/43 [00:00<?, ?it/s]"
      ]
     },
     "metadata": {},
     "output_type": "display_data"
    },
    {
     "name": "stdout",
     "output_type": "stream",
     "text": [
      "\tDone Epoch: 21/50\n",
      "\t\tLoss\t|\tTrain AVG: 0.1592, Dev AVG: 0.1015\n",
      "\t\tMetrics\t|\tTrain: wer=0.09145, em=0.1646 ; Dev: wer=0.1274, em=0.3467\n"
     ]
    },
    {
     "data": {
      "application/vnd.jupyter.widget-view+json": {
       "model_id": "2d60bc555ba14dce85be69984ad92291",
       "version_major": 2,
       "version_minor": 0
      },
      "text/plain": [
       "Train:   0%|          | 0/1624 [00:00<?, ?it/s]"
      ]
     },
     "metadata": {},
     "output_type": "display_data"
    },
    {
     "data": {
      "application/vnd.jupyter.widget-view+json": {
       "model_id": "8e7b141bd4d64061b38bb1d47f07d006",
       "version_major": 2,
       "version_minor": 0
      },
      "text/plain": [
       "Dev:   0%|          | 0/43 [00:00<?, ?it/s]"
      ]
     },
     "metadata": {},
     "output_type": "display_data"
    },
    {
     "name": "stdout",
     "output_type": "stream",
     "text": [
      "\tDone Epoch: 22/50\n",
      "\t\tLoss\t|\tTrain AVG: 0.1567, Dev AVG: 0.1008\n",
      "\t\tMetrics\t|\tTrain: wer=0.09084, em=0.1656 ; Dev: wer=0.1242, em=0.3485\n"
     ]
    },
    {
     "data": {
      "application/vnd.jupyter.widget-view+json": {
       "model_id": "fb65dbf7cd924988bde705ae107af300",
       "version_major": 2,
       "version_minor": 0
      },
      "text/plain": [
       "Train:   0%|          | 0/1624 [00:00<?, ?it/s]"
      ]
     },
     "metadata": {},
     "output_type": "display_data"
    },
    {
     "data": {
      "application/vnd.jupyter.widget-view+json": {
       "model_id": "fc3433d5f2e14d36ae4f5ae445105006",
       "version_major": 2,
       "version_minor": 0
      },
      "text/plain": [
       "Dev:   0%|          | 0/43 [00:00<?, ?it/s]"
      ]
     },
     "metadata": {},
     "output_type": "display_data"
    },
    {
     "name": "stdout",
     "output_type": "stream",
     "text": [
      "\tDone Epoch: 23/50\n",
      "\t\tLoss\t|\tTrain AVG: 0.1544, Dev AVG: 0.1487\n",
      "\t\tMetrics\t|\tTrain: wer=0.08993, em=0.167 ; Dev: wer=0.2197, em=0.2751\n"
     ]
    },
    {
     "data": {
      "application/vnd.jupyter.widget-view+json": {
       "model_id": "2231f6dae6784d1a99596ef0bbe7655d",
       "version_major": 2,
       "version_minor": 0
      },
      "text/plain": [
       "Train:   0%|          | 0/1624 [00:00<?, ?it/s]"
      ]
     },
     "metadata": {},
     "output_type": "display_data"
    },
    {
     "data": {
      "application/vnd.jupyter.widget-view+json": {
       "model_id": "5232fdce83af48738c8e3eb8292614de",
       "version_major": 2,
       "version_minor": 0
      },
      "text/plain": [
       "Dev:   0%|          | 0/43 [00:00<?, ?it/s]"
      ]
     },
     "metadata": {},
     "output_type": "display_data"
    },
    {
     "name": "stdout",
     "output_type": "stream",
     "text": [
      "\tDone Epoch: 24/50\n",
      "\t\tLoss\t|\tTrain AVG: 0.1523, Dev AVG: 0.1235\n",
      "\t\tMetrics\t|\tTrain: wer=0.08936, em=0.169 ; Dev: wer=0.1737, em=0.3074\n"
     ]
    },
    {
     "data": {
      "application/vnd.jupyter.widget-view+json": {
       "model_id": "6607982e5a6f49b8a825310e9b9120ec",
       "version_major": 2,
       "version_minor": 0
      },
      "text/plain": [
       "Train:   0%|          | 0/1624 [00:00<?, ?it/s]"
      ]
     },
     "metadata": {},
     "output_type": "display_data"
    },
    {
     "data": {
      "application/vnd.jupyter.widget-view+json": {
       "model_id": "1f01f04b492d47dfafcbc50bb5372a27",
       "version_major": 2,
       "version_minor": 0
      },
      "text/plain": [
       "Dev:   0%|          | 0/43 [00:00<?, ?it/s]"
      ]
     },
     "metadata": {},
     "output_type": "display_data"
    },
    {
     "name": "stdout",
     "output_type": "stream",
     "text": [
      "\tDone Epoch: 25/50\n",
      "\t\tLoss\t|\tTrain AVG: 0.1498, Dev AVG: 0.1208\n",
      "\t\tMetrics\t|\tTrain: wer=0.08828, em=0.172 ; Dev: wer=0.1744, em=0.3034\n"
     ]
    },
    {
     "data": {
      "application/vnd.jupyter.widget-view+json": {
       "model_id": "970759bc97c94de88647b7ae324647b3",
       "version_major": 2,
       "version_minor": 0
      },
      "text/plain": [
       "Train:   0%|          | 0/1624 [00:00<?, ?it/s]"
      ]
     },
     "metadata": {},
     "output_type": "display_data"
    },
    {
     "data": {
      "application/vnd.jupyter.widget-view+json": {
       "model_id": "ba61f1d6fa79480facd2f69900e98254",
       "version_major": 2,
       "version_minor": 0
      },
      "text/plain": [
       "Dev:   0%|          | 0/43 [00:00<?, ?it/s]"
      ]
     },
     "metadata": {},
     "output_type": "display_data"
    },
    {
     "name": "stdout",
     "output_type": "stream",
     "text": [
      "\tDone Epoch: 26/50\n",
      "\t\tLoss\t|\tTrain AVG: 0.1478, Dev AVG: 0.1326\n",
      "\t\tMetrics\t|\tTrain: wer=0.08787, em=0.1731 ; Dev: wer=0.1889, em=0.2885\n"
     ]
    },
    {
     "data": {
      "application/vnd.jupyter.widget-view+json": {
       "model_id": "942dd7fcdf614f5ea6a112f55fc368af",
       "version_major": 2,
       "version_minor": 0
      },
      "text/plain": [
       "Train:   0%|          | 0/1624 [00:00<?, ?it/s]"
      ]
     },
     "metadata": {},
     "output_type": "display_data"
    },
    {
     "data": {
      "application/vnd.jupyter.widget-view+json": {
       "model_id": "74fc2d76d1f8403c9006a430ce217354",
       "version_major": 2,
       "version_minor": 0
      },
      "text/plain": [
       "Dev:   0%|          | 0/43 [00:00<?, ?it/s]"
      ]
     },
     "metadata": {},
     "output_type": "display_data"
    },
    {
     "name": "stdout",
     "output_type": "stream",
     "text": [
      "\tDone Epoch: 27/50\n",
      "\t\tLoss\t|\tTrain AVG: 0.146, Dev AVG: 0.1895\n",
      "\t\tMetrics\t|\tTrain: wer=0.0871, em=0.1751 ; Dev: wer=0.2697, em=0.2315\n"
     ]
    },
    {
     "data": {
      "application/vnd.jupyter.widget-view+json": {
       "model_id": "f9e62a82157a423bbed9d48ef4a271bf",
       "version_major": 2,
       "version_minor": 0
      },
      "text/plain": [
       "Train:   0%|          | 0/1624 [00:00<?, ?it/s]"
      ]
     },
     "metadata": {},
     "output_type": "display_data"
    },
    {
     "data": {
      "application/vnd.jupyter.widget-view+json": {
       "model_id": "a55f1ab2a6ba4f8e96d615400ce4e80e",
       "version_major": 2,
       "version_minor": 0
      },
      "text/plain": [
       "Dev:   0%|          | 0/43 [00:00<?, ?it/s]"
      ]
     },
     "metadata": {},
     "output_type": "display_data"
    },
    {
     "name": "stdout",
     "output_type": "stream",
     "text": [
      "\tDone Epoch: 28/50\n",
      "\t\tLoss\t|\tTrain AVG: 0.144, Dev AVG: 0.1059\n",
      "\t\tMetrics\t|\tTrain: wer=0.08648, em=0.176 ; Dev: wer=0.1423, em=0.3361\n"
     ]
    },
    {
     "data": {
      "application/vnd.jupyter.widget-view+json": {
       "model_id": "ffc1cf6c290d4cc6aad260d4f39f6cca",
       "version_major": 2,
       "version_minor": 0
      },
      "text/plain": [
       "Train:   0%|          | 0/1624 [00:00<?, ?it/s]"
      ]
     },
     "metadata": {},
     "output_type": "display_data"
    },
    {
     "data": {
      "application/vnd.jupyter.widget-view+json": {
       "model_id": "9fd6f469bee14958ade5c2f68bfcee9b",
       "version_major": 2,
       "version_minor": 0
      },
      "text/plain": [
       "Dev:   0%|          | 0/43 [00:00<?, ?it/s]"
      ]
     },
     "metadata": {},
     "output_type": "display_data"
    },
    {
     "name": "stdout",
     "output_type": "stream",
     "text": [
      "\tDone Epoch: 29/50\n",
      "\t\tLoss\t|\tTrain AVG: 0.1422, Dev AVG: 0.1768\n",
      "\t\tMetrics\t|\tTrain: wer=0.0859, em=0.1785 ; Dev: wer=0.2581, em=0.2445\n"
     ]
    },
    {
     "data": {
      "application/vnd.jupyter.widget-view+json": {
       "model_id": "75e8890d6bff46e18872c656219ffd86",
       "version_major": 2,
       "version_minor": 0
      },
      "text/plain": [
       "Train:   0%|          | 0/1624 [00:00<?, ?it/s]"
      ]
     },
     "metadata": {},
     "output_type": "display_data"
    },
    {
     "data": {
      "application/vnd.jupyter.widget-view+json": {
       "model_id": "ca1de1f7b29444f6a503814029221758",
       "version_major": 2,
       "version_minor": 0
      },
      "text/plain": [
       "Dev:   0%|          | 0/43 [00:00<?, ?it/s]"
      ]
     },
     "metadata": {},
     "output_type": "display_data"
    },
    {
     "name": "stdout",
     "output_type": "stream",
     "text": [
      "\tDone Epoch: 30/50\n",
      "\t\tLoss\t|\tTrain AVG: 0.1403, Dev AVG: 0.1172\n",
      "\t\tMetrics\t|\tTrain: wer=0.08527, em=0.1787 ; Dev: wer=0.1649, em=0.3118\n"
     ]
    },
    {
     "data": {
      "application/vnd.jupyter.widget-view+json": {
       "model_id": "a46edba240064dbeb9ff1b1b573d1919",
       "version_major": 2,
       "version_minor": 0
      },
      "text/plain": [
       "Train:   0%|          | 0/1624 [00:00<?, ?it/s]"
      ]
     },
     "metadata": {},
     "output_type": "display_data"
    },
    {
     "data": {
      "application/vnd.jupyter.widget-view+json": {
       "model_id": "b783b89ca6e449689f9854161e49d95a",
       "version_major": 2,
       "version_minor": 0
      },
      "text/plain": [
       "Dev:   0%|          | 0/43 [00:00<?, ?it/s]"
      ]
     },
     "metadata": {},
     "output_type": "display_data"
    },
    {
     "name": "stdout",
     "output_type": "stream",
     "text": [
      "\tDone Epoch: 31/50\n",
      "\t\tLoss\t|\tTrain AVG: 0.1384, Dev AVG: 0.1054\n",
      "\t\tMetrics\t|\tTrain: wer=0.08455, em=0.1816 ; Dev: wer=0.1466, em=0.3325\n"
     ]
    },
    {
     "data": {
      "application/vnd.jupyter.widget-view+json": {
       "model_id": "5ea12b55b20f43ea8428cc1308844ed5",
       "version_major": 2,
       "version_minor": 0
      },
      "text/plain": [
       "Train:   0%|          | 0/1624 [00:00<?, ?it/s]"
      ]
     },
     "metadata": {},
     "output_type": "display_data"
    },
    {
     "data": {
      "application/vnd.jupyter.widget-view+json": {
       "model_id": "77ddd2f8d1ff40c2913b14aa209a6e82",
       "version_major": 2,
       "version_minor": 0
      },
      "text/plain": [
       "Dev:   0%|          | 0/43 [00:00<?, ?it/s]"
      ]
     },
     "metadata": {},
     "output_type": "display_data"
    },
    {
     "name": "stdout",
     "output_type": "stream",
     "text": [
      "\tDone Epoch: 32/50\n",
      "\t\tLoss\t|\tTrain AVG: 0.1366, Dev AVG: 0.1118\n",
      "\t\tMetrics\t|\tTrain: wer=0.08409, em=0.1833 ; Dev: wer=0.163, em=0.3201\n"
     ]
    },
    {
     "data": {
      "application/vnd.jupyter.widget-view+json": {
       "model_id": "47f0f0982aa2453cb6de96d8f6bf98f1",
       "version_major": 2,
       "version_minor": 0
      },
      "text/plain": [
       "Train:   0%|          | 0/1624 [00:00<?, ?it/s]"
      ]
     },
     "metadata": {},
     "output_type": "display_data"
    },
    {
     "data": {
      "application/vnd.jupyter.widget-view+json": {
       "model_id": "06e828f3435247fab79b320bca4e5691",
       "version_major": 2,
       "version_minor": 0
      },
      "text/plain": [
       "Dev:   0%|          | 0/43 [00:00<?, ?it/s]"
      ]
     },
     "metadata": {},
     "output_type": "display_data"
    },
    {
     "name": "stdout",
     "output_type": "stream",
     "text": [
      "\tDone Epoch: 33/50\n",
      "\t\tLoss\t|\tTrain AVG: 0.1352, Dev AVG: 0.1294\n",
      "\t\tMetrics\t|\tTrain: wer=0.08355, em=0.1859 ; Dev: wer=0.1923, em=0.2947\n"
     ]
    },
    {
     "data": {
      "application/vnd.jupyter.widget-view+json": {
       "model_id": "b666fbb0248e4b0c8bfc55ad6165f95a",
       "version_major": 2,
       "version_minor": 0
      },
      "text/plain": [
       "Train:   0%|          | 0/1624 [00:00<?, ?it/s]"
      ]
     },
     "metadata": {},
     "output_type": "display_data"
    },
    {
     "data": {
      "application/vnd.jupyter.widget-view+json": {
       "model_id": "651c5e120be341c48711f92d6be2abe8",
       "version_major": 2,
       "version_minor": 0
      },
      "text/plain": [
       "Dev:   0%|          | 0/43 [00:00<?, ?it/s]"
      ]
     },
     "metadata": {},
     "output_type": "display_data"
    },
    {
     "name": "stdout",
     "output_type": "stream",
     "text": [
      "\tDone Epoch: 34/50\n",
      "\t\tLoss\t|\tTrain AVG: 0.1336, Dev AVG: 0.1456\n",
      "\t\tMetrics\t|\tTrain: wer=0.08304, em=0.1857 ; Dev: wer=0.2137, em=0.2747\n"
     ]
    },
    {
     "data": {
      "application/vnd.jupyter.widget-view+json": {
       "model_id": "a8e36f69bf1342359b226812852cf279",
       "version_major": 2,
       "version_minor": 0
      },
      "text/plain": [
       "Train:   0%|          | 0/1624 [00:00<?, ?it/s]"
      ]
     },
     "metadata": {},
     "output_type": "display_data"
    },
    {
     "data": {
      "application/vnd.jupyter.widget-view+json": {
       "model_id": "fc6f1d0cdc2541e1a7e51eb974104ee9",
       "version_major": 2,
       "version_minor": 0
      },
      "text/plain": [
       "Dev:   0%|          | 0/43 [00:00<?, ?it/s]"
      ]
     },
     "metadata": {},
     "output_type": "display_data"
    },
    {
     "name": "stdout",
     "output_type": "stream",
     "text": [
      "\tDone Epoch: 35/50\n",
      "\t\tLoss\t|\tTrain AVG: 0.1318, Dev AVG: 0.1155\n",
      "\t\tMetrics\t|\tTrain: wer=0.08221, em=0.1872 ; Dev: wer=0.1653, em=0.3154\n"
     ]
    },
    {
     "data": {
      "application/vnd.jupyter.widget-view+json": {
       "model_id": "679d5508e63142bd90811cf918bf0e1e",
       "version_major": 2,
       "version_minor": 0
      },
      "text/plain": [
       "Train:   0%|          | 0/1624 [00:00<?, ?it/s]"
      ]
     },
     "metadata": {},
     "output_type": "display_data"
    },
    {
     "data": {
      "application/vnd.jupyter.widget-view+json": {
       "model_id": "c3f2f480b66b4f33b06459d65ae8e8d1",
       "version_major": 2,
       "version_minor": 0
      },
      "text/plain": [
       "Dev:   0%|          | 0/43 [00:00<?, ?it/s]"
      ]
     },
     "metadata": {},
     "output_type": "display_data"
    },
    {
     "name": "stdout",
     "output_type": "stream",
     "text": [
      "\tDone Epoch: 36/50\n",
      "\t\tLoss\t|\tTrain AVG: 0.1303, Dev AVG: 0.1161\n",
      "\t\tMetrics\t|\tTrain: wer=0.08186, em=0.1884 ; Dev: wer=0.1665, em=0.3201\n"
     ]
    },
    {
     "data": {
      "application/vnd.jupyter.widget-view+json": {
       "model_id": "bdc0fba328da4b7caaa78c710a2754b7",
       "version_major": 2,
       "version_minor": 0
      },
      "text/plain": [
       "Train:   0%|          | 0/1624 [00:00<?, ?it/s]"
      ]
     },
     "metadata": {},
     "output_type": "display_data"
    },
    {
     "data": {
      "application/vnd.jupyter.widget-view+json": {
       "model_id": "4b71a161b23a4460a3c3e87a09f46508",
       "version_major": 2,
       "version_minor": 0
      },
      "text/plain": [
       "Dev:   0%|          | 0/43 [00:00<?, ?it/s]"
      ]
     },
     "metadata": {},
     "output_type": "display_data"
    },
    {
     "name": "stdout",
     "output_type": "stream",
     "text": [
      "\tDone Epoch: 37/50\n",
      "\t\tLoss\t|\tTrain AVG: 0.1286, Dev AVG: 0.1361\n",
      "\t\tMetrics\t|\tTrain: wer=0.0812, em=0.1903 ; Dev: wer=0.1999, em=0.2892\n"
     ]
    },
    {
     "data": {
      "application/vnd.jupyter.widget-view+json": {
       "model_id": "9434879fcc984d4b8bd873616e55b859",
       "version_major": 2,
       "version_minor": 0
      },
      "text/plain": [
       "Train:   0%|          | 0/1624 [00:00<?, ?it/s]"
      ]
     },
     "metadata": {},
     "output_type": "display_data"
    },
    {
     "data": {
      "application/vnd.jupyter.widget-view+json": {
       "model_id": "c1e19707c9924faa9494b79f37c24089",
       "version_major": 2,
       "version_minor": 0
      },
      "text/plain": [
       "Dev:   0%|          | 0/43 [00:00<?, ?it/s]"
      ]
     },
     "metadata": {},
     "output_type": "display_data"
    },
    {
     "name": "stdout",
     "output_type": "stream",
     "text": [
      "\tDone Epoch: 38/50\n",
      "\t\tLoss\t|\tTrain AVG: 0.1273, Dev AVG: 0.1069\n",
      "\t\tMetrics\t|\tTrain: wer=0.08072, em=0.1923 ; Dev: wer=0.1474, em=0.3358\n"
     ]
    },
    {
     "data": {
      "application/vnd.jupyter.widget-view+json": {
       "model_id": "1c2e4f87fd234d8bb30468fa28e558a4",
       "version_major": 2,
       "version_minor": 0
      },
      "text/plain": [
       "Train:   0%|          | 0/1624 [00:00<?, ?it/s]"
      ]
     },
     "metadata": {},
     "output_type": "display_data"
    },
    {
     "data": {
      "application/vnd.jupyter.widget-view+json": {
       "model_id": "3572b0f90b744cbc963ca90a992b87ad",
       "version_major": 2,
       "version_minor": 0
      },
      "text/plain": [
       "Dev:   0%|          | 0/43 [00:00<?, ?it/s]"
      ]
     },
     "metadata": {},
     "output_type": "display_data"
    },
    {
     "name": "stdout",
     "output_type": "stream",
     "text": [
      "\tDone Epoch: 39/50\n",
      "\t\tLoss\t|\tTrain AVG: 0.1258, Dev AVG: 0.1222\n",
      "\t\tMetrics\t|\tTrain: wer=0.08026, em=0.1935 ; Dev: wer=0.1835, em=0.3049\n"
     ]
    },
    {
     "data": {
      "application/vnd.jupyter.widget-view+json": {
       "model_id": "90c9fbf06c4d48aeba1fa21e5a8fb108",
       "version_major": 2,
       "version_minor": 0
      },
      "text/plain": [
       "Train:   0%|          | 0/1624 [00:00<?, ?it/s]"
      ]
     },
     "metadata": {},
     "output_type": "display_data"
    },
    {
     "data": {
      "application/vnd.jupyter.widget-view+json": {
       "model_id": "3b44ad27ebe542d59f9dfd3ab0553cdc",
       "version_major": 2,
       "version_minor": 0
      },
      "text/plain": [
       "Dev:   0%|          | 0/43 [00:00<?, ?it/s]"
      ]
     },
     "metadata": {},
     "output_type": "display_data"
    },
    {
     "name": "stdout",
     "output_type": "stream",
     "text": [
      "\tDone Epoch: 40/50\n",
      "\t\tLoss\t|\tTrain AVG: 0.1243, Dev AVG: 0.1562\n",
      "\t\tMetrics\t|\tTrain: wer=0.07971, em=0.1958 ; Dev: wer=0.2334, em=0.2616\n"
     ]
    },
    {
     "data": {
      "application/vnd.jupyter.widget-view+json": {
       "model_id": "03280aa3deb34d26987b35a44e60ed44",
       "version_major": 2,
       "version_minor": 0
      },
      "text/plain": [
       "Train:   0%|          | 0/1624 [00:00<?, ?it/s]"
      ]
     },
     "metadata": {},
     "output_type": "display_data"
    },
    {
     "data": {
      "application/vnd.jupyter.widget-view+json": {
       "model_id": "d5e08871d39f478e9a29819aa5d490ed",
       "version_major": 2,
       "version_minor": 0
      },
      "text/plain": [
       "Dev:   0%|          | 0/43 [00:00<?, ?it/s]"
      ]
     },
     "metadata": {},
     "output_type": "display_data"
    },
    {
     "name": "stdout",
     "output_type": "stream",
     "text": [
      "\tDone Epoch: 41/50\n",
      "\t\tLoss\t|\tTrain AVG: 0.1231, Dev AVG: 0.1194\n",
      "\t\tMetrics\t|\tTrain: wer=0.07917, em=0.1967 ; Dev: wer=0.1734, em=0.3161\n"
     ]
    },
    {
     "data": {
      "application/vnd.jupyter.widget-view+json": {
       "model_id": "1be0a6838fa74c6f8c80569d76aa48f2",
       "version_major": 2,
       "version_minor": 0
      },
      "text/plain": [
       "Train:   0%|          | 0/1624 [00:00<?, ?it/s]"
      ]
     },
     "metadata": {},
     "output_type": "display_data"
    },
    {
     "data": {
      "application/vnd.jupyter.widget-view+json": {
       "model_id": "aa5c96837da64e3b8cdfe33dd4c765e5",
       "version_major": 2,
       "version_minor": 0
      },
      "text/plain": [
       "Dev:   0%|          | 0/43 [00:00<?, ?it/s]"
      ]
     },
     "metadata": {},
     "output_type": "display_data"
    },
    {
     "name": "stdout",
     "output_type": "stream",
     "text": [
      "\tDone Epoch: 42/50\n",
      "\t\tLoss\t|\tTrain AVG: 0.1217, Dev AVG: 0.1494\n",
      "\t\tMetrics\t|\tTrain: wer=0.07877, em=0.1979 ; Dev: wer=0.2192, em=0.2743\n"
     ]
    },
    {
     "data": {
      "application/vnd.jupyter.widget-view+json": {
       "model_id": "a9349e04e4564234923d751da23c2538",
       "version_major": 2,
       "version_minor": 0
      },
      "text/plain": [
       "Train:   0%|          | 0/1624 [00:00<?, ?it/s]"
      ]
     },
     "metadata": {},
     "output_type": "display_data"
    },
    {
     "data": {
      "application/vnd.jupyter.widget-view+json": {
       "model_id": "5b498f4585cb431393a3b0d9dc6b4afe",
       "version_major": 2,
       "version_minor": 0
      },
      "text/plain": [
       "Dev:   0%|          | 0/43 [00:00<?, ?it/s]"
      ]
     },
     "metadata": {},
     "output_type": "display_data"
    },
    {
     "name": "stdout",
     "output_type": "stream",
     "text": [
      "\tDone Epoch: 43/50\n",
      "\t\tLoss\t|\tTrain AVG: 0.1203, Dev AVG: 0.1364\n",
      "\t\tMetrics\t|\tTrain: wer=0.07821, em=0.1989 ; Dev: wer=0.201, em=0.2943\n"
     ]
    },
    {
     "data": {
      "application/vnd.jupyter.widget-view+json": {
       "model_id": "aa27cadc071042119ab6009257839b05",
       "version_major": 2,
       "version_minor": 0
      },
      "text/plain": [
       "Train:   0%|          | 0/1624 [00:00<?, ?it/s]"
      ]
     },
     "metadata": {},
     "output_type": "display_data"
    },
    {
     "data": {
      "application/vnd.jupyter.widget-view+json": {
       "model_id": "746d805450274da48ad4f1fb03258234",
       "version_major": 2,
       "version_minor": 0
      },
      "text/plain": [
       "Dev:   0%|          | 0/43 [00:00<?, ?it/s]"
      ]
     },
     "metadata": {},
     "output_type": "display_data"
    },
    {
     "name": "stdout",
     "output_type": "stream",
     "text": [
      "\tDone Epoch: 44/50\n",
      "\t\tLoss\t|\tTrain AVG: 0.119, Dev AVG: 0.1305\n",
      "\t\tMetrics\t|\tTrain: wer=0.07786, em=0.202 ; Dev: wer=0.1917, em=0.298\n"
     ]
    },
    {
     "data": {
      "application/vnd.jupyter.widget-view+json": {
       "model_id": "ec6aab24ccc144df9f306d0dba6aed08",
       "version_major": 2,
       "version_minor": 0
      },
      "text/plain": [
       "Train:   0%|          | 0/1624 [00:00<?, ?it/s]"
      ]
     },
     "metadata": {},
     "output_type": "display_data"
    },
    {
     "data": {
      "application/vnd.jupyter.widget-view+json": {
       "model_id": "2e823137f77648b2abce044dab62a4af",
       "version_major": 2,
       "version_minor": 0
      },
      "text/plain": [
       "Dev:   0%|          | 0/43 [00:00<?, ?it/s]"
      ]
     },
     "metadata": {},
     "output_type": "display_data"
    },
    {
     "name": "stdout",
     "output_type": "stream",
     "text": [
      "\tDone Epoch: 45/50\n",
      "\t\tLoss\t|\tTrain AVG: 0.1177, Dev AVG: 0.1126\n",
      "\t\tMetrics\t|\tTrain: wer=0.07724, em=0.2027 ; Dev: wer=0.1578, em=0.3285\n"
     ]
    },
    {
     "data": {
      "application/vnd.jupyter.widget-view+json": {
       "model_id": "64891911c3f046c99e89c06c3ef7d4c5",
       "version_major": 2,
       "version_minor": 0
      },
      "text/plain": [
       "Train:   0%|          | 0/1624 [00:00<?, ?it/s]"
      ]
     },
     "metadata": {},
     "output_type": "display_data"
    },
    {
     "data": {
      "application/vnd.jupyter.widget-view+json": {
       "model_id": "677fbb09c9a14068a2f048456bc46291",
       "version_major": 2,
       "version_minor": 0
      },
      "text/plain": [
       "Dev:   0%|          | 0/43 [00:00<?, ?it/s]"
      ]
     },
     "metadata": {},
     "output_type": "display_data"
    },
    {
     "name": "stdout",
     "output_type": "stream",
     "text": [
      "\tDone Epoch: 46/50\n",
      "\t\tLoss\t|\tTrain AVG: 0.1164, Dev AVG: 0.1235\n",
      "\t\tMetrics\t|\tTrain: wer=0.07692, em=0.2035 ; Dev: wer=0.178, em=0.3136\n"
     ]
    },
    {
     "data": {
      "application/vnd.jupyter.widget-view+json": {
       "model_id": "09272828bf0a43b5bcd0ab1c8de3b0b9",
       "version_major": 2,
       "version_minor": 0
      },
      "text/plain": [
       "Train:   0%|          | 0/1624 [00:00<?, ?it/s]"
      ]
     },
     "metadata": {},
     "output_type": "display_data"
    },
    {
     "data": {
      "application/vnd.jupyter.widget-view+json": {
       "model_id": "46f42cbd257d47fdb6936b482e85bb4c",
       "version_major": 2,
       "version_minor": 0
      },
      "text/plain": [
       "Dev:   0%|          | 0/43 [00:00<?, ?it/s]"
      ]
     },
     "metadata": {},
     "output_type": "display_data"
    },
    {
     "name": "stdout",
     "output_type": "stream",
     "text": [
      "\tDone Epoch: 47/50\n",
      "\t\tLoss\t|\tTrain AVG: 0.1152, Dev AVG: 0.1331\n",
      "\t\tMetrics\t|\tTrain: wer=0.07637, em=0.2061 ; Dev: wer=0.1932, em=0.2972\n"
     ]
    },
    {
     "data": {
      "application/vnd.jupyter.widget-view+json": {
       "model_id": "f7fc000d89b547bfbf41ba00fa1d95f5",
       "version_major": 2,
       "version_minor": 0
      },
      "text/plain": [
       "Train:   0%|          | 0/1624 [00:00<?, ?it/s]"
      ]
     },
     "metadata": {},
     "output_type": "display_data"
    },
    {
     "data": {
      "application/vnd.jupyter.widget-view+json": {
       "model_id": "2bf020089f614ce197714e64cbf92f3e",
       "version_major": 2,
       "version_minor": 0
      },
      "text/plain": [
       "Dev:   0%|          | 0/43 [00:00<?, ?it/s]"
      ]
     },
     "metadata": {},
     "output_type": "display_data"
    },
    {
     "name": "stdout",
     "output_type": "stream",
     "text": [
      "\tDone Epoch: 48/50\n",
      "\t\tLoss\t|\tTrain AVG: 0.1139, Dev AVG: 0.1384\n",
      "\t\tMetrics\t|\tTrain: wer=0.076, em=0.2071 ; Dev: wer=0.2049, em=0.2878\n"
     ]
    },
    {
     "data": {
      "application/vnd.jupyter.widget-view+json": {
       "model_id": "9aaba28c36044ce892146838a684dda2",
       "version_major": 2,
       "version_minor": 0
      },
      "text/plain": [
       "Train:   0%|          | 0/1624 [00:00<?, ?it/s]"
      ]
     },
     "metadata": {},
     "output_type": "display_data"
    },
    {
     "data": {
      "application/vnd.jupyter.widget-view+json": {
       "model_id": "49ab8bef5fdb4f54a07dfae7ac8fc02e",
       "version_major": 2,
       "version_minor": 0
      },
      "text/plain": [
       "Dev:   0%|          | 0/43 [00:00<?, ?it/s]"
      ]
     },
     "metadata": {},
     "output_type": "display_data"
    },
    {
     "name": "stdout",
     "output_type": "stream",
     "text": [
      "\tDone Epoch: 49/50\n",
      "\t\tLoss\t|\tTrain AVG: 0.1128, Dev AVG: 0.1622\n",
      "\t\tMetrics\t|\tTrain: wer=0.07535, em=0.2085 ; Dev: wer=0.2386, em=0.2551\n"
     ]
    },
    {
     "data": {
      "application/vnd.jupyter.widget-view+json": {
       "model_id": "e78a84f27b934cbab60b263a93ced64a",
       "version_major": 2,
       "version_minor": 0
      },
      "text/plain": [
       "Train:   0%|          | 0/1624 [00:00<?, ?it/s]"
      ]
     },
     "metadata": {},
     "output_type": "display_data"
    },
    {
     "data": {
      "application/vnd.jupyter.widget-view+json": {
       "model_id": "632f9940a8cc4aebb2b1316bf6d4d14f",
       "version_major": 2,
       "version_minor": 0
      },
      "text/plain": [
       "Dev:   0%|          | 0/43 [00:00<?, ?it/s]"
      ]
     },
     "metadata": {},
     "output_type": "display_data"
    },
    {
     "name": "stdout",
     "output_type": "stream",
     "text": [
      "\tDone Epoch: 50/50\n",
      "\t\tLoss\t|\tTrain AVG: 0.1116, Dev AVG: 0.198\n",
      "\t\tMetrics\t|\tTrain: wer=0.07488, em=0.2101 ; Dev: wer=0.2792, em=0.2271\n",
      "\n",
      "Training finished!\n",
      "\n"
     ]
    }
   ],
   "source": [
    "assert debug==False, \"You are in debug mode, please change to False\"\n",
    "\n",
    "p_orig_model = RecACEWrapModel(t5_type=t5_type, model_type='original', bin_size=bin_size, use_pretrained=True).to(DEVICE)\n",
    "p_orig_optimizer = torch.optim.Adam(p_orig_model.parameters(), lr=1e-4)\n",
    "\n",
    "p_orig_model, p_orig_metrics_df = training(\n",
    "    model=p_orig_model,\n",
    "    n_epochs=50,\n",
    "    train_data=p_train_loader,\n",
    "    dev_data=p_dev_loader,\n",
    "    optimizer=p_orig_optimizer,\n",
    "    exp_name=f\"original_t5_prompt_Clean\",\n",
    "    save_model=True)"
   ]
  },
  {
   "cell_type": "markdown",
   "id": "b0ab6e25",
   "metadata": {},
   "source": [
    "#### Analysis"
   ]
  },
  {
   "cell_type": "code",
   "execution_count": 15,
   "id": "e545463c",
   "metadata": {},
   "outputs": [
    {
     "data": {
      "image/png": "[encoded data removed]",
      "text/plain": [
       "<Figure size 1440x576 with 3 Axes>"
      ]
     },
     "metadata": {
      "needs_background": "light"
     },
     "output_type": "display_data"
    }
   ],
   "source": [
    "plot_graphs(p_orig_metrics_df, gt_df=asr_evaluators['Clean'].metrics_df, fig_size=(20,8))"
   ]
  }
 ],
 "metadata": {
  "kernelspec": {
   "display_name": "Python 3 (ipykernel)",
   "language": "python",
   "name": "python3"
  },
  "language_info": {
   "codemirror_mode": {
    "name": "ipython",
    "version": 3
   },
   "file_extension": ".py",
   "mimetype": "text/x-python",
   "name": "python",
   "nbconvert_exporter": "python",
   "pygments_lexer": "ipython3",
   "version": "3.8.5"
  }
 },
 "nbformat": 4,
 "nbformat_minor": 5
}
