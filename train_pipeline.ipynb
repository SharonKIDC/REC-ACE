{
 "cells": [
  {
   "cell_type": "markdown",
   "id": "8d4f9352",
   "metadata": {
    "pycharm": {
     "name": "#%% md\n"
    }
   },
   "source": [
    "# Imports"
   ]
  },
  {
   "cell_type": "code",
   "execution_count": 1,
   "id": "b69b5430",
   "metadata": {
    "pycharm": {
     "name": "#%%\n"
    }
   },
   "outputs": [
    {
     "name": "stderr",
     "output_type": "stream",
     "text": [
      "c:\\Users\\SharonK\\.virtualenvs\\DS38-Dev\\lib\\site-packages\\requests\\__init__.py:102: RequestsDependencyWarning: urllib3 (1.26.7) or chardet (5.1.0)/charset_normalizer (2.0.7) doesn't match a supported version!\n",
      "  warnings.warn(\"urllib3 ({}) or chardet ({})/charset_normalizer ({}) doesn't match a supported \"\n"
     ]
    }
   ],
   "source": [
    "import os\n",
    "import random\n",
    "\n",
    "from tqdm.notebook import tqdm\n",
    "from matplotlib import pyplot as plt\n",
    "import numpy as np\n",
    "import torch\n",
    "from transformers import T5Tokenizer, T5ForConditionalGeneration\n",
    "\n",
    "from evaluation import calculate_wer\n",
    "from visualization import plot_graphs\n",
    "from data_utils.dataset import prepare_data\n",
    "from data_utils.utils import read_json\n",
    "from models.rec_ace import RecACEWrapModel"
   ]
  },
  {
   "cell_type": "markdown",
   "id": "34a4d00b",
   "metadata": {
    "pycharm": {
     "name": "#%% md\n"
    }
   },
   "source": [
    "## Seeds"
   ]
  },
  {
   "cell_type": "code",
   "execution_count": 2,
   "id": "f532e285",
   "metadata": {
    "pycharm": {
     "name": "#%%\n"
    }
   },
   "outputs": [
    {
     "data": {
      "text/plain": [
       "<torch._C.Generator at 0x14abb078bf0>"
      ]
     },
     "execution_count": 2,
     "metadata": {},
     "output_type": "execute_result"
    }
   ],
   "source": [
    "SEED = 42\n",
    "\n",
    "# Set the random seed for Python\n",
    "random.seed(SEED)\n",
    "\n",
    "# Set the random seed for numpy\n",
    "np.random.seed(SEED)\n",
    "\n",
    "torch.manual_seed(SEED)"
   ]
  },
  {
   "cell_type": "markdown",
   "id": "7422b232",
   "metadata": {
    "pycharm": {
     "name": "#%% md\n"
    }
   },
   "source": [
    "# Data Paths"
   ]
  },
  {
   "cell_type": "code",
   "execution_count": 3,
   "id": "38e9663e",
   "metadata": {
    "pycharm": {
     "name": "#%%\n"
    }
   },
   "outputs": [],
   "source": [
    "datasets_dict = {\n",
    "    # Default\n",
    "    'Default Train Clean': 'data/default/train_clean.json',\n",
    "    'Default Train Other': 'data/default/train_other.json',\n",
    "    'Default Dev Clean': 'data/default/dev_clean.json',\n",
    "    'Default Dev Other': 'data/default/dev_other.json',\n",
    "    'Default Test Clean': 'data/default/test_clean.json',\n",
    "    'Default Test Other': 'data/default/test_other.json',\n",
    "    # Video\n",
    "    'Video Train Clean': 'data/video/train_clean.json',\n",
    "    'Video Train Other': 'data/video/train_other.json',\n",
    "    'Video Dev Clean': 'data/video/dev_clean.json',\n",
    "    'Video Dev Other': 'data/video/dev_other.json',\n",
    "    'Video Test Clean': 'data/video/test_clean.json',\n",
    "    'Video Test Other': 'data/video/test_other.json', \n",
    "}"
   ]
  },
  {
   "cell_type": "markdown",
   "id": "f5d638f7",
   "metadata": {
    "pycharm": {
     "name": "#%% md\n"
    }
   },
   "source": [
    "# Main"
   ]
  },
  {
   "cell_type": "code",
   "execution_count": 4,
   "id": "d991cad0",
   "metadata": {
    "pycharm": {
     "name": "#%%\n"
    }
   },
   "outputs": [],
   "source": [
    "DEVICE = 'cuda' if torch.cuda.is_available() else 'cpu'"
   ]
  },
  {
   "cell_type": "code",
   "execution_count": 5,
   "id": "74e93148",
   "metadata": {
    "pycharm": {
     "name": "#%%\n"
    }
   },
   "outputs": [
    {
     "data": {
      "text/plain": [
       "'cuda'"
      ]
     },
     "execution_count": 5,
     "metadata": {},
     "output_type": "execute_result"
    }
   ],
   "source": [
    "DEVICE"
   ]
  },
  {
   "cell_type": "markdown",
   "id": "8068e355",
   "metadata": {
    "pycharm": {
     "name": "#%% md\n"
    }
   },
   "source": [
    "## Load essentials"
   ]
  },
  {
   "cell_type": "code",
   "execution_count": 6,
   "id": "c2d034af",
   "metadata": {
    "pycharm": {
     "name": "#%%\n"
    }
   },
   "outputs": [],
   "source": [
    "debug = False\n",
    "\n",
    "# Base architecture\n",
    "t5_type = 't5-small'\n",
    "\n",
    "# How to quantize the confidence vectors [only required for rec_ac]\n",
    "bin_size=10"
   ]
  },
  {
   "cell_type": "markdown",
   "id": "04623fc8",
   "metadata": {
    "pycharm": {
     "name": "#%% md\n"
    }
   },
   "source": [
    "### Tokenizer"
   ]
  },
  {
   "cell_type": "code",
   "execution_count": 7,
   "id": "315802c1",
   "metadata": {
    "pycharm": {
     "name": "#%%\n"
    }
   },
   "outputs": [],
   "source": [
    "tokenizer = T5Tokenizer.from_pretrained(\"t5-small\")"
   ]
  },
  {
   "cell_type": "markdown",
   "id": "bd108a00",
   "metadata": {
    "pycharm": {
     "name": "#%% md\n"
    }
   },
   "source": [
    "## Read Data"
   ]
  },
  {
   "cell_type": "code",
   "execution_count": 8,
   "id": "cfa01feb",
   "metadata": {
    "pycharm": {
     "name": "#%%\n"
    }
   },
   "outputs": [],
   "source": [
    "train_set = read_json(json_path=datasets_dict['Default Train Clean'])\n",
    "dev_set = read_json(json_path=datasets_dict['Default Dev Clean'])\n",
    "test_set = read_json(json_path=datasets_dict['Default Test Clean'])"
   ]
  },
  {
   "cell_type": "markdown",
   "id": "0c2cf505",
   "metadata": {
    "pycharm": {
     "name": "#%% md\n"
    }
   },
   "source": [
    "## Prepare as DataLoader"
   ]
  },
  {
   "cell_type": "code",
   "execution_count": 9,
   "id": "3cf812b2",
   "metadata": {
    "pycharm": {
     "name": "#%%\n"
    }
   },
   "outputs": [
    {
     "name": "stdout",
     "output_type": "stream",
     "text": [
      "- Converting the input sentences into tokens\n",
      "- Converting the GT sentences into tokens\n",
      "- Converting the input sentences into tokens\n",
      "- Converting the GT sentences into tokens\n",
      "- Converting the input sentences into tokens\n",
      "- Converting the GT sentences into tokens\n"
     ]
    }
   ],
   "source": [
    "batch_size = 64\n",
    "train_loader = prepare_data(data=train_set, tokenizer=tokenizer, batch_size=batch_size, shuffle=True, debug=debug)\n",
    "dev_loader = prepare_data(data=dev_set, tokenizer=tokenizer, batch_size=batch_size, shuffle=False)\n",
    "test_loader = prepare_data(data=test_set , tokenizer=tokenizer, batch_size=batch_size, shuffle=False)"
   ]
  },
  {
   "cell_type": "markdown",
   "id": "372bc6e6",
   "metadata": {
    "pycharm": {
     "name": "#%% md\n"
    }
   },
   "source": [
    "## Training"
   ]
  },
  {
   "cell_type": "code",
   "execution_count": 10,
   "id": "928826cf",
   "metadata": {
    "pycharm": {
     "name": "#%%\n"
    }
   },
   "outputs": [],
   "source": [
    "def training(model, n_epochs, train_data, dev_data, optimizer, criterion):\n",
    "    \"\"\" Training loop for the model\n",
    "\n",
    "        Args:\n",
    "            model (nn.Module): Model to train\n",
    "            n_epochs (int): Number of epochs to train\n",
    "            train_data (DataLoader): DataLoader with train data\n",
    "            dev_data (DataLoader): DataLoader with dev data\n",
    "            optimizer (torch.optim): Optimizer for the model\n",
    "            criterion (torch.nn): Loss function\n",
    "\n",
    "        Returns:\n",
    "            dict: Dictionary with train and dev losses and accuracies\n",
    "    \"\"\"\n",
    "\n",
    "    # metrics placeholder for recording training stats\n",
    "    metrics = {\n",
    "        'loss': {\n",
    "            'train': [],\n",
    "            'dev':   []\n",
    "        },\n",
    "        'wer': {\n",
    "            'train': [],\n",
    "            'dev':   []\n",
    "        }\n",
    "    }\n",
    "\n",
    "    print(f'Training model of type: {model.model_type}')\n",
    "    print('- Scores vector will be ' + ('ignored' if model.model_type == 'original' else 'used'))\n",
    "    pbar = tqdm(range(n_epochs), position=0)\n",
    "    for epoch in pbar:\n",
    "        pbar.set_description(f\"Epoch: {epoch+1}/{n_epochs}\")\n",
    "\n",
    "        train_losses, train_wer = [], []\n",
    "        dev_losses, dev_wer = [], []\n",
    "\n",
    "        ### TRAIN\n",
    "        model.train()\n",
    "\n",
    "        # Iterating over batches in train data\n",
    "        pbar_train = tqdm(train_data, desc=\"Train\")\n",
    "        for batch in pbar_train:\n",
    "\n",
    "            optimizer.zero_grad()\n",
    "\n",
    "            X = batch['sentences'].to(DEVICE)\n",
    "            S = batch['scores'].to(DEVICE)\n",
    "            y = batch['labels'].to(DEVICE)\n",
    "\n",
    "            preds = model(input_ids=X, labels=y, scores_ids=S)\n",
    "\n",
    "            loss = preds.loss\n",
    "            logits = preds.logits\n",
    "\n",
    "            reference = tokenizer.batch_decode(y)\n",
    "            predicted = tokenizer.batch_decode(logits.argmax(dim=-1))\n",
    "            wer = calculate_wer(reference, predicted)\n",
    "\n",
    "            train_losses.append(loss.item())\n",
    "            train_wer.append(wer)\n",
    "\n",
    "            loss.backward()\n",
    "            optimizer.step()\n",
    "\n",
    "        ### Evaluate DEV set\n",
    "        model.eval()\n",
    "\n",
    "        # No need for gradients when evaluating\n",
    "        with torch.no_grad():\n",
    "            pbar_dev = tqdm(dev_data, desc=\"Dev\")\n",
    "            for batch in pbar_dev:\n",
    "\n",
    "                X = batch['sentences'].to(DEVICE)\n",
    "                S = batch['scores'].to(DEVICE)\n",
    "                y = batch['labels'].to(DEVICE)\n",
    "\n",
    "                dev_preds = model(input_ids=X, labels=y, scores_ids=S)\n",
    "\n",
    "                dev_loss = dev_preds.loss\n",
    "                dev_logits = dev_preds.logits\n",
    "\n",
    "                def_reference = tokenizer.batch_decode(y)\n",
    "                def_predicted = tokenizer.batch_decode(dev_logits.argmax(dim=-1))\n",
    "                wer = calculate_wer(def_reference, def_predicted)\n",
    "\n",
    "                # Calculate DEV loss\n",
    "                dev_losses.append(dev_loss.item())\n",
    "                dev_wer.append(wer)\n",
    "\n",
    "\n",
    "        # Collect epoch's avg scores\n",
    "        metrics['loss']['train'].append(np.mean(train_losses))\n",
    "        metrics['loss']['dev'].append(np.mean(dev_losses))\n",
    "        metrics['wer']['train'].append(np.mean(train_wer))\n",
    "        metrics['wer']['dev'].append(np.mean(dev_wer))\n",
    "\n",
    "        print(f\"\\tDone Epoch: {epoch+1}/{n_epochs}, \\t Train Loss AVG: {metrics['loss']['train'][-1]:.04}, Dev Loss AVG: {metrics['loss']['dev'][-1]:.04}\")\n",
    "        print(f\"\\tDone Epoch: {epoch+1}/{n_epochs}, \\t Train WER AVG: {metrics['wer']['train'][-1]:.04}, Dev WER AVG: {metrics['wer']['dev'][-1]:.04}\")\n",
    "\n",
    "    return model, metrics"
   ]
  },
  {
   "cell_type": "markdown",
   "id": "4f3b6043",
   "metadata": {},
   "source": [
    "## Model REC-ACE"
   ]
  },
  {
   "cell_type": "code",
   "execution_count": 13,
   "id": "8f26ce77",
   "metadata": {
    "collapsed": false,
    "pycharm": {
     "name": "#%%\n"
    }
   },
   "outputs": [
    {
     "name": "stdout",
     "output_type": "stream",
     "text": [
      "Training model of type: rec_ace\n",
      "- Scores vector will be used\n"
     ]
    },
    {
     "data": {
      "application/vnd.jupyter.widget-view+json": {
       "model_id": "720ca15aa1ee48d288dc1a9a17bd23b2",
       "version_major": 2,
       "version_minor": 0
      },
      "text/plain": [
       "  0%|          | 0/50 [00:00<?, ?it/s]"
      ]
     },
     "metadata": {},
     "output_type": "display_data"
    },
    {
     "data": {
      "application/vnd.jupyter.widget-view+json": {
       "model_id": "ebebae42664a4225a62a95869d129e23",
       "version_major": 2,
       "version_minor": 0
      },
      "text/plain": [
       "Train:   0%|          | 0/1624 [00:00<?, ?it/s]"
      ]
     },
     "metadata": {},
     "output_type": "display_data"
    },
    {
     "data": {
      "application/vnd.jupyter.widget-view+json": {
       "model_id": "95814f2d42bf41eb8d37105ecf977871",
       "version_major": 2,
       "version_minor": 0
      },
      "text/plain": [
       "Dev:   0%|          | 0/43 [00:00<?, ?it/s]"
      ]
     },
     "metadata": {},
     "output_type": "display_data"
    },
    {
     "name": "stdout",
     "output_type": "stream",
     "text": [
      "\tDone Epoch: 1/50, \t Train Loss AVG: 0.3515, Dev Loss AVG: 0.2855\n",
      "\tDone Epoch: 1/50, \t Train WER AVG: 0.153, Dev WER AVG: 0.3111\n"
     ]
    },
    {
     "data": {
      "application/vnd.jupyter.widget-view+json": {
       "model_id": "486a98eeda8e4ef6b6cc600f7a5d4b0c",
       "version_major": 2,
       "version_minor": 0
      },
      "text/plain": [
       "Train:   0%|          | 0/1624 [00:00<?, ?it/s]"
      ]
     },
     "metadata": {},
     "output_type": "display_data"
    },
    {
     "data": {
      "application/vnd.jupyter.widget-view+json": {
       "model_id": "26d5544367184d2dae65175ae77572b1",
       "version_major": 2,
       "version_minor": 0
      },
      "text/plain": [
       "Dev:   0%|          | 0/43 [00:00<?, ?it/s]"
      ]
     },
     "metadata": {},
     "output_type": "display_data"
    },
    {
     "name": "stdout",
     "output_type": "stream",
     "text": [
      "\tDone Epoch: 2/50, \t Train Loss AVG: 0.2767, Dev Loss AVG: 0.1378\n",
      "\tDone Epoch: 2/50, \t Train WER AVG: 0.1252, Dev WER AVG: 0.1585\n"
     ]
    },
    {
     "data": {
      "application/vnd.jupyter.widget-view+json": {
       "model_id": "637f12e12cbd4894b284a2872310bfc8",
       "version_major": 2,
       "version_minor": 0
      },
      "text/plain": [
       "Train:   0%|          | 0/1624 [00:00<?, ?it/s]"
      ]
     },
     "metadata": {},
     "output_type": "display_data"
    },
    {
     "data": {
      "application/vnd.jupyter.widget-view+json": {
       "model_id": "23835806dcf44df2b24b3c1c42e64345",
       "version_major": 2,
       "version_minor": 0
      },
      "text/plain": [
       "Dev:   0%|          | 0/43 [00:00<?, ?it/s]"
      ]
     },
     "metadata": {},
     "output_type": "display_data"
    },
    {
     "name": "stdout",
     "output_type": "stream",
     "text": [
      "\tDone Epoch: 3/50, \t Train Loss AVG: 0.2534, Dev Loss AVG: 0.1658\n",
      "\tDone Epoch: 3/50, \t Train WER AVG: 0.1187, Dev WER AVG: 0.1847\n"
     ]
    },
    {
     "data": {
      "application/vnd.jupyter.widget-view+json": {
       "model_id": "9f0468bd43c94dfda04c5be4680200c3",
       "version_major": 2,
       "version_minor": 0
      },
      "text/plain": [
       "Train:   0%|          | 0/1624 [00:00<?, ?it/s]"
      ]
     },
     "metadata": {},
     "output_type": "display_data"
    },
    {
     "data": {
      "application/vnd.jupyter.widget-view+json": {
       "model_id": "3d6e30593cb1405f9cc34173921f9e57",
       "version_major": 2,
       "version_minor": 0
      },
      "text/plain": [
       "Dev:   0%|          | 0/43 [00:00<?, ?it/s]"
      ]
     },
     "metadata": {},
     "output_type": "display_data"
    },
    {
     "name": "stdout",
     "output_type": "stream",
     "text": [
      "\tDone Epoch: 4/50, \t Train Loss AVG: 0.2378, Dev Loss AVG: 0.3285\n",
      "\tDone Epoch: 4/50, \t Train WER AVG: 0.1143, Dev WER AVG: 0.4954\n"
     ]
    },
    {
     "data": {
      "application/vnd.jupyter.widget-view+json": {
       "model_id": "d9031685347c4f14aed9241213485710",
       "version_major": 2,
       "version_minor": 0
      },
      "text/plain": [
       "Train:   0%|          | 0/1624 [00:00<?, ?it/s]"
      ]
     },
     "metadata": {},
     "output_type": "display_data"
    },
    {
     "data": {
      "application/vnd.jupyter.widget-view+json": {
       "model_id": "907aea72118b4e668af8525ae9cb930d",
       "version_major": 2,
       "version_minor": 0
      },
      "text/plain": [
       "Dev:   0%|          | 0/43 [00:00<?, ?it/s]"
      ]
     },
     "metadata": {},
     "output_type": "display_data"
    },
    {
     "name": "stdout",
     "output_type": "stream",
     "text": [
      "\tDone Epoch: 5/50, \t Train Loss AVG: 0.2267, Dev Loss AVG: 0.2965\n",
      "\tDone Epoch: 5/50, \t Train WER AVG: 0.1112, Dev WER AVG: 0.3744\n"
     ]
    },
    {
     "data": {
      "application/vnd.jupyter.widget-view+json": {
       "model_id": "06d64589531d460ca5a7d4e035726aa8",
       "version_major": 2,
       "version_minor": 0
      },
      "text/plain": [
       "Train:   0%|          | 0/1624 [00:00<?, ?it/s]"
      ]
     },
     "metadata": {},
     "output_type": "display_data"
    },
    {
     "data": {
      "application/vnd.jupyter.widget-view+json": {
       "model_id": "e8dc42a4300f4e9c8a7f644a9b950007",
       "version_major": 2,
       "version_minor": 0
      },
      "text/plain": [
       "Dev:   0%|          | 0/43 [00:00<?, ?it/s]"
      ]
     },
     "metadata": {},
     "output_type": "display_data"
    },
    {
     "name": "stdout",
     "output_type": "stream",
     "text": [
      "\tDone Epoch: 6/50, \t Train Loss AVG: 0.2175, Dev Loss AVG: 0.1671\n",
      "\tDone Epoch: 6/50, \t Train WER AVG: 0.1083, Dev WER AVG: 0.2704\n"
     ]
    },
    {
     "data": {
      "application/vnd.jupyter.widget-view+json": {
       "model_id": "d789215910664bf0a18687355f4346b9",
       "version_major": 2,
       "version_minor": 0
      },
      "text/plain": [
       "Train:   0%|          | 0/1624 [00:00<?, ?it/s]"
      ]
     },
     "metadata": {},
     "output_type": "display_data"
    },
    {
     "data": {
      "application/vnd.jupyter.widget-view+json": {
       "model_id": "813e6805453b4dc78d0c9f3d12027af2",
       "version_major": 2,
       "version_minor": 0
      },
      "text/plain": [
       "Dev:   0%|          | 0/43 [00:00<?, ?it/s]"
      ]
     },
     "metadata": {},
     "output_type": "display_data"
    },
    {
     "name": "stdout",
     "output_type": "stream",
     "text": [
      "\tDone Epoch: 7/50, \t Train Loss AVG: 0.21, Dev Loss AVG: 0.6312\n",
      "\tDone Epoch: 7/50, \t Train WER AVG: 0.1062, Dev WER AVG: 0.6346\n"
     ]
    },
    {
     "data": {
      "application/vnd.jupyter.widget-view+json": {
       "model_id": "9e7a2abfa6464092b06a733de8123ec1",
       "version_major": 2,
       "version_minor": 0
      },
      "text/plain": [
       "Train:   0%|          | 0/1624 [00:00<?, ?it/s]"
      ]
     },
     "metadata": {},
     "output_type": "display_data"
    },
    {
     "data": {
      "application/vnd.jupyter.widget-view+json": {
       "model_id": "157015378fc7406398ed4a79a21cec0c",
       "version_major": 2,
       "version_minor": 0
      },
      "text/plain": [
       "Dev:   0%|          | 0/43 [00:00<?, ?it/s]"
      ]
     },
     "metadata": {},
     "output_type": "display_data"
    },
    {
     "name": "stdout",
     "output_type": "stream",
     "text": [
      "\tDone Epoch: 8/50, \t Train Loss AVG: 0.2034, Dev Loss AVG: 0.2278\n",
      "\tDone Epoch: 8/50, \t Train WER AVG: 0.1045, Dev WER AVG: 0.3858\n"
     ]
    },
    {
     "data": {
      "application/vnd.jupyter.widget-view+json": {
       "model_id": "1877618b3e9b4c94b0f78e90a4daac48",
       "version_major": 2,
       "version_minor": 0
      },
      "text/plain": [
       "Train:   0%|          | 0/1624 [00:00<?, ?it/s]"
      ]
     },
     "metadata": {},
     "output_type": "display_data"
    },
    {
     "data": {
      "application/vnd.jupyter.widget-view+json": {
       "model_id": "c8fe1e4d31d343c6a8ae8a6f308db47c",
       "version_major": 2,
       "version_minor": 0
      },
      "text/plain": [
       "Dev:   0%|          | 0/43 [00:00<?, ?it/s]"
      ]
     },
     "metadata": {},
     "output_type": "display_data"
    },
    {
     "name": "stdout",
     "output_type": "stream",
     "text": [
      "\tDone Epoch: 9/50, \t Train Loss AVG: 0.1977, Dev Loss AVG: 0.1381\n",
      "\tDone Epoch: 9/50, \t Train WER AVG: 0.1027, Dev WER AVG: 0.1694\n"
     ]
    },
    {
     "data": {
      "application/vnd.jupyter.widget-view+json": {
       "model_id": "5a10d77654c44bdd830ad96325cbf2df",
       "version_major": 2,
       "version_minor": 0
      },
      "text/plain": [
       "Train:   0%|          | 0/1624 [00:00<?, ?it/s]"
      ]
     },
     "metadata": {},
     "output_type": "display_data"
    },
    {
     "data": {
      "application/vnd.jupyter.widget-view+json": {
       "model_id": "0d61b7970d504ca684a08f3f6bfb5bbb",
       "version_major": 2,
       "version_minor": 0
      },
      "text/plain": [
       "Dev:   0%|          | 0/43 [00:00<?, ?it/s]"
      ]
     },
     "metadata": {},
     "output_type": "display_data"
    },
    {
     "name": "stdout",
     "output_type": "stream",
     "text": [
      "\tDone Epoch: 10/50, \t Train Loss AVG: 0.1924, Dev Loss AVG: 0.1186\n",
      "\tDone Epoch: 10/50, \t Train WER AVG: 0.1011, Dev WER AVG: 0.1614\n"
     ]
    },
    {
     "data": {
      "application/vnd.jupyter.widget-view+json": {
       "model_id": "ebff40714ba14286be54a9d66cf8de2b",
       "version_major": 2,
       "version_minor": 0
      },
      "text/plain": [
       "Train:   0%|          | 0/1624 [00:00<?, ?it/s]"
      ]
     },
     "metadata": {},
     "output_type": "display_data"
    },
    {
     "data": {
      "application/vnd.jupyter.widget-view+json": {
       "model_id": "ae8f9b1489614ca7a2061327f81afb66",
       "version_major": 2,
       "version_minor": 0
      },
      "text/plain": [
       "Dev:   0%|          | 0/43 [00:00<?, ?it/s]"
      ]
     },
     "metadata": {},
     "output_type": "display_data"
    },
    {
     "name": "stdout",
     "output_type": "stream",
     "text": [
      "\tDone Epoch: 11/50, \t Train Loss AVG: 0.1878, Dev Loss AVG: 0.0954\n",
      "\tDone Epoch: 11/50, \t Train WER AVG: 0.09987, Dev WER AVG: 0.1105\n"
     ]
    },
    {
     "data": {
      "application/vnd.jupyter.widget-view+json": {
       "model_id": "62d588d8ba0e4e5ea9f63fc3f13feac2",
       "version_major": 2,
       "version_minor": 0
      },
      "text/plain": [
       "Train:   0%|          | 0/1624 [00:00<?, ?it/s]"
      ]
     },
     "metadata": {},
     "output_type": "display_data"
    },
    {
     "data": {
      "application/vnd.jupyter.widget-view+json": {
       "model_id": "4f6487140fea4818bd097a591d716caa",
       "version_major": 2,
       "version_minor": 0
      },
      "text/plain": [
       "Dev:   0%|          | 0/43 [00:00<?, ?it/s]"
      ]
     },
     "metadata": {},
     "output_type": "display_data"
    },
    {
     "name": "stdout",
     "output_type": "stream",
     "text": [
      "\tDone Epoch: 12/50, \t Train Loss AVG: 0.1834, Dev Loss AVG: 0.14\n",
      "\tDone Epoch: 12/50, \t Train WER AVG: 0.09843, Dev WER AVG: 0.1971\n"
     ]
    },
    {
     "data": {
      "application/vnd.jupyter.widget-view+json": {
       "model_id": "cde235bea13c4364ab67dfef9769e09c",
       "version_major": 2,
       "version_minor": 0
      },
      "text/plain": [
       "Train:   0%|          | 0/1624 [00:00<?, ?it/s]"
      ]
     },
     "metadata": {},
     "output_type": "display_data"
    },
    {
     "data": {
      "application/vnd.jupyter.widget-view+json": {
       "model_id": "47869e1f023b41c68846d6f4f2967bf7",
       "version_major": 2,
       "version_minor": 0
      },
      "text/plain": [
       "Dev:   0%|          | 0/43 [00:00<?, ?it/s]"
      ]
     },
     "metadata": {},
     "output_type": "display_data"
    },
    {
     "name": "stdout",
     "output_type": "stream",
     "text": [
      "\tDone Epoch: 13/50, \t Train Loss AVG: 0.1794, Dev Loss AVG: 0.119\n",
      "\tDone Epoch: 13/50, \t Train WER AVG: 0.0972, Dev WER AVG: 0.154\n"
     ]
    },
    {
     "data": {
      "application/vnd.jupyter.widget-view+json": {
       "model_id": "715b1e8f33e6493f9d3cf09c1c6e680f",
       "version_major": 2,
       "version_minor": 0
      },
      "text/plain": [
       "Train:   0%|          | 0/1624 [00:00<?, ?it/s]"
      ]
     },
     "metadata": {},
     "output_type": "display_data"
    },
    {
     "data": {
      "application/vnd.jupyter.widget-view+json": {
       "model_id": "6b9f5fd46a414b5594b177ff82be1443",
       "version_major": 2,
       "version_minor": 0
      },
      "text/plain": [
       "Dev:   0%|          | 0/43 [00:00<?, ?it/s]"
      ]
     },
     "metadata": {},
     "output_type": "display_data"
    },
    {
     "name": "stdout",
     "output_type": "stream",
     "text": [
      "\tDone Epoch: 14/50, \t Train Loss AVG: 0.1758, Dev Loss AVG: 0.0964\n",
      "\tDone Epoch: 14/50, \t Train WER AVG: 0.09599, Dev WER AVG: 0.1032\n"
     ]
    },
    {
     "data": {
      "application/vnd.jupyter.widget-view+json": {
       "model_id": "3d56ebac25064ce0a2aa61d1b2377dfa",
       "version_major": 2,
       "version_minor": 0
      },
      "text/plain": [
       "Train:   0%|          | 0/1624 [00:00<?, ?it/s]"
      ]
     },
     "metadata": {},
     "output_type": "display_data"
    },
    {
     "data": {
      "application/vnd.jupyter.widget-view+json": {
       "model_id": "fdf48093bf6541bdb70b41602fd1f5ad",
       "version_major": 2,
       "version_minor": 0
      },
      "text/plain": [
       "Dev:   0%|          | 0/43 [00:00<?, ?it/s]"
      ]
     },
     "metadata": {},
     "output_type": "display_data"
    },
    {
     "name": "stdout",
     "output_type": "stream",
     "text": [
      "\tDone Epoch: 15/50, \t Train Loss AVG: 0.1723, Dev Loss AVG: 0.1318\n",
      "\tDone Epoch: 15/50, \t Train WER AVG: 0.09514, Dev WER AVG: 0.2106\n"
     ]
    },
    {
     "data": {
      "application/vnd.jupyter.widget-view+json": {
       "model_id": "9d1c9a04b35f4b2d94ae6c26f30f67fd",
       "version_major": 2,
       "version_minor": 0
      },
      "text/plain": [
       "Train:   0%|          | 0/1624 [00:00<?, ?it/s]"
      ]
     },
     "metadata": {},
     "output_type": "display_data"
    },
    {
     "data": {
      "application/vnd.jupyter.widget-view+json": {
       "model_id": "936c5763d8114cd7b76c06e02bbf94c2",
       "version_major": 2,
       "version_minor": 0
      },
      "text/plain": [
       "Dev:   0%|          | 0/43 [00:00<?, ?it/s]"
      ]
     },
     "metadata": {},
     "output_type": "display_data"
    },
    {
     "name": "stdout",
     "output_type": "stream",
     "text": [
      "\tDone Epoch: 16/50, \t Train Loss AVG: 0.1692, Dev Loss AVG: 0.171\n",
      "\tDone Epoch: 16/50, \t Train WER AVG: 0.09419, Dev WER AVG: 0.2777\n"
     ]
    },
    {
     "data": {
      "application/vnd.jupyter.widget-view+json": {
       "model_id": "a14e6589bea44d56bafe9186eafeecf7",
       "version_major": 2,
       "version_minor": 0
      },
      "text/plain": [
       "Train:   0%|          | 0/1624 [00:00<?, ?it/s]"
      ]
     },
     "metadata": {},
     "output_type": "display_data"
    },
    {
     "data": {
      "application/vnd.jupyter.widget-view+json": {
       "model_id": "7ce20c042f534d09a52493ff191de7da",
       "version_major": 2,
       "version_minor": 0
      },
      "text/plain": [
       "Dev:   0%|          | 0/43 [00:00<?, ?it/s]"
      ]
     },
     "metadata": {},
     "output_type": "display_data"
    },
    {
     "name": "stdout",
     "output_type": "stream",
     "text": [
      "\tDone Epoch: 17/50, \t Train Loss AVG: 0.1661, Dev Loss AVG: 0.09895\n",
      "\tDone Epoch: 17/50, \t Train WER AVG: 0.0931, Dev WER AVG: 0.1248\n"
     ]
    },
    {
     "data": {
      "application/vnd.jupyter.widget-view+json": {
       "model_id": "961df171a6f04a4c9a14a349360f8904",
       "version_major": 2,
       "version_minor": 0
      },
      "text/plain": [
       "Train:   0%|          | 0/1624 [00:00<?, ?it/s]"
      ]
     },
     "metadata": {},
     "output_type": "display_data"
    },
    {
     "data": {
      "application/vnd.jupyter.widget-view+json": {
       "model_id": "c6bc11821f334e1f9925a8224e12d18a",
       "version_major": 2,
       "version_minor": 0
      },
      "text/plain": [
       "Dev:   0%|          | 0/43 [00:00<?, ?it/s]"
      ]
     },
     "metadata": {},
     "output_type": "display_data"
    },
    {
     "name": "stdout",
     "output_type": "stream",
     "text": [
      "\tDone Epoch: 18/50, \t Train Loss AVG: 0.1631, Dev Loss AVG: 0.1126\n",
      "\tDone Epoch: 18/50, \t Train WER AVG: 0.09212, Dev WER AVG: 0.1622\n"
     ]
    },
    {
     "data": {
      "application/vnd.jupyter.widget-view+json": {
       "model_id": "52e4f7c8912447568c4cc77cd478dba3",
       "version_major": 2,
       "version_minor": 0
      },
      "text/plain": [
       "Train:   0%|          | 0/1624 [00:00<?, ?it/s]"
      ]
     },
     "metadata": {},
     "output_type": "display_data"
    },
    {
     "data": {
      "application/vnd.jupyter.widget-view+json": {
       "model_id": "1f65e7f41fb54efd914164b1646a5759",
       "version_major": 2,
       "version_minor": 0
      },
      "text/plain": [
       "Dev:   0%|          | 0/43 [00:00<?, ?it/s]"
      ]
     },
     "metadata": {},
     "output_type": "display_data"
    },
    {
     "name": "stdout",
     "output_type": "stream",
     "text": [
      "\tDone Epoch: 19/50, \t Train Loss AVG: 0.1603, Dev Loss AVG: 0.1407\n",
      "\tDone Epoch: 19/50, \t Train WER AVG: 0.0913, Dev WER AVG: 0.2132\n"
     ]
    },
    {
     "data": {
      "application/vnd.jupyter.widget-view+json": {
       "model_id": "4367b1d6791b4ab0bc9950dd5fa6761e",
       "version_major": 2,
       "version_minor": 0
      },
      "text/plain": [
       "Train:   0%|          | 0/1624 [00:00<?, ?it/s]"
      ]
     },
     "metadata": {},
     "output_type": "display_data"
    },
    {
     "data": {
      "application/vnd.jupyter.widget-view+json": {
       "model_id": "e9d0ca0f23ab4ad2a4755bb0ed2dc0f2",
       "version_major": 2,
       "version_minor": 0
      },
      "text/plain": [
       "Dev:   0%|          | 0/43 [00:00<?, ?it/s]"
      ]
     },
     "metadata": {},
     "output_type": "display_data"
    },
    {
     "name": "stdout",
     "output_type": "stream",
     "text": [
      "\tDone Epoch: 20/50, \t Train Loss AVG: 0.1577, Dev Loss AVG: 0.1087\n",
      "\tDone Epoch: 20/50, \t Train WER AVG: 0.09052, Dev WER AVG: 0.1504\n"
     ]
    },
    {
     "data": {
      "application/vnd.jupyter.widget-view+json": {
       "model_id": "fd23bda60d33446ebd57fd01cc7c60ed",
       "version_major": 2,
       "version_minor": 0
      },
      "text/plain": [
       "Train:   0%|          | 0/1624 [00:00<?, ?it/s]"
      ]
     },
     "metadata": {},
     "output_type": "display_data"
    },
    {
     "data": {
      "application/vnd.jupyter.widget-view+json": {
       "model_id": "f9f70f291e3e4919aef2f4a8a7f2279e",
       "version_major": 2,
       "version_minor": 0
      },
      "text/plain": [
       "Dev:   0%|          | 0/43 [00:00<?, ?it/s]"
      ]
     },
     "metadata": {},
     "output_type": "display_data"
    },
    {
     "name": "stdout",
     "output_type": "stream",
     "text": [
      "\tDone Epoch: 21/50, \t Train Loss AVG: 0.1552, Dev Loss AVG: 0.1404\n",
      "\tDone Epoch: 21/50, \t Train WER AVG: 0.08982, Dev WER AVG: 0.2197\n"
     ]
    },
    {
     "data": {
      "application/vnd.jupyter.widget-view+json": {
       "model_id": "04593f2f5d234dfea53eb2cff54e33c1",
       "version_major": 2,
       "version_minor": 0
      },
      "text/plain": [
       "Train:   0%|          | 0/1624 [00:00<?, ?it/s]"
      ]
     },
     "metadata": {},
     "output_type": "display_data"
    },
    {
     "data": {
      "application/vnd.jupyter.widget-view+json": {
       "model_id": "d56357a1d6a84f5e9cb0eba77985232d",
       "version_major": 2,
       "version_minor": 0
      },
      "text/plain": [
       "Dev:   0%|          | 0/43 [00:00<?, ?it/s]"
      ]
     },
     "metadata": {},
     "output_type": "display_data"
    },
    {
     "name": "stdout",
     "output_type": "stream",
     "text": [
      "\tDone Epoch: 22/50, \t Train Loss AVG: 0.1528, Dev Loss AVG: 0.1018\n",
      "\tDone Epoch: 22/50, \t Train WER AVG: 0.08889, Dev WER AVG: 0.1435\n"
     ]
    },
    {
     "data": {
      "application/vnd.jupyter.widget-view+json": {
       "model_id": "b02482a064b440c59e7d30f26b2ef8ec",
       "version_major": 2,
       "version_minor": 0
      },
      "text/plain": [
       "Train:   0%|          | 0/1624 [00:00<?, ?it/s]"
      ]
     },
     "metadata": {},
     "output_type": "display_data"
    },
    {
     "data": {
      "application/vnd.jupyter.widget-view+json": {
       "model_id": "55d9733af31c4bde96459032a4d1e2a1",
       "version_major": 2,
       "version_minor": 0
      },
      "text/plain": [
       "Dev:   0%|          | 0/43 [00:00<?, ?it/s]"
      ]
     },
     "metadata": {},
     "output_type": "display_data"
    },
    {
     "name": "stdout",
     "output_type": "stream",
     "text": [
      "\tDone Epoch: 23/50, \t Train Loss AVG: 0.1504, Dev Loss AVG: 0.1377\n",
      "\tDone Epoch: 23/50, \t Train WER AVG: 0.08794, Dev WER AVG: 0.2311\n"
     ]
    },
    {
     "data": {
      "application/vnd.jupyter.widget-view+json": {
       "model_id": "affdfcfe663d4a8e933daac40852250a",
       "version_major": 2,
       "version_minor": 0
      },
      "text/plain": [
       "Train:   0%|          | 0/1624 [00:00<?, ?it/s]"
      ]
     },
     "metadata": {},
     "output_type": "display_data"
    },
    {
     "data": {
      "application/vnd.jupyter.widget-view+json": {
       "model_id": "8c3b4636fc0b46e59091ab2827aa9542",
       "version_major": 2,
       "version_minor": 0
      },
      "text/plain": [
       "Dev:   0%|          | 0/43 [00:00<?, ?it/s]"
      ]
     },
     "metadata": {},
     "output_type": "display_data"
    },
    {
     "name": "stdout",
     "output_type": "stream",
     "text": [
      "\tDone Epoch: 24/50, \t Train Loss AVG: 0.1482, Dev Loss AVG: 0.163\n",
      "\tDone Epoch: 24/50, \t Train WER AVG: 0.08744, Dev WER AVG: 0.2803\n"
     ]
    },
    {
     "data": {
      "application/vnd.jupyter.widget-view+json": {
       "model_id": "fd5880d99ebc4245acd434f3d59b6ef3",
       "version_major": 2,
       "version_minor": 0
      },
      "text/plain": [
       "Train:   0%|          | 0/1624 [00:00<?, ?it/s]"
      ]
     },
     "metadata": {},
     "output_type": "display_data"
    },
    {
     "data": {
      "application/vnd.jupyter.widget-view+json": {
       "model_id": "68dafc7365384ebabc8d6521ea7d5e36",
       "version_major": 2,
       "version_minor": 0
      },
      "text/plain": [
       "Dev:   0%|          | 0/43 [00:00<?, ?it/s]"
      ]
     },
     "metadata": {},
     "output_type": "display_data"
    },
    {
     "name": "stdout",
     "output_type": "stream",
     "text": [
      "\tDone Epoch: 25/50, \t Train Loss AVG: 0.1462, Dev Loss AVG: 0.09896\n",
      "\tDone Epoch: 25/50, \t Train WER AVG: 0.08686, Dev WER AVG: 0.1334\n"
     ]
    },
    {
     "data": {
      "application/vnd.jupyter.widget-view+json": {
       "model_id": "05e88b156e044ff787358008b6a342e8",
       "version_major": 2,
       "version_minor": 0
      },
      "text/plain": [
       "Train:   0%|          | 0/1624 [00:00<?, ?it/s]"
      ]
     },
     "metadata": {},
     "output_type": "display_data"
    },
    {
     "data": {
      "application/vnd.jupyter.widget-view+json": {
       "model_id": "9f2fdf1342b94789a037968c2281177d",
       "version_major": 2,
       "version_minor": 0
      },
      "text/plain": [
       "Dev:   0%|          | 0/43 [00:00<?, ?it/s]"
      ]
     },
     "metadata": {},
     "output_type": "display_data"
    },
    {
     "name": "stdout",
     "output_type": "stream",
     "text": [
      "\tDone Epoch: 26/50, \t Train Loss AVG: 0.1441, Dev Loss AVG: 0.1074\n",
      "\tDone Epoch: 26/50, \t Train WER AVG: 0.08592, Dev WER AVG: 0.16\n"
     ]
    },
    {
     "data": {
      "application/vnd.jupyter.widget-view+json": {
       "model_id": "f9cbeb4faab940d2948a02dadf2a6c78",
       "version_major": 2,
       "version_minor": 0
      },
      "text/plain": [
       "Train:   0%|          | 0/1624 [00:00<?, ?it/s]"
      ]
     },
     "metadata": {},
     "output_type": "display_data"
    },
    {
     "data": {
      "application/vnd.jupyter.widget-view+json": {
       "model_id": "4d7f2f2e49e34cf39d84526c27b0cc8b",
       "version_major": 2,
       "version_minor": 0
      },
      "text/plain": [
       "Dev:   0%|          | 0/43 [00:00<?, ?it/s]"
      ]
     },
     "metadata": {},
     "output_type": "display_data"
    },
    {
     "name": "stdout",
     "output_type": "stream",
     "text": [
      "\tDone Epoch: 27/50, \t Train Loss AVG: 0.142, Dev Loss AVG: 0.105\n",
      "\tDone Epoch: 27/50, \t Train WER AVG: 0.08546, Dev WER AVG: 0.1598\n"
     ]
    },
    {
     "data": {
      "application/vnd.jupyter.widget-view+json": {
       "model_id": "41ca5a8252b74dd1a1d005b62dd492ad",
       "version_major": 2,
       "version_minor": 0
      },
      "text/plain": [
       "Train:   0%|          | 0/1624 [00:00<?, ?it/s]"
      ]
     },
     "metadata": {},
     "output_type": "display_data"
    },
    {
     "data": {
      "application/vnd.jupyter.widget-view+json": {
       "model_id": "6460b7609025469aba928c6cc132c1b9",
       "version_major": 2,
       "version_minor": 0
      },
      "text/plain": [
       "Dev:   0%|          | 0/43 [00:00<?, ?it/s]"
      ]
     },
     "metadata": {},
     "output_type": "display_data"
    },
    {
     "name": "stdout",
     "output_type": "stream",
     "text": [
      "\tDone Epoch: 28/50, \t Train Loss AVG: 0.14, Dev Loss AVG: 0.08712\n",
      "\tDone Epoch: 28/50, \t Train WER AVG: 0.08473, Dev WER AVG: 0.09533\n"
     ]
    },
    {
     "data": {
      "application/vnd.jupyter.widget-view+json": {
       "model_id": "ecc12df8dbd94c71b1c175a21e76f830",
       "version_major": 2,
       "version_minor": 0
      },
      "text/plain": [
       "Train:   0%|          | 0/1624 [00:00<?, ?it/s]"
      ]
     },
     "metadata": {},
     "output_type": "display_data"
    },
    {
     "data": {
      "application/vnd.jupyter.widget-view+json": {
       "model_id": "66e166e8c44a4745aa66072111723718",
       "version_major": 2,
       "version_minor": 0
      },
      "text/plain": [
       "Dev:   0%|          | 0/43 [00:00<?, ?it/s]"
      ]
     },
     "metadata": {},
     "output_type": "display_data"
    },
    {
     "name": "stdout",
     "output_type": "stream",
     "text": [
      "\tDone Epoch: 29/50, \t Train Loss AVG: 0.1383, Dev Loss AVG: 0.08877\n",
      "\tDone Epoch: 29/50, \t Train WER AVG: 0.08414, Dev WER AVG: 0.1017\n"
     ]
    },
    {
     "data": {
      "application/vnd.jupyter.widget-view+json": {
       "model_id": "01f364e40eb34b50beddef5181fe9c6e",
       "version_major": 2,
       "version_minor": 0
      },
      "text/plain": [
       "Train:   0%|          | 0/1624 [00:00<?, ?it/s]"
      ]
     },
     "metadata": {},
     "output_type": "display_data"
    },
    {
     "data": {
      "application/vnd.jupyter.widget-view+json": {
       "model_id": "2b7a808116274cf78f03bd1a6d2bfdfe",
       "version_major": 2,
       "version_minor": 0
      },
      "text/plain": [
       "Dev:   0%|          | 0/43 [00:00<?, ?it/s]"
      ]
     },
     "metadata": {},
     "output_type": "display_data"
    },
    {
     "name": "stdout",
     "output_type": "stream",
     "text": [
      "\tDone Epoch: 30/50, \t Train Loss AVG: 0.1364, Dev Loss AVG: 0.08999\n",
      "\tDone Epoch: 30/50, \t Train WER AVG: 0.08349, Dev WER AVG: 0.1034\n"
     ]
    },
    {
     "data": {
      "application/vnd.jupyter.widget-view+json": {
       "model_id": "2783eca617cb459da547fa9b9ae3ef0e",
       "version_major": 2,
       "version_minor": 0
      },
      "text/plain": [
       "Train:   0%|          | 0/1624 [00:00<?, ?it/s]"
      ]
     },
     "metadata": {},
     "output_type": "display_data"
    },
    {
     "data": {
      "application/vnd.jupyter.widget-view+json": {
       "model_id": "71dc2bc074d24db4aeafb51a50cdbe24",
       "version_major": 2,
       "version_minor": 0
      },
      "text/plain": [
       "Dev:   0%|          | 0/43 [00:00<?, ?it/s]"
      ]
     },
     "metadata": {},
     "output_type": "display_data"
    },
    {
     "name": "stdout",
     "output_type": "stream",
     "text": [
      "\tDone Epoch: 31/50, \t Train Loss AVG: 0.1347, Dev Loss AVG: 0.1008\n",
      "\tDone Epoch: 31/50, \t Train WER AVG: 0.08279, Dev WER AVG: 0.1394\n"
     ]
    },
    {
     "data": {
      "application/vnd.jupyter.widget-view+json": {
       "model_id": "94202a163a2e44058872dae8d38d8361",
       "version_major": 2,
       "version_minor": 0
      },
      "text/plain": [
       "Train:   0%|          | 0/1624 [00:00<?, ?it/s]"
      ]
     },
     "metadata": {},
     "output_type": "display_data"
    },
    {
     "data": {
      "application/vnd.jupyter.widget-view+json": {
       "model_id": "9735fbe557144fcda313af8cf3f90a1f",
       "version_major": 2,
       "version_minor": 0
      },
      "text/plain": [
       "Dev:   0%|          | 0/43 [00:00<?, ?it/s]"
      ]
     },
     "metadata": {},
     "output_type": "display_data"
    },
    {
     "name": "stdout",
     "output_type": "stream",
     "text": [
      "\tDone Epoch: 32/50, \t Train Loss AVG: 0.1329, Dev Loss AVG: 0.1125\n",
      "\tDone Epoch: 32/50, \t Train WER AVG: 0.08229, Dev WER AVG: 0.1582\n"
     ]
    },
    {
     "data": {
      "application/vnd.jupyter.widget-view+json": {
       "model_id": "49033135ed074dfe9df87e1fb1b841ee",
       "version_major": 2,
       "version_minor": 0
      },
      "text/plain": [
       "Train:   0%|          | 0/1624 [00:00<?, ?it/s]"
      ]
     },
     "metadata": {},
     "output_type": "display_data"
    },
    {
     "data": {
      "application/vnd.jupyter.widget-view+json": {
       "model_id": "fe40a919fd65452591c8a935b2aa0af9",
       "version_major": 2,
       "version_minor": 0
      },
      "text/plain": [
       "Dev:   0%|          | 0/43 [00:00<?, ?it/s]"
      ]
     },
     "metadata": {},
     "output_type": "display_data"
    },
    {
     "name": "stdout",
     "output_type": "stream",
     "text": [
      "\tDone Epoch: 33/50, \t Train Loss AVG: 0.1314, Dev Loss AVG: 0.09701\n",
      "\tDone Epoch: 33/50, \t Train WER AVG: 0.08172, Dev WER AVG: 0.1335\n"
     ]
    },
    {
     "data": {
      "application/vnd.jupyter.widget-view+json": {
       "model_id": "a6ef08be0aaa4ed18d849da14ed59fc3",
       "version_major": 2,
       "version_minor": 0
      },
      "text/plain": [
       "Train:   0%|          | 0/1624 [00:00<?, ?it/s]"
      ]
     },
     "metadata": {},
     "output_type": "display_data"
    },
    {
     "data": {
      "application/vnd.jupyter.widget-view+json": {
       "model_id": "ec36e59021da491eab644635a1de8cd0",
       "version_major": 2,
       "version_minor": 0
      },
      "text/plain": [
       "Dev:   0%|          | 0/43 [00:00<?, ?it/s]"
      ]
     },
     "metadata": {},
     "output_type": "display_data"
    },
    {
     "name": "stdout",
     "output_type": "stream",
     "text": [
      "\tDone Epoch: 34/50, \t Train Loss AVG: 0.1296, Dev Loss AVG: 0.1005\n",
      "\tDone Epoch: 34/50, \t Train WER AVG: 0.08096, Dev WER AVG: 0.1401\n"
     ]
    },
    {
     "data": {
      "application/vnd.jupyter.widget-view+json": {
       "model_id": "07b66c55c1b9491c8109dce8dcaf3680",
       "version_major": 2,
       "version_minor": 0
      },
      "text/plain": [
       "Train:   0%|          | 0/1624 [00:00<?, ?it/s]"
      ]
     },
     "metadata": {},
     "output_type": "display_data"
    },
    {
     "data": {
      "application/vnd.jupyter.widget-view+json": {
       "model_id": "ed0e760102e44c3893f4d69ca36a7028",
       "version_major": 2,
       "version_minor": 0
      },
      "text/plain": [
       "Dev:   0%|          | 0/43 [00:00<?, ?it/s]"
      ]
     },
     "metadata": {},
     "output_type": "display_data"
    },
    {
     "name": "stdout",
     "output_type": "stream",
     "text": [
      "\tDone Epoch: 35/50, \t Train Loss AVG: 0.128, Dev Loss AVG: 0.1262\n",
      "\tDone Epoch: 35/50, \t Train WER AVG: 0.08041, Dev WER AVG: 0.2119\n"
     ]
    },
    {
     "data": {
      "application/vnd.jupyter.widget-view+json": {
       "model_id": "8b422e7992d249a58ae3fb350a454100",
       "version_major": 2,
       "version_minor": 0
      },
      "text/plain": [
       "Train:   0%|          | 0/1624 [00:00<?, ?it/s]"
      ]
     },
     "metadata": {},
     "output_type": "display_data"
    },
    {
     "data": {
      "application/vnd.jupyter.widget-view+json": {
       "model_id": "441ba8733f784824ad11f09d6ab7dd66",
       "version_major": 2,
       "version_minor": 0
      },
      "text/plain": [
       "Dev:   0%|          | 0/43 [00:00<?, ?it/s]"
      ]
     },
     "metadata": {},
     "output_type": "display_data"
    },
    {
     "name": "stdout",
     "output_type": "stream",
     "text": [
      "\tDone Epoch: 36/50, \t Train Loss AVG: 0.1265, Dev Loss AVG: 0.1236\n",
      "\tDone Epoch: 36/50, \t Train WER AVG: 0.07992, Dev WER AVG: 0.2076\n"
     ]
    },
    {
     "data": {
      "application/vnd.jupyter.widget-view+json": {
       "model_id": "52ae98015ce6406093991cf652413e69",
       "version_major": 2,
       "version_minor": 0
      },
      "text/plain": [
       "Train:   0%|          | 0/1624 [00:00<?, ?it/s]"
      ]
     },
     "metadata": {},
     "output_type": "display_data"
    },
    {
     "data": {
      "application/vnd.jupyter.widget-view+json": {
       "model_id": "48b59ea939584dbb873506e7433f912d",
       "version_major": 2,
       "version_minor": 0
      },
      "text/plain": [
       "Dev:   0%|          | 0/43 [00:00<?, ?it/s]"
      ]
     },
     "metadata": {},
     "output_type": "display_data"
    },
    {
     "name": "stdout",
     "output_type": "stream",
     "text": [
      "\tDone Epoch: 37/50, \t Train Loss AVG: 0.125, Dev Loss AVG: 0.1446\n",
      "\tDone Epoch: 37/50, \t Train WER AVG: 0.07943, Dev WER AVG: 0.2444\n"
     ]
    },
    {
     "data": {
      "application/vnd.jupyter.widget-view+json": {
       "model_id": "9e99bf4ebff3400e94cf53cb4da589c0",
       "version_major": 2,
       "version_minor": 0
      },
      "text/plain": [
       "Train:   0%|          | 0/1624 [00:00<?, ?it/s]"
      ]
     },
     "metadata": {},
     "output_type": "display_data"
    },
    {
     "data": {
      "application/vnd.jupyter.widget-view+json": {
       "model_id": "b371486e6c6847c0b1b8ef452f1d93aa",
       "version_major": 2,
       "version_minor": 0
      },
      "text/plain": [
       "Dev:   0%|          | 0/43 [00:00<?, ?it/s]"
      ]
     },
     "metadata": {},
     "output_type": "display_data"
    },
    {
     "name": "stdout",
     "output_type": "stream",
     "text": [
      "\tDone Epoch: 38/50, \t Train Loss AVG: 0.1235, Dev Loss AVG: 0.1093\n",
      "\tDone Epoch: 38/50, \t Train WER AVG: 0.07907, Dev WER AVG: 0.1751\n"
     ]
    },
    {
     "data": {
      "application/vnd.jupyter.widget-view+json": {
       "model_id": "264bd6be87844fb08061354db6209f80",
       "version_major": 2,
       "version_minor": 0
      },
      "text/plain": [
       "Train:   0%|          | 0/1624 [00:00<?, ?it/s]"
      ]
     },
     "metadata": {},
     "output_type": "display_data"
    },
    {
     "data": {
      "application/vnd.jupyter.widget-view+json": {
       "model_id": "9a3672526a0b40e888fce3d3ed1fa47a",
       "version_major": 2,
       "version_minor": 0
      },
      "text/plain": [
       "Dev:   0%|          | 0/43 [00:00<?, ?it/s]"
      ]
     },
     "metadata": {},
     "output_type": "display_data"
    },
    {
     "name": "stdout",
     "output_type": "stream",
     "text": [
      "\tDone Epoch: 39/50, \t Train Loss AVG: 0.122, Dev Loss AVG: 0.1039\n",
      "\tDone Epoch: 39/50, \t Train WER AVG: 0.07844, Dev WER AVG: 0.157\n"
     ]
    },
    {
     "data": {
      "application/vnd.jupyter.widget-view+json": {
       "model_id": "ca7d0d7b2b0d4c7e81443874b5647ded",
       "version_major": 2,
       "version_minor": 0
      },
      "text/plain": [
       "Train:   0%|          | 0/1624 [00:00<?, ?it/s]"
      ]
     },
     "metadata": {},
     "output_type": "display_data"
    },
    {
     "data": {
      "application/vnd.jupyter.widget-view+json": {
       "model_id": "b77c224ef3fd41e98242433391afb870",
       "version_major": 2,
       "version_minor": 0
      },
      "text/plain": [
       "Dev:   0%|          | 0/43 [00:00<?, ?it/s]"
      ]
     },
     "metadata": {},
     "output_type": "display_data"
    },
    {
     "name": "stdout",
     "output_type": "stream",
     "text": [
      "\tDone Epoch: 40/50, \t Train Loss AVG: 0.1206, Dev Loss AVG: 0.1112\n",
      "\tDone Epoch: 40/50, \t Train WER AVG: 0.0778, Dev WER AVG: 0.1832\n"
     ]
    },
    {
     "data": {
      "application/vnd.jupyter.widget-view+json": {
       "model_id": "ec3d45f086b44469a0324ef2eaaaeac1",
       "version_major": 2,
       "version_minor": 0
      },
      "text/plain": [
       "Train:   0%|          | 0/1624 [00:00<?, ?it/s]"
      ]
     },
     "metadata": {},
     "output_type": "display_data"
    },
    {
     "data": {
      "application/vnd.jupyter.widget-view+json": {
       "model_id": "54ffb95299b44b2da42036a77544bb0e",
       "version_major": 2,
       "version_minor": 0
      },
      "text/plain": [
       "Dev:   0%|          | 0/43 [00:00<?, ?it/s]"
      ]
     },
     "metadata": {},
     "output_type": "display_data"
    },
    {
     "name": "stdout",
     "output_type": "stream",
     "text": [
      "\tDone Epoch: 41/50, \t Train Loss AVG: 0.1193, Dev Loss AVG: 0.1135\n",
      "\tDone Epoch: 41/50, \t Train WER AVG: 0.07731, Dev WER AVG: 0.1858\n"
     ]
    },
    {
     "data": {
      "application/vnd.jupyter.widget-view+json": {
       "model_id": "9f563836766c4c129d24015728ecfe0f",
       "version_major": 2,
       "version_minor": 0
      },
      "text/plain": [
       "Train:   0%|          | 0/1624 [00:00<?, ?it/s]"
      ]
     },
     "metadata": {},
     "output_type": "display_data"
    },
    {
     "data": {
      "application/vnd.jupyter.widget-view+json": {
       "model_id": "2e644649a3104e29a83f3b60b7458014",
       "version_major": 2,
       "version_minor": 0
      },
      "text/plain": [
       "Dev:   0%|          | 0/43 [00:00<?, ?it/s]"
      ]
     },
     "metadata": {},
     "output_type": "display_data"
    },
    {
     "name": "stdout",
     "output_type": "stream",
     "text": [
      "\tDone Epoch: 42/50, \t Train Loss AVG: 0.1177, Dev Loss AVG: 0.1079\n",
      "\tDone Epoch: 42/50, \t Train WER AVG: 0.07677, Dev WER AVG: 0.1649\n"
     ]
    },
    {
     "data": {
      "application/vnd.jupyter.widget-view+json": {
       "model_id": "a3f67282cdbc4d2d9d5b4ef453f6db38",
       "version_major": 2,
       "version_minor": 0
      },
      "text/plain": [
       "Train:   0%|          | 0/1624 [00:00<?, ?it/s]"
      ]
     },
     "metadata": {},
     "output_type": "display_data"
    },
    {
     "data": {
      "application/vnd.jupyter.widget-view+json": {
       "model_id": "ba9c50ca963744949e67dfeef485b57f",
       "version_major": 2,
       "version_minor": 0
      },
      "text/plain": [
       "Dev:   0%|          | 0/43 [00:00<?, ?it/s]"
      ]
     },
     "metadata": {},
     "output_type": "display_data"
    },
    {
     "name": "stdout",
     "output_type": "stream",
     "text": [
      "\tDone Epoch: 43/50, \t Train Loss AVG: 0.1165, Dev Loss AVG: 0.1055\n",
      "\tDone Epoch: 43/50, \t Train WER AVG: 0.07633, Dev WER AVG: 0.1581\n"
     ]
    },
    {
     "data": {
      "application/vnd.jupyter.widget-view+json": {
       "model_id": "6a883e3315c84c56a7ac0131929c7df8",
       "version_major": 2,
       "version_minor": 0
      },
      "text/plain": [
       "Train:   0%|          | 0/1624 [00:00<?, ?it/s]"
      ]
     },
     "metadata": {},
     "output_type": "display_data"
    },
    {
     "data": {
      "application/vnd.jupyter.widget-view+json": {
       "model_id": "27d47a15191e48a395037ed4c1f6a82a",
       "version_major": 2,
       "version_minor": 0
      },
      "text/plain": [
       "Dev:   0%|          | 0/43 [00:00<?, ?it/s]"
      ]
     },
     "metadata": {},
     "output_type": "display_data"
    },
    {
     "name": "stdout",
     "output_type": "stream",
     "text": [
      "\tDone Epoch: 44/50, \t Train Loss AVG: 0.1151, Dev Loss AVG: 0.127\n",
      "\tDone Epoch: 44/50, \t Train WER AVG: 0.07579, Dev WER AVG: 0.2172\n"
     ]
    },
    {
     "data": {
      "application/vnd.jupyter.widget-view+json": {
       "model_id": "07f31fca52bb4eb690202b7e4d60ef2c",
       "version_major": 2,
       "version_minor": 0
      },
      "text/plain": [
       "Train:   0%|          | 0/1624 [00:00<?, ?it/s]"
      ]
     },
     "metadata": {},
     "output_type": "display_data"
    },
    {
     "data": {
      "application/vnd.jupyter.widget-view+json": {
       "model_id": "c38a85e6292a4e65a2d02e45bd71528f",
       "version_major": 2,
       "version_minor": 0
      },
      "text/plain": [
       "Dev:   0%|          | 0/43 [00:00<?, ?it/s]"
      ]
     },
     "metadata": {},
     "output_type": "display_data"
    },
    {
     "name": "stdout",
     "output_type": "stream",
     "text": [
      "\tDone Epoch: 45/50, \t Train Loss AVG: 0.1138, Dev Loss AVG: 0.08692\n",
      "\tDone Epoch: 45/50, \t Train WER AVG: 0.07534, Dev WER AVG: 0.09259\n"
     ]
    },
    {
     "data": {
      "application/vnd.jupyter.widget-view+json": {
       "model_id": "51f5463265f046fd91256276425d6809",
       "version_major": 2,
       "version_minor": 0
      },
      "text/plain": [
       "Train:   0%|          | 0/1624 [00:00<?, ?it/s]"
      ]
     },
     "metadata": {},
     "output_type": "display_data"
    },
    {
     "data": {
      "application/vnd.jupyter.widget-view+json": {
       "model_id": "2a2a31b34fa14ee9b7adf7451d29f2ee",
       "version_major": 2,
       "version_minor": 0
      },
      "text/plain": [
       "Dev:   0%|          | 0/43 [00:00<?, ?it/s]"
      ]
     },
     "metadata": {},
     "output_type": "display_data"
    },
    {
     "name": "stdout",
     "output_type": "stream",
     "text": [
      "\tDone Epoch: 46/50, \t Train Loss AVG: 0.1125, Dev Loss AVG: 0.08785\n",
      "\tDone Epoch: 46/50, \t Train WER AVG: 0.07469, Dev WER AVG: 0.09309\n"
     ]
    },
    {
     "data": {
      "application/vnd.jupyter.widget-view+json": {
       "model_id": "1ea7cd5203a442f6b337169ea975b6aa",
       "version_major": 2,
       "version_minor": 0
      },
      "text/plain": [
       "Train:   0%|          | 0/1624 [00:00<?, ?it/s]"
      ]
     },
     "metadata": {},
     "output_type": "display_data"
    },
    {
     "data": {
      "application/vnd.jupyter.widget-view+json": {
       "model_id": "45c8b5e693c54eb99b42ea6321fccdad",
       "version_major": 2,
       "version_minor": 0
      },
      "text/plain": [
       "Dev:   0%|          | 0/43 [00:00<?, ?it/s]"
      ]
     },
     "metadata": {},
     "output_type": "display_data"
    },
    {
     "name": "stdout",
     "output_type": "stream",
     "text": [
      "\tDone Epoch: 47/50, \t Train Loss AVG: 0.1115, Dev Loss AVG: 0.08838\n",
      "\tDone Epoch: 47/50, \t Train WER AVG: 0.07443, Dev WER AVG: 0.09903\n"
     ]
    },
    {
     "data": {
      "application/vnd.jupyter.widget-view+json": {
       "model_id": "acae98cf36604b33930dd37b4411b236",
       "version_major": 2,
       "version_minor": 0
      },
      "text/plain": [
       "Train:   0%|          | 0/1624 [00:00<?, ?it/s]"
      ]
     },
     "metadata": {},
     "output_type": "display_data"
    },
    {
     "data": {
      "application/vnd.jupyter.widget-view+json": {
       "model_id": "aa28bf8b459f4fc99e1bf19d45d902b8",
       "version_major": 2,
       "version_minor": 0
      },
      "text/plain": [
       "Dev:   0%|          | 0/43 [00:00<?, ?it/s]"
      ]
     },
     "metadata": {},
     "output_type": "display_data"
    },
    {
     "name": "stdout",
     "output_type": "stream",
     "text": [
      "\tDone Epoch: 48/50, \t Train Loss AVG: 0.1103, Dev Loss AVG: 0.0905\n",
      "\tDone Epoch: 48/50, \t Train WER AVG: 0.07386, Dev WER AVG: 0.1043\n"
     ]
    },
    {
     "data": {
      "application/vnd.jupyter.widget-view+json": {
       "model_id": "0074fca72dd24dc58bf7d1d51837021e",
       "version_major": 2,
       "version_minor": 0
      },
      "text/plain": [
       "Train:   0%|          | 0/1624 [00:00<?, ?it/s]"
      ]
     },
     "metadata": {},
     "output_type": "display_data"
    },
    {
     "data": {
      "application/vnd.jupyter.widget-view+json": {
       "model_id": "c15747d24c9449b68b4592fe2b0283eb",
       "version_major": 2,
       "version_minor": 0
      },
      "text/plain": [
       "Dev:   0%|          | 0/43 [00:00<?, ?it/s]"
      ]
     },
     "metadata": {},
     "output_type": "display_data"
    },
    {
     "name": "stdout",
     "output_type": "stream",
     "text": [
      "\tDone Epoch: 49/50, \t Train Loss AVG: 0.109, Dev Loss AVG: 0.09209\n",
      "\tDone Epoch: 49/50, \t Train WER AVG: 0.07339, Dev WER AVG: 0.1113\n"
     ]
    },
    {
     "data": {
      "application/vnd.jupyter.widget-view+json": {
       "model_id": "4ecc98847931438283ee11b3783eef9e",
       "version_major": 2,
       "version_minor": 0
      },
      "text/plain": [
       "Train:   0%|          | 0/1624 [00:00<?, ?it/s]"
      ]
     },
     "metadata": {},
     "output_type": "display_data"
    },
    {
     "data": {
      "application/vnd.jupyter.widget-view+json": {
       "model_id": "bc5f02e1aaac47bc9c470fb8d4a30c2c",
       "version_major": 2,
       "version_minor": 0
      },
      "text/plain": [
       "Dev:   0%|          | 0/43 [00:00<?, ?it/s]"
      ]
     },
     "metadata": {},
     "output_type": "display_data"
    },
    {
     "name": "stdout",
     "output_type": "stream",
     "text": [
      "\tDone Epoch: 50/50, \t Train Loss AVG: 0.1077, Dev Loss AVG: 0.09609\n",
      "\tDone Epoch: 50/50, \t Train WER AVG: 0.07288, Dev WER AVG: 0.1313\n"
     ]
    }
   ],
   "source": [
    "model = RecACEWrapModel(t5_type=t5_type, model_type='rec_ace', bin_size=bin_size, use_pretrained=True)\n",
    "model.to(DEVICE)\n",
    "\n",
    "criterion = torch.nn.CrossEntropyLoss()\n",
    "optimizer = torch.optim.Adam(model.parameters(), lr=1e-4)\n",
    "\n",
    "model, metrics = training(model=model,\n",
    "                          n_epochs=3 if debug else 50,\n",
    "                          train_data=train_loader,\n",
    "                          dev_data=dev_loader,\n",
    "                          optimizer=optimizer,\n",
    "                          criterion=criterion)"
   ]
  },
  {
   "cell_type": "code",
   "execution_count": 16,
   "id": "7ab1f60c",
   "metadata": {},
   "outputs": [
    {
     "data": {
      "image/png": "[encoded data removed]",
      "text/plain": [
       "<Figure size 576x1008 with 2 Axes>"
      ]
     },
     "metadata": {
      "needs_background": "light"
     },
     "output_type": "display_data"
    }
   ],
   "source": [
    "plot_graphs(metrics)"
   ]
  },
  {
   "cell_type": "markdown",
   "id": "0e21e0d8",
   "metadata": {},
   "source": [
    "## Model Original T5"
   ]
  },
  {
   "cell_type": "code",
   "execution_count": 11,
   "id": "9257e736",
   "metadata": {},
   "outputs": [
    {
     "name": "stdout",
     "output_type": "stream",
     "text": [
      "Training model of type: original\n",
      "- Scores vector will be ignored\n"
     ]
    },
    {
     "data": {
      "application/vnd.jupyter.widget-view+json": {
       "model_id": "54074dc914f34c69b7e3f90c576b9ad6",
       "version_major": 2,
       "version_minor": 0
      },
      "text/plain": [
       "  0%|          | 0/50 [00:00<?, ?it/s]"
      ]
     },
     "metadata": {},
     "output_type": "display_data"
    },
    {
     "data": {
      "application/vnd.jupyter.widget-view+json": {
       "model_id": "52a505e4c2df408fa32a85532efe3f2a",
       "version_major": 2,
       "version_minor": 0
      },
      "text/plain": [
       "Train:   0%|          | 0/1624 [00:00<?, ?it/s]"
      ]
     },
     "metadata": {},
     "output_type": "display_data"
    },
    {
     "data": {
      "application/vnd.jupyter.widget-view+json": {
       "model_id": "6d20dd273afd40a5bfaaf96f8259dba1",
       "version_major": 2,
       "version_minor": 0
      },
      "text/plain": [
       "Dev:   0%|          | 0/43 [00:00<?, ?it/s]"
      ]
     },
     "metadata": {},
     "output_type": "display_data"
    },
    {
     "name": "stdout",
     "output_type": "stream",
     "text": [
      "\tDone Epoch: 1/50, \t Train Loss AVG: 0.3521, Dev Loss AVG: 0.2588\n",
      "\tDone Epoch: 1/50, \t Train WER AVG: 0.1539, Dev WER AVG: 0.2886\n"
     ]
    },
    {
     "data": {
      "application/vnd.jupyter.widget-view+json": {
       "model_id": "7cb7e639aee54f97afe6b5acf1aab62f",
       "version_major": 2,
       "version_minor": 0
      },
      "text/plain": [
       "Train:   0%|          | 0/1624 [00:00<?, ?it/s]"
      ]
     },
     "metadata": {},
     "output_type": "display_data"
    },
    {
     "data": {
      "application/vnd.jupyter.widget-view+json": {
       "model_id": "29f49810b03044589f2533c00fc0d8d9",
       "version_major": 2,
       "version_minor": 0
      },
      "text/plain": [
       "Dev:   0%|          | 0/43 [00:00<?, ?it/s]"
      ]
     },
     "metadata": {},
     "output_type": "display_data"
    },
    {
     "name": "stdout",
     "output_type": "stream",
     "text": [
      "\tDone Epoch: 2/50, \t Train Loss AVG: 0.2788, Dev Loss AVG: 0.1381\n",
      "\tDone Epoch: 2/50, \t Train WER AVG: 0.1256, Dev WER AVG: 0.1384\n"
     ]
    },
    {
     "data": {
      "application/vnd.jupyter.widget-view+json": {
       "model_id": "461f5093c6f14ae0b7e71a36ff54bcd0",
       "version_major": 2,
       "version_minor": 0
      },
      "text/plain": [
       "Train:   0%|          | 0/1624 [00:00<?, ?it/s]"
      ]
     },
     "metadata": {},
     "output_type": "display_data"
    },
    {
     "data": {
      "application/vnd.jupyter.widget-view+json": {
       "model_id": "8718822ee1b341128dd1bd78cc7896b0",
       "version_major": 2,
       "version_minor": 0
      },
      "text/plain": [
       "Dev:   0%|          | 0/43 [00:00<?, ?it/s]"
      ]
     },
     "metadata": {},
     "output_type": "display_data"
    },
    {
     "name": "stdout",
     "output_type": "stream",
     "text": [
      "\tDone Epoch: 3/50, \t Train Loss AVG: 0.2579, Dev Loss AVG: 0.1243\n",
      "\tDone Epoch: 3/50, \t Train WER AVG: 0.1197, Dev WER AVG: 0.1492\n"
     ]
    },
    {
     "data": {
      "application/vnd.jupyter.widget-view+json": {
       "model_id": "0d454be3bc0b408eb613b38516e8a905",
       "version_major": 2,
       "version_minor": 0
      },
      "text/plain": [
       "Train:   0%|          | 0/1624 [00:00<?, ?it/s]"
      ]
     },
     "metadata": {},
     "output_type": "display_data"
    },
    {
     "data": {
      "application/vnd.jupyter.widget-view+json": {
       "model_id": "afd52dd49c3c40d8be550dc922005cff",
       "version_major": 2,
       "version_minor": 0
      },
      "text/plain": [
       "Dev:   0%|          | 0/43 [00:00<?, ?it/s]"
      ]
     },
     "metadata": {},
     "output_type": "display_data"
    },
    {
     "name": "stdout",
     "output_type": "stream",
     "text": [
      "\tDone Epoch: 4/50, \t Train Loss AVG: 0.2439, Dev Loss AVG: 0.1426\n",
      "\tDone Epoch: 4/50, \t Train WER AVG: 0.1154, Dev WER AVG: 0.1669\n"
     ]
    },
    {
     "data": {
      "application/vnd.jupyter.widget-view+json": {
       "model_id": "a889731d07824a05ac6f9c11bb922507",
       "version_major": 2,
       "version_minor": 0
      },
      "text/plain": [
       "Train:   0%|          | 0/1624 [00:00<?, ?it/s]"
      ]
     },
     "metadata": {},
     "output_type": "display_data"
    },
    {
     "data": {
      "application/vnd.jupyter.widget-view+json": {
       "model_id": "616cd68ae2c641fcb2a4561f41e180ad",
       "version_major": 2,
       "version_minor": 0
      },
      "text/plain": [
       "Dev:   0%|          | 0/43 [00:00<?, ?it/s]"
      ]
     },
     "metadata": {},
     "output_type": "display_data"
    },
    {
     "name": "stdout",
     "output_type": "stream",
     "text": [
      "\tDone Epoch: 5/50, \t Train Loss AVG: 0.2327, Dev Loss AVG: 0.1341\n",
      "\tDone Epoch: 5/50, \t Train WER AVG: 0.1124, Dev WER AVG: 0.1445\n"
     ]
    },
    {
     "data": {
      "application/vnd.jupyter.widget-view+json": {
       "model_id": "974be261fc2f40b9b60903cd3a0d56d9",
       "version_major": 2,
       "version_minor": 0
      },
      "text/plain": [
       "Train:   0%|          | 0/1624 [00:00<?, ?it/s]"
      ]
     },
     "metadata": {},
     "output_type": "display_data"
    },
    {
     "data": {
      "application/vnd.jupyter.widget-view+json": {
       "model_id": "84ac4e38ac68473a93f5a79dee33f13b",
       "version_major": 2,
       "version_minor": 0
      },
      "text/plain": [
       "Dev:   0%|          | 0/43 [00:00<?, ?it/s]"
      ]
     },
     "metadata": {},
     "output_type": "display_data"
    },
    {
     "name": "stdout",
     "output_type": "stream",
     "text": [
      "\tDone Epoch: 6/50, \t Train Loss AVG: 0.2239, Dev Loss AVG: 0.2483\n",
      "\tDone Epoch: 6/50, \t Train WER AVG: 0.1099, Dev WER AVG: 0.4209\n"
     ]
    },
    {
     "data": {
      "application/vnd.jupyter.widget-view+json": {
       "model_id": "7b4f410108e7416bb641b0f77c06215a",
       "version_major": 2,
       "version_minor": 0
      },
      "text/plain": [
       "Train:   0%|          | 0/1624 [00:00<?, ?it/s]"
      ]
     },
     "metadata": {},
     "output_type": "display_data"
    },
    {
     "data": {
      "application/vnd.jupyter.widget-view+json": {
       "model_id": "5bd25481ffa4406990ba32ddaa505909",
       "version_major": 2,
       "version_minor": 0
      },
      "text/plain": [
       "Dev:   0%|          | 0/43 [00:00<?, ?it/s]"
      ]
     },
     "metadata": {},
     "output_type": "display_data"
    },
    {
     "name": "stdout",
     "output_type": "stream",
     "text": [
      "\tDone Epoch: 7/50, \t Train Loss AVG: 0.2165, Dev Loss AVG: 0.2967\n",
      "\tDone Epoch: 7/50, \t Train WER AVG: 0.1078, Dev WER AVG: 0.4741\n"
     ]
    },
    {
     "data": {
      "application/vnd.jupyter.widget-view+json": {
       "model_id": "92a24dbaf3734b98b0ea3aa0cdf96404",
       "version_major": 2,
       "version_minor": 0
      },
      "text/plain": [
       "Train:   0%|          | 0/1624 [00:00<?, ?it/s]"
      ]
     },
     "metadata": {},
     "output_type": "display_data"
    },
    {
     "data": {
      "application/vnd.jupyter.widget-view+json": {
       "model_id": "a7a7ae83f61f475291d57573780f40aa",
       "version_major": 2,
       "version_minor": 0
      },
      "text/plain": [
       "Dev:   0%|          | 0/43 [00:00<?, ?it/s]"
      ]
     },
     "metadata": {},
     "output_type": "display_data"
    },
    {
     "name": "stdout",
     "output_type": "stream",
     "text": [
      "\tDone Epoch: 8/50, \t Train Loss AVG: 0.2101, Dev Loss AVG: 0.1195\n",
      "\tDone Epoch: 8/50, \t Train WER AVG: 0.1061, Dev WER AVG: 0.1809\n"
     ]
    },
    {
     "data": {
      "application/vnd.jupyter.widget-view+json": {
       "model_id": "c82e91b659574a488d00bf4132b420f8",
       "version_major": 2,
       "version_minor": 0
      },
      "text/plain": [
       "Train:   0%|          | 0/1624 [00:00<?, ?it/s]"
      ]
     },
     "metadata": {},
     "output_type": "display_data"
    },
    {
     "data": {
      "application/vnd.jupyter.widget-view+json": {
       "model_id": "a8ee19f5e64143fcb8720fd47a2b2428",
       "version_major": 2,
       "version_minor": 0
      },
      "text/plain": [
       "Dev:   0%|          | 0/43 [00:00<?, ?it/s]"
      ]
     },
     "metadata": {},
     "output_type": "display_data"
    },
    {
     "name": "stdout",
     "output_type": "stream",
     "text": [
      "\tDone Epoch: 9/50, \t Train Loss AVG: 0.2042, Dev Loss AVG: 0.1649\n",
      "\tDone Epoch: 9/50, \t Train WER AVG: 0.1043, Dev WER AVG: 0.2961\n"
     ]
    },
    {
     "data": {
      "application/vnd.jupyter.widget-view+json": {
       "model_id": "b487997d948e4b9b80cd4d76934fb54f",
       "version_major": 2,
       "version_minor": 0
      },
      "text/plain": [
       "Train:   0%|          | 0/1624 [00:00<?, ?it/s]"
      ]
     },
     "metadata": {},
     "output_type": "display_data"
    },
    {
     "data": {
      "application/vnd.jupyter.widget-view+json": {
       "model_id": "32191c093f2c4d9abc338d763faaa0fd",
       "version_major": 2,
       "version_minor": 0
      },
      "text/plain": [
       "Dev:   0%|          | 0/43 [00:00<?, ?it/s]"
      ]
     },
     "metadata": {},
     "output_type": "display_data"
    },
    {
     "name": "stdout",
     "output_type": "stream",
     "text": [
      "\tDone Epoch: 10/50, \t Train Loss AVG: 0.199, Dev Loss AVG: 0.1157\n",
      "\tDone Epoch: 10/50, \t Train WER AVG: 0.1029, Dev WER AVG: 0.152\n"
     ]
    },
    {
     "data": {
      "application/vnd.jupyter.widget-view+json": {
       "model_id": "61e7a174081843b98ac1e6f3ac5c129d",
       "version_major": 2,
       "version_minor": 0
      },
      "text/plain": [
       "Train:   0%|          | 0/1624 [00:00<?, ?it/s]"
      ]
     },
     "metadata": {},
     "output_type": "display_data"
    },
    {
     "data": {
      "application/vnd.jupyter.widget-view+json": {
       "model_id": "49d091058a3a4780811834e2458b23eb",
       "version_major": 2,
       "version_minor": 0
      },
      "text/plain": [
       "Dev:   0%|          | 0/43 [00:00<?, ?it/s]"
      ]
     },
     "metadata": {},
     "output_type": "display_data"
    },
    {
     "name": "stdout",
     "output_type": "stream",
     "text": [
      "\tDone Epoch: 11/50, \t Train Loss AVG: 0.1942, Dev Loss AVG: 0.1165\n",
      "\tDone Epoch: 11/50, \t Train WER AVG: 0.1016, Dev WER AVG: 0.1579\n"
     ]
    },
    {
     "data": {
      "application/vnd.jupyter.widget-view+json": {
       "model_id": "580f0e1343d344f895d337abd2e878da",
       "version_major": 2,
       "version_minor": 0
      },
      "text/plain": [
       "Train:   0%|          | 0/1624 [00:00<?, ?it/s]"
      ]
     },
     "metadata": {},
     "output_type": "display_data"
    },
    {
     "data": {
      "application/vnd.jupyter.widget-view+json": {
       "model_id": "6e83399ed54246eb8406e7a009fc0b80",
       "version_major": 2,
       "version_minor": 0
      },
      "text/plain": [
       "Dev:   0%|          | 0/43 [00:00<?, ?it/s]"
      ]
     },
     "metadata": {},
     "output_type": "display_data"
    },
    {
     "name": "stdout",
     "output_type": "stream",
     "text": [
      "\tDone Epoch: 12/50, \t Train Loss AVG: 0.19, Dev Loss AVG: 0.1404\n",
      "\tDone Epoch: 12/50, \t Train WER AVG: 0.1001, Dev WER AVG: 0.2054\n"
     ]
    },
    {
     "data": {
      "application/vnd.jupyter.widget-view+json": {
       "model_id": "4780815676ea468099709540a58302c5",
       "version_major": 2,
       "version_minor": 0
      },
      "text/plain": [
       "Train:   0%|          | 0/1624 [00:00<?, ?it/s]"
      ]
     },
     "metadata": {},
     "output_type": "display_data"
    },
    {
     "data": {
      "application/vnd.jupyter.widget-view+json": {
       "model_id": "ff6f5f2adac24bdd88017f0a8465da74",
       "version_major": 2,
       "version_minor": 0
      },
      "text/plain": [
       "Dev:   0%|          | 0/43 [00:00<?, ?it/s]"
      ]
     },
     "metadata": {},
     "output_type": "display_data"
    },
    {
     "name": "stdout",
     "output_type": "stream",
     "text": [
      "\tDone Epoch: 13/50, \t Train Loss AVG: 0.186, Dev Loss AVG: 0.1033\n",
      "\tDone Epoch: 13/50, \t Train WER AVG: 0.09901, Dev WER AVG: 0.1335\n"
     ]
    },
    {
     "data": {
      "application/vnd.jupyter.widget-view+json": {
       "model_id": "c2a0f24fa3d94a079a448d04b955b633",
       "version_major": 2,
       "version_minor": 0
      },
      "text/plain": [
       "Train:   0%|          | 0/1624 [00:00<?, ?it/s]"
      ]
     },
     "metadata": {},
     "output_type": "display_data"
    },
    {
     "data": {
      "application/vnd.jupyter.widget-view+json": {
       "model_id": "361268c0cb3e4f34bd9e114bd96765b1",
       "version_major": 2,
       "version_minor": 0
      },
      "text/plain": [
       "Dev:   0%|          | 0/43 [00:00<?, ?it/s]"
      ]
     },
     "metadata": {},
     "output_type": "display_data"
    },
    {
     "name": "stdout",
     "output_type": "stream",
     "text": [
      "\tDone Epoch: 14/50, \t Train Loss AVG: 0.1823, Dev Loss AVG: 0.1223\n",
      "\tDone Epoch: 14/50, \t Train WER AVG: 0.09794, Dev WER AVG: 0.1895\n"
     ]
    },
    {
     "data": {
      "application/vnd.jupyter.widget-view+json": {
       "model_id": "1bae8f851f8c4533951ee09a1dab068e",
       "version_major": 2,
       "version_minor": 0
      },
      "text/plain": [
       "Train:   0%|          | 0/1624 [00:00<?, ?it/s]"
      ]
     },
     "metadata": {},
     "output_type": "display_data"
    },
    {
     "data": {
      "application/vnd.jupyter.widget-view+json": {
       "model_id": "1d8d38a0ea07429c822b20689b520781",
       "version_major": 2,
       "version_minor": 0
      },
      "text/plain": [
       "Dev:   0%|          | 0/43 [00:00<?, ?it/s]"
      ]
     },
     "metadata": {},
     "output_type": "display_data"
    },
    {
     "name": "stdout",
     "output_type": "stream",
     "text": [
      "\tDone Epoch: 15/50, \t Train Loss AVG: 0.1788, Dev Loss AVG: 0.09938\n",
      "\tDone Epoch: 15/50, \t Train WER AVG: 0.09684, Dev WER AVG: 0.1193\n"
     ]
    },
    {
     "data": {
      "application/vnd.jupyter.widget-view+json": {
       "model_id": "2aa12c29e3ee49799bfec69e18c14d18",
       "version_major": 2,
       "version_minor": 0
      },
      "text/plain": [
       "Train:   0%|          | 0/1624 [00:00<?, ?it/s]"
      ]
     },
     "metadata": {},
     "output_type": "display_data"
    },
    {
     "data": {
      "application/vnd.jupyter.widget-view+json": {
       "model_id": "159632ceef00487bbff95fe3e9e08432",
       "version_major": 2,
       "version_minor": 0
      },
      "text/plain": [
       "Dev:   0%|          | 0/43 [00:00<?, ?it/s]"
      ]
     },
     "metadata": {},
     "output_type": "display_data"
    },
    {
     "name": "stdout",
     "output_type": "stream",
     "text": [
      "\tDone Epoch: 16/50, \t Train Loss AVG: 0.1756, Dev Loss AVG: 0.1023\n",
      "\tDone Epoch: 16/50, \t Train WER AVG: 0.09585, Dev WER AVG: 0.1397\n"
     ]
    },
    {
     "data": {
      "application/vnd.jupyter.widget-view+json": {
       "model_id": "d10a691079b141508a950e90c3fd89b7",
       "version_major": 2,
       "version_minor": 0
      },
      "text/plain": [
       "Train:   0%|          | 0/1624 [00:00<?, ?it/s]"
      ]
     },
     "metadata": {},
     "output_type": "display_data"
    },
    {
     "data": {
      "application/vnd.jupyter.widget-view+json": {
       "model_id": "f5865a63b1e84fd680373e35e3b79d7c",
       "version_major": 2,
       "version_minor": 0
      },
      "text/plain": [
       "Dev:   0%|          | 0/43 [00:00<?, ?it/s]"
      ]
     },
     "metadata": {},
     "output_type": "display_data"
    },
    {
     "name": "stdout",
     "output_type": "stream",
     "text": [
      "\tDone Epoch: 17/50, \t Train Loss AVG: 0.1725, Dev Loss AVG: 0.1171\n",
      "\tDone Epoch: 17/50, \t Train WER AVG: 0.09504, Dev WER AVG: 0.1851\n"
     ]
    },
    {
     "data": {
      "application/vnd.jupyter.widget-view+json": {
       "model_id": "6099c1ce9b3c4eb3b06dc4f717d07106",
       "version_major": 2,
       "version_minor": 0
      },
      "text/plain": [
       "Train:   0%|          | 0/1624 [00:00<?, ?it/s]"
      ]
     },
     "metadata": {},
     "output_type": "display_data"
    },
    {
     "data": {
      "application/vnd.jupyter.widget-view+json": {
       "model_id": "ad3dc12858e14b0e9761c12698d52f9d",
       "version_major": 2,
       "version_minor": 0
      },
      "text/plain": [
       "Dev:   0%|          | 0/43 [00:00<?, ?it/s]"
      ]
     },
     "metadata": {},
     "output_type": "display_data"
    },
    {
     "name": "stdout",
     "output_type": "stream",
     "text": [
      "\tDone Epoch: 18/50, \t Train Loss AVG: 0.1695, Dev Loss AVG: 0.1022\n",
      "\tDone Epoch: 18/50, \t Train WER AVG: 0.09424, Dev WER AVG: 0.1351\n"
     ]
    },
    {
     "data": {
      "application/vnd.jupyter.widget-view+json": {
       "model_id": "ea088e803d9a4f6ca4950b07f54e9143",
       "version_major": 2,
       "version_minor": 0
      },
      "text/plain": [
       "Train:   0%|          | 0/1624 [00:00<?, ?it/s]"
      ]
     },
     "metadata": {},
     "output_type": "display_data"
    },
    {
     "data": {
      "application/vnd.jupyter.widget-view+json": {
       "model_id": "1beff060322f4931810213072bf3e33e",
       "version_major": 2,
       "version_minor": 0
      },
      "text/plain": [
       "Dev:   0%|          | 0/43 [00:00<?, ?it/s]"
      ]
     },
     "metadata": {},
     "output_type": "display_data"
    },
    {
     "name": "stdout",
     "output_type": "stream",
     "text": [
      "\tDone Epoch: 19/50, \t Train Loss AVG: 0.1669, Dev Loss AVG: 0.1248\n",
      "\tDone Epoch: 19/50, \t Train WER AVG: 0.09345, Dev WER AVG: 0.2042\n"
     ]
    },
    {
     "data": {
      "application/vnd.jupyter.widget-view+json": {
       "model_id": "10e7e08cf769470ca609591875a0a7d3",
       "version_major": 2,
       "version_minor": 0
      },
      "text/plain": [
       "Train:   0%|          | 0/1624 [00:00<?, ?it/s]"
      ]
     },
     "metadata": {},
     "output_type": "display_data"
    },
    {
     "data": {
      "application/vnd.jupyter.widget-view+json": {
       "model_id": "80e58fccfaa24a7f83a35dd3e2c7dac2",
       "version_major": 2,
       "version_minor": 0
      },
      "text/plain": [
       "Dev:   0%|          | 0/43 [00:00<?, ?it/s]"
      ]
     },
     "metadata": {},
     "output_type": "display_data"
    },
    {
     "name": "stdout",
     "output_type": "stream",
     "text": [
      "\tDone Epoch: 20/50, \t Train Loss AVG: 0.164, Dev Loss AVG: 0.1041\n",
      "\tDone Epoch: 20/50, \t Train WER AVG: 0.09243, Dev WER AVG: 0.152\n"
     ]
    },
    {
     "data": {
      "application/vnd.jupyter.widget-view+json": {
       "model_id": "1575f42dfb4649e18e549b17fcaa16e2",
       "version_major": 2,
       "version_minor": 0
      },
      "text/plain": [
       "Train:   0%|          | 0/1624 [00:00<?, ?it/s]"
      ]
     },
     "metadata": {},
     "output_type": "display_data"
    },
    {
     "data": {
      "application/vnd.jupyter.widget-view+json": {
       "model_id": "94aeb909aefb4b42bbe21df44b8249e3",
       "version_major": 2,
       "version_minor": 0
      },
      "text/plain": [
       "Dev:   0%|          | 0/43 [00:00<?, ?it/s]"
      ]
     },
     "metadata": {},
     "output_type": "display_data"
    },
    {
     "name": "stdout",
     "output_type": "stream",
     "text": [
      "\tDone Epoch: 21/50, \t Train Loss AVG: 0.1616, Dev Loss AVG: 0.1023\n",
      "\tDone Epoch: 21/50, \t Train WER AVG: 0.09193, Dev WER AVG: 0.1469\n"
     ]
    },
    {
     "data": {
      "application/vnd.jupyter.widget-view+json": {
       "model_id": "4d74fb21afe3406faa6b1c042e8aac15",
       "version_major": 2,
       "version_minor": 0
      },
      "text/plain": [
       "Train:   0%|          | 0/1624 [00:00<?, ?it/s]"
      ]
     },
     "metadata": {},
     "output_type": "display_data"
    },
    {
     "data": {
      "application/vnd.jupyter.widget-view+json": {
       "model_id": "c7b856b02ea141c08b29dea9b428140d",
       "version_major": 2,
       "version_minor": 0
      },
      "text/plain": [
       "Dev:   0%|          | 0/43 [00:00<?, ?it/s]"
      ]
     },
     "metadata": {},
     "output_type": "display_data"
    },
    {
     "name": "stdout",
     "output_type": "stream",
     "text": [
      "\tDone Epoch: 22/50, \t Train Loss AVG: 0.1592, Dev Loss AVG: 0.09095\n",
      "\tDone Epoch: 22/50, \t Train WER AVG: 0.09112, Dev WER AVG: 0.09779\n"
     ]
    },
    {
     "data": {
      "application/vnd.jupyter.widget-view+json": {
       "model_id": "89bd848a85774560843362cf1fae942a",
       "version_major": 2,
       "version_minor": 0
      },
      "text/plain": [
       "Train:   0%|          | 0/1624 [00:00<?, ?it/s]"
      ]
     },
     "metadata": {},
     "output_type": "display_data"
    },
    {
     "data": {
      "application/vnd.jupyter.widget-view+json": {
       "model_id": "bdd8cad6986d4f3781447e5c0aa92056",
       "version_major": 2,
       "version_minor": 0
      },
      "text/plain": [
       "Dev:   0%|          | 0/43 [00:00<?, ?it/s]"
      ]
     },
     "metadata": {},
     "output_type": "display_data"
    },
    {
     "name": "stdout",
     "output_type": "stream",
     "text": [
      "\tDone Epoch: 23/50, \t Train Loss AVG: 0.1568, Dev Loss AVG: 0.09589\n",
      "\tDone Epoch: 23/50, \t Train WER AVG: 0.09033, Dev WER AVG: 0.1177\n"
     ]
    },
    {
     "data": {
      "application/vnd.jupyter.widget-view+json": {
       "model_id": "c65f73808d314f9d942aa519dae57979",
       "version_major": 2,
       "version_minor": 0
      },
      "text/plain": [
       "Train:   0%|          | 0/1624 [00:00<?, ?it/s]"
      ]
     },
     "metadata": {},
     "output_type": "display_data"
    },
    {
     "data": {
      "application/vnd.jupyter.widget-view+json": {
       "model_id": "b2b3b955b0b9430082a03f638b17b5ab",
       "version_major": 2,
       "version_minor": 0
      },
      "text/plain": [
       "Dev:   0%|          | 0/43 [00:00<?, ?it/s]"
      ]
     },
     "metadata": {},
     "output_type": "display_data"
    },
    {
     "name": "stdout",
     "output_type": "stream",
     "text": [
      "\tDone Epoch: 24/50, \t Train Loss AVG: 0.1547, Dev Loss AVG: 0.09621\n",
      "\tDone Epoch: 24/50, \t Train WER AVG: 0.08941, Dev WER AVG: 0.1215\n"
     ]
    },
    {
     "data": {
      "application/vnd.jupyter.widget-view+json": {
       "model_id": "5ff29b99aa554c2daf8a6351f1a806b8",
       "version_major": 2,
       "version_minor": 0
      },
      "text/plain": [
       "Train:   0%|          | 0/1624 [00:00<?, ?it/s]"
      ]
     },
     "metadata": {},
     "output_type": "display_data"
    },
    {
     "data": {
      "application/vnd.jupyter.widget-view+json": {
       "model_id": "9f87293aad6549f6a87632abb78598d6",
       "version_major": 2,
       "version_minor": 0
      },
      "text/plain": [
       "Dev:   0%|          | 0/43 [00:00<?, ?it/s]"
      ]
     },
     "metadata": {},
     "output_type": "display_data"
    },
    {
     "name": "stdout",
     "output_type": "stream",
     "text": [
      "\tDone Epoch: 25/50, \t Train Loss AVG: 0.1524, Dev Loss AVG: 0.09818\n",
      "\tDone Epoch: 25/50, \t Train WER AVG: 0.08881, Dev WER AVG: 0.1292\n"
     ]
    },
    {
     "data": {
      "application/vnd.jupyter.widget-view+json": {
       "model_id": "518ae072840242d4a272260fc2d99a90",
       "version_major": 2,
       "version_minor": 0
      },
      "text/plain": [
       "Train:   0%|          | 0/1624 [00:00<?, ?it/s]"
      ]
     },
     "metadata": {},
     "output_type": "display_data"
    },
    {
     "data": {
      "application/vnd.jupyter.widget-view+json": {
       "model_id": "de6d8ae6ac4b4dcd85c9c542db99980f",
       "version_major": 2,
       "version_minor": 0
      },
      "text/plain": [
       "Dev:   0%|          | 0/43 [00:00<?, ?it/s]"
      ]
     },
     "metadata": {},
     "output_type": "display_data"
    },
    {
     "name": "stdout",
     "output_type": "stream",
     "text": [
      "\tDone Epoch: 26/50, \t Train Loss AVG: 0.1502, Dev Loss AVG: 0.1317\n",
      "\tDone Epoch: 26/50, \t Train WER AVG: 0.08822, Dev WER AVG: 0.2228\n"
     ]
    },
    {
     "data": {
      "application/vnd.jupyter.widget-view+json": {
       "model_id": "c3051b5d3ca941aba31c96ee477fe6f0",
       "version_major": 2,
       "version_minor": 0
      },
      "text/plain": [
       "Train:   0%|          | 0/1624 [00:00<?, ?it/s]"
      ]
     },
     "metadata": {},
     "output_type": "display_data"
    },
    {
     "data": {
      "application/vnd.jupyter.widget-view+json": {
       "model_id": "bea629c4e8e242899d40df578a00ee25",
       "version_major": 2,
       "version_minor": 0
      },
      "text/plain": [
       "Dev:   0%|          | 0/43 [00:00<?, ?it/s]"
      ]
     },
     "metadata": {},
     "output_type": "display_data"
    },
    {
     "name": "stdout",
     "output_type": "stream",
     "text": [
      "\tDone Epoch: 27/50, \t Train Loss AVG: 0.1483, Dev Loss AVG: 0.108\n",
      "\tDone Epoch: 27/50, \t Train WER AVG: 0.08753, Dev WER AVG: 0.1698\n"
     ]
    },
    {
     "data": {
      "application/vnd.jupyter.widget-view+json": {
       "model_id": "dec83bb3ae754fa5b2c1f28dd80fda84",
       "version_major": 2,
       "version_minor": 0
      },
      "text/plain": [
       "Train:   0%|          | 0/1624 [00:00<?, ?it/s]"
      ]
     },
     "metadata": {},
     "output_type": "display_data"
    },
    {
     "data": {
      "application/vnd.jupyter.widget-view+json": {
       "model_id": "04fdd318328146ebacd587e524cb9450",
       "version_major": 2,
       "version_minor": 0
      },
      "text/plain": [
       "Dev:   0%|          | 0/43 [00:00<?, ?it/s]"
      ]
     },
     "metadata": {},
     "output_type": "display_data"
    },
    {
     "name": "stdout",
     "output_type": "stream",
     "text": [
      "\tDone Epoch: 28/50, \t Train Loss AVG: 0.1464, Dev Loss AVG: 0.1017\n",
      "\tDone Epoch: 28/50, \t Train WER AVG: 0.08707, Dev WER AVG: 0.1551\n"
     ]
    },
    {
     "data": {
      "application/vnd.jupyter.widget-view+json": {
       "model_id": "edf83474a51b46568873b08c5372c36e",
       "version_major": 2,
       "version_minor": 0
      },
      "text/plain": [
       "Train:   0%|          | 0/1624 [00:00<?, ?it/s]"
      ]
     },
     "metadata": {},
     "output_type": "display_data"
    },
    {
     "data": {
      "application/vnd.jupyter.widget-view+json": {
       "model_id": "0c87ca33a135431bb2d047248992ba65",
       "version_major": 2,
       "version_minor": 0
      },
      "text/plain": [
       "Dev:   0%|          | 0/43 [00:00<?, ?it/s]"
      ]
     },
     "metadata": {},
     "output_type": "display_data"
    },
    {
     "name": "stdout",
     "output_type": "stream",
     "text": [
      "\tDone Epoch: 29/50, \t Train Loss AVG: 0.1442, Dev Loss AVG: 0.1155\n",
      "\tDone Epoch: 29/50, \t Train WER AVG: 0.08627, Dev WER AVG: 0.192\n"
     ]
    },
    {
     "data": {
      "application/vnd.jupyter.widget-view+json": {
       "model_id": "ffe38fbb611446028bd87f10030c38e9",
       "version_major": 2,
       "version_minor": 0
      },
      "text/plain": [
       "Train:   0%|          | 0/1624 [00:00<?, ?it/s]"
      ]
     },
     "metadata": {},
     "output_type": "display_data"
    },
    {
     "data": {
      "application/vnd.jupyter.widget-view+json": {
       "model_id": "bfd98effde104c8aa41f8b499e26a7e0",
       "version_major": 2,
       "version_minor": 0
      },
      "text/plain": [
       "Dev:   0%|          | 0/43 [00:00<?, ?it/s]"
      ]
     },
     "metadata": {},
     "output_type": "display_data"
    },
    {
     "name": "stdout",
     "output_type": "stream",
     "text": [
      "\tDone Epoch: 30/50, \t Train Loss AVG: 0.1425, Dev Loss AVG: 0.1381\n",
      "\tDone Epoch: 30/50, \t Train WER AVG: 0.08572, Dev WER AVG: 0.2447\n"
     ]
    },
    {
     "data": {
      "application/vnd.jupyter.widget-view+json": {
       "model_id": "0be6a3948ec34e579949345f83fb2085",
       "version_major": 2,
       "version_minor": 0
      },
      "text/plain": [
       "Train:   0%|          | 0/1624 [00:00<?, ?it/s]"
      ]
     },
     "metadata": {},
     "output_type": "display_data"
    },
    {
     "data": {
      "application/vnd.jupyter.widget-view+json": {
       "model_id": "276fcd15548444c39fe619ad6fa4eb56",
       "version_major": 2,
       "version_minor": 0
      },
      "text/plain": [
       "Dev:   0%|          | 0/43 [00:00<?, ?it/s]"
      ]
     },
     "metadata": {},
     "output_type": "display_data"
    },
    {
     "name": "stdout",
     "output_type": "stream",
     "text": [
      "\tDone Epoch: 31/50, \t Train Loss AVG: 0.1408, Dev Loss AVG: 0.1265\n",
      "\tDone Epoch: 31/50, \t Train WER AVG: 0.08515, Dev WER AVG: 0.2147\n"
     ]
    },
    {
     "data": {
      "application/vnd.jupyter.widget-view+json": {
       "model_id": "a8c1b085636c4f00b2a0f48c56d62223",
       "version_major": 2,
       "version_minor": 0
      },
      "text/plain": [
       "Train:   0%|          | 0/1624 [00:00<?, ?it/s]"
      ]
     },
     "metadata": {},
     "output_type": "display_data"
    },
    {
     "data": {
      "application/vnd.jupyter.widget-view+json": {
       "model_id": "f371a43e7d2045d0b01ba52ef41211b7",
       "version_major": 2,
       "version_minor": 0
      },
      "text/plain": [
       "Dev:   0%|          | 0/43 [00:00<?, ?it/s]"
      ]
     },
     "metadata": {},
     "output_type": "display_data"
    },
    {
     "name": "stdout",
     "output_type": "stream",
     "text": [
      "\tDone Epoch: 32/50, \t Train Loss AVG: 0.139, Dev Loss AVG: 0.131\n",
      "\tDone Epoch: 32/50, \t Train WER AVG: 0.08462, Dev WER AVG: 0.2252\n"
     ]
    },
    {
     "data": {
      "application/vnd.jupyter.widget-view+json": {
       "model_id": "1d31417eaf5546979b51b427d9c8a8d4",
       "version_major": 2,
       "version_minor": 0
      },
      "text/plain": [
       "Train:   0%|          | 0/1624 [00:00<?, ?it/s]"
      ]
     },
     "metadata": {},
     "output_type": "display_data"
    },
    {
     "data": {
      "application/vnd.jupyter.widget-view+json": {
       "model_id": "b3f7fd19941b44a7b019a2e4190f8683",
       "version_major": 2,
       "version_minor": 0
      },
      "text/plain": [
       "Dev:   0%|          | 0/43 [00:00<?, ?it/s]"
      ]
     },
     "metadata": {},
     "output_type": "display_data"
    },
    {
     "name": "stdout",
     "output_type": "stream",
     "text": [
      "\tDone Epoch: 33/50, \t Train Loss AVG: 0.1372, Dev Loss AVG: 0.1392\n",
      "\tDone Epoch: 33/50, \t Train WER AVG: 0.08396, Dev WER AVG: 0.2459\n"
     ]
    },
    {
     "data": {
      "application/vnd.jupyter.widget-view+json": {
       "model_id": "cf4f7ab9534d4e18a8568f3bf743ae11",
       "version_major": 2,
       "version_minor": 0
      },
      "text/plain": [
       "Train:   0%|          | 0/1624 [00:00<?, ?it/s]"
      ]
     },
     "metadata": {},
     "output_type": "display_data"
    },
    {
     "data": {
      "application/vnd.jupyter.widget-view+json": {
       "model_id": "0ab46640800447a8999e435f152215f9",
       "version_major": 2,
       "version_minor": 0
      },
      "text/plain": [
       "Dev:   0%|          | 0/43 [00:00<?, ?it/s]"
      ]
     },
     "metadata": {},
     "output_type": "display_data"
    },
    {
     "name": "stdout",
     "output_type": "stream",
     "text": [
      "\tDone Epoch: 34/50, \t Train Loss AVG: 0.1356, Dev Loss AVG: 0.1284\n",
      "\tDone Epoch: 34/50, \t Train WER AVG: 0.08332, Dev WER AVG: 0.2253\n"
     ]
    },
    {
     "data": {
      "application/vnd.jupyter.widget-view+json": {
       "model_id": "0b17989186ef4f4885e2aa00dc6c01c8",
       "version_major": 2,
       "version_minor": 0
      },
      "text/plain": [
       "Train:   0%|          | 0/1624 [00:00<?, ?it/s]"
      ]
     },
     "metadata": {},
     "output_type": "display_data"
    },
    {
     "data": {
      "application/vnd.jupyter.widget-view+json": {
       "model_id": "01cf64e779b1449d9a5c87499158e848",
       "version_major": 2,
       "version_minor": 0
      },
      "text/plain": [
       "Dev:   0%|          | 0/43 [00:00<?, ?it/s]"
      ]
     },
     "metadata": {},
     "output_type": "display_data"
    },
    {
     "name": "stdout",
     "output_type": "stream",
     "text": [
      "\tDone Epoch: 35/50, \t Train Loss AVG: 0.134, Dev Loss AVG: 0.1107\n",
      "\tDone Epoch: 35/50, \t Train WER AVG: 0.08302, Dev WER AVG: 0.1751\n"
     ]
    },
    {
     "data": {
      "application/vnd.jupyter.widget-view+json": {
       "model_id": "2b667c6be6504457904e4f412fd0f720",
       "version_major": 2,
       "version_minor": 0
      },
      "text/plain": [
       "Train:   0%|          | 0/1624 [00:00<?, ?it/s]"
      ]
     },
     "metadata": {},
     "output_type": "display_data"
    },
    {
     "data": {
      "application/vnd.jupyter.widget-view+json": {
       "model_id": "c87fc41053b44b0397208db40d78774e",
       "version_major": 2,
       "version_minor": 0
      },
      "text/plain": [
       "Dev:   0%|          | 0/43 [00:00<?, ?it/s]"
      ]
     },
     "metadata": {},
     "output_type": "display_data"
    },
    {
     "name": "stdout",
     "output_type": "stream",
     "text": [
      "\tDone Epoch: 36/50, \t Train Loss AVG: 0.1324, Dev Loss AVG: 0.1301\n",
      "\tDone Epoch: 36/50, \t Train WER AVG: 0.08253, Dev WER AVG: 0.2322\n"
     ]
    },
    {
     "data": {
      "application/vnd.jupyter.widget-view+json": {
       "model_id": "e810181165014138a5f679cbe8a6b0a0",
       "version_major": 2,
       "version_minor": 0
      },
      "text/plain": [
       "Train:   0%|          | 0/1624 [00:00<?, ?it/s]"
      ]
     },
     "metadata": {},
     "output_type": "display_data"
    },
    {
     "data": {
      "application/vnd.jupyter.widget-view+json": {
       "model_id": "e019a15b4bf64bcda1015e1076662bb1",
       "version_major": 2,
       "version_minor": 0
      },
      "text/plain": [
       "Dev:   0%|          | 0/43 [00:00<?, ?it/s]"
      ]
     },
     "metadata": {},
     "output_type": "display_data"
    },
    {
     "name": "stdout",
     "output_type": "stream",
     "text": [
      "\tDone Epoch: 37/50, \t Train Loss AVG: 0.1309, Dev Loss AVG: 0.1409\n",
      "\tDone Epoch: 37/50, \t Train WER AVG: 0.08196, Dev WER AVG: 0.253\n"
     ]
    },
    {
     "data": {
      "application/vnd.jupyter.widget-view+json": {
       "model_id": "c636bb5862d94a57bf1c35c763566248",
       "version_major": 2,
       "version_minor": 0
      },
      "text/plain": [
       "Train:   0%|          | 0/1624 [00:00<?, ?it/s]"
      ]
     },
     "metadata": {},
     "output_type": "display_data"
    },
    {
     "data": {
      "application/vnd.jupyter.widget-view+json": {
       "model_id": "69afc5d5554f4c74927677c38b66c153",
       "version_major": 2,
       "version_minor": 0
      },
      "text/plain": [
       "Dev:   0%|          | 0/43 [00:00<?, ?it/s]"
      ]
     },
     "metadata": {},
     "output_type": "display_data"
    },
    {
     "name": "stdout",
     "output_type": "stream",
     "text": [
      "\tDone Epoch: 38/50, \t Train Loss AVG: 0.1292, Dev Loss AVG: 0.0919\n",
      "\tDone Epoch: 38/50, \t Train WER AVG: 0.08122, Dev WER AVG: 0.1078\n"
     ]
    },
    {
     "data": {
      "application/vnd.jupyter.widget-view+json": {
       "model_id": "a76601832a5144d69ebc61eba267c97f",
       "version_major": 2,
       "version_minor": 0
      },
      "text/plain": [
       "Train:   0%|          | 0/1624 [00:00<?, ?it/s]"
      ]
     },
     "metadata": {},
     "output_type": "display_data"
    },
    {
     "data": {
      "application/vnd.jupyter.widget-view+json": {
       "model_id": "55fefe8135994e66bb6c291f4b1c785d",
       "version_major": 2,
       "version_minor": 0
      },
      "text/plain": [
       "Dev:   0%|          | 0/43 [00:00<?, ?it/s]"
      ]
     },
     "metadata": {},
     "output_type": "display_data"
    },
    {
     "name": "stdout",
     "output_type": "stream",
     "text": [
      "\tDone Epoch: 39/50, \t Train Loss AVG: 0.1279, Dev Loss AVG: 0.09502\n",
      "\tDone Epoch: 39/50, \t Train WER AVG: 0.08087, Dev WER AVG: 0.1297\n"
     ]
    },
    {
     "data": {
      "application/vnd.jupyter.widget-view+json": {
       "model_id": "455598d854324084bd8aa5f9037195b3",
       "version_major": 2,
       "version_minor": 0
      },
      "text/plain": [
       "Train:   0%|          | 0/1624 [00:00<?, ?it/s]"
      ]
     },
     "metadata": {},
     "output_type": "display_data"
    },
    {
     "data": {
      "application/vnd.jupyter.widget-view+json": {
       "model_id": "79d5246e06514fdeb95c8aa7a3cec5aa",
       "version_major": 2,
       "version_minor": 0
      },
      "text/plain": [
       "Dev:   0%|          | 0/43 [00:00<?, ?it/s]"
      ]
     },
     "metadata": {},
     "output_type": "display_data"
    },
    {
     "name": "stdout",
     "output_type": "stream",
     "text": [
      "\tDone Epoch: 40/50, \t Train Loss AVG: 0.1263, Dev Loss AVG: 0.09956\n",
      "\tDone Epoch: 40/50, \t Train WER AVG: 0.08041, Dev WER AVG: 0.1494\n"
     ]
    },
    {
     "data": {
      "application/vnd.jupyter.widget-view+json": {
       "model_id": "8e7b9c553ee145f38869199f51a2062e",
       "version_major": 2,
       "version_minor": 0
      },
      "text/plain": [
       "Train:   0%|          | 0/1624 [00:00<?, ?it/s]"
      ]
     },
     "metadata": {},
     "output_type": "display_data"
    },
    {
     "data": {
      "application/vnd.jupyter.widget-view+json": {
       "model_id": "9249c57866604e6c8fe3cab8030f8db8",
       "version_major": 2,
       "version_minor": 0
      },
      "text/plain": [
       "Dev:   0%|          | 0/43 [00:00<?, ?it/s]"
      ]
     },
     "metadata": {},
     "output_type": "display_data"
    },
    {
     "name": "stdout",
     "output_type": "stream",
     "text": [
      "\tDone Epoch: 41/50, \t Train Loss AVG: 0.125, Dev Loss AVG: 0.1009\n",
      "\tDone Epoch: 41/50, \t Train WER AVG: 0.07966, Dev WER AVG: 0.1484\n"
     ]
    },
    {
     "data": {
      "application/vnd.jupyter.widget-view+json": {
       "model_id": "dde7e590b2c74cc4a0e1b9f7d26b6102",
       "version_major": 2,
       "version_minor": 0
      },
      "text/plain": [
       "Train:   0%|          | 0/1624 [00:00<?, ?it/s]"
      ]
     },
     "metadata": {},
     "output_type": "display_data"
    },
    {
     "data": {
      "application/vnd.jupyter.widget-view+json": {
       "model_id": "8fef54a902c94b9992f01fc2a2c8d24d",
       "version_major": 2,
       "version_minor": 0
      },
      "text/plain": [
       "Dev:   0%|          | 0/43 [00:00<?, ?it/s]"
      ]
     },
     "metadata": {},
     "output_type": "display_data"
    },
    {
     "name": "stdout",
     "output_type": "stream",
     "text": [
      "\tDone Epoch: 42/50, \t Train Loss AVG: 0.1235, Dev Loss AVG: 0.1111\n",
      "\tDone Epoch: 42/50, \t Train WER AVG: 0.07912, Dev WER AVG: 0.1843\n"
     ]
    },
    {
     "data": {
      "application/vnd.jupyter.widget-view+json": {
       "model_id": "03ebc9372d8241d1a5e0fe15585807da",
       "version_major": 2,
       "version_minor": 0
      },
      "text/plain": [
       "Train:   0%|          | 0/1624 [00:00<?, ?it/s]"
      ]
     },
     "metadata": {},
     "output_type": "display_data"
    },
    {
     "data": {
      "application/vnd.jupyter.widget-view+json": {
       "model_id": "11641da0120e4cca85423f6eccfa5aa5",
       "version_major": 2,
       "version_minor": 0
      },
      "text/plain": [
       "Dev:   0%|          | 0/43 [00:00<?, ?it/s]"
      ]
     },
     "metadata": {},
     "output_type": "display_data"
    },
    {
     "name": "stdout",
     "output_type": "stream",
     "text": [
      "\tDone Epoch: 43/50, \t Train Loss AVG: 0.1223, Dev Loss AVG: 0.1384\n",
      "\tDone Epoch: 43/50, \t Train WER AVG: 0.07891, Dev WER AVG: 0.2531\n"
     ]
    },
    {
     "data": {
      "application/vnd.jupyter.widget-view+json": {
       "model_id": "85c97381eb094415b058bc294921a577",
       "version_major": 2,
       "version_minor": 0
      },
      "text/plain": [
       "Train:   0%|          | 0/1624 [00:00<?, ?it/s]"
      ]
     },
     "metadata": {},
     "output_type": "display_data"
    },
    {
     "data": {
      "application/vnd.jupyter.widget-view+json": {
       "model_id": "362acff56cdb4aaf9b288b1005f40ed2",
       "version_major": 2,
       "version_minor": 0
      },
      "text/plain": [
       "Dev:   0%|          | 0/43 [00:00<?, ?it/s]"
      ]
     },
     "metadata": {},
     "output_type": "display_data"
    },
    {
     "name": "stdout",
     "output_type": "stream",
     "text": [
      "\tDone Epoch: 44/50, \t Train Loss AVG: 0.121, Dev Loss AVG: 0.1295\n",
      "\tDone Epoch: 44/50, \t Train WER AVG: 0.07834, Dev WER AVG: 0.2363\n"
     ]
    },
    {
     "data": {
      "application/vnd.jupyter.widget-view+json": {
       "model_id": "a8c3f65a8018418e88e150255caa049f",
       "version_major": 2,
       "version_minor": 0
      },
      "text/plain": [
       "Train:   0%|          | 0/1624 [00:00<?, ?it/s]"
      ]
     },
     "metadata": {},
     "output_type": "display_data"
    },
    {
     "data": {
      "application/vnd.jupyter.widget-view+json": {
       "model_id": "55d14cd323e544fa9ebe61087c17e818",
       "version_major": 2,
       "version_minor": 0
      },
      "text/plain": [
       "Dev:   0%|          | 0/43 [00:00<?, ?it/s]"
      ]
     },
     "metadata": {},
     "output_type": "display_data"
    },
    {
     "name": "stdout",
     "output_type": "stream",
     "text": [
      "\tDone Epoch: 45/50, \t Train Loss AVG: 0.1195, Dev Loss AVG: 0.1061\n",
      "\tDone Epoch: 45/50, \t Train WER AVG: 0.07789, Dev WER AVG: 0.1697\n"
     ]
    },
    {
     "data": {
      "application/vnd.jupyter.widget-view+json": {
       "model_id": "863666fdf92045dd806b866eab6c06be",
       "version_major": 2,
       "version_minor": 0
      },
      "text/plain": [
       "Train:   0%|          | 0/1624 [00:00<?, ?it/s]"
      ]
     },
     "metadata": {},
     "output_type": "display_data"
    },
    {
     "data": {
      "application/vnd.jupyter.widget-view+json": {
       "model_id": "a4669db3eca048fda7c4240828d7f92a",
       "version_major": 2,
       "version_minor": 0
      },
      "text/plain": [
       "Dev:   0%|          | 0/43 [00:00<?, ?it/s]"
      ]
     },
     "metadata": {},
     "output_type": "display_data"
    },
    {
     "name": "stdout",
     "output_type": "stream",
     "text": [
      "\tDone Epoch: 46/50, \t Train Loss AVG: 0.1184, Dev Loss AVG: 0.09773\n",
      "\tDone Epoch: 46/50, \t Train WER AVG: 0.07739, Dev WER AVG: 0.136\n"
     ]
    },
    {
     "data": {
      "application/vnd.jupyter.widget-view+json": {
       "model_id": "4f55992e863a4727a023d32d52d75522",
       "version_major": 2,
       "version_minor": 0
      },
      "text/plain": [
       "Train:   0%|          | 0/1624 [00:00<?, ?it/s]"
      ]
     },
     "metadata": {},
     "output_type": "display_data"
    },
    {
     "data": {
      "application/vnd.jupyter.widget-view+json": {
       "model_id": "524bb223376c445ab48d5085c8e3fed1",
       "version_major": 2,
       "version_minor": 0
      },
      "text/plain": [
       "Dev:   0%|          | 0/43 [00:00<?, ?it/s]"
      ]
     },
     "metadata": {},
     "output_type": "display_data"
    },
    {
     "name": "stdout",
     "output_type": "stream",
     "text": [
      "\tDone Epoch: 47/50, \t Train Loss AVG: 0.117, Dev Loss AVG: 0.1168\n",
      "\tDone Epoch: 47/50, \t Train WER AVG: 0.07692, Dev WER AVG: 0.198\n"
     ]
    },
    {
     "data": {
      "application/vnd.jupyter.widget-view+json": {
       "model_id": "a5636ba521aa4452938e5cc69c24efc4",
       "version_major": 2,
       "version_minor": 0
      },
      "text/plain": [
       "Train:   0%|          | 0/1624 [00:00<?, ?it/s]"
      ]
     },
     "metadata": {},
     "output_type": "display_data"
    },
    {
     "data": {
      "application/vnd.jupyter.widget-view+json": {
       "model_id": "fab95d0e04ee415ebffcedfe2923feaa",
       "version_major": 2,
       "version_minor": 0
      },
      "text/plain": [
       "Dev:   0%|          | 0/43 [00:00<?, ?it/s]"
      ]
     },
     "metadata": {},
     "output_type": "display_data"
    },
    {
     "name": "stdout",
     "output_type": "stream",
     "text": [
      "\tDone Epoch: 48/50, \t Train Loss AVG: 0.1158, Dev Loss AVG: 0.1093\n",
      "\tDone Epoch: 48/50, \t Train WER AVG: 0.0765, Dev WER AVG: 0.1687\n"
     ]
    },
    {
     "data": {
      "application/vnd.jupyter.widget-view+json": {
       "model_id": "36d1c9734c784666ba54e4f29cf9f94c",
       "version_major": 2,
       "version_minor": 0
      },
      "text/plain": [
       "Train:   0%|          | 0/1624 [00:00<?, ?it/s]"
      ]
     },
     "metadata": {},
     "output_type": "display_data"
    },
    {
     "data": {
      "application/vnd.jupyter.widget-view+json": {
       "model_id": "9332932b6bc54a7aa3a2fd18574c760a",
       "version_major": 2,
       "version_minor": 0
      },
      "text/plain": [
       "Dev:   0%|          | 0/43 [00:00<?, ?it/s]"
      ]
     },
     "metadata": {},
     "output_type": "display_data"
    },
    {
     "name": "stdout",
     "output_type": "stream",
     "text": [
      "\tDone Epoch: 49/50, \t Train Loss AVG: 0.1145, Dev Loss AVG: 0.1232\n",
      "\tDone Epoch: 49/50, \t Train WER AVG: 0.07601, Dev WER AVG: 0.2022\n"
     ]
    },
    {
     "data": {
      "application/vnd.jupyter.widget-view+json": {
       "model_id": "b2ad9e30735c4eaf95abaccd236a00a8",
       "version_major": 2,
       "version_minor": 0
      },
      "text/plain": [
       "Train:   0%|          | 0/1624 [00:00<?, ?it/s]"
      ]
     },
     "metadata": {},
     "output_type": "display_data"
    },
    {
     "data": {
      "application/vnd.jupyter.widget-view+json": {
       "model_id": "038dd62bc7a843b08058bcddf74b2afc",
       "version_major": 2,
       "version_minor": 0
      },
      "text/plain": [
       "Dev:   0%|          | 0/43 [00:00<?, ?it/s]"
      ]
     },
     "metadata": {},
     "output_type": "display_data"
    },
    {
     "name": "stdout",
     "output_type": "stream",
     "text": [
      "\tDone Epoch: 50/50, \t Train Loss AVG: 0.1134, Dev Loss AVG: 0.1287\n",
      "\tDone Epoch: 50/50, \t Train WER AVG: 0.07556, Dev WER AVG: 0.2139\n"
     ]
    }
   ],
   "source": [
    "orig_model = RecACEWrapModel(t5_type=t5_type, model_type='original', bin_size=bin_size, use_pretrained=True)\n",
    "orig_model.to(DEVICE)\n",
    "\n",
    "orig_criterion = torch.nn.CrossEntropyLoss()\n",
    "orig_optimizer = torch.optim.Adam(orig_model.parameters(), lr=1e-4)\n",
    "\n",
    "orig_model, orig_metrics = training(model=orig_model,\n",
    "                          n_epochs=3 if debug else 50,\n",
    "                          train_data=train_loader,\n",
    "                          dev_data=dev_loader,\n",
    "                          optimizer=orig_optimizer,\n",
    "                          criterion=orig_criterion)"
   ]
  },
  {
   "cell_type": "code",
   "execution_count": 12,
   "id": "3ffd882c",
   "metadata": {},
   "outputs": [
    {
     "data": {
      "image/png": "[encoded data removed]",
      "text/plain": [
       "<Figure size 576x1008 with 2 Axes>"
      ]
     },
     "metadata": {
      "needs_background": "light"
     },
     "output_type": "display_data"
    }
   ],
   "source": [
    "plot_graphs(orig_metrics)"
   ]
  },
  {
   "cell_type": "markdown",
   "id": "fcff395e",
   "metadata": {},
   "source": [
    "## Experiments\n",
    "\n",
    "1. Training the following models:\n",
    "    1. Calculate WER on Dev on 'Clean' and 'Other'\n",
    "    1. T5 w/o confidence on 'Clean'\n",
    "    1. T5 w/ confidence on 'Clean'\n",
    "    1. T5 w/o confidence on 'Other'\n",
    "    1. T5 w/ confidence on 'Other'\n",
    "    *. T5 (large) w/ confidence on 'Clean'\n",
    "    *. T5 (large) w/o confidence on 'Clean'\n",
    "    *. Prompt Engineering w/ confidence on 'Clean'\n",
    "    *. Prompt Engineering w/o confidence on 'Clean'\n",
    "\n",
    "1. Evaluate performance on Test Dataset\n",
    "    1. Calculate WER on Test set on 'Clean' and 'Other'\n",
    "    1. for every BEST model above calculate WER on 'Clean' and 'Other'"
   ]
  }
 ],
 "metadata": {
  "kernelspec": {
   "display_name": "Python 3 (ipykernel)",
   "language": "python",
   "name": "python3"
  },
  "language_info": {
   "codemirror_mode": {
    "name": "ipython",
    "version": 3
   },
   "file_extension": ".py",
   "mimetype": "text/x-python",
   "name": "python",
   "nbconvert_exporter": "python",
   "pygments_lexer": "ipython3",
   "version": "3.8.5"
  }
 },
 "nbformat": 4,
 "nbformat_minor": 5
}
