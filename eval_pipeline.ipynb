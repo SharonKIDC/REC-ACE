{
 "cells": [
  {
   "cell_type": "markdown",
   "metadata": {
    "pycharm": {
     "name": "#%% md\n"
    }
   },
   "source": [
    "# Imports"
   ]
  },
  {
   "cell_type": "code",
   "execution_count": 1,
   "metadata": {
    "pycharm": {
     "name": "#%%\n"
    }
   },
   "outputs": [],
   "source": [
    "import os\n",
    "import random\n",
    "\n",
    "import torch\n",
    "import numpy as np\n",
    "import pandas as pd\n",
    "from tabulate import tabulate\n",
    "from transformers import T5Tokenizer\n",
    "\n",
    "from evaluation import Evaluator\n",
    "from data_utils.dataset import prepare_data_basic\n",
    "from data_utils.utils import read_json\n",
    "from models.rec_ace import RecACEWrapModel, detokenize_and_clean"
   ]
  },
  {
   "cell_type": "markdown",
   "metadata": {
    "pycharm": {
     "name": "#%% md\n"
    }
   },
   "source": [
    "## Seeds"
   ]
  },
  {
   "cell_type": "code",
   "execution_count": 2,
   "metadata": {
    "pycharm": {
     "name": "#%%\n"
    }
   },
   "outputs": [
    {
     "data": {
      "text/plain": "<torch._C.Generator at 0x132d4f130>"
     },
     "execution_count": 2,
     "metadata": {},
     "output_type": "execute_result"
    }
   ],
   "source": [
    "SEED = 42\n",
    "\n",
    "# Set the random seed for Python\n",
    "random.seed(SEED)\n",
    "\n",
    "# Set the random seed for numpy\n",
    "np.random.seed(SEED)\n",
    "\n",
    "torch.manual_seed(SEED)"
   ]
  },
  {
   "cell_type": "markdown",
   "metadata": {
    "pycharm": {
     "name": "#%% md\n"
    }
   },
   "source": [
    "# Data Paths"
   ]
  },
  {
   "cell_type": "code",
   "execution_count": 3,
   "metadata": {
    "pycharm": {
     "name": "#%%\n"
    }
   },
   "outputs": [],
   "source": [
    "datasets_dict = {\n",
    "    # Default\n",
    "    'Default Test Clean': 'data/default/test_clean.json',\n",
    "    'Default Test Other': 'data/default/test_other.json',\n",
    "    # Video\n",
    "    'Video Test Clean': 'data/video/test_clean.json',\n",
    "    'Video Test Other': 'data/video/test_other.json', \n",
    "}"
   ]
  },
  {
   "cell_type": "markdown",
   "metadata": {
    "pycharm": {
     "name": "#%% md\n"
    }
   },
   "source": [
    "# Load essentials"
   ]
  },
  {
   "cell_type": "code",
   "execution_count": 4,
   "metadata": {
    "pycharm": {
     "name": "#%%\n"
    }
   },
   "outputs": [
    {
     "data": {
      "text/plain": "'cpu'"
     },
     "execution_count": 4,
     "metadata": {},
     "output_type": "execute_result"
    }
   ],
   "source": [
    "DEVICE = 'cuda' if torch.cuda.is_available() else 'cpu'\n",
    "DEVICE"
   ]
  },
  {
   "cell_type": "code",
   "execution_count": 5,
   "metadata": {
    "pycharm": {
     "name": "#%%\n"
    }
   },
   "outputs": [],
   "source": [
    "# Base architecture\n",
    "t5_type = 't5-small'\n",
    "\n",
    "# How to quantize the confidence vectors [only required for rec_ac]\n",
    "bin_size=10\n",
    "\n",
    "results_dir = './results'"
   ]
  },
  {
   "cell_type": "markdown",
   "metadata": {
    "pycharm": {
     "name": "#%% md\n"
    }
   },
   "source": [
    "### Tokenizer"
   ]
  },
  {
   "cell_type": "code",
   "execution_count": 6,
   "metadata": {
    "pycharm": {
     "name": "#%%\n"
    }
   },
   "outputs": [
    {
     "name": "stderr",
     "output_type": "stream",
     "text": [
      "You are using the legacy behaviour of the <class 'transformers.models.t5.tokenization_t5.T5Tokenizer'>. This means that tokens that come after special tokens will not be properly handled. We recommend you to read the related pull request available at https://github.com/huggingface/transformers/pull/24565\n"
     ]
    }
   ],
   "source": [
    "tokenizer = T5Tokenizer.from_pretrained(\"t5-small\")"
   ]
  },
  {
   "cell_type": "markdown",
   "metadata": {
    "pycharm": {
     "name": "#%% md\n"
    }
   },
   "source": [
    "## Read Data"
   ]
  },
  {
   "cell_type": "code",
   "execution_count": 7,
   "metadata": {
    "pycharm": {
     "name": "#%%\n"
    }
   },
   "outputs": [],
   "source": [
    "test_set = read_json(json_path=datasets_dict['Default Test Clean'])\n",
    "test_set_other = read_json(json_path=datasets_dict['Default Test Other'])"
   ]
  },
  {
   "cell_type": "markdown",
   "metadata": {
    "pycharm": {
     "name": "#%% md\n"
    }
   },
   "source": [
    "## Prepare as DataLoader"
   ]
  },
  {
   "cell_type": "code",
   "execution_count": 18,
   "metadata": {
    "pycharm": {
     "name": "#%%\n"
    }
   },
   "outputs": [
    {
     "name": "stdout",
     "output_type": "stream",
     "text": [
      "- Converting the input sentences into tokens\n",
      "- Converting the GT sentences into tokens\n",
      "- Converting the input sentences into tokens\n",
      "- Converting the GT sentences into tokens\n"
     ]
    }
   ],
   "source": [
    "batch_size = 8\n",
    "test_loader = prepare_data_basic(data=test_set , tokenizer=tokenizer, batch_size=batch_size, shuffle=False)\n",
    "test_loader_other = prepare_data_basic(data=test_set_other , tokenizer=tokenizer, batch_size=batch_size, shuffle=False)"
   ]
  },
  {
   "cell_type": "markdown",
   "metadata": {
    "pycharm": {
     "name": "#%% md\n"
    }
   },
   "source": [
    "# Evaluation"
   ]
  },
  {
   "cell_type": "markdown",
   "metadata": {
    "pycharm": {
     "name": "#%% md\n"
    }
   },
   "source": [
    "Define metrics for evaluation:\n",
    "1. WER - Word Error Rate\n",
    "1. EM - Exact Match\n",
    "1. BLEU - Bilingual Evaluation Understudy\n",
    "1. GLEU\n",
    "1. BERT - Bert Score"
   ]
  },
  {
   "cell_type": "code",
   "execution_count": 9,
   "metadata": {
    "pycharm": {
     "name": "#%%\n"
    }
   },
   "outputs": [],
   "source": [
    "eval_metrics = ['wer', 'em']"
   ]
  },
  {
   "cell_type": "code",
   "execution_count": 10,
   "metadata": {
    "pycharm": {
     "name": "#%%\n"
    }
   },
   "outputs": [],
   "source": [
    "def evaluate_model_performance(model, metrics=eval_metrics, data_loaders={'Clean': test_loader, 'Other': test_loader_other}):\n",
    "\n",
    "    evaluators = {}\n",
    "    data_types = list(data_loaders.keys())\n",
    "\n",
    "    ### Evaluate TEST set\n",
    "    model.eval()\n",
    "\n",
    "    for data_type in data_types:\n",
    "        evaluator = Evaluator(metrics=metrics, set_types=['test'])\n",
    "\n",
    "        # No need for gradients when evaluating\n",
    "        with torch.no_grad():\n",
    "            for batch in data_loaders[data_type]:\n",
    "\n",
    "                X = batch['sentences'].to(DEVICE)\n",
    "                S = batch['scores'].to(DEVICE)\n",
    "                y = batch['labels'].to(DEVICE)\n",
    "\n",
    "                test_preds = model(input_ids=X, labels=y, scores_ids=S)\n",
    "                test_logits = test_preds.logits\n",
    "\n",
    "                test_reference = detokenize_and_clean(tokenizer, y)\n",
    "                test_predicted = detokenize_and_clean(tokenizer, test_logits.argmax(dim=-1))\n",
    "                \n",
    "                evaluator.calculate_metrics(set_type='test', reference=test_reference, predicted=test_predicted)\n",
    "\n",
    "        evaluator.end_epoch_routine(print_metrics=False)\n",
    "        evaluators[data_type] = evaluator\n",
    "\n",
    "    return {data_type: evaluator.metrics_df for data_type, evaluator in evaluators.items()}"
   ]
  },
  {
   "cell_type": "code",
   "execution_count": 11,
   "metadata": {
    "pycharm": {
     "name": "#%%\n"
    }
   },
   "outputs": [],
   "source": [
    "def print_metrics_comp_table(evals_df_dict, title='Metrics Comparison'):\n",
    "    # merge all dfs from evals_df_dict, use the keys as an index. Each df has only one line so it's ok\n",
    "    # don't use the old index\n",
    "    evals_df = pd.concat(evals_df_dict.values(), keys=evals_df_dict.keys()).reset_index(level=1, drop=True)\n",
    "\n",
    "    print(title)\n",
    "    print(tabulate(evals_df, headers='keys', tablefmt='psql', floatfmt='.4f'))\n",
    "    print()"
   ]
  },
  {
   "cell_type": "markdown",
   "metadata": {
    "pycharm": {
     "name": "#%% md\n"
    }
   },
   "source": [
    "# Evaluating metrics for the ASR"
   ]
  },
  {
   "cell_type": "code",
   "execution_count": 23,
   "metadata": {
    "pycharm": {
     "name": "#%%\n"
    }
   },
   "outputs": [
    {
     "name": "stdout",
     "output_type": "stream",
     "text": [
      "Running ASR evaluation on Clean datasets\n",
      "Test Metrics:\n",
      "+----+-------+-------+\n",
      "|    |   wer |    em |\n",
      "|----+-------+-------|\n",
      "|  1 | 0.129 | 0.288 |\n",
      "+----+-------+-------+\n",
      "\n",
      "\n",
      "Running ASR evaluation on Other datasets\n",
      "Test Metrics:\n",
      "+----+-------+-------+\n",
      "|    |   wer |    em |\n",
      "|----+-------+-------|\n",
      "|  1 | 0.315 | 0.135 |\n",
      "+----+-------+-------+\n",
      "\n",
      "\n"
     ]
    }
   ],
   "source": [
    "asr_evaluators = {}\n",
    "\n",
    "for data_type in ['Clean', 'Other']:\n",
    "\n",
    "    # Print data type header\n",
    "    print(f'Running ASR evaluation on {data_type} datasets')\n",
    "\n",
    "    asr_evaluator = Evaluator(metrics=eval_metrics, set_types=['test'])\n",
    "\n",
    "    for batch in (test_loader if data_type == 'Clean' else test_loader_other):\n",
    "        reference = detokenize_and_clean(tokenizer, batch['sentences'])\n",
    "        predicted = detokenize_and_clean(tokenizer, batch['labels'])\n",
    "        asr_evaluator.calculate_metrics(set_type='test', reference=reference, predicted=predicted)\n",
    "\n",
    "    asr_evaluator.end_epoch_routine(print_metrics=False)\n",
    "\n",
    "    # Print final metrics\n",
    "    asr_evaluator.print_final_metrics()\n",
    "\n",
    "    # Save results to disk\n",
    "    dir_path = os.path.join(results_dir, 'ASR', data_type)\n",
    "    os.makedirs(dir_path, exist_ok=True)\n",
    "    asr_evaluator.store_df(dir_path)\n",
    "\n",
    "    # Save evaluator for later use\n",
    "    asr_evaluators[data_type] = asr_evaluator\n",
    "\n",
    "    print()"
   ]
  },
  {
   "cell_type": "markdown",
   "metadata": {
    "pycharm": {
     "name": "#%% md\n"
    }
   },
   "source": [
    "# Load Best Models, Evaluate on Test set"
   ]
  },
  {
   "cell_type": "markdown",
   "metadata": {
    "pycharm": {
     "name": "#%% md\n"
    }
   },
   "source": [
    "## Rec-ACE"
   ]
  },
  {
   "cell_type": "code",
   "execution_count": 24,
   "metadata": {
    "pycharm": {
     "name": "#%%\n"
    }
   },
   "outputs": [
    {
     "ename": "AssertionError",
     "evalue": "File 'results\\rec_ace_Clean\\2023-08-23_01-46-03/dev_metrics.csv' does not exist.",
     "output_type": "error",
     "traceback": [
      "\u001B[0;31m---------------------------------------------------------------------------\u001B[0m",
      "\u001B[0;31mAssertionError\u001B[0m                            Traceback (most recent call last)",
      "Input \u001B[0;32mIn [24]\u001B[0m, in \u001B[0;36m<cell line: 3>\u001B[0;34m()\u001B[0m\n\u001B[1;32m      1\u001B[0m model_res_dir \u001B[38;5;241m=\u001B[39m \u001B[38;5;124mr\u001B[39m\u001B[38;5;124m'\u001B[39m\u001B[38;5;124mresults\u001B[39m\u001B[38;5;124m\\\u001B[39m\u001B[38;5;124mrec_ace_Clean\u001B[39m\u001B[38;5;124m\\\u001B[39m\u001B[38;5;124m2023-08-23_01-46-03\u001B[39m\u001B[38;5;124m'\u001B[39m\n\u001B[1;32m      2\u001B[0m metric \u001B[38;5;241m=\u001B[39m \u001B[38;5;124m'\u001B[39m\u001B[38;5;124mwer\u001B[39m\u001B[38;5;124m'\u001B[39m\n\u001B[0;32m----> 3\u001B[0m epoch \u001B[38;5;241m=\u001B[39m \u001B[43mEvaluator\u001B[49m\u001B[38;5;241;43m.\u001B[39;49m\u001B[43mget_best_epoch\u001B[49m\u001B[43m(\u001B[49m\u001B[43mmodel_res_dir\u001B[49m\u001B[43m,\u001B[49m\u001B[43m \u001B[49m\u001B[43mmetric\u001B[49m\u001B[43m)\u001B[49m\n\u001B[1;32m      4\u001B[0m \u001B[38;5;28mprint\u001B[39m(\u001B[38;5;124mf\u001B[39m\u001B[38;5;124m'\u001B[39m\u001B[38;5;124mBest epoch by the \u001B[39m\u001B[38;5;132;01m{\u001B[39;00mmetric\u001B[38;5;132;01m}\u001B[39;00m\u001B[38;5;124m is \u001B[39m\u001B[38;5;132;01m{\u001B[39;00mepoch\u001B[38;5;132;01m}\u001B[39;00m\u001B[38;5;124m'\u001B[39m)\n\u001B[1;32m      6\u001B[0m rec_ace_best_model \u001B[38;5;241m=\u001B[39m RecACEWrapModel\u001B[38;5;241m.\u001B[39mload_from_disk(os\u001B[38;5;241m.\u001B[39mpath\u001B[38;5;241m.\u001B[39mjoin(model_res_dir, \u001B[38;5;124mf\u001B[39m\u001B[38;5;124m'\u001B[39m\u001B[38;5;124mepoch_\u001B[39m\u001B[38;5;132;01m{\u001B[39;00mepoch\u001B[38;5;132;01m}\u001B[39;00m\u001B[38;5;124m.pt\u001B[39m\u001B[38;5;124m'\u001B[39m), \u001B[38;5;124m'\u001B[39m\u001B[38;5;124mt5-small\u001B[39m\u001B[38;5;124m'\u001B[39m, \u001B[38;5;124m'\u001B[39m\u001B[38;5;124mrec_ace\u001B[39m\u001B[38;5;124m'\u001B[39m, use_pretrained\u001B[38;5;241m=\u001B[39m\u001B[38;5;28;01mTrue\u001B[39;00m, bin_size\u001B[38;5;241m=\u001B[39m\u001B[38;5;241m10\u001B[39m)\u001B[38;5;241m.\u001B[39mto(DEVICE)\n",
      "File \u001B[0;32m~/Desktop/Studies/MSc/NLP/project/REC-ACE/evaluation.py:282\u001B[0m, in \u001B[0;36mEvaluator.get_best_epoch\u001B[0;34m(dirpath, metric_name)\u001B[0m\n\u001B[1;32m    271\u001B[0m \u001B[38;5;124;03m\"\"\"\u001B[39;00m\n\u001B[1;32m    272\u001B[0m \u001B[38;5;124;03mGet the epoch number of the best epoch in the directory.\u001B[39;00m\n\u001B[1;32m    273\u001B[0m \n\u001B[0;32m   (...)\u001B[0m\n\u001B[1;32m    278\u001B[0m \u001B[38;5;124;03m    int: The epoch number of the best epoch.\u001B[39;00m\n\u001B[1;32m    279\u001B[0m \u001B[38;5;124;03m\"\"\"\u001B[39;00m\n\u001B[1;32m    281\u001B[0m dev_metrics_file \u001B[38;5;241m=\u001B[39m path\u001B[38;5;241m.\u001B[39mjoin(dirpath, \u001B[38;5;124m\"\u001B[39m\u001B[38;5;124mdev_metrics.csv\u001B[39m\u001B[38;5;124m\"\u001B[39m)\n\u001B[0;32m--> 282\u001B[0m \u001B[38;5;28;01massert\u001B[39;00m path\u001B[38;5;241m.\u001B[39mexists(dev_metrics_file), \u001B[38;5;124mf\u001B[39m\u001B[38;5;124m\"\u001B[39m\u001B[38;5;124mFile \u001B[39m\u001B[38;5;124m'\u001B[39m\u001B[38;5;132;01m{\u001B[39;00mdev_metrics_file\u001B[38;5;132;01m}\u001B[39;00m\u001B[38;5;124m'\u001B[39m\u001B[38;5;124m does not exist.\u001B[39m\u001B[38;5;124m\"\u001B[39m\n\u001B[1;32m    284\u001B[0m metrics_df \u001B[38;5;241m=\u001B[39m pd\u001B[38;5;241m.\u001B[39mread_csv(dev_metrics_file, index_col\u001B[38;5;241m=\u001B[39m\u001B[38;5;241m0\u001B[39m)\n\u001B[1;32m    285\u001B[0m \u001B[38;5;28;01mif\u001B[39;00m metric_name \u001B[38;5;241m==\u001B[39m \u001B[38;5;124m\"\u001B[39m\u001B[38;5;124mem\u001B[39m\u001B[38;5;124m\"\u001B[39m:\n",
      "\u001B[0;31mAssertionError\u001B[0m: File 'results\\rec_ace_Clean\\2023-08-23_01-46-03/dev_metrics.csv' does not exist."
     ]
    }
   ],
   "source": [
    "model_res_dir = r'results\\rec_ace_Clean\\2023-08-23_01-46-03'\n",
    "metric = 'wer'\n",
    "epoch = Evaluator.get_best_epoch(model_res_dir, metric)\n",
    "print(f'Best epoch by the {metric} is {epoch}')\n",
    "\n",
    "rec_ace_best_model = RecACEWrapModel.load_from_disk(os.path.join(model_res_dir, f'epoch_{epoch}.pt'), 't5-small', 'rec_ace', use_pretrained=True, bin_size=10).to(DEVICE)"
   ]
  },
  {
   "cell_type": "code",
   "execution_count": null,
   "metadata": {
    "pycharm": {
     "name": "#%%\n"
    }
   },
   "outputs": [],
   "source": [
    "rec_ace_results = evaluate_model_performance(rec_ace_best_model)"
   ]
  },
  {
   "cell_type": "markdown",
   "metadata": {
    "pycharm": {
     "name": "#%% md\n"
    }
   },
   "source": [
    "## T5"
   ]
  },
  {
   "cell_type": "code",
   "execution_count": 25,
   "metadata": {
    "pycharm": {
     "name": "#%%\n"
    }
   },
   "outputs": [
    {
     "ename": "AssertionError",
     "evalue": "File 'results\\original_f5_Clean\\2023-08-23_13-31-43/dev_metrics.csv' does not exist.",
     "output_type": "error",
     "traceback": [
      "\u001B[0;31m---------------------------------------------------------------------------\u001B[0m",
      "\u001B[0;31mAssertionError\u001B[0m                            Traceback (most recent call last)",
      "Input \u001B[0;32mIn [25]\u001B[0m, in \u001B[0;36m<cell line: 3>\u001B[0;34m()\u001B[0m\n\u001B[1;32m      1\u001B[0m model_res_dir \u001B[38;5;241m=\u001B[39m \u001B[38;5;124mr\u001B[39m\u001B[38;5;124m'\u001B[39m\u001B[38;5;124mresults\u001B[39m\u001B[38;5;124m\\\u001B[39m\u001B[38;5;124moriginal_f5_Clean\u001B[39m\u001B[38;5;124m\\\u001B[39m\u001B[38;5;124m2023-08-23_13-31-43\u001B[39m\u001B[38;5;124m'\u001B[39m\n\u001B[1;32m      2\u001B[0m metric \u001B[38;5;241m=\u001B[39m \u001B[38;5;124m'\u001B[39m\u001B[38;5;124mwer\u001B[39m\u001B[38;5;124m'\u001B[39m\n\u001B[0;32m----> 3\u001B[0m epoch \u001B[38;5;241m=\u001B[39m \u001B[43mEvaluator\u001B[49m\u001B[38;5;241;43m.\u001B[39;49m\u001B[43mget_best_epoch\u001B[49m\u001B[43m(\u001B[49m\u001B[43mmodel_res_dir\u001B[49m\u001B[43m,\u001B[49m\u001B[43m \u001B[49m\u001B[43mmetric\u001B[49m\u001B[43m)\u001B[49m\n\u001B[1;32m      4\u001B[0m \u001B[38;5;28mprint\u001B[39m(\u001B[38;5;124mf\u001B[39m\u001B[38;5;124m'\u001B[39m\u001B[38;5;124mBest epoch by the \u001B[39m\u001B[38;5;132;01m{\u001B[39;00mmetric\u001B[38;5;132;01m}\u001B[39;00m\u001B[38;5;124m is \u001B[39m\u001B[38;5;132;01m{\u001B[39;00mepoch\u001B[38;5;132;01m}\u001B[39;00m\u001B[38;5;124m'\u001B[39m)\n\u001B[1;32m      6\u001B[0m t5_best_model \u001B[38;5;241m=\u001B[39m RecACEWrapModel\u001B[38;5;241m.\u001B[39mload_from_disk(os\u001B[38;5;241m.\u001B[39mpath\u001B[38;5;241m.\u001B[39mjoin(model_res_dir, \u001B[38;5;124mf\u001B[39m\u001B[38;5;124m'\u001B[39m\u001B[38;5;124mepoch_\u001B[39m\u001B[38;5;132;01m{\u001B[39;00mepoch\u001B[38;5;132;01m}\u001B[39;00m\u001B[38;5;124m.pt\u001B[39m\u001B[38;5;124m'\u001B[39m), \u001B[38;5;124m'\u001B[39m\u001B[38;5;124mt5-small\u001B[39m\u001B[38;5;124m'\u001B[39m, \u001B[38;5;124m'\u001B[39m\u001B[38;5;124moriginal\u001B[39m\u001B[38;5;124m'\u001B[39m, use_pretrained\u001B[38;5;241m=\u001B[39m\u001B[38;5;28;01mTrue\u001B[39;00m, bin_size\u001B[38;5;241m=\u001B[39m\u001B[38;5;241m10\u001B[39m)\u001B[38;5;241m.\u001B[39mto(DEVICE)\n",
      "File \u001B[0;32m~/Desktop/Studies/MSc/NLP/project/REC-ACE/evaluation.py:282\u001B[0m, in \u001B[0;36mEvaluator.get_best_epoch\u001B[0;34m(dirpath, metric_name)\u001B[0m\n\u001B[1;32m    271\u001B[0m \u001B[38;5;124;03m\"\"\"\u001B[39;00m\n\u001B[1;32m    272\u001B[0m \u001B[38;5;124;03mGet the epoch number of the best epoch in the directory.\u001B[39;00m\n\u001B[1;32m    273\u001B[0m \n\u001B[0;32m   (...)\u001B[0m\n\u001B[1;32m    278\u001B[0m \u001B[38;5;124;03m    int: The epoch number of the best epoch.\u001B[39;00m\n\u001B[1;32m    279\u001B[0m \u001B[38;5;124;03m\"\"\"\u001B[39;00m\n\u001B[1;32m    281\u001B[0m dev_metrics_file \u001B[38;5;241m=\u001B[39m path\u001B[38;5;241m.\u001B[39mjoin(dirpath, \u001B[38;5;124m\"\u001B[39m\u001B[38;5;124mdev_metrics.csv\u001B[39m\u001B[38;5;124m\"\u001B[39m)\n\u001B[0;32m--> 282\u001B[0m \u001B[38;5;28;01massert\u001B[39;00m path\u001B[38;5;241m.\u001B[39mexists(dev_metrics_file), \u001B[38;5;124mf\u001B[39m\u001B[38;5;124m\"\u001B[39m\u001B[38;5;124mFile \u001B[39m\u001B[38;5;124m'\u001B[39m\u001B[38;5;132;01m{\u001B[39;00mdev_metrics_file\u001B[38;5;132;01m}\u001B[39;00m\u001B[38;5;124m'\u001B[39m\u001B[38;5;124m does not exist.\u001B[39m\u001B[38;5;124m\"\u001B[39m\n\u001B[1;32m    284\u001B[0m metrics_df \u001B[38;5;241m=\u001B[39m pd\u001B[38;5;241m.\u001B[39mread_csv(dev_metrics_file, index_col\u001B[38;5;241m=\u001B[39m\u001B[38;5;241m0\u001B[39m)\n\u001B[1;32m    285\u001B[0m \u001B[38;5;28;01mif\u001B[39;00m metric_name \u001B[38;5;241m==\u001B[39m \u001B[38;5;124m\"\u001B[39m\u001B[38;5;124mem\u001B[39m\u001B[38;5;124m\"\u001B[39m:\n",
      "\u001B[0;31mAssertionError\u001B[0m: File 'results\\original_f5_Clean\\2023-08-23_13-31-43/dev_metrics.csv' does not exist."
     ]
    }
   ],
   "source": [
    "model_res_dir = r'results\\original_f5_Clean\\2023-08-23_13-31-43'\n",
    "metric = 'wer'\n",
    "epoch = Evaluator.get_best_epoch(model_res_dir, metric)\n",
    "print(f'Best epoch by the {metric} is {epoch}')\n",
    "\n",
    "t5_best_model = RecACEWrapModel.load_from_disk(os.path.join(model_res_dir, f'epoch_{epoch}.pt'), 't5-small', 'original', use_pretrained=True, bin_size=10).to(DEVICE)"
   ]
  },
  {
   "cell_type": "code",
   "execution_count": 16,
   "metadata": {
    "pycharm": {
     "name": "#%%\n"
    }
   },
   "outputs": [],
   "source": [
    "t5_results = evaluate_model_performance(t5_best_model)"
   ]
  },
  {
   "cell_type": "markdown",
   "metadata": {
    "pycharm": {
     "name": "#%% md\n"
    }
   },
   "source": [
    "## Rec-ACE (trained on Other dataset)"
   ]
  },
  {
   "cell_type": "code",
   "execution_count": 12,
   "metadata": {
    "pycharm": {
     "name": "#%%\n"
    }
   },
   "outputs": [
    {
     "name": "stdout",
     "output_type": "stream",
     "text": [
      "Best epoch by the wer is 49\n"
     ]
    }
   ],
   "source": [
    "model_res_dir = r'results/rec_ace_Other/2023-08-24_01-05-43'\n",
    "metric = 'wer'\n",
    "epoch = Evaluator.get_best_epoch(model_res_dir, metric)\n",
    "print(f'Best epoch by the {metric} is {epoch}')\n",
    "\n",
    "rec_ace_other_best_model = RecACEWrapModel.load_from_disk(os.path.join(model_res_dir, f'epoch_{epoch}.pt'), 't5-small', 'rec_ace', use_pretrained=True, bin_size=10).to(DEVICE)"
   ]
  },
  {
   "cell_type": "code",
   "execution_count": 30,
   "metadata": {
    "pycharm": {
     "name": "#%%\n"
    }
   },
   "outputs": [
    {
     "ename": "NameError",
     "evalue": "name 'rec_ace_other_best_model' is not defined",
     "output_type": "error",
     "traceback": [
      "\u001B[0;31m---------------------------------------------------------------------------\u001B[0m",
      "\u001B[0;31mNameError\u001B[0m                                 Traceback (most recent call last)",
      "Input \u001B[0;32mIn [30]\u001B[0m, in \u001B[0;36m<cell line: 1>\u001B[0;34m()\u001B[0m\n\u001B[0;32m----> 1\u001B[0m rec_ace_other_results \u001B[38;5;241m=\u001B[39m evaluate_model_performance(\u001B[43mrec_ace_other_best_model\u001B[49m)\n",
      "\u001B[0;31mNameError\u001B[0m: name 'rec_ace_other_best_model' is not defined"
     ]
    }
   ],
   "source": [
    "rec_ace_other_results = evaluate_model_performance(rec_ace_other_best_model)"
   ]
  },
  {
   "cell_type": "markdown",
   "metadata": {
    "pycharm": {
     "name": "#%% md\n"
    }
   },
   "source": [
    "## T5 (trained on Other dataset)"
   ]
  },
  {
   "cell_type": "code",
   "execution_count": 26,
   "metadata": {
    "pycharm": {
     "name": "#%%\n"
    }
   },
   "outputs": [
    {
     "ename": "AssertionError",
     "evalue": "File 'results\\original_f5_Other\\2023-08-24_17-27-55/dev_metrics.csv' does not exist.",
     "output_type": "error",
     "traceback": [
      "\u001B[0;31m---------------------------------------------------------------------------\u001B[0m",
      "\u001B[0;31mAssertionError\u001B[0m                            Traceback (most recent call last)",
      "Input \u001B[0;32mIn [26]\u001B[0m, in \u001B[0;36m<cell line: 3>\u001B[0;34m()\u001B[0m\n\u001B[1;32m      1\u001B[0m model_res_dir \u001B[38;5;241m=\u001B[39m \u001B[38;5;124mr\u001B[39m\u001B[38;5;124m'\u001B[39m\u001B[38;5;124mresults\u001B[39m\u001B[38;5;124m\\\u001B[39m\u001B[38;5;124moriginal_f5_Other\u001B[39m\u001B[38;5;124m\\\u001B[39m\u001B[38;5;124m2023-08-24_17-27-55\u001B[39m\u001B[38;5;124m'\u001B[39m\n\u001B[1;32m      2\u001B[0m metric \u001B[38;5;241m=\u001B[39m \u001B[38;5;124m'\u001B[39m\u001B[38;5;124mwer\u001B[39m\u001B[38;5;124m'\u001B[39m\n\u001B[0;32m----> 3\u001B[0m epoch \u001B[38;5;241m=\u001B[39m \u001B[43mEvaluator\u001B[49m\u001B[38;5;241;43m.\u001B[39;49m\u001B[43mget_best_epoch\u001B[49m\u001B[43m(\u001B[49m\u001B[43mmodel_res_dir\u001B[49m\u001B[43m,\u001B[49m\u001B[43m \u001B[49m\u001B[43mmetric\u001B[49m\u001B[43m)\u001B[49m\n\u001B[1;32m      4\u001B[0m \u001B[38;5;28mprint\u001B[39m(\u001B[38;5;124mf\u001B[39m\u001B[38;5;124m'\u001B[39m\u001B[38;5;124mBest epoch by the \u001B[39m\u001B[38;5;132;01m{\u001B[39;00mmetric\u001B[38;5;132;01m}\u001B[39;00m\u001B[38;5;124m is \u001B[39m\u001B[38;5;132;01m{\u001B[39;00mepoch\u001B[38;5;132;01m}\u001B[39;00m\u001B[38;5;124m'\u001B[39m)\n\u001B[1;32m      6\u001B[0m t5_other_best_model \u001B[38;5;241m=\u001B[39m RecACEWrapModel\u001B[38;5;241m.\u001B[39mload_from_disk(os\u001B[38;5;241m.\u001B[39mpath\u001B[38;5;241m.\u001B[39mjoin(model_res_dir, \u001B[38;5;124mf\u001B[39m\u001B[38;5;124m'\u001B[39m\u001B[38;5;124mepoch_\u001B[39m\u001B[38;5;132;01m{\u001B[39;00mepoch\u001B[38;5;132;01m}\u001B[39;00m\u001B[38;5;124m.pt\u001B[39m\u001B[38;5;124m'\u001B[39m), \u001B[38;5;124m'\u001B[39m\u001B[38;5;124mt5-small\u001B[39m\u001B[38;5;124m'\u001B[39m, \u001B[38;5;124m'\u001B[39m\u001B[38;5;124moriginal\u001B[39m\u001B[38;5;124m'\u001B[39m, use_pretrained\u001B[38;5;241m=\u001B[39m\u001B[38;5;28;01mTrue\u001B[39;00m, bin_size\u001B[38;5;241m=\u001B[39m\u001B[38;5;241m10\u001B[39m)\u001B[38;5;241m.\u001B[39mto(DEVICE)\n",
      "File \u001B[0;32m~/Desktop/Studies/MSc/NLP/project/REC-ACE/evaluation.py:282\u001B[0m, in \u001B[0;36mEvaluator.get_best_epoch\u001B[0;34m(dirpath, metric_name)\u001B[0m\n\u001B[1;32m    271\u001B[0m \u001B[38;5;124;03m\"\"\"\u001B[39;00m\n\u001B[1;32m    272\u001B[0m \u001B[38;5;124;03mGet the epoch number of the best epoch in the directory.\u001B[39;00m\n\u001B[1;32m    273\u001B[0m \n\u001B[0;32m   (...)\u001B[0m\n\u001B[1;32m    278\u001B[0m \u001B[38;5;124;03m    int: The epoch number of the best epoch.\u001B[39;00m\n\u001B[1;32m    279\u001B[0m \u001B[38;5;124;03m\"\"\"\u001B[39;00m\n\u001B[1;32m    281\u001B[0m dev_metrics_file \u001B[38;5;241m=\u001B[39m path\u001B[38;5;241m.\u001B[39mjoin(dirpath, \u001B[38;5;124m\"\u001B[39m\u001B[38;5;124mdev_metrics.csv\u001B[39m\u001B[38;5;124m\"\u001B[39m)\n\u001B[0;32m--> 282\u001B[0m \u001B[38;5;28;01massert\u001B[39;00m path\u001B[38;5;241m.\u001B[39mexists(dev_metrics_file), \u001B[38;5;124mf\u001B[39m\u001B[38;5;124m\"\u001B[39m\u001B[38;5;124mFile \u001B[39m\u001B[38;5;124m'\u001B[39m\u001B[38;5;132;01m{\u001B[39;00mdev_metrics_file\u001B[38;5;132;01m}\u001B[39;00m\u001B[38;5;124m'\u001B[39m\u001B[38;5;124m does not exist.\u001B[39m\u001B[38;5;124m\"\u001B[39m\n\u001B[1;32m    284\u001B[0m metrics_df \u001B[38;5;241m=\u001B[39m pd\u001B[38;5;241m.\u001B[39mread_csv(dev_metrics_file, index_col\u001B[38;5;241m=\u001B[39m\u001B[38;5;241m0\u001B[39m)\n\u001B[1;32m    285\u001B[0m \u001B[38;5;28;01mif\u001B[39;00m metric_name \u001B[38;5;241m==\u001B[39m \u001B[38;5;124m\"\u001B[39m\u001B[38;5;124mem\u001B[39m\u001B[38;5;124m\"\u001B[39m:\n",
      "\u001B[0;31mAssertionError\u001B[0m: File 'results\\original_f5_Other\\2023-08-24_17-27-55/dev_metrics.csv' does not exist."
     ]
    }
   ],
   "source": [
    "model_res_dir = r'results\\original_f5_Other\\2023-08-24_17-27-55'\n",
    "metric = 'wer'\n",
    "epoch = Evaluator.get_best_epoch(model_res_dir, metric)\n",
    "print(f'Best epoch by the {metric} is {epoch}')\n",
    "\n",
    "t5_other_best_model = RecACEWrapModel.load_from_disk(os.path.join(model_res_dir, f'epoch_{epoch}.pt'), 't5-small', 'original', use_pretrained=True, bin_size=10).to(DEVICE)"
   ]
  },
  {
   "cell_type": "code",
   "execution_count": 27,
   "metadata": {
    "pycharm": {
     "name": "#%%\n"
    }
   },
   "outputs": [
    {
     "ename": "NameError",
     "evalue": "name 't5_other_best_model' is not defined",
     "output_type": "error",
     "traceback": [
      "\u001B[0;31m---------------------------------------------------------------------------\u001B[0m",
      "\u001B[0;31mNameError\u001B[0m                                 Traceback (most recent call last)",
      "Input \u001B[0;32mIn [27]\u001B[0m, in \u001B[0;36m<cell line: 1>\u001B[0;34m()\u001B[0m\n\u001B[0;32m----> 1\u001B[0m t5_other_results \u001B[38;5;241m=\u001B[39m evaluate_model_performance(\u001B[43mt5_other_best_model\u001B[49m)\n",
      "\u001B[0;31mNameError\u001B[0m: name 't5_other_best_model' is not defined"
     ]
    }
   ],
   "source": [
    "t5_other_results = evaluate_model_performance(t5_other_best_model)"
   ]
  },
  {
   "cell_type": "markdown",
   "metadata": {
    "pycharm": {
     "name": "#%% md\n"
    }
   },
   "source": [
    "# Compare Results"
   ]
  },
  {
   "cell_type": "code",
   "execution_count": 21,
   "metadata": {
    "pycharm": {
     "name": "#%%\n"
    }
   },
   "outputs": [
    {
     "name": "stdout",
     "output_type": "stream",
     "text": [
      "Clean Test Set Results\n",
      "+--------------------------+--------+--------+\n",
      "|                          |    wer |     em |\n",
      "|--------------------------+--------+--------|\n",
      "| ASR                      | 0.1289 | 0.2875 |\n",
      "| RecAce(trained on Clean) | 0.1054 | 0.3538 |\n",
      "| T5(trained on Clean)     | 0.1396 | 0.3117 |\n",
      "| RecAce(trained on Other) | 0.0907 | 0.3773 |\n",
      "| T5(trained on Other)     | 0.0939 | 0.3586 |\n",
      "+--------------------------+--------+--------+\n",
      "\n",
      "Other Test Set Results\n",
      "+--------------------------+--------+--------+\n",
      "|                          |    wer |     em |\n",
      "|--------------------------+--------+--------|\n",
      "| ASR                      | 0.3150 | 0.1350 |\n",
      "| RecAce(trained on Clean) | 0.2515 | 0.1567 |\n",
      "| T5(trained on Clean)     | 0.2846 | 0.1382 |\n",
      "| RecAce(trained on Other) | 0.2257 | 0.1713 |\n",
      "| T5(trained on Other)     | 0.2304 | 0.1640 |\n",
      "+--------------------------+--------+--------+\n",
      "\n"
     ]
    }
   ],
   "source": [
    "for set_type in ['Clean', 'Other']:\n",
    "    print_metrics_comp_table({\n",
    "        'ASR':                      asr_evaluators[set_type].metrics_df['test'],\n",
    "        'RecAce(trained on Clean)': rec_ace_results[set_type]['test'],\n",
    "        'T5(trained on Clean)':     t5_results[set_type]['test'],\n",
    "        'RecAce(trained on Other)': rec_ace_other_results[set_type]['test'],\n",
    "        'T5(trained on Other)':     t5_other_results[set_type]['test'],\n",
    "    }, title=f'{set_type} Test Set Results')"
   ]
  },
  {
   "cell_type": "markdown",
   "source": [
    "## Examples:"
   ],
   "metadata": {
    "collapsed": false,
    "pycharm": {
     "name": "#%% md\n"
    }
   }
  },
  {
   "cell_type": "code",
   "execution_count": 29,
   "outputs": [
    {
     "name": "stdout",
     "output_type": "stream",
     "text": [
      "Printing 8 examples\n"
     ]
    }
   ],
   "source": [
    "# How many examples to print (must be < batch_size or else take batch size)\n",
    "how_much_to_print = 10\n",
    "N_examples = how_much_to_print if how_much_to_print < batch_size else batch_size\n",
    "print(f'Printing {N_examples} examples')"
   ],
   "metadata": {
    "collapsed": false,
    "pycharm": {
     "name": "#%%\n"
    }
   }
  },
  {
   "cell_type": "code",
   "execution_count": 16,
   "outputs": [],
   "source": [
    "examples_model = rec_ace_other_best_model"
   ],
   "metadata": {
    "collapsed": false,
    "pycharm": {
     "name": "#%%\n"
    }
   }
  },
  {
   "cell_type": "code",
   "execution_count": 14,
   "outputs": [],
   "source": [
    "examples_loader = test_loader_other\n",
    "batch = next(iter(examples_loader))"
   ],
   "metadata": {
    "collapsed": false,
    "pycharm": {
     "name": "#%%\n"
    }
   }
  },
  {
   "cell_type": "code",
   "execution_count": 15,
   "outputs": [],
   "source": [
    "X = batch['sentences']\n",
    "S = batch['scores']\n",
    "y = batch['labels']"
   ],
   "metadata": {
    "collapsed": false,
    "pycharm": {
     "name": "#%%\n"
    }
   }
  },
  {
   "cell_type": "code",
   "execution_count": 19,
   "outputs": [],
   "source": [
    "test_preds = examples_model(input_ids=X, labels=y, scores_ids=S)\n",
    "test_logits = test_preds.logits\n",
    "\n",
    "ex_hypothesis = detokenize_and_clean(tokenizer, X)\n",
    "ex_reference = detokenize_and_clean(tokenizer, y)\n",
    "ex_predicted = detokenize_and_clean(tokenizer, test_logits.argmax(dim=-1))"
   ],
   "metadata": {
    "collapsed": false,
    "pycharm": {
     "name": "#%%\n"
    }
   }
  },
  {
   "cell_type": "code",
   "execution_count": 35,
   "outputs": [
    {
     "name": "stdout",
     "output_type": "stream",
     "text": [
      "Example #0:\n",
      "- Reference:\n",
      "\t\"there's iron they say in all our blood and a grain or two perhaps is good but his he makes me harshly feel has got a little too much of steel anon\"\n",
      "- ASR hypothesis:\n",
      "\t\"design they say you nola blood and agreeing to paps is good but he is he makes me harshly feel has got a little too much of steel\"\n",
      "- RED-ACE:\n",
      "\t\"the's  or say   blood blood and agreea  to two  it good but  he makes me harshly feel has got a little too much of steel\"\n",
      "--------------------\n",
      "Example #1:\n",
      "- Reference:\n",
      "\t\"margaret said mister hale as he returned from showing his guest downstairs i could not help watching your face with some anxiety when mister thornton made his confession of having been a shop boy\"\n",
      "- ASR hypothesis:\n",
      "\t\"margaret said mr. hale as he returned from showing his guests downstairs but mr. thornton made his confession of having been a truck boy\"\n",
      "- RED-ACE:\n",
      "\t\"margaret said mister hale as he returned from showing his guests downstairs buta suppose not believe but the  but the  but mister thornton made his confession of having been a truckboy\"\n",
      "--------------------\n",
      "Example #2:\n",
      "- Reference:\n",
      "\t\"you don't mean that you thought me so silly\"\n",
      "- ASR hypothesis:\n",
      "\t\"you don't mean that you thought me so silly\"\n",
      "- RED-ACE:\n",
      "\t\"you don't mean that you thought me so silly\"\n",
      "--------------------\n",
      "Example #3:\n",
      "- Reference:\n",
      "\t\"i really liked that account of himself better than anything else he said\"\n",
      "- ASR hypothesis:\n",
      "\t\"i really like that account of himself better than anything else he said\"\n",
      "- RED-ACE:\n",
      "\t\"i really liked that account of himself better than anything else he said\"\n",
      "--------------------\n",
      "Example #4:\n",
      "- Reference:\n",
      "\t\"his statement of having been a shop boy was the thing i liked best of all\"\n",
      "- ASR hypothesis:\n",
      "\t\"statement of having been a short boy was a singer like best of all\"\n",
      "- RED-ACE:\n",
      "\t\"the statement of having been a shortboy was   likei liked best of all\"\n",
      "--------------------\n",
      "Example #5:\n",
      "- Reference:\n",
      "\t\"you who were always accusing people of being shoppy at helstone\"\n",
      "- ASR hypothesis:\n",
      "\t\"usually always accusing people of things shopping at elston\"\n",
      "- RED-ACE:\n",
      "\t\"usually are are always accusing people of things sharpiny at elstone\"\n",
      "--------------------\n",
      "Example #6:\n",
      "- Reference:\n",
      "\t\"i don't think mister hale you have done quite right in introducing such a person to us without telling us what he had been\"\n",
      "- ASR hypothesis:\n",
      "\t\"i didn't think mr. hale you have done quite right introducing such a person to us that telling us what he had been\"\n",
      "- RED-ACE:\n",
      "\t\"i don't think mister hale you have done quite right  introducing such a person to us that telling us what he had been\"\n",
      "--------------------\n",
      "Example #7:\n",
      "- Reference:\n",
      "\t\"i really was very much afraid of showing him how much shocked i was at some parts of what he said\"\n",
      "- ASR hypothesis:\n",
      "\t\"i really was very much afraid of showing him how much shorter was at some parts of what he said\"\n",
      "- RED-ACE:\n",
      "\t\"i really was very much afraid of showing him how much  he was at some part of what he said\"\n",
      "--------------------\n",
      "Example #8:\n",
      "- Reference:\n",
      "\t\"his father dying in miserable circumstances\"\n",
      "- ASR hypothesis:\n",
      "\t\"his father dying in miserable circumstances\"\n",
      "- RED-ACE:\n",
      "\t\"his father dying in miserable circumstances\"\n",
      "--------------------\n",
      "Example #9:\n",
      "- Reference:\n",
      "\t\"why it might have been in the workhouse\"\n",
      "- ASR hypothesis:\n",
      "\t\"it might have been in the workhouse\"\n",
      "- RED-ACE:\n",
      "\t\"it it might have been in the workhouse\"\n",
      "--------------------\n",
      "Example #10:\n",
      "- Reference:\n",
      "\t\"his father speculated wildly failed and then killed himself because he could not bear the disgrace\"\n",
      "- ASR hypothesis:\n",
      "\t\"it's part of the speculation wadley failed and then killed himself because he could not bear the disgrace\"\n",
      "- RED-ACE:\n",
      "\t\"part thed he and and then killed himself because he could not bear the disgrace\"\n",
      "--------------------\n",
      "Example #11:\n",
      "- Reference:\n",
      "\t\"all his former friends shrunk from the disclosures that had to be made of his dishonest gambling wild hopeless struggles made with other people's money to regain his own moderate portion of wealth\"\n",
      "- ASR hypothesis:\n",
      "\t\"who is former friends shock from the disclosures that had to be made with his dishonest gambling wild purple struggles made with other people's money market portion of wealth\"\n",
      "- RED-ACE:\n",
      "\t\"who his former friends shudderunk from the disclosures that had been be made with his dishonest gambling wild purpleless struggles made with other people's money mar marketa his wealth wealth wealth of wealth\"\n",
      "--------------------\n",
      "Example #12:\n",
      "- Reference:\n",
      "\t\"no one came forwards to help the mother and this boy\"\n",
      "- ASR hypothesis:\n",
      "\t\"no one came forward to help the mother and this boy\"\n",
      "- RED-ACE:\n",
      "\t\"no one came forward to to help the mother and this boy\"\n",
      "--------------------\n",
      "Example #13:\n",
      "- Reference:\n",
      "\t\"at least no friend came forwards immediately and missus thornton is not one i fancy to wait till tardy kindness comes to find her out\"\n",
      "- ASR hypothesis:\n",
      "\t\"at least my friend came for to meet lee johnson is not one i fancy to wait till tati kindness comes to find her out\"\n",
      "- RED-ACE:\n",
      "\t\"at least my friend came for to to  us johnornton is not one i fancy to wait till y kindness comes to find her out\"\n",
      "--------------------\n",
      "Example #14:\n",
      "- Reference:\n",
      "\t\"so they left milton\"\n",
      "- ASR hypothesis:\n",
      "\t\"go to the lake milton\"\n",
      "- RED-ACE:\n",
      "\t\"to laid milton\"\n",
      "--------------------\n",
      "Example #15:\n",
      "- Reference:\n",
      "\t\"how tainted asked her father\"\n",
      "- ASR hypothesis:\n",
      "\t\"pasta fazool\"\n",
      "- RED-ACE:\n",
      "\t\"toihoudd  \"\n",
      "--------------------\n",
      "Example #16:\n",
      "- Reference:\n",
      "\t\"oh papa by that testing everything by the standard of wealth\"\n",
      "- ASR hypothesis:\n",
      "\t\"but that testing everything by the standard of will\"\n",
      "- RED-ACE:\n",
      "\t\"butah that testing testing testing everything by the standard of will\"\n",
      "--------------------\n",
      "Example #17:\n",
      "- Reference:\n",
      "\t\"when he spoke of the mechanical powers he evidently looked upon them only as new ways of extending trade and making money\"\n",
      "- ASR hypothesis:\n",
      "\t\"when he spoke of the mechanical power he evidently looked up on them early as new ways of extending trade and making money\"\n",
      "- RED-ACE:\n",
      "\t\"when he spoke of the mechanical power he evidently looked upon them early as new ways of extending trade and making money\"\n",
      "--------------------\n",
      "Example #18:\n",
      "- Reference:\n",
      "\t\"and the poor men around him they were poor because they were vicious out of the pale of his sympathies because they had not his iron nature and the capabilities that it gives him for being rich\"\n",
      "- ASR hypothesis:\n",
      "\t\"and the pullman around him they were pool because they were vicious answer the path of his sympathy because they had not he's our nature and the capabilities that it gives him for being rich\"\n",
      "- RED-ACE:\n",
      "\t\"and the pull men around him they were poor because they were vicious answered of the path sympathy his sympathythisies because they had not his own nature and the capabilities that it gives him for being rich\"\n",
      "--------------------\n",
      "Example #19:\n",
      "- Reference:\n",
      "\t\"not vicious he never said that\"\n",
      "- ASR hypothesis:\n",
      "\t\"don't fishes she never said that\"\n",
      "- RED-ACE:\n",
      "\t\"don fish shehe never said that\"\n",
      "--------------------\n",
      "Example #20:\n",
      "- Reference:\n",
      "\t\"improvident and self indulgent were his words\"\n",
      "- ASR hypothesis:\n",
      "\t\"pro fit in them self-indulgent where is was\"\n",
      "- RED-ACE:\n",
      "\t\"forplodt self self indulgent where his was\"\n",
      "--------------------\n",
      "Example #21:\n",
      "- Reference:\n",
      "\t\"margaret was collecting her mother's working materials and preparing to go to bed\"\n",
      "- ASR hypothesis:\n",
      "\t\"margaret was collecting her mother's working materials and preparing to go to bed\"\n",
      "- RED-ACE:\n",
      "\t\"margaret was collecting her mother's working materials and preparing to go to bed\"\n",
      "--------------------\n",
      "Example #22:\n",
      "- Reference:\n",
      "\t\"just as she was leaving the room she hesitated she was inclined to make an acknowledgment which she thought would please her father but which to be full and true must include a little annoyance\"\n",
      "- ASR hypothesis:\n",
      "\t\"just as she was leaving the room she hesitated she was inclined to make an apology meant what she thought would please her father but which to be full and true mustang clearly solenoids\"\n",
      "- RED-ACE:\n",
      "\t\"just as she was leaving the room she hesitated she was inclined to make an apologyment which she thought would please her father but which to be full and true must  clearlya clearly solesyance\"\n",
      "--------------------\n",
      "Example #23:\n",
      "- Reference:\n",
      "\t\"however out it came\"\n",
      "- ASR hypothesis:\n",
      "\t\"however\"\n",
      "- RED-ACE:\n",
      "\t\"however of was\"\n",
      "--------------------\n",
      "Example #24:\n",
      "- Reference:\n",
      "\t\"papa i do think mister thornton a very remarkable man but personally i don't like him at all\"\n",
      "- ASR hypothesis:\n",
      "\t\"i do think mr. fountain a very remarkable man bless me i didn't like him at all\"\n",
      "- RED-ACE:\n",
      "\t\"i do think mister fountainthornton a very remarkable man bless bless i don't like him at all\"\n",
      "--------------------\n",
      "Example #25:\n",
      "- Reference:\n",
      "\t\"and i do said her father laughing\"\n",
      "- ASR hypothesis:\n",
      "\t\"can i do that a father laughing\"\n",
      "- RED-ACE:\n",
      "\t\"can i do said her father laughing\"\n",
      "--------------------\n",
      "Example #26:\n",
      "- Reference:\n",
      "\t\"personally as you call it and all\"\n",
      "- ASR hypothesis:\n",
      "\t\"as you call it and roll\"\n",
      "- RED-ACE:\n",
      "\t\"as as you call it and \"\n",
      "--------------------\n",
      "Example #27:\n",
      "- Reference:\n",
      "\t\"i don't set him up for a hero or anything of that kind\"\n",
      "- ASR hypothesis:\n",
      "\t\"i didn't set him up for a hero or anything of that kind\"\n",
      "- RED-ACE:\n",
      "\t\"andi didn't set him up for a hero or anything of that kind\"\n",
      "--------------------\n",
      "Example #28:\n",
      "- Reference:\n",
      "\t\"but good night child\"\n",
      "- ASR hypothesis:\n",
      "\t\"good night child\"\n",
      "- RED-ACE:\n",
      "\t\"good no night child\"\n",
      "--------------------\n",
      "Example #29:\n",
      "- Reference:\n",
      "\t\"there were several other signs of something wrong about missus hale\"\n",
      "- ASR hypothesis:\n",
      "\t\"there were several other signs of something wrong with that machine sale\"\n",
      "- RED-ACE:\n",
      "\t\"there were several other signs of something wrong with theus the\"\n",
      "--------------------\n",
      "Example #30:\n",
      "- Reference:\n",
      "\t\"she and dixon held mysterious consultations in her bedroom from which dixon would come out crying and cross as was her custom when any distress of her mistress called upon her sympathy\"\n",
      "- ASR hypothesis:\n",
      "\t\"she dixon held mysterious consultations in the bedroom from which dixon would come out crying and cross as was the custom with any distress of a mistress code up on my sensi\"\n",
      "- RED-ACE:\n",
      "\t\"she dix dixon held mysterious consultations in the bedroom from which dixon would come out crying and cross as was the custom with any distress of her mistress caught upon my in\"\n",
      "--------------------\n",
      "Example #31:\n",
      "- Reference:\n",
      "\t\"once margaret had gone into the chamber soon after dixon left it and found her mother on her knees and as margaret stole out she caught a few words which were evidently a prayer for strength and patience to endure severe bodily suffering\"\n",
      "- ASR hypothesis:\n",
      "\t\"margaret had gone into the chamber soon after dixon lifted and found her mother on her knees and as margaret stohl out she caught a few words which were evidently a prayer for strength and patience to endure severe bodily suffering\"\n",
      "- RED-ACE:\n",
      "\t\"mar margaret had gone into the chamber soon after dixon lifted and and found her mother on her knees and as margaret stood out she caught a few words which were evidently a prayer for strength and patience to endure severe bodily suffering\"\n",
      "--------------------\n",
      "Example #32:\n",
      "- Reference:\n",
      "\t\"but though she received caresses and fond words back again in such profusion as would have gladdened her formerly yet she felt that there was a secret withheld from her and she believed it bore serious reference to her mother's health\"\n",
      "- ASR hypothesis:\n",
      "\t\"but though she received dresses and formal words back again in such confusion as would have gladden to formally yet she felt that there was a secret withheld from her and she believed it for serious reference to the mother's health\"\n",
      "- RED-ACE:\n",
      "\t\"but though she received dressesss and formal words back again in such confusionfusion as would have gladdenened her formerly yet she felt that there was a secret withheld from her and she believed it for serious reference to her mother's health\"\n",
      "--------------------\n",
      "Example #33:\n",
      "- Reference:\n",
      "\t\"she lay awake very long this night planning how to lessen the evil influence of their milton life on her mother\"\n",
      "- ASR hypothesis:\n",
      "\t\"should i wait very long distance learning how to listen to the evil influence of the milton life on her mother\"\n",
      "- RED-ACE:\n",
      "\t\"she   very long and day and her to listenen the evil influence of the milton life on her mother\"\n",
      "--------------------\n",
      "Example #34:\n",
      "- Reference:\n",
      "\t\"a servant to give dixon permanent assistance should be got if she gave up her whole time to the search and then at any rate her mother might have all the personal attention she required and had been accustomed to her whole life\"\n",
      "- ASR hypothesis:\n",
      "\t\"the servants give dixon permanent assistant should be caught if she gave up the whole time to the search and then at any rate the mother might have all the personal attention she required and had been accustomed to the whole life\"\n",
      "- RED-ACE:\n",
      "\t\"thea servant who give dixon permanent assistance should be caught if she gave up the whole time to the search and then at any rate the mother might have all the personal attention she required and had been accustomed to the whole life\"\n",
      "--------------------\n",
      "Example #35:\n",
      "- Reference:\n",
      "\t\"visiting register offices seeing all manner of unlikely people and very few in the least likely absorbed margaret's time and thoughts for several days\"\n",
      "- ASR hypothesis:\n",
      "\t\"visiting register offices staying all manner of unlikely people and very few in the least likely absorbed margarets time and thoughts for several days\"\n",
      "- RED-ACE:\n",
      "\t\"visiting register officers  all manner of unlikely people and very few in the least likely absorbed margaret's time and thoughts for several days\"\n",
      "--------------------\n",
      "Example #36:\n",
      "- Reference:\n",
      "\t\"one afternoon she met bessy higgins in the street and stopped to speak to her\"\n",
      "- ASR hypothesis:\n",
      "\t\"one afternoon she met busy he comes in the street and stopped to speak to her\"\n",
      "- RED-ACE:\n",
      "\t\"one afternoon she met auchsy whoggins in the street and stopped to speak to her\"\n",
      "--------------------\n",
      "Example #37:\n",
      "- Reference:\n",
      "\t\"well bessy how are you\"\n",
      "- ASR hypothesis:\n",
      "\t\"how are you\"\n",
      "- RED-ACE:\n",
      "\t\"how how s how how are you\"\n",
      "--------------------\n",
      "Example #38:\n",
      "- Reference:\n",
      "\t\"better and not better if yo know what that means\"\n",
      "- ASR hypothesis:\n",
      "\t\"bissell and not better if you know what that means\"\n",
      "- RED-ACE:\n",
      "\t\"not better if youheo know what  means\"\n",
      "--------------------\n",
      "Example #39:\n",
      "- Reference:\n",
      "\t\"not exactly replied margaret smiling\"\n",
      "- ASR hypothesis:\n",
      "\t\"it's not exactly like margaret smiling\"\n",
      "- RED-ACE:\n",
      "\t\"it exactly like margaret smiling\"\n",
      "--------------------\n",
      "Example #40:\n",
      "- Reference:\n",
      "\t\"i'm better in not being torn to pieces by coughing o'nights but i'm weary and tired o milton and longing to get away to the land o beulah and when i think i'm farther and farther off my heart sinks and i'm no better i'm worse\"\n",
      "- ASR hypothesis:\n",
      "\t\"i miss her not being torn to pieces by coughing a night but i'm weary and tired of milton and loving to get away to the land of beulah and when i think i'm further and further off my heart sinks and i'm no better i'm worse\"\n",
      "- RED-ACE:\n",
      "\t\"i missm not not being being torn to pieces by coughing a nighter but but i'm weary and tired ofo milton and ing to get away to the land ofo beulah and when i think i'm further and further off my heart sinks and i'm no better i'm worse\"\n",
      "--------------------\n",
      "Example #41:\n",
      "- Reference:\n",
      "\t\"margaret turned round to walk alongside of the girl in her feeble progress homeward\"\n",
      "- ASR hypothesis:\n",
      "\t\"margaret turned around to walk alongside of the girl in a feeble progress homewood\"\n",
      "- RED-ACE:\n",
      "\t\"margaret turned round to walk alongside of the girl in  feeble progress homeward\"\n",
      "--------------------\n",
      "Example #42:\n",
      "- Reference:\n",
      "\t\"but for a minute or two she did not speak\"\n",
      "- ASR hypothesis:\n",
      "\t\"stop for a minute. you did not speak\"\n",
      "- RED-ACE:\n",
      "\t\"stop stop a minute  two  did not speak\"\n",
      "--------------------\n",
      "Example #43:\n",
      "- Reference:\n",
      "\t\"at last she said in a low voice\"\n",
      "- ASR hypothesis:\n",
      "\t\"at last she said in a low voice\"\n",
      "- RED-ACE:\n",
      "\t\"at last she said in a low voice\"\n",
      "--------------------\n",
      "Example #44:\n",
      "- Reference:\n",
      "\t\"bessy do you wish to die\"\n",
      "- ASR hypothesis:\n",
      "\t\"do you wish to die\"\n",
      "- RED-ACE:\n",
      "\t\"do sy  wish wish to die\"\n",
      "--------------------\n",
      "Example #45:\n",
      "- Reference:\n",
      "\t\"bessy was silent in her turn for a minute or two then she replied\"\n",
      "- ASR hypothesis:\n",
      "\t\"but she was tall and you have time for me to go to then she replied\"\n",
      "- RED-ACE:\n",
      "\t\"butssy was tall and you voice you mea moment to two then she replied\"\n",
      "--------------------\n",
      "Example #46:\n",
      "- Reference:\n",
      "\t\"nought worse than many others i reckon\"\n",
      "- ASR hypothesis:\n",
      "\t\"northwest and many others i reckon\"\n",
      "- RED-ACE:\n",
      "\t\"noriet and than many others i reckon\"\n",
      "--------------------\n",
      "Example #47:\n",
      "- Reference:\n",
      "\t\"but what was it\"\n",
      "- ASR hypothesis:\n",
      "\t\"but what was it\"\n",
      "- RED-ACE:\n",
      "\t\"but what was it\"\n",
      "--------------------\n",
      "Example #48:\n",
      "- Reference:\n",
      "\t\"you know i'm a stranger here so perhaps i'm not so quick at understanding what you mean as if i'd lived all my life at milton\"\n",
      "- ASR hypothesis:\n",
      "\t\"you know i'm a stranger here so perhaps i'm not so quick at understanding what you mean as if i'd lived all my life in milton\"\n",
      "- RED-ACE:\n",
      "\t\"you know i'm a stranger here so perhaps i'm not so quick at understanding what you mean as if i hadd lived all my life in milton\"\n",
      "--------------------\n",
      "Example #49:\n",
      "- Reference:\n",
      "\t\"i had forgotten what i said for the time continued margaret quietly\"\n",
      "- ASR hypothesis:\n",
      "\t\"i had forgotten what i said for the time continued margaret qualley\"\n",
      "- RED-ACE:\n",
      "\t\"i had forgotten what i said for the time continued margaret \"\n",
      "--------------------\n",
      "Example #50:\n",
      "- Reference:\n",
      "\t\"i should have thought of it again when i was less busy may i go with you now\"\n",
      "- ASR hypothesis:\n",
      "\t\"i should have thought of it again when i was less busy with you now\"\n",
      "- RED-ACE:\n",
      "\t\"i should have thought of it again when i was less busy with i not now you now\"\n",
      "--------------------\n",
      "Example #51:\n",
      "- Reference:\n",
      "\t\"the sharpness in her eye turned to a wistful longing as she met margaret's soft and friendly gaze\"\n",
      "- ASR hypothesis:\n",
      "\t\"shopped a senior at 10 to wish for lonnie that she met margaret soft and friendly gays\"\n",
      "- RED-ACE:\n",
      "\t\"she  senior of her tone turned her whicha wishwrful laughing as she met margaret's soft and friendly gaze\"\n",
      "--------------------\n",
      "Example #52:\n",
      "- Reference:\n",
      "\t\"as they turned up into a small court opening out of a squalid street bessy said\"\n",
      "- ASR hypothesis:\n",
      "\t\"i say tuned up into small court everything out into school straight face she said\"\n",
      "- RED-ACE:\n",
      "\t\"they turned up into smalla small court everything out into a schoolsquaw face facess she said\"\n",
      "--------------------\n",
      "Example #53:\n",
      "- Reference:\n",
      "\t\"yo'll not be daunted if father's at home and speaks a bit gruffish at first\"\n",
      "- ASR hypothesis:\n",
      "\t\"you'll not be going to the father's at him and speaks a bit crawfish at first\"\n",
      "- RED-ACE:\n",
      "\t\"youheo'll not be goingunted thea fatherss at him and speaks a bit udge at at first\"\n",
      "--------------------\n",
      "Example #54:\n",
      "- Reference:\n",
      "\t\"but nicholas was not at home when they entered\"\n",
      "- ASR hypothesis:\n",
      "\t\"nicholas was not at home when they entered\"\n",
      "- RED-ACE:\n",
      "\t\"nicholas was not at home when they entered\"\n",
      "--------------------\n",
      "Example #55:\n",
      "- Reference:\n",
      "\t\"gasped bessy at last\"\n",
      "- ASR hypothesis:\n",
      "\t\"best to get lost\"\n",
      "- RED-ACE:\n",
      "\t\"butped thess at at last\"\n",
      "--------------------\n",
      "Example #56:\n",
      "- Reference:\n",
      "\t\"bessy took a long and feverish draught and then fell back and shut her eyes\"\n",
      "- ASR hypothesis:\n",
      "\t\"she took a long and feverish draft and then fell back and shut her eyes\"\n",
      "- RED-ACE:\n",
      "\t\"sheheldsy took a long and feverish draught and then fell back and shut her eyes\"\n",
      "--------------------\n",
      "Example #57:\n",
      "- Reference:\n",
      "\t\"margaret bent over and said bessy don't be impatient with your life whatever it is or may have been\"\n",
      "- ASR hypothesis:\n",
      "\t\"margaret bent over and said jessie don't be impatient with your life whatever it is only have been\"\n",
      "- RED-ACE:\n",
      "\t\"margaret bent over and said ssy don't be impatient with your life whatever it is only have have been\"\n",
      "--------------------\n",
      "Example #58:\n",
      "- Reference:\n",
      "\t\"remember who gave it you and made it what it is\"\n",
      "- ASR hypothesis:\n",
      "\t\"remember who gave it to you and made it what it is\"\n",
      "- RED-ACE:\n",
      "\t\"remember who gave it to and made it what it is\"\n",
      "--------------------\n",
      "Example #59:\n",
      "- Reference:\n",
      "\t\"now i'll not have my wench preached to\"\n",
      "- ASR hypothesis:\n",
      "\t\"no i'll not have my wedge page 2\"\n",
      "- RED-ACE:\n",
      "\t\"no i'll not have my wedgench pageched \"\n",
      "--------------------\n",
      "Example #60:\n",
      "- Reference:\n",
      "\t\"but surely said margaret facing round you believe in what i said that god gave her life and ordered what kind of life it was to be\"\n",
      "- ASR hypothesis:\n",
      "\t\"shirley's in margaret facing round you believe in what i said that god gave her life and ordered what kind of life it was to be\"\n",
      "- RED-ACE:\n",
      "\t\"surely surely said margaret facing round you believe in what i said that god gave her life and ordered what kind of life it was to be\"\n",
      "--------------------\n",
      "Example #61:\n",
      "- Reference:\n",
      "\t\"i believe what i see and no more\"\n",
      "- ASR hypothesis:\n",
      "\t\"i believe what i say and no more\"\n",
      "- RED-ACE:\n",
      "\t\"i believe what i say and no more\"\n",
      "--------------------\n",
      "Example #62:\n",
      "- Reference:\n",
      "\t\"that's what i believe young woman\"\n",
      "- ASR hypothesis:\n",
      "\t\"that's what i believe young woman\"\n",
      "- RED-ACE:\n",
      "\t\"that's what i believe young woman\"\n",
      "--------------------\n",
      "Example #63:\n",
      "- Reference:\n",
      "\t\"i don't believe all i hear no not by a big deal\"\n",
      "- ASR hypothesis:\n",
      "\t\"i don't believe what i hear no not by big deal\"\n",
      "- RED-ACE:\n",
      "\t\"i don't believe what i hear no not by biga big deal\"\n",
      "--------------------\n"
     ]
    }
   ],
   "source": [
    "for ii in range(len(ex_hypothesis)):\n",
    "    print(f'Example #{ii}:')\n",
    "    print(f'- Reference:\\n\\t\"{ex_reference[ii]}\"')\n",
    "    print(f'- ASR hypothesis:\\n\\t\"{ex_hypothesis[ii]}\"')\n",
    "    print(f'- RED-ACE:\\n\\t\"{ex_predicted[ii]}\"')\n",
    "    print('-' * 20)"
   ],
   "metadata": {
    "collapsed": false,
    "pycharm": {
     "name": "#%%\n"
    }
   }
  },
  {
   "cell_type": "code",
   "execution_count": null,
   "outputs": [],
   "source": [],
   "metadata": {
    "collapsed": false,
    "pycharm": {
     "name": "#%%\n"
    }
   }
  }
 ],
 "metadata": {
  "kernelspec": {
   "display_name": "DS38-Dev",
   "language": "python",
   "name": "python3"
  },
  "language_info": {
   "codemirror_mode": {
    "name": "ipython",
    "version": 3
   },
   "file_extension": ".py",
   "mimetype": "text/x-python",
   "name": "python",
   "nbconvert_exporter": "python",
   "pygments_lexer": "ipython3",
   "version": "3.8.5"
  },
  "orig_nbformat": 4
 },
 "nbformat": 4,
 "nbformat_minor": 2
}